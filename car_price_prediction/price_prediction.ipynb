{
 "cells": [
  {
   "cell_type": "markdown",
   "metadata": {},
   "source": [
    "# Определение стоимости автомобилей"
   ]
  },
  {
   "cell_type": "markdown",
   "metadata": {},
   "source": [
    "Сервис по продаже автомобилей с пробегом «Не бит, не крашен» разрабатывает приложение для привлечения новых клиентов. В нём можно быстро узнать рыночную стоимость своего автомобиля. В вашем распоряжении исторические данные: технические характеристики, комплектации и цены автомобилей. Вам нужно построить модель для определения стоимости. \n",
    "\n",
    "Заказчику важны:\n",
    "\n",
    "- качество предсказания;\n",
    "- скорость предсказания;\n",
    "- время обучения."
   ]
  },
  {
   "cell_type": "markdown",
   "metadata": {},
   "source": [
    "## Подготовка данных"
   ]
  },
  {
   "cell_type": "code",
   "execution_count": 59,
   "metadata": {},
   "outputs": [],
   "source": [
    "import pandas as pd\n",
    "import numpy as np\n",
    "import lightgbm as lgb\n",
    "from catboost import CatBoostRegressor\n",
    "from datetime import datetime\n",
    "from sklearn.model_selection import train_test_split\n",
    "from sklearn.ensemble import RandomForestRegressor\n",
    "from sklearn.linear_model import LinearRegression\n",
    "from sklearn.metrics import mean_squared_error\n",
    "from sklearn.preprocessing import OrdinalEncoder\n",
    "from sklearn.preprocessing import OneHotEncoder\n",
    "from sklearn.preprocessing import StandardScaler\n",
    "import category_encoders as ce"
   ]
  },
  {
   "cell_type": "code",
   "execution_count": 60,
   "metadata": {},
   "outputs": [
    {
     "name": "stdout",
     "output_type": "stream",
     "text": [
      "<class 'pandas.core.frame.DataFrame'>\n",
      "RangeIndex: 354369 entries, 0 to 354368\n",
      "Data columns (total 16 columns):\n",
      " #   Column             Non-Null Count   Dtype \n",
      "---  ------             --------------   ----- \n",
      " 0   DateCrawled        354369 non-null  object\n",
      " 1   Price              354369 non-null  int64 \n",
      " 2   VehicleType        316879 non-null  object\n",
      " 3   RegistrationYear   354369 non-null  int64 \n",
      " 4   Gearbox            334536 non-null  object\n",
      " 5   Power              354369 non-null  int64 \n",
      " 6   Model              334664 non-null  object\n",
      " 7   Kilometer          354369 non-null  int64 \n",
      " 8   RegistrationMonth  354369 non-null  int64 \n",
      " 9   FuelType           321474 non-null  object\n",
      " 10  Brand              354369 non-null  object\n",
      " 11  Repaired           283215 non-null  object\n",
      " 12  DateCreated        354369 non-null  object\n",
      " 13  NumberOfPictures   354369 non-null  int64 \n",
      " 14  PostalCode         354369 non-null  int64 \n",
      " 15  LastSeen           354369 non-null  object\n",
      "dtypes: int64(7), object(9)\n",
      "memory usage: 43.3+ MB\n"
     ]
    }
   ],
   "source": [
    "df=pd.read_csv('/datasets/autos.csv')\n",
    "df.info()"
   ]
  },
  {
   "cell_type": "code",
   "execution_count": 61,
   "metadata": {},
   "outputs": [
    {
     "data": {
      "text/html": [
       "<div>\n",
       "<style scoped>\n",
       "    .dataframe tbody tr th:only-of-type {\n",
       "        vertical-align: middle;\n",
       "    }\n",
       "\n",
       "    .dataframe tbody tr th {\n",
       "        vertical-align: top;\n",
       "    }\n",
       "\n",
       "    .dataframe thead th {\n",
       "        text-align: right;\n",
       "    }\n",
       "</style>\n",
       "<table border=\"1\" class=\"dataframe\">\n",
       "  <thead>\n",
       "    <tr style=\"text-align: right;\">\n",
       "      <th></th>\n",
       "      <th>DateCrawled</th>\n",
       "      <th>Price</th>\n",
       "      <th>VehicleType</th>\n",
       "      <th>RegistrationYear</th>\n",
       "      <th>Gearbox</th>\n",
       "      <th>Power</th>\n",
       "      <th>Model</th>\n",
       "      <th>Kilometer</th>\n",
       "      <th>RegistrationMonth</th>\n",
       "      <th>FuelType</th>\n",
       "      <th>Brand</th>\n",
       "      <th>Repaired</th>\n",
       "      <th>DateCreated</th>\n",
       "      <th>NumberOfPictures</th>\n",
       "      <th>PostalCode</th>\n",
       "      <th>LastSeen</th>\n",
       "    </tr>\n",
       "  </thead>\n",
       "  <tbody>\n",
       "    <tr>\n",
       "      <th>0</th>\n",
       "      <td>2016-03-24 11:52:17</td>\n",
       "      <td>480</td>\n",
       "      <td>NaN</td>\n",
       "      <td>1993</td>\n",
       "      <td>manual</td>\n",
       "      <td>0</td>\n",
       "      <td>golf</td>\n",
       "      <td>150000</td>\n",
       "      <td>0</td>\n",
       "      <td>petrol</td>\n",
       "      <td>volkswagen</td>\n",
       "      <td>NaN</td>\n",
       "      <td>2016-03-24 00:00:00</td>\n",
       "      <td>0</td>\n",
       "      <td>70435</td>\n",
       "      <td>2016-04-07 03:16:57</td>\n",
       "    </tr>\n",
       "    <tr>\n",
       "      <th>1</th>\n",
       "      <td>2016-03-24 10:58:45</td>\n",
       "      <td>18300</td>\n",
       "      <td>coupe</td>\n",
       "      <td>2011</td>\n",
       "      <td>manual</td>\n",
       "      <td>190</td>\n",
       "      <td>NaN</td>\n",
       "      <td>125000</td>\n",
       "      <td>5</td>\n",
       "      <td>gasoline</td>\n",
       "      <td>audi</td>\n",
       "      <td>yes</td>\n",
       "      <td>2016-03-24 00:00:00</td>\n",
       "      <td>0</td>\n",
       "      <td>66954</td>\n",
       "      <td>2016-04-07 01:46:50</td>\n",
       "    </tr>\n",
       "    <tr>\n",
       "      <th>2</th>\n",
       "      <td>2016-03-14 12:52:21</td>\n",
       "      <td>9800</td>\n",
       "      <td>suv</td>\n",
       "      <td>2004</td>\n",
       "      <td>auto</td>\n",
       "      <td>163</td>\n",
       "      <td>grand</td>\n",
       "      <td>125000</td>\n",
       "      <td>8</td>\n",
       "      <td>gasoline</td>\n",
       "      <td>jeep</td>\n",
       "      <td>NaN</td>\n",
       "      <td>2016-03-14 00:00:00</td>\n",
       "      <td>0</td>\n",
       "      <td>90480</td>\n",
       "      <td>2016-04-05 12:47:46</td>\n",
       "    </tr>\n",
       "    <tr>\n",
       "      <th>3</th>\n",
       "      <td>2016-03-17 16:54:04</td>\n",
       "      <td>1500</td>\n",
       "      <td>small</td>\n",
       "      <td>2001</td>\n",
       "      <td>manual</td>\n",
       "      <td>75</td>\n",
       "      <td>golf</td>\n",
       "      <td>150000</td>\n",
       "      <td>6</td>\n",
       "      <td>petrol</td>\n",
       "      <td>volkswagen</td>\n",
       "      <td>no</td>\n",
       "      <td>2016-03-17 00:00:00</td>\n",
       "      <td>0</td>\n",
       "      <td>91074</td>\n",
       "      <td>2016-03-17 17:40:17</td>\n",
       "    </tr>\n",
       "    <tr>\n",
       "      <th>4</th>\n",
       "      <td>2016-03-31 17:25:20</td>\n",
       "      <td>3600</td>\n",
       "      <td>small</td>\n",
       "      <td>2008</td>\n",
       "      <td>manual</td>\n",
       "      <td>69</td>\n",
       "      <td>fabia</td>\n",
       "      <td>90000</td>\n",
       "      <td>7</td>\n",
       "      <td>gasoline</td>\n",
       "      <td>skoda</td>\n",
       "      <td>no</td>\n",
       "      <td>2016-03-31 00:00:00</td>\n",
       "      <td>0</td>\n",
       "      <td>60437</td>\n",
       "      <td>2016-04-06 10:17:21</td>\n",
       "    </tr>\n",
       "  </tbody>\n",
       "</table>\n",
       "</div>"
      ],
      "text/plain": [
       "           DateCrawled  Price VehicleType  RegistrationYear Gearbox  Power  \\\n",
       "0  2016-03-24 11:52:17    480         NaN              1993  manual      0   \n",
       "1  2016-03-24 10:58:45  18300       coupe              2011  manual    190   \n",
       "2  2016-03-14 12:52:21   9800         suv              2004    auto    163   \n",
       "3  2016-03-17 16:54:04   1500       small              2001  manual     75   \n",
       "4  2016-03-31 17:25:20   3600       small              2008  manual     69   \n",
       "\n",
       "   Model  Kilometer  RegistrationMonth  FuelType       Brand Repaired  \\\n",
       "0   golf     150000                  0    petrol  volkswagen      NaN   \n",
       "1    NaN     125000                  5  gasoline        audi      yes   \n",
       "2  grand     125000                  8  gasoline        jeep      NaN   \n",
       "3   golf     150000                  6    petrol  volkswagen       no   \n",
       "4  fabia      90000                  7  gasoline       skoda       no   \n",
       "\n",
       "           DateCreated  NumberOfPictures  PostalCode             LastSeen  \n",
       "0  2016-03-24 00:00:00                 0       70435  2016-04-07 03:16:57  \n",
       "1  2016-03-24 00:00:00                 0       66954  2016-04-07 01:46:50  \n",
       "2  2016-03-14 00:00:00                 0       90480  2016-04-05 12:47:46  \n",
       "3  2016-03-17 00:00:00                 0       91074  2016-03-17 17:40:17  \n",
       "4  2016-03-31 00:00:00                 0       60437  2016-04-06 10:17:21  "
      ]
     },
     "execution_count": 61,
     "metadata": {},
     "output_type": "execute_result"
    }
   ],
   "source": [
    "df.head()"
   ]
  },
  {
   "cell_type": "code",
   "execution_count": 62,
   "metadata": {},
   "outputs": [
    {
     "name": "stdout",
     "output_type": "stream",
     "text": [
      "2014-03-10 00:00:00\n",
      "2016-04-07 00:00:00\n"
     ]
    }
   ],
   "source": [
    "print(df['DateCreated'].min())\n",
    "print(df['DateCreated'].max())"
   ]
  },
  {
   "cell_type": "markdown",
   "metadata": {},
   "source": [
    "Можно сразу удалить ненужные столбцы. На цену машины точно не влияют:  \n",
    "- DataCrawled\n",
    "- RegistrationMonth (год важен, месяц скорее всего лишняя информация)\n",
    "- Brand (у нас есть модель машины, нам не нужен ее бренд, т.к. названия моделей уникальные)\n",
    "- DateCreated (косвенно на цену влияет разница между датой создания и датой регистрации, в датасете период в 2 года, скорее всего это не повлияет на результат)\n",
    "- NumberOfPictures\n",
    "- PostalCode\n",
    "- LastSeen"
   ]
  },
  {
   "cell_type": "code",
   "execution_count": 63,
   "metadata": {},
   "outputs": [
    {
     "data": {
      "text/plain": [
       "False    354365\n",
       "True          4\n",
       "dtype: int64"
      ]
     },
     "execution_count": 63,
     "metadata": {},
     "output_type": "execute_result"
    }
   ],
   "source": [
    "df.duplicated().value_counts()#есть полные дубликаты, их надо удалить сейчас. Остальные дубликаты скорее всего просто совпадения"
   ]
  },
  {
   "cell_type": "code",
   "execution_count": 64,
   "metadata": {},
   "outputs": [],
   "source": [
    "df=df.drop_duplicates()"
   ]
  },
  {
   "cell_type": "code",
   "execution_count": 65,
   "metadata": {},
   "outputs": [
    {
     "name": "stdout",
     "output_type": "stream",
     "text": [
      "2016-03-24 14:49:47    7\n",
      "2016-03-26 22:57:31    6\n",
      "2016-03-19 21:49:56    6\n",
      "2016-03-09 16:48:39    5\n",
      "2016-03-22 10:42:10    5\n",
      "                      ..\n",
      "2016-03-14 21:55:05    1\n",
      "2016-03-15 13:56:59    1\n",
      "2016-03-31 09:51:00    1\n",
      "2016-03-16 11:45:47    1\n",
      "2016-03-12 16:55:36    1\n",
      "Name: DateCrawled, Length: 271174, dtype: int64\n",
      "0        10772\n",
      "500       5670\n",
      "1500      5394\n",
      "1000      4648\n",
      "1200      4594\n",
      "         ...  \n",
      "13180        1\n",
      "10879        1\n",
      "2683         1\n",
      "634          1\n",
      "8188         1\n",
      "Name: Price, Length: 3731, dtype: int64\n",
      "sedan          91457\n",
      "small          79830\n",
      "wagon          65165\n",
      "bus            28775\n",
      "convertible    20203\n",
      "coupe          16161\n",
      "suv            11996\n",
      "other           3288\n",
      "Name: VehicleType, dtype: int64\n",
      "2000    24490\n",
      "1999    22727\n",
      "2005    22109\n",
      "2001    20123\n",
      "2006    19900\n",
      "        ...  \n",
      "4100        1\n",
      "1200        1\n",
      "5300        1\n",
      "8888        1\n",
      "2290        1\n",
      "Name: RegistrationYear, Length: 151, dtype: int64\n",
      "manual    268249\n",
      "auto       66283\n",
      "Name: Gearbox, dtype: int64\n",
      "0        40225\n",
      "75       24023\n",
      "60       15897\n",
      "150      14590\n",
      "101      13298\n",
      "         ...  \n",
      "323          1\n",
      "3454         1\n",
      "1056         1\n",
      "13636        1\n",
      "1158         1\n",
      "Name: Power, Length: 712, dtype: int64\n",
      "golf                  29232\n",
      "other                 24420\n",
      "3er                   19761\n",
      "polo                  13066\n",
      "corsa                 12570\n",
      "                      ...  \n",
      "i3                        8\n",
      "serie_3                   4\n",
      "rangerover                4\n",
      "serie_1                   2\n",
      "range_rover_evoque        2\n",
      "Name: Model, Length: 250, dtype: int64\n",
      "150000    238207\n",
      "125000     36453\n",
      "100000     14882\n",
      "90000      11567\n",
      "80000      10047\n",
      "70000       8593\n",
      "60000       7444\n",
      "5000        6397\n",
      "50000       6232\n",
      "40000       4911\n",
      "30000       4436\n",
      "20000       3974\n",
      "10000       1222\n",
      "Name: Kilometer, dtype: int64\n",
      "0     37352\n",
      "3     34373\n",
      "6     31507\n",
      "4     29270\n",
      "5     29153\n",
      "7     27211\n",
      "10    26099\n",
      "12    24289\n",
      "11    24186\n",
      "9     23813\n",
      "1     23218\n",
      "8     22627\n",
      "2     21267\n",
      "Name: RegistrationMonth, dtype: int64\n",
      "petrol      216349\n",
      "gasoline     98719\n",
      "lpg           5310\n",
      "cng            565\n",
      "hybrid         233\n",
      "other          204\n",
      "electric        90\n",
      "Name: FuelType, dtype: int64\n",
      "volkswagen        77012\n",
      "opel              39931\n",
      "bmw               36914\n",
      "mercedes_benz     32044\n",
      "audi              29456\n",
      "ford              25179\n",
      "renault           17927\n",
      "peugeot           10998\n",
      "fiat               9643\n",
      "seat               6907\n",
      "mazda              5615\n",
      "skoda              5500\n",
      "smart              5246\n",
      "citroen            5148\n",
      "nissan             4941\n",
      "toyota             4606\n",
      "hyundai            3587\n",
      "sonstige_autos     3374\n",
      "volvo              3210\n",
      "mini               3202\n",
      "mitsubishi         3022\n",
      "honda              2817\n",
      "kia                2465\n",
      "suzuki             2322\n",
      "alfa_romeo         2314\n",
      "chevrolet          1754\n",
      "chrysler           1439\n",
      "dacia               900\n",
      "daihatsu            806\n",
      "subaru              762\n",
      "porsche             758\n",
      "jeep                677\n",
      "trabant             589\n",
      "land_rover          545\n",
      "daewoo              542\n",
      "saab                526\n",
      "jaguar              505\n",
      "rover               486\n",
      "lancia              471\n",
      "lada                225\n",
      "Name: Brand, dtype: int64\n",
      "no     247158\n",
      "yes     36053\n",
      "Name: Repaired, dtype: int64\n",
      "2016-04-03 00:00:00    13718\n",
      "2016-04-04 00:00:00    13317\n",
      "2016-03-20 00:00:00    12918\n",
      "2016-03-12 00:00:00    12840\n",
      "2016-03-21 00:00:00    12691\n",
      "                       ...  \n",
      "2015-06-18 00:00:00        1\n",
      "2015-11-17 00:00:00        1\n",
      "2015-11-02 00:00:00        1\n",
      "2016-01-08 00:00:00        1\n",
      "2016-01-03 00:00:00        1\n",
      "Name: DateCreated, Length: 109, dtype: int64\n",
      "0    354365\n",
      "Name: NumberOfPictures, dtype: int64\n",
      "10115    819\n",
      "65428    613\n",
      "66333    343\n",
      "32257    317\n",
      "44145    317\n",
      "        ... \n",
      "21782      1\n",
      "9517       1\n",
      "29367      1\n",
      "38325      1\n",
      "82404      1\n",
      "Name: PostalCode, Length: 8143, dtype: int64\n",
      "2016-04-06 13:45:54    17\n",
      "2016-04-06 09:46:00    16\n",
      "2016-04-06 04:15:59    16\n",
      "2016-04-06 01:15:23    16\n",
      "2016-04-07 09:44:27    16\n",
      "                       ..\n",
      "2016-03-12 17:47:37     1\n",
      "2016-03-16 21:43:05     1\n",
      "2016-03-28 17:17:08     1\n",
      "2016-04-01 19:22:47     1\n",
      "2016-03-11 09:15:51     1\n",
      "Name: LastSeen, Length: 179150, dtype: int64\n"
     ]
    }
   ],
   "source": [
    "#смотрю на самые часто повторяющиеся данные\n",
    "for i in df.columns:\n",
    "    print(df[i].value_counts())"
   ]
  },
  {
   "cell_type": "markdown",
   "metadata": {},
   "source": [
    "Пройдемся по странностям:\n",
    "1. 0 цена, по сути NaN для наших целей. Узнать не сможем, придется удалить строки\n",
    "2. \"other\" в некоторых столбцах. Во всех случаях может значительно влиять на цену, придется удалить.\n",
    "3. Странный год регистрации. Судя по всему мы находимся в 2016, все после этого стоит удалить.\n",
    "4. 0 мощность, тоже может значительно влиять на цену (разные конфигурации модели), придется удалить.\n",
    "5. Высокие мощности. Даже в премиум моделях редко будет выше 1000, придется удалить."
   ]
  },
  {
   "cell_type": "code",
   "execution_count": 66,
   "metadata": {},
   "outputs": [
    {
     "name": "stdout",
     "output_type": "stream",
     "text": [
      "<class 'pandas.core.frame.DataFrame'>\n",
      "Int64Index: 273075 entries, 1 to 354368\n",
      "Data columns (total 9 columns):\n",
      " #   Column            Non-Null Count   Dtype \n",
      "---  ------            --------------   ----- \n",
      " 0   Price             273075 non-null  int64 \n",
      " 1   VehicleType       262725 non-null  object\n",
      " 2   RegistrationYear  273075 non-null  int64 \n",
      " 3   Gearbox           268166 non-null  object\n",
      " 4   Power             273075 non-null  int64 \n",
      " 5   Model             262303 non-null  object\n",
      " 6   Kilometer         273075 non-null  int64 \n",
      " 7   FuelType          258639 non-null  object\n",
      " 8   Repaired          233547 non-null  object\n",
      "dtypes: int64(4), object(5)\n",
      "memory usage: 20.8+ MB\n"
     ]
    }
   ],
   "source": [
    "df1=df.drop(['DateCrawled','RegistrationMonth','Brand','NumberOfPictures','PostalCode','LastSeen', 'DateCreated'], axis=1)\n",
    "df2=df1[(df1['Price'] >= 100) & (df1['Power'] != 0)]#убираю нули, отсчечка цены в 100 евро\n",
    "#решил поставить отсечку на 1500 мощности и 1960 году\n",
    "df2=df2[(df2['RegistrationYear'] <= 2016) & (df2['RegistrationYear'] >= 1960) & (df2['Power'] <= 1500)]\n",
    "for i in df2.columns:#цикл убирает все other\n",
    "    df2=df2[df2[i] != 'other']\n",
    "df2.reset_index(drop=True)\n",
    "df2.info()"
   ]
  },
  {
   "cell_type": "markdown",
   "metadata": {},
   "source": [
    "Уже до работы с пропусками пришлось удалить 22% строк. Неприятно, но не вижу вариантов заполнения этих данных чем-то еще. Т.к. сейчас в датафрейме остались только нужные для модели признаки, пропуски тоже придется удалить."
   ]
  },
  {
   "cell_type": "code",
   "execution_count": 67,
   "metadata": {},
   "outputs": [],
   "source": [
    "df2['Repaired']=df2['Repaired'].fillna('no')"
   ]
  },
  {
   "cell_type": "code",
   "execution_count": 68,
   "metadata": {},
   "outputs": [],
   "source": [
    "df2=df2.dropna(subset=['Model']).reset_index(drop=True)"
   ]
  },
  {
   "cell_type": "code",
   "execution_count": 69,
   "metadata": {},
   "outputs": [],
   "source": [
    "#создаю словарь самых часто встречающихся кузовов для каждой модели\n",
    "unique_models=df2['Model'].unique()\n",
    "common_type={}\n",
    "for i in unique_models:\n",
    "    max_type=df2[df2['Model']==i]['VehicleType'].value_counts().index[0]\n",
    "    common_type[i]=max_type"
   ]
  },
  {
   "cell_type": "code",
   "execution_count": 70,
   "metadata": {},
   "outputs": [],
   "source": [
    "#цикл дает всем nan значения на основе словаря\n",
    "#достаточно медленный цикл, скорее всего есть более элегатное решение\n",
    "for i in range(len(df2['VehicleType'])):\n",
    "    if pd.isna(df2.iloc[i,1])==True:\n",
    "        df2.iloc[i,1]=common_type[df2.iloc[i,5]]"
   ]
  },
  {
   "cell_type": "code",
   "execution_count": 71,
   "metadata": {},
   "outputs": [
    {
     "name": "stdout",
     "output_type": "stream",
     "text": [
      "<class 'pandas.core.frame.DataFrame'>\n",
      "RangeIndex: 247035 entries, 0 to 247034\n",
      "Data columns (total 9 columns):\n",
      " #   Column            Non-Null Count   Dtype \n",
      "---  ------            --------------   ----- \n",
      " 0   Price             247035 non-null  int64 \n",
      " 1   VehicleType       247035 non-null  object\n",
      " 2   RegistrationYear  247035 non-null  int64 \n",
      " 3   Gearbox           247035 non-null  object\n",
      " 4   Power             247035 non-null  int64 \n",
      " 5   Model             247035 non-null  object\n",
      " 6   Kilometer         247035 non-null  int64 \n",
      " 7   FuelType          247035 non-null  object\n",
      " 8   Repaired          247035 non-null  object\n",
      "dtypes: int64(4), object(5)\n",
      "memory usage: 17.0+ MB\n"
     ]
    }
   ],
   "source": [
    "df_final=df2.dropna().reset_index(drop=True)\n",
    "df_final.info()"
   ]
  },
  {
   "cell_type": "markdown",
   "metadata": {},
   "source": [
    "Потеряли 39% строк из изначального датафрейма. С одной стороны это плохо, однако это скорее улучшит качество предсказаний, и точно увеличит скорость обучения модели, что важно для клиента. Используем OrdinalEncoding для преобразования признаков."
   ]
  },
  {
   "cell_type": "code",
   "execution_count": 72,
   "metadata": {},
   "outputs": [
    {
     "data": {
      "text/plain": [
       "no     247158\n",
       "yes     36053\n",
       "Name: Repaired, dtype: int64"
      ]
     },
     "execution_count": 72,
     "metadata": {},
     "output_type": "execute_result"
    }
   ],
   "source": [
    "df['Repaired'].value_counts()"
   ]
  },
  {
   "cell_type": "code",
   "execution_count": 73,
   "metadata": {},
   "outputs": [
    {
     "data": {
      "text/plain": [
       "(40225, 16)"
      ]
     },
     "execution_count": 73,
     "metadata": {},
     "output_type": "execute_result"
    }
   ],
   "source": [
    "df[df['Power']==0].shape"
   ]
  },
  {
   "cell_type": "markdown",
   "metadata": {},
   "source": [
    "## Обучение моделей"
   ]
  },
  {
   "cell_type": "code",
   "execution_count": 74,
   "metadata": {},
   "outputs": [
    {
     "name": "stdout",
     "output_type": "stream",
     "text": [
      "(148221, 9)\n",
      "(49407, 9)\n",
      "(49407, 9)\n"
     ]
    }
   ],
   "source": [
    "df_train, df_valid, df_test = np.split(df_final.sample(frac=1, random_state=123), \n",
    "                                       [int(.6*len(df_final)), int(.8*len(df_final))])\n",
    "print(df_train.shape)\n",
    "print(df_valid.shape)\n",
    "print(df_test.shape)"
   ]
  },
  {
   "cell_type": "code",
   "execution_count": 75,
   "metadata": {},
   "outputs": [],
   "source": [
    "features_train = df_train.drop(['Price'], axis=1)\n",
    "target_train = df_train['Price']\n",
    "features_valid = df_valid.drop(['Price'], axis=1)\n",
    "target_valid = df_valid['Price']\n",
    "features_test = df_test.drop(['Price'], axis=1)\n",
    "target_test = df_test['Price']"
   ]
  },
  {
   "cell_type": "markdown",
   "metadata": {},
   "source": [
    "Закодируем данные."
   ]
  },
  {
   "cell_type": "code",
   "execution_count": 76,
   "metadata": {},
   "outputs": [],
   "source": [
    "encoder_oe=OrdinalEncoder(handle_unknown='use_encoded_value', unknown_value=-1)\n",
    "features_train = pd.DataFrame(encoder_oe.fit_transform(features_train),\n",
    "                            columns=features_train.columns)\n",
    "features_valid=pd.DataFrame(encoder_oe.transform(features_valid),\n",
    "                            columns=features_valid.columns)\n",
    "features_test=pd.DataFrame(encoder_oe.transform(features_test),\n",
    "                            columns=features_test.columns)"
   ]
  },
  {
   "cell_type": "markdown",
   "metadata": {},
   "source": [
    "Сначала обучим RandomForestRegressor."
   ]
  },
  {
   "cell_type": "raw",
   "metadata": {},
   "source": [
    "#настраивал параметры модели, не ячейка кода т.к. настраивается долгое время\n",
    "best_model = None\n",
    "best_result = 10000\n",
    "for est in range(1, 50):\n",
    "    for depth in range(1,10):\n",
    "        model = RandomForestRegressor(random_state=12345, n_estimators=est, max_depth=depth)\n",
    "        model.fit(features_train,target_train)\n",
    "        predictions_valid = model.predict(features_valid)\n",
    "        result = mean_squared_error(target_valid, predictions_valid, squared=False)\n",
    "        if result < best_result:\n",
    "            best_model = model\n",
    "            best_result = result\n",
    "print(\"Лучшая модель:\", best_model)\n",
    "print(\"Accuracy лучшей модели:\", best_result)"
   ]
  },
  {
   "cell_type": "markdown",
   "metadata": {},
   "source": [
    "RMSE выше 2500, посмотрим как поведут себя модели с бустингом."
   ]
  },
  {
   "cell_type": "code",
   "execution_count": 77,
   "metadata": {},
   "outputs": [],
   "source": [
    "train_data = lgb.Dataset(features_train, target_train)\n",
    "validation_data = lgb.Dataset(features_valid, target_valid, reference=train_data)"
   ]
  },
  {
   "cell_type": "code",
   "execution_count": 83,
   "metadata": {},
   "outputs": [],
   "source": [
    "params = {\n",
    "    'boosting_type': 'gbdt',\n",
    "    'objective': 'regression',\n",
    "    'metric': 'rmse',\n",
    "    'learning_rate':0.1,\n",
    "    'num_leaves': 31,\n",
    "}"
   ]
  },
  {
   "cell_type": "code",
   "execution_count": 85,
   "metadata": {},
   "outputs": [
    {
     "name": "stdout",
     "output_type": "stream",
     "text": [
      "[LightGBM] [Warning] Auto-choosing row-wise multi-threading, the overhead of testing was 0.300751 seconds.\n",
      "You can set `force_row_wise=true` to remove the overhead.\n",
      "And if memory is not enough, you can set `force_col_wise=true`.\n",
      "[LightGBM] [Info] Total Bins 581\n",
      "[LightGBM] [Info] Number of data points in the train set: 148221, number of used features: 8\n",
      "[LightGBM] [Info] Start training from score 5063.517140\n",
      "[1]\tvalid_0's rmse: 4320.02\n",
      "[2]\tvalid_0's rmse: 4014.87\n",
      "[3]\tvalid_0's rmse: 3746.01\n",
      "[4]\tvalid_0's rmse: 3511.65\n",
      "[5]\tvalid_0's rmse: 3307.16\n",
      "[6]\tvalid_0's rmse: 3124.66\n",
      "[7]\tvalid_0's rmse: 2965.01\n",
      "[8]\tvalid_0's rmse: 2825.38\n",
      "[9]\tvalid_0's rmse: 2704.77\n",
      "[10]\tvalid_0's rmse: 2597.48\n",
      "[11]\tvalid_0's rmse: 2507.41\n",
      "[12]\tvalid_0's rmse: 2426.9\n",
      "[13]\tvalid_0's rmse: 2358.12\n",
      "[14]\tvalid_0's rmse: 2297.69\n",
      "[15]\tvalid_0's rmse: 2246.39\n",
      "[16]\tvalid_0's rmse: 2200.55\n",
      "[17]\tvalid_0's rmse: 2160.03\n",
      "[18]\tvalid_0's rmse: 2124.2\n",
      "[19]\tvalid_0's rmse: 2092.14\n",
      "[20]\tvalid_0's rmse: 2064.2\n",
      "[21]\tvalid_0's rmse: 2037.85\n",
      "[22]\tvalid_0's rmse: 2013.72\n",
      "[23]\tvalid_0's rmse: 1993.53\n",
      "[24]\tvalid_0's rmse: 1971.76\n",
      "[25]\tvalid_0's rmse: 1954.21\n",
      "[26]\tvalid_0's rmse: 1939.44\n",
      "[27]\tvalid_0's rmse: 1926.24\n",
      "[28]\tvalid_0's rmse: 1911.84\n",
      "[29]\tvalid_0's rmse: 1898.97\n",
      "[30]\tvalid_0's rmse: 1887.69\n",
      "[31]\tvalid_0's rmse: 1876.73\n",
      "[32]\tvalid_0's rmse: 1867.11\n",
      "[33]\tvalid_0's rmse: 1858.99\n",
      "[34]\tvalid_0's rmse: 1851.33\n",
      "[35]\tvalid_0's rmse: 1843.58\n",
      "[36]\tvalid_0's rmse: 1835.77\n",
      "[37]\tvalid_0's rmse: 1830.46\n",
      "[38]\tvalid_0's rmse: 1824.26\n",
      "[39]\tvalid_0's rmse: 1818.17\n",
      "[40]\tvalid_0's rmse: 1812.36\n",
      "[41]\tvalid_0's rmse: 1807.55\n",
      "[42]\tvalid_0's rmse: 1802.42\n",
      "[43]\tvalid_0's rmse: 1794.55\n",
      "[44]\tvalid_0's rmse: 1788\n",
      "[45]\tvalid_0's rmse: 1783.02\n",
      "[46]\tvalid_0's rmse: 1779.76\n",
      "[47]\tvalid_0's rmse: 1773.15\n",
      "[48]\tvalid_0's rmse: 1767.57\n",
      "[49]\tvalid_0's rmse: 1761.58\n",
      "[50]\tvalid_0's rmse: 1758.1\n",
      "CPU times: user 1min, sys: 574 ms, total: 1min\n",
      "Wall time: 1min 1s\n"
     ]
    }
   ],
   "source": [
    "%%time\n",
    "gbm = lgb.train(params, train_data, num_boost_round=50, valid_sets=validation_data)"
   ]
  },
  {
   "cell_type": "code",
   "execution_count": 90,
   "metadata": {},
   "outputs": [
    {
     "name": "stdout",
     "output_type": "stream",
     "text": [
      "0:\tlearn: 4339.6272215\ttotal: 19.2ms\tremaining: 19.1s\n",
      "100:\tlearn: 1804.0039089\ttotal: 2.03s\tremaining: 18s\n",
      "200:\tlearn: 1688.1642594\ttotal: 4.11s\tremaining: 16.4s\n",
      "300:\tlearn: 1626.7719657\ttotal: 6.25s\tremaining: 14.5s\n",
      "400:\tlearn: 1585.1412928\ttotal: 8.45s\tremaining: 12.6s\n",
      "500:\tlearn: 1554.4463731\ttotal: 10.5s\tremaining: 10.5s\n",
      "600:\tlearn: 1531.9062416\ttotal: 12.8s\tremaining: 8.5s\n",
      "700:\tlearn: 1512.5913365\ttotal: 14.9s\tremaining: 6.34s\n",
      "800:\tlearn: 1496.1819727\ttotal: 16.8s\tremaining: 4.18s\n",
      "900:\tlearn: 1480.9754131\ttotal: 18.9s\tremaining: 2.08s\n",
      "999:\tlearn: 1468.2504331\ttotal: 20.9s\tremaining: 0us\n"
     ]
    },
    {
     "data": {
      "text/plain": [
       "1541.2032505562684"
      ]
     },
     "execution_count": 90,
     "metadata": {},
     "output_type": "execute_result"
    }
   ],
   "source": [
    "model = CatBoostRegressor(iterations=1000,\n",
    "                           eval_metric='RMSE',\n",
    "                           max_leaves = 31,\n",
    "                           learning_rate = 0.1,\n",
    "                           verbose=100)\n",
    "model.fit(features_train, target_train)\n",
    "predictions_valid = model.predict(features_valid)\n",
    "mean_squared_error(target_valid, predictions_valid, squared=False)"
   ]
  },
  {
   "cell_type": "markdown",
   "metadata": {},
   "source": [
    "## Анализ моделей"
   ]
  },
  {
   "cell_type": "markdown",
   "metadata": {},
   "source": [
    "Еще раз пройдемся по всем полученным моделям и сравним их по каждому параметру."
   ]
  },
  {
   "cell_type": "code",
   "execution_count": 100,
   "metadata": {},
   "outputs": [
    {
     "name": "stdout",
     "output_type": "stream",
     "text": [
      "CPU times: user 490 ms, sys: 4.02 ms, total: 494 ms\n",
      "Wall time: 493 ms\n"
     ]
    },
    {
     "data": {
      "text/html": [
       "<style>#sk-container-id-5 {color: black;background-color: white;}#sk-container-id-5 pre{padding: 0;}#sk-container-id-5 div.sk-toggleable {background-color: white;}#sk-container-id-5 label.sk-toggleable__label {cursor: pointer;display: block;width: 100%;margin-bottom: 0;padding: 0.3em;box-sizing: border-box;text-align: center;}#sk-container-id-5 label.sk-toggleable__label-arrow:before {content: \"▸\";float: left;margin-right: 0.25em;color: #696969;}#sk-container-id-5 label.sk-toggleable__label-arrow:hover:before {color: black;}#sk-container-id-5 div.sk-estimator:hover label.sk-toggleable__label-arrow:before {color: black;}#sk-container-id-5 div.sk-toggleable__content {max-height: 0;max-width: 0;overflow: hidden;text-align: left;background-color: #f0f8ff;}#sk-container-id-5 div.sk-toggleable__content pre {margin: 0.2em;color: black;border-radius: 0.25em;background-color: #f0f8ff;}#sk-container-id-5 input.sk-toggleable__control:checked~div.sk-toggleable__content {max-height: 200px;max-width: 100%;overflow: auto;}#sk-container-id-5 input.sk-toggleable__control:checked~label.sk-toggleable__label-arrow:before {content: \"▾\";}#sk-container-id-5 div.sk-estimator input.sk-toggleable__control:checked~label.sk-toggleable__label {background-color: #d4ebff;}#sk-container-id-5 div.sk-label input.sk-toggleable__control:checked~label.sk-toggleable__label {background-color: #d4ebff;}#sk-container-id-5 input.sk-hidden--visually {border: 0;clip: rect(1px 1px 1px 1px);clip: rect(1px, 1px, 1px, 1px);height: 1px;margin: -1px;overflow: hidden;padding: 0;position: absolute;width: 1px;}#sk-container-id-5 div.sk-estimator {font-family: monospace;background-color: #f0f8ff;border: 1px dotted black;border-radius: 0.25em;box-sizing: border-box;margin-bottom: 0.5em;}#sk-container-id-5 div.sk-estimator:hover {background-color: #d4ebff;}#sk-container-id-5 div.sk-parallel-item::after {content: \"\";width: 100%;border-bottom: 1px solid gray;flex-grow: 1;}#sk-container-id-5 div.sk-label:hover label.sk-toggleable__label {background-color: #d4ebff;}#sk-container-id-5 div.sk-serial::before {content: \"\";position: absolute;border-left: 1px solid gray;box-sizing: border-box;top: 0;bottom: 0;left: 50%;z-index: 0;}#sk-container-id-5 div.sk-serial {display: flex;flex-direction: column;align-items: center;background-color: white;padding-right: 0.2em;padding-left: 0.2em;position: relative;}#sk-container-id-5 div.sk-item {position: relative;z-index: 1;}#sk-container-id-5 div.sk-parallel {display: flex;align-items: stretch;justify-content: center;background-color: white;position: relative;}#sk-container-id-5 div.sk-item::before, #sk-container-id-5 div.sk-parallel-item::before {content: \"\";position: absolute;border-left: 1px solid gray;box-sizing: border-box;top: 0;bottom: 0;left: 50%;z-index: -1;}#sk-container-id-5 div.sk-parallel-item {display: flex;flex-direction: column;z-index: 1;position: relative;background-color: white;}#sk-container-id-5 div.sk-parallel-item:first-child::after {align-self: flex-end;width: 50%;}#sk-container-id-5 div.sk-parallel-item:last-child::after {align-self: flex-start;width: 50%;}#sk-container-id-5 div.sk-parallel-item:only-child::after {width: 0;}#sk-container-id-5 div.sk-dashed-wrapped {border: 1px dashed gray;margin: 0 0.4em 0.5em 0.4em;box-sizing: border-box;padding-bottom: 0.4em;background-color: white;}#sk-container-id-5 div.sk-label label {font-family: monospace;font-weight: bold;display: inline-block;line-height: 1.2em;}#sk-container-id-5 div.sk-label-container {text-align: center;}#sk-container-id-5 div.sk-container {/* jupyter's `normalize.less` sets `[hidden] { display: none; }` but bootstrap.min.css set `[hidden] { display: none !important; }` so we also need the `!important` here to be able to override the default hidden behavior on the sphinx rendered scikit-learn.org. See: https://github.com/scikit-learn/scikit-learn/issues/21755 */display: inline-block !important;position: relative;}#sk-container-id-5 div.sk-text-repr-fallback {display: none;}</style><div id=\"sk-container-id-5\" class=\"sk-top-container\"><div class=\"sk-text-repr-fallback\"><pre>RandomForestRegressor(max_depth=7, n_estimators=4, random_state=12345)</pre><b>In a Jupyter environment, please rerun this cell to show the HTML representation or trust the notebook. <br />On GitHub, the HTML representation is unable to render, please try loading this page with nbviewer.org.</b></div><div class=\"sk-container\" hidden><div class=\"sk-item\"><div class=\"sk-estimator sk-toggleable\"><input class=\"sk-toggleable__control sk-hidden--visually\" id=\"sk-estimator-id-5\" type=\"checkbox\" checked><label for=\"sk-estimator-id-5\" class=\"sk-toggleable__label sk-toggleable__label-arrow\">RandomForestRegressor</label><div class=\"sk-toggleable__content\"><pre>RandomForestRegressor(max_depth=7, n_estimators=4, random_state=12345)</pre></div></div></div></div></div>"
      ],
      "text/plain": [
       "RandomForestRegressor(max_depth=7, n_estimators=4, random_state=12345)"
      ]
     },
     "execution_count": 100,
     "metadata": {},
     "output_type": "execute_result"
    }
   ],
   "source": [
    "%%time\n",
    "model=RandomForestRegressor(random_state=12345, n_estimators=4, max_depth=7)\n",
    "model.fit(features_train, target_train)"
   ]
  },
  {
   "cell_type": "code",
   "execution_count": 101,
   "metadata": {
    "scrolled": true
   },
   "outputs": [
    {
     "name": "stdout",
     "output_type": "stream",
     "text": [
      "CPU times: user 20.9 ms, sys: 9 µs, total: 20.9 ms\n",
      "Wall time: 18.4 ms\n"
     ]
    }
   ],
   "source": [
    "%%time\n",
    "predictions_valid = model.predict(features_valid)"
   ]
  },
  {
   "cell_type": "code",
   "execution_count": 102,
   "metadata": {},
   "outputs": [
    {
     "data": {
      "text/plain": [
       "2080.860271899557"
      ]
     },
     "execution_count": 102,
     "metadata": {},
     "output_type": "execute_result"
    }
   ],
   "source": [
    "mean_squared_error(target_valid, predictions_valid, squared=False)"
   ]
  },
  {
   "cell_type": "code",
   "execution_count": 103,
   "metadata": {
    "scrolled": true
   },
   "outputs": [
    {
     "name": "stdout",
     "output_type": "stream",
     "text": [
      "[LightGBM] [Warning] Auto-choosing row-wise multi-threading, the overhead of testing was 0.315101 seconds.\n",
      "You can set `force_row_wise=true` to remove the overhead.\n",
      "And if memory is not enough, you can set `force_col_wise=true`.\n",
      "[LightGBM] [Info] Total Bins 581\n",
      "[LightGBM] [Info] Number of data points in the train set: 148221, number of used features: 8\n",
      "[LightGBM] [Info] Start training from score 5063.517140\n",
      "[1]\tvalid_0's rmse: 4320.02\n",
      "[2]\tvalid_0's rmse: 4014.87\n",
      "[3]\tvalid_0's rmse: 3746.01\n",
      "[4]\tvalid_0's rmse: 3511.65\n",
      "[5]\tvalid_0's rmse: 3307.16\n",
      "[6]\tvalid_0's rmse: 3124.66\n",
      "[7]\tvalid_0's rmse: 2965.01\n",
      "[8]\tvalid_0's rmse: 2825.38\n",
      "[9]\tvalid_0's rmse: 2704.77\n",
      "[10]\tvalid_0's rmse: 2597.48\n",
      "[11]\tvalid_0's rmse: 2507.41\n",
      "[12]\tvalid_0's rmse: 2426.9\n",
      "[13]\tvalid_0's rmse: 2358.12\n",
      "[14]\tvalid_0's rmse: 2297.69\n",
      "[15]\tvalid_0's rmse: 2246.39\n",
      "[16]\tvalid_0's rmse: 2200.55\n",
      "[17]\tvalid_0's rmse: 2160.03\n",
      "[18]\tvalid_0's rmse: 2124.2\n",
      "[19]\tvalid_0's rmse: 2092.14\n",
      "[20]\tvalid_0's rmse: 2064.2\n",
      "[21]\tvalid_0's rmse: 2037.85\n",
      "[22]\tvalid_0's rmse: 2013.72\n",
      "[23]\tvalid_0's rmse: 1993.53\n",
      "[24]\tvalid_0's rmse: 1971.76\n",
      "[25]\tvalid_0's rmse: 1954.21\n",
      "[26]\tvalid_0's rmse: 1939.44\n",
      "[27]\tvalid_0's rmse: 1926.24\n",
      "[28]\tvalid_0's rmse: 1911.84\n",
      "[29]\tvalid_0's rmse: 1898.97\n",
      "[30]\tvalid_0's rmse: 1887.69\n",
      "[31]\tvalid_0's rmse: 1876.73\n",
      "[32]\tvalid_0's rmse: 1867.11\n",
      "[33]\tvalid_0's rmse: 1858.99\n",
      "[34]\tvalid_0's rmse: 1851.33\n",
      "[35]\tvalid_0's rmse: 1843.58\n",
      "[36]\tvalid_0's rmse: 1835.77\n",
      "[37]\tvalid_0's rmse: 1830.46\n",
      "[38]\tvalid_0's rmse: 1824.26\n",
      "[39]\tvalid_0's rmse: 1818.17\n",
      "[40]\tvalid_0's rmse: 1812.36\n",
      "[41]\tvalid_0's rmse: 1807.55\n",
      "[42]\tvalid_0's rmse: 1802.42\n",
      "[43]\tvalid_0's rmse: 1794.55\n",
      "[44]\tvalid_0's rmse: 1788\n",
      "[45]\tvalid_0's rmse: 1783.02\n",
      "[46]\tvalid_0's rmse: 1779.76\n",
      "[47]\tvalid_0's rmse: 1773.15\n",
      "[48]\tvalid_0's rmse: 1767.57\n",
      "[49]\tvalid_0's rmse: 1761.58\n",
      "[50]\tvalid_0's rmse: 1758.1\n",
      "CPU times: user 1min 2s, sys: 760 ms, total: 1min 3s\n",
      "Wall time: 1min 3s\n"
     ]
    }
   ],
   "source": [
    "%%time\n",
    "gbm = lgb.train(params, train_data, num_boost_round=50, valid_sets=validation_data)"
   ]
  },
  {
   "cell_type": "code",
   "execution_count": 104,
   "metadata": {},
   "outputs": [
    {
     "name": "stdout",
     "output_type": "stream",
     "text": [
      "CPU times: user 220 ms, sys: 3.76 ms, total: 223 ms\n",
      "Wall time: 270 ms\n"
     ]
    }
   ],
   "source": [
    "%%time\n",
    "predictions_valid = gbm.predict(features_valid, num_iteration=gbm.best_iteration)"
   ]
  },
  {
   "cell_type": "code",
   "execution_count": 105,
   "metadata": {},
   "outputs": [
    {
     "data": {
      "text/plain": [
       "1758.101593546505"
      ]
     },
     "execution_count": 105,
     "metadata": {},
     "output_type": "execute_result"
    }
   ],
   "source": [
    "mean_squared_error(target_valid, predictions_valid, squared=False)"
   ]
  },
  {
   "cell_type": "code",
   "execution_count": 107,
   "metadata": {},
   "outputs": [
    {
     "name": "stdout",
     "output_type": "stream",
     "text": [
      "0:\tlearn: 4339.6272215\ttotal: 21ms\tremaining: 21s\n",
      "100:\tlearn: 1804.0039089\ttotal: 2.11s\tremaining: 18.8s\n",
      "200:\tlearn: 1688.1642594\ttotal: 4.19s\tremaining: 16.7s\n",
      "300:\tlearn: 1626.7719657\ttotal: 6.26s\tremaining: 14.5s\n",
      "400:\tlearn: 1585.1412928\ttotal: 8.35s\tremaining: 12.5s\n",
      "500:\tlearn: 1554.4463731\ttotal: 10.2s\tremaining: 10.2s\n",
      "600:\tlearn: 1531.9062416\ttotal: 12.2s\tremaining: 8.07s\n",
      "700:\tlearn: 1512.5913365\ttotal: 14.1s\tremaining: 6.02s\n",
      "800:\tlearn: 1496.1819727\ttotal: 16s\tremaining: 3.99s\n",
      "900:\tlearn: 1480.9754131\ttotal: 18s\tremaining: 1.98s\n",
      "999:\tlearn: 1468.2504331\ttotal: 20s\tremaining: 0us\n",
      "CPU times: user 19.9 s, sys: 299 ms, total: 20.2 s\n",
      "Wall time: 21.1 s\n"
     ]
    },
    {
     "data": {
      "text/plain": [
       "<catboost.core.CatBoostRegressor at 0x7f56a3c62370>"
      ]
     },
     "execution_count": 107,
     "metadata": {},
     "output_type": "execute_result"
    }
   ],
   "source": [
    "%%time\n",
    "model = CatBoostRegressor(iterations=1000,\n",
    "                           eval_metric='RMSE',\n",
    "                           max_leaves = 31,\n",
    "                           learning_rate = 0.1,\n",
    "                           verbose=100)\n",
    "model.fit(features_train, target_train)"
   ]
  },
  {
   "cell_type": "code",
   "execution_count": 108,
   "metadata": {},
   "outputs": [
    {
     "name": "stdout",
     "output_type": "stream",
     "text": [
      "CPU times: user 55.8 ms, sys: 0 ns, total: 55.8 ms\n",
      "Wall time: 54.2 ms\n"
     ]
    }
   ],
   "source": [
    "%%time\n",
    "predictions_valid = model.predict(features_valid)"
   ]
  },
  {
   "cell_type": "code",
   "execution_count": 109,
   "metadata": {},
   "outputs": [
    {
     "data": {
      "text/plain": [
       "1541.2032505562684"
      ]
     },
     "execution_count": 109,
     "metadata": {},
     "output_type": "execute_result"
    }
   ],
   "source": [
    "mean_squared_error(target_valid, predictions_valid, squared=False)"
   ]
  },
  {
   "cell_type": "markdown",
   "metadata": {},
   "source": [
    "Т.к. клиент не обозначил приоритетность критериев, предположим, что они все равны. Оценим все модели от 1 до 3 (т.к. модели 3) по каждому критерию, самое большое кол-во баллов определит победителя. Критерии по порядку - качество предсказания, время обучения, время предсказания. Оценки:\n",
    "* sklearn.RandomForestRegressor - 1, 3, 3\n",
    "* LightGBM - 2, 1, 1\n",
    "* CatBoost - 3, 2, 2\n",
    "\n",
    "RandomForestRegressor и CatBoost обладают одинаковым кол-вом баллов. Финальный выбор зависит от клиента и его запросов. Скорее всего модель не следует переобучать каждый раз, когда пользователю нужно показать примерную стоимость его машины, так что скорость обучения CatBoost в 21 секунду достаточна. Скорость предсказаний у обоих меньше 100ms, человек не заметит разницы в скорости. При этом CatBoost на 33% точнее, что скорее всего и будет являться самым важным параметром. Протестируем модель."
   ]
  },
  {
   "cell_type": "code",
   "execution_count": 110,
   "metadata": {},
   "outputs": [
    {
     "name": "stdout",
     "output_type": "stream",
     "text": [
      "0:\tlearn: 4339.6272215\ttotal: 24.3ms\tremaining: 24.3s\n",
      "100:\tlearn: 1804.0039089\ttotal: 2.11s\tremaining: 18.8s\n",
      "200:\tlearn: 1688.1642594\ttotal: 4.25s\tremaining: 16.9s\n",
      "300:\tlearn: 1626.7719657\ttotal: 6.31s\tremaining: 14.7s\n",
      "400:\tlearn: 1585.1412928\ttotal: 8.51s\tremaining: 12.7s\n",
      "500:\tlearn: 1554.4463731\ttotal: 10.6s\tremaining: 10.6s\n",
      "600:\tlearn: 1531.9062416\ttotal: 12.7s\tremaining: 8.42s\n",
      "700:\tlearn: 1512.5913365\ttotal: 14.9s\tremaining: 6.34s\n",
      "800:\tlearn: 1496.1819727\ttotal: 17s\tremaining: 4.21s\n",
      "900:\tlearn: 1480.9754131\ttotal: 19.1s\tremaining: 2.1s\n",
      "999:\tlearn: 1468.2504331\ttotal: 21.1s\tremaining: 0us\n",
      "CPU times: user 21.2 s, sys: 228 ms, total: 21.4 s\n",
      "Wall time: 22.8 s\n"
     ]
    },
    {
     "data": {
      "text/plain": [
       "1534.9147365267916"
      ]
     },
     "execution_count": 110,
     "metadata": {},
     "output_type": "execute_result"
    }
   ],
   "source": [
    "%%time\n",
    "model = CatBoostRegressor(iterations=1000,\n",
    "                           eval_metric='RMSE',\n",
    "                           max_leaves = 31,\n",
    "                           learning_rate = 0.1,\n",
    "                           verbose=100)\n",
    "model.fit(features_train, target_train)\n",
    "predictions_test = model.predict(features_test)\n",
    "mean_squared_error(target_test, predictions_test, squared=False)"
   ]
  },
  {
   "cell_type": "markdown",
   "metadata": {},
   "source": [
    "Модель хорошо справилась с тестовой выборкой, остановимся на ней."
   ]
  }
 ],
 "metadata": {
  "ExecuteTimeLog": [
   {
    "duration": 399,
    "start_time": "2023-06-17T09:20:59.871Z"
   },
   {
    "duration": 2904,
    "start_time": "2023-06-17T09:21:32.213Z"
   },
   {
    "duration": 17,
    "start_time": "2023-06-17T09:21:42.167Z"
   },
   {
    "duration": 998,
    "start_time": "2023-06-17T09:29:49.008Z"
   },
   {
    "duration": 23,
    "start_time": "2023-06-17T09:29:59.389Z"
   },
   {
    "duration": 22,
    "start_time": "2023-06-17T09:30:07.014Z"
   },
   {
    "duration": 41,
    "start_time": "2023-06-17T09:30:51.201Z"
   },
   {
    "duration": 6,
    "start_time": "2023-06-17T09:39:40.307Z"
   },
   {
    "duration": 6,
    "start_time": "2023-06-17T09:39:58.709Z"
   },
   {
    "duration": 1082,
    "start_time": "2023-06-17T09:40:18.815Z"
   },
   {
    "duration": 14,
    "start_time": "2023-06-17T09:40:27.137Z"
   },
   {
    "duration": 58,
    "start_time": "2023-06-17T09:41:38.652Z"
   },
   {
    "duration": 72,
    "start_time": "2023-06-17T09:41:42.636Z"
   },
   {
    "duration": 1068,
    "start_time": "2023-06-17T09:44:21.206Z"
   },
   {
    "duration": 8,
    "start_time": "2023-06-17T09:44:28.729Z"
   },
   {
    "duration": 94,
    "start_time": "2023-06-17T09:45:27.016Z"
   },
   {
    "duration": 141,
    "start_time": "2023-06-17T09:46:16.070Z"
   },
   {
    "duration": 148,
    "start_time": "2023-06-17T09:47:46.228Z"
   },
   {
    "duration": 256,
    "start_time": "2023-06-17T09:50:55.004Z"
   },
   {
    "duration": 263,
    "start_time": "2023-06-17T09:51:02.640Z"
   },
   {
    "duration": 619,
    "start_time": "2023-06-17T09:51:46.556Z"
   },
   {
    "duration": 65,
    "start_time": "2023-06-17T09:53:39.435Z"
   },
   {
    "duration": 42,
    "start_time": "2023-06-17T09:53:54.236Z"
   },
   {
    "duration": 31,
    "start_time": "2023-06-17T10:11:05.250Z"
   },
   {
    "duration": 10,
    "start_time": "2023-06-17T10:11:22.043Z"
   },
   {
    "duration": 25,
    "start_time": "2023-06-17T10:12:17.700Z"
   },
   {
    "duration": 51,
    "start_time": "2023-06-17T10:18:33.714Z"
   },
   {
    "duration": 100,
    "start_time": "2023-06-17T10:34:10.333Z"
   },
   {
    "duration": 366,
    "start_time": "2023-06-17T10:34:17.924Z"
   },
   {
    "duration": 3,
    "start_time": "2023-06-17T10:35:28.128Z"
   },
   {
    "duration": 317,
    "start_time": "2023-06-17T10:39:35.537Z"
   },
   {
    "duration": 423,
    "start_time": "2023-06-17T10:39:48.001Z"
   },
   {
    "duration": 319,
    "start_time": "2023-06-17T10:40:55.236Z"
   },
   {
    "duration": 10,
    "start_time": "2023-06-17T10:44:35.168Z"
   },
   {
    "duration": 70,
    "start_time": "2023-06-17T10:44:49.208Z"
   },
   {
    "duration": 87,
    "start_time": "2023-06-17T10:45:03.976Z"
   },
   {
    "duration": 410,
    "start_time": "2023-06-17T10:47:04.709Z"
   },
   {
    "duration": 436,
    "start_time": "2023-06-17T10:47:15.808Z"
   },
   {
    "duration": 478,
    "start_time": "2023-06-17T10:48:01.122Z"
   },
   {
    "duration": 2,
    "start_time": "2023-06-17T10:48:19.349Z"
   },
   {
    "duration": 944,
    "start_time": "2023-06-17T10:48:19.354Z"
   },
   {
    "duration": 14,
    "start_time": "2023-06-17T10:48:20.299Z"
   },
   {
    "duration": 78,
    "start_time": "2023-06-17T10:48:20.315Z"
   },
   {
    "duration": 425,
    "start_time": "2023-06-17T10:48:22.146Z"
   },
   {
    "duration": 517,
    "start_time": "2023-06-17T10:48:23.741Z"
   },
   {
    "duration": 2,
    "start_time": "2023-06-17T10:49:50.097Z"
   },
   {
    "duration": 905,
    "start_time": "2023-06-17T10:49:50.101Z"
   },
   {
    "duration": 13,
    "start_time": "2023-06-17T10:49:51.007Z"
   },
   {
    "duration": 73,
    "start_time": "2023-06-17T10:49:51.021Z"
   },
   {
    "duration": 411,
    "start_time": "2023-06-17T10:49:51.097Z"
   },
   {
    "duration": 426,
    "start_time": "2023-06-17T10:49:51.510Z"
   },
   {
    "duration": 728,
    "start_time": "2023-06-17T10:49:51.938Z"
   },
   {
    "duration": 324,
    "start_time": "2023-06-17T10:49:52.670Z"
   },
   {
    "duration": 78,
    "start_time": "2023-06-17T10:49:52.996Z"
   },
   {
    "duration": 666,
    "start_time": "2023-06-17T10:56:58.881Z"
   },
   {
    "duration": 62,
    "start_time": "2023-06-17T10:57:11.111Z"
   },
   {
    "duration": 36,
    "start_time": "2023-06-17T10:57:16.624Z"
   },
   {
    "duration": 39,
    "start_time": "2023-06-17T10:57:28.806Z"
   },
   {
    "duration": 61,
    "start_time": "2023-06-17T10:57:35.958Z"
   },
   {
    "duration": 123,
    "start_time": "2023-06-17T10:57:48.332Z"
   },
   {
    "duration": 10,
    "start_time": "2023-06-17T11:02:42.933Z"
   },
   {
    "duration": 45,
    "start_time": "2023-06-17T11:03:10.293Z"
   },
   {
    "duration": 3,
    "start_time": "2023-06-17T11:03:55.276Z"
   },
   {
    "duration": 58,
    "start_time": "2023-06-17T11:05:15.931Z"
   },
   {
    "duration": 50,
    "start_time": "2023-06-17T11:05:23.231Z"
   },
   {
    "duration": 4,
    "start_time": "2023-06-17T11:07:17.508Z"
   },
   {
    "duration": 4,
    "start_time": "2023-06-17T11:09:26.360Z"
   },
   {
    "duration": 851,
    "start_time": "2023-06-17T11:09:26.365Z"
   },
   {
    "duration": 14,
    "start_time": "2023-06-17T11:09:27.218Z"
   },
   {
    "duration": 54,
    "start_time": "2023-06-17T11:09:27.234Z"
   },
   {
    "duration": 382,
    "start_time": "2023-06-17T11:09:27.291Z"
   },
   {
    "duration": 400,
    "start_time": "2023-06-17T11:09:27.674Z"
   },
   {
    "duration": 650,
    "start_time": "2023-06-17T11:09:28.076Z"
   },
   {
    "duration": 293,
    "start_time": "2023-06-17T11:09:28.728Z"
   },
   {
    "duration": 113,
    "start_time": "2023-06-17T11:09:29.022Z"
   },
   {
    "duration": 351,
    "start_time": "2023-06-17T11:09:31.604Z"
   },
   {
    "duration": 67,
    "start_time": "2023-06-17T11:09:55.516Z"
   },
   {
    "duration": 3,
    "start_time": "2023-06-17T11:10:18.714Z"
   },
   {
    "duration": 854,
    "start_time": "2023-06-17T11:10:18.719Z"
   },
   {
    "duration": 11,
    "start_time": "2023-06-17T11:10:19.574Z"
   },
   {
    "duration": 42,
    "start_time": "2023-06-17T11:10:19.587Z"
   },
   {
    "duration": 375,
    "start_time": "2023-06-17T11:10:19.631Z"
   },
   {
    "duration": 399,
    "start_time": "2023-06-17T11:10:20.008Z"
   },
   {
    "duration": 648,
    "start_time": "2023-06-17T11:10:20.408Z"
   },
   {
    "duration": 283,
    "start_time": "2023-06-17T11:10:21.057Z"
   },
   {
    "duration": 172,
    "start_time": "2023-06-17T11:10:32.233Z"
   },
   {
    "duration": 340,
    "start_time": "2023-06-17T11:10:38.112Z"
   },
   {
    "duration": 33,
    "start_time": "2023-06-17T11:11:11.016Z"
   },
   {
    "duration": 8,
    "start_time": "2023-06-17T11:11:13.176Z"
   },
   {
    "duration": 103,
    "start_time": "2023-06-17T11:11:16.474Z"
   },
   {
    "duration": 49,
    "start_time": "2023-06-17T11:11:46.830Z"
   },
   {
    "duration": 4,
    "start_time": "2023-06-17T11:13:41.038Z"
   },
   {
    "duration": 898,
    "start_time": "2023-06-17T11:13:41.044Z"
   },
   {
    "duration": 12,
    "start_time": "2023-06-17T11:13:41.944Z"
   },
   {
    "duration": 55,
    "start_time": "2023-06-17T11:13:41.958Z"
   },
   {
    "duration": 406,
    "start_time": "2023-06-17T11:13:42.015Z"
   },
   {
    "duration": 418,
    "start_time": "2023-06-17T11:13:42.422Z"
   },
   {
    "duration": 699,
    "start_time": "2023-06-17T11:13:42.842Z"
   },
   {
    "duration": 297,
    "start_time": "2023-06-17T11:13:43.543Z"
   },
   {
    "duration": 127,
    "start_time": "2023-06-17T11:13:43.841Z"
   },
   {
    "duration": 422,
    "start_time": "2023-06-17T11:13:43.970Z"
   },
   {
    "duration": 20,
    "start_time": "2023-06-17T11:13:44.394Z"
   },
   {
    "duration": 8,
    "start_time": "2023-06-17T11:13:44.415Z"
   },
   {
    "duration": 245,
    "start_time": "2023-06-17T11:13:44.425Z"
   },
   {
    "duration": 77875,
    "start_time": "2023-06-17T11:13:44.672Z"
   },
   {
    "duration": 3,
    "start_time": "2023-06-17T11:15:04.409Z"
   },
   {
    "duration": 864,
    "start_time": "2023-06-17T11:15:04.415Z"
   },
   {
    "duration": 11,
    "start_time": "2023-06-17T11:15:05.281Z"
   },
   {
    "duration": 50,
    "start_time": "2023-06-17T11:15:05.294Z"
   },
   {
    "duration": 384,
    "start_time": "2023-06-17T11:15:05.346Z"
   },
   {
    "duration": 427,
    "start_time": "2023-06-17T11:15:05.731Z"
   },
   {
    "duration": 694,
    "start_time": "2023-06-17T11:15:06.159Z"
   },
   {
    "duration": 318,
    "start_time": "2023-06-17T11:15:06.855Z"
   },
   {
    "duration": 128,
    "start_time": "2023-06-17T11:15:07.175Z"
   },
   {
    "duration": 349,
    "start_time": "2023-06-17T11:15:07.305Z"
   },
   {
    "duration": 25,
    "start_time": "2023-06-17T11:15:07.656Z"
   },
   {
    "duration": 9,
    "start_time": "2023-06-17T11:15:07.682Z"
   },
   {
    "duration": 177,
    "start_time": "2023-06-17T11:15:07.692Z"
   },
   {
    "duration": 39169,
    "start_time": "2023-06-17T11:15:07.872Z"
   },
   {
    "duration": 17092,
    "start_time": "2023-06-17T11:16:25.528Z"
   },
   {
    "duration": 11156,
    "start_time": "2023-06-17T11:16:43.973Z"
   },
   {
    "duration": 12468,
    "start_time": "2023-06-17T11:16:56.255Z"
   },
   {
    "duration": 157030,
    "start_time": "2023-06-17T11:17:09.963Z"
   },
   {
    "duration": 1074379,
    "start_time": "2023-06-17T11:23:35.923Z"
   },
   {
    "duration": 7381,
    "start_time": "2023-06-17T11:42:54.079Z"
   },
   {
    "duration": 2882,
    "start_time": "2023-06-18T07:35:23.704Z"
   },
   {
    "duration": 110,
    "start_time": "2023-06-18T07:36:26.726Z"
   },
   {
    "duration": 7,
    "start_time": "2023-06-18T07:36:42.186Z"
   },
   {
    "duration": 5529,
    "start_time": "2023-06-18T07:36:47.190Z"
   },
   {
    "duration": 4,
    "start_time": "2023-06-18T07:37:06.242Z"
   },
   {
    "duration": 3366,
    "start_time": "2023-06-18T07:37:09.713Z"
   },
   {
    "duration": 621,
    "start_time": "2023-06-18T07:37:14.277Z"
   },
   {
    "duration": 3,
    "start_time": "2023-06-18T07:39:20.240Z"
   },
   {
    "duration": 1215,
    "start_time": "2023-06-18T07:39:20.245Z"
   },
   {
    "duration": 34,
    "start_time": "2023-06-18T07:39:21.462Z"
   },
   {
    "duration": 59,
    "start_time": "2023-06-18T07:39:21.498Z"
   },
   {
    "duration": 467,
    "start_time": "2023-06-18T07:39:21.559Z"
   },
   {
    "duration": 525,
    "start_time": "2023-06-18T07:39:22.027Z"
   },
   {
    "duration": 706,
    "start_time": "2023-06-18T07:39:22.554Z"
   },
   {
    "duration": 383,
    "start_time": "2023-06-18T07:39:23.262Z"
   },
   {
    "duration": 140,
    "start_time": "2023-06-18T07:39:23.647Z"
   },
   {
    "duration": 365,
    "start_time": "2023-06-18T07:39:23.788Z"
   },
   {
    "duration": 24,
    "start_time": "2023-06-18T07:39:24.154Z"
   },
   {
    "duration": 14,
    "start_time": "2023-06-18T07:39:24.180Z"
   },
   {
    "duration": 231,
    "start_time": "2023-06-18T07:39:24.196Z"
   },
   {
    "duration": 7577,
    "start_time": "2023-06-18T07:39:24.430Z"
   },
   {
    "duration": 3,
    "start_time": "2023-06-18T07:45:23.515Z"
   },
   {
    "duration": 3,
    "start_time": "2023-06-18T07:46:10.982Z"
   },
   {
    "duration": 8570,
    "start_time": "2023-06-18T07:46:29.464Z"
   },
   {
    "duration": 3,
    "start_time": "2023-06-18T07:46:59.270Z"
   },
   {
    "duration": 879,
    "start_time": "2023-06-18T07:46:59.275Z"
   },
   {
    "duration": 14,
    "start_time": "2023-06-18T07:47:00.155Z"
   },
   {
    "duration": 57,
    "start_time": "2023-06-18T07:47:00.170Z"
   },
   {
    "duration": 411,
    "start_time": "2023-06-18T07:47:00.229Z"
   },
   {
    "duration": 460,
    "start_time": "2023-06-18T07:47:00.642Z"
   },
   {
    "duration": 662,
    "start_time": "2023-06-18T07:47:01.104Z"
   },
   {
    "duration": 324,
    "start_time": "2023-06-18T07:47:01.768Z"
   },
   {
    "duration": 115,
    "start_time": "2023-06-18T07:47:02.094Z"
   },
   {
    "duration": 446,
    "start_time": "2023-06-18T07:47:02.211Z"
   },
   {
    "duration": 17,
    "start_time": "2023-06-18T07:47:02.658Z"
   },
   {
    "duration": 8,
    "start_time": "2023-06-18T07:47:02.676Z"
   },
   {
    "duration": 57,
    "start_time": "2023-06-18T07:47:02.686Z"
   },
   {
    "duration": 7182,
    "start_time": "2023-06-18T07:47:02.746Z"
   },
   {
    "duration": 3,
    "start_time": "2023-06-18T07:47:09.930Z"
   },
   {
    "duration": 8784,
    "start_time": "2023-06-18T07:47:09.935Z"
   },
   {
    "duration": 3,
    "start_time": "2023-06-18T07:47:37.146Z"
   },
   {
    "duration": 3,
    "start_time": "2023-06-18T07:47:50.232Z"
   },
   {
    "duration": 36,
    "start_time": "2023-06-18T07:48:29.074Z"
   },
   {
    "duration": 4,
    "start_time": "2023-06-18T07:48:42.329Z"
   },
   {
    "duration": 4,
    "start_time": "2023-06-18T07:49:01.336Z"
   },
   {
    "duration": 7715,
    "start_time": "2023-06-18T07:50:02.232Z"
   },
   {
    "duration": 3,
    "start_time": "2023-06-18T07:56:08.375Z"
   },
   {
    "duration": 2,
    "start_time": "2023-06-18T07:59:11.526Z"
   },
   {
    "duration": 189176,
    "start_time": "2023-06-18T07:59:53.651Z"
   },
   {
    "duration": 0,
    "start_time": "2023-06-18T08:04:28.035Z"
   },
   {
    "duration": 0,
    "start_time": "2023-06-18T08:04:28.036Z"
   },
   {
    "duration": 0,
    "start_time": "2023-06-18T08:04:28.037Z"
   },
   {
    "duration": 0,
    "start_time": "2023-06-18T08:04:28.038Z"
   },
   {
    "duration": 0,
    "start_time": "2023-06-18T08:04:28.038Z"
   },
   {
    "duration": 0,
    "start_time": "2023-06-18T08:04:28.040Z"
   },
   {
    "duration": 0,
    "start_time": "2023-06-18T08:04:28.041Z"
   },
   {
    "duration": 0,
    "start_time": "2023-06-18T08:04:28.043Z"
   },
   {
    "duration": 0,
    "start_time": "2023-06-18T08:04:28.044Z"
   },
   {
    "duration": 0,
    "start_time": "2023-06-18T08:04:28.045Z"
   },
   {
    "duration": 0,
    "start_time": "2023-06-18T08:04:28.047Z"
   },
   {
    "duration": 0,
    "start_time": "2023-06-18T08:04:28.048Z"
   },
   {
    "duration": 0,
    "start_time": "2023-06-18T08:04:28.049Z"
   },
   {
    "duration": 0,
    "start_time": "2023-06-18T08:04:28.051Z"
   },
   {
    "duration": 0,
    "start_time": "2023-06-18T08:04:28.052Z"
   },
   {
    "duration": 0,
    "start_time": "2023-06-18T08:04:28.053Z"
   },
   {
    "duration": 0,
    "start_time": "2023-06-18T08:04:28.055Z"
   },
   {
    "duration": 1587,
    "start_time": "2023-06-18T08:04:30.522Z"
   },
   {
    "duration": 909,
    "start_time": "2023-06-18T08:04:32.111Z"
   },
   {
    "duration": 19,
    "start_time": "2023-06-18T08:04:33.021Z"
   },
   {
    "duration": 45,
    "start_time": "2023-06-18T08:04:33.041Z"
   },
   {
    "duration": 433,
    "start_time": "2023-06-18T08:04:33.088Z"
   },
   {
    "duration": 454,
    "start_time": "2023-06-18T08:04:33.523Z"
   },
   {
    "duration": 642,
    "start_time": "2023-06-18T08:04:33.978Z"
   },
   {
    "duration": 339,
    "start_time": "2023-06-18T08:04:34.622Z"
   },
   {
    "duration": 116,
    "start_time": "2023-06-18T08:04:34.962Z"
   },
   {
    "duration": 424,
    "start_time": "2023-06-18T08:04:35.080Z"
   },
   {
    "duration": 30,
    "start_time": "2023-06-18T08:04:35.505Z"
   },
   {
    "duration": 12,
    "start_time": "2023-06-18T08:04:35.538Z"
   },
   {
    "duration": 176,
    "start_time": "2023-06-18T08:04:35.552Z"
   },
   {
    "duration": 7061,
    "start_time": "2023-06-18T08:04:35.819Z"
   },
   {
    "duration": 2,
    "start_time": "2023-06-18T08:04:42.882Z"
   },
   {
    "duration": 10,
    "start_time": "2023-06-18T08:04:42.886Z"
   },
   {
    "duration": 216129,
    "start_time": "2023-06-18T08:04:42.897Z"
   },
   {
    "duration": 69,
    "start_time": "2023-06-18T08:14:24.462Z"
   },
   {
    "duration": 107,
    "start_time": "2023-06-18T08:14:31.977Z"
   },
   {
    "duration": 8,
    "start_time": "2023-06-18T08:14:43.869Z"
   },
   {
    "duration": 90,
    "start_time": "2023-06-18T08:14:59.557Z"
   },
   {
    "duration": 13,
    "start_time": "2023-06-18T08:15:03.277Z"
   },
   {
    "duration": 627,
    "start_time": "2023-06-18T08:15:22.831Z"
   },
   {
    "duration": 1290,
    "start_time": "2023-06-18T08:15:34.937Z"
   },
   {
    "duration": 1759,
    "start_time": "2023-06-18T08:15:46.244Z"
   },
   {
    "duration": 1764,
    "start_time": "2023-06-18T08:15:59.127Z"
   },
   {
    "duration": 1648,
    "start_time": "2023-06-18T08:16:22.942Z"
   },
   {
    "duration": 11611,
    "start_time": "2023-06-18T08:16:51.801Z"
   },
   {
    "duration": 2860,
    "start_time": "2023-06-18T08:17:11.264Z"
   },
   {
    "duration": 60,
    "start_time": "2023-06-18T08:20:35.558Z"
   },
   {
    "duration": 7759,
    "start_time": "2023-06-18T08:21:06.483Z"
   },
   {
    "duration": 120,
    "start_time": "2023-06-18T08:21:37.022Z"
   },
   {
    "duration": 321628,
    "start_time": "2023-06-18T08:22:02.215Z"
   },
   {
    "duration": 3013,
    "start_time": "2023-06-18T08:28:58.762Z"
   },
   {
    "duration": 3,
    "start_time": "2023-06-18T08:29:28.539Z"
   },
   {
    "duration": 262,
    "start_time": "2023-06-18T08:29:30.609Z"
   },
   {
    "duration": 321109,
    "start_time": "2023-06-18T08:29:38.836Z"
   },
   {
    "duration": 4146,
    "start_time": "2023-06-18T08:35:58.461Z"
   },
   {
    "duration": 44,
    "start_time": "2023-06-18T08:39:07.162Z"
   },
   {
    "duration": 32,
    "start_time": "2023-06-18T08:39:08.703Z"
   },
   {
    "duration": 7,
    "start_time": "2023-06-18T08:39:19.264Z"
   },
   {
    "duration": 8059,
    "start_time": "2023-06-18T08:39:45.708Z"
   },
   {
    "duration": 252,
    "start_time": "2023-06-18T08:39:54.997Z"
   },
   {
    "duration": 6,
    "start_time": "2023-06-18T08:39:56.194Z"
   },
   {
    "duration": 325978,
    "start_time": "2023-06-18T08:40:23.967Z"
   },
   {
    "duration": 305,
    "start_time": "2023-06-18T08:45:49.947Z"
   },
   {
    "duration": 5,
    "start_time": "2023-06-18T08:45:50.253Z"
   },
   {
    "duration": 3094,
    "start_time": "2023-06-18T08:45:50.260Z"
   },
   {
    "duration": 14,
    "start_time": "2023-06-18T08:45:53.356Z"
   },
   {
    "duration": 15,
    "start_time": "2023-06-18T08:45:53.371Z"
   },
   {
    "duration": 165,
    "start_time": "2023-06-18T08:57:43.611Z"
   },
   {
    "duration": 214,
    "start_time": "2023-06-18T08:58:43.720Z"
   },
   {
    "duration": 186,
    "start_time": "2023-06-18T08:58:59.703Z"
   },
   {
    "duration": 6,
    "start_time": "2023-06-18T08:59:06.131Z"
   },
   {
    "duration": 1786,
    "start_time": "2023-06-18T09:05:27.445Z"
   },
   {
    "duration": 1406,
    "start_time": "2023-06-18T09:05:29.235Z"
   },
   {
    "duration": 34,
    "start_time": "2023-06-18T09:05:30.646Z"
   },
   {
    "duration": 221,
    "start_time": "2023-06-18T09:05:30.687Z"
   },
   {
    "duration": 900,
    "start_time": "2023-06-18T09:05:30.911Z"
   },
   {
    "duration": 821,
    "start_time": "2023-06-18T09:05:31.830Z"
   },
   {
    "duration": 1161,
    "start_time": "2023-06-18T09:05:32.657Z"
   },
   {
    "duration": 548,
    "start_time": "2023-06-18T09:05:33.828Z"
   },
   {
    "duration": 235,
    "start_time": "2023-06-18T09:05:34.384Z"
   },
   {
    "duration": 731,
    "start_time": "2023-06-18T09:05:34.625Z"
   },
   {
    "duration": 48,
    "start_time": "2023-06-18T09:05:35.361Z"
   },
   {
    "duration": 174,
    "start_time": "2023-06-18T09:05:35.412Z"
   },
   {
    "duration": 373,
    "start_time": "2023-06-18T09:05:35.588Z"
   },
   {
    "duration": 1360603,
    "start_time": "2023-06-18T09:05:35.993Z"
   },
   {
    "duration": 8709,
    "start_time": "2023-06-18T09:28:16.597Z"
   },
   {
    "duration": 4,
    "start_time": "2023-06-18T09:28:25.307Z"
   },
   {
    "duration": 85,
    "start_time": "2023-06-18T09:28:25.312Z"
   },
   {
    "duration": 317398,
    "start_time": "2023-06-18T09:28:25.400Z"
   },
   {
    "duration": 4590,
    "start_time": "2023-06-18T09:33:42.804Z"
   },
   {
    "duration": 60,
    "start_time": "2023-06-18T09:33:47.396Z"
   },
   {
    "duration": 65,
    "start_time": "2023-06-18T09:33:47.464Z"
   },
   {
    "duration": 98,
    "start_time": "2023-06-18T09:33:47.539Z"
   },
   {
    "duration": 9386,
    "start_time": "2023-06-18T09:33:47.644Z"
   },
   {
    "duration": 262,
    "start_time": "2023-06-18T09:33:57.032Z"
   },
   {
    "duration": 6,
    "start_time": "2023-06-18T09:33:57.296Z"
   },
   {
    "duration": 313449,
    "start_time": "2023-06-18T09:33:57.304Z"
   },
   {
    "duration": 190,
    "start_time": "2023-06-18T09:39:10.759Z"
   },
   {
    "duration": 90,
    "start_time": "2023-06-18T09:39:10.951Z"
   },
   {
    "duration": 3430,
    "start_time": "2023-06-18T09:39:11.045Z"
   },
   {
    "duration": 17,
    "start_time": "2023-06-18T09:39:14.477Z"
   },
   {
    "duration": 67,
    "start_time": "2023-06-18T09:39:14.496Z"
   },
   {
    "duration": 49,
    "start_time": "2023-06-19T07:19:06.685Z"
   },
   {
    "duration": 1288,
    "start_time": "2023-06-19T07:19:57.094Z"
   },
   {
    "duration": 3051,
    "start_time": "2023-06-19T07:19:58.383Z"
   },
   {
    "duration": 23,
    "start_time": "2023-06-19T07:20:01.436Z"
   },
   {
    "duration": 70,
    "start_time": "2023-06-19T07:20:01.461Z"
   },
   {
    "duration": 527,
    "start_time": "2023-06-19T07:20:01.532Z"
   },
   {
    "duration": 547,
    "start_time": "2023-06-19T07:20:02.060Z"
   },
   {
    "duration": 696,
    "start_time": "2023-06-19T07:20:02.609Z"
   },
   {
    "duration": 7,
    "start_time": "2023-06-19T07:20:05.408Z"
   },
   {
    "duration": 27,
    "start_time": "2023-06-19T07:20:50.995Z"
   },
   {
    "duration": 23,
    "start_time": "2023-06-19T07:21:49.968Z"
   },
   {
    "duration": 21,
    "start_time": "2023-06-19T07:22:00.627Z"
   },
   {
    "duration": 64,
    "start_time": "2023-06-19T07:22:09.283Z"
   },
   {
    "duration": 20,
    "start_time": "2023-06-19T07:22:13.866Z"
   },
   {
    "duration": 13,
    "start_time": "2023-06-19T07:22:49.658Z"
   },
   {
    "duration": 4,
    "start_time": "2023-06-19T07:24:01.079Z"
   },
   {
    "duration": 111,
    "start_time": "2023-06-19T07:24:30.460Z"
   },
   {
    "duration": 314,
    "start_time": "2023-06-19T07:24:40.707Z"
   },
   {
    "duration": 106,
    "start_time": "2023-06-19T07:25:02.921Z"
   },
   {
    "duration": 23,
    "start_time": "2023-06-19T07:26:11.710Z"
   },
   {
    "duration": 24,
    "start_time": "2023-06-19T07:26:23.471Z"
   },
   {
    "duration": 25,
    "start_time": "2023-06-19T07:27:01.771Z"
   },
   {
    "duration": 25,
    "start_time": "2023-06-19T07:39:27.744Z"
   },
   {
    "duration": 37,
    "start_time": "2023-06-19T07:54:08.130Z"
   },
   {
    "duration": 17,
    "start_time": "2023-06-19T07:58:34.132Z"
   },
   {
    "duration": 34,
    "start_time": "2023-06-19T07:58:40.825Z"
   },
   {
    "duration": 4,
    "start_time": "2023-06-19T07:59:04.601Z"
   },
   {
    "duration": 866,
    "start_time": "2023-06-19T07:59:04.607Z"
   },
   {
    "duration": 12,
    "start_time": "2023-06-19T07:59:05.475Z"
   },
   {
    "duration": 48,
    "start_time": "2023-06-19T07:59:05.488Z"
   },
   {
    "duration": 434,
    "start_time": "2023-06-19T07:59:05.538Z"
   },
   {
    "duration": 477,
    "start_time": "2023-06-19T07:59:05.974Z"
   },
   {
    "duration": 682,
    "start_time": "2023-06-19T07:59:06.453Z"
   },
   {
    "duration": 311,
    "start_time": "2023-06-19T07:59:07.137Z"
   },
   {
    "duration": 16,
    "start_time": "2023-06-19T07:59:07.456Z"
   },
   {
    "duration": 24,
    "start_time": "2023-06-19T07:59:11.452Z"
   },
   {
    "duration": 105,
    "start_time": "2023-06-19T07:59:17.506Z"
   },
   {
    "duration": 26,
    "start_time": "2023-06-19T08:01:22.581Z"
   },
   {
    "duration": 28,
    "start_time": "2023-06-19T08:01:36.274Z"
   },
   {
    "duration": 17,
    "start_time": "2023-06-19T08:02:44.358Z"
   },
   {
    "duration": 10,
    "start_time": "2023-06-19T08:44:56.661Z"
   },
   {
    "duration": 382,
    "start_time": "2023-06-19T08:45:00.812Z"
   },
   {
    "duration": 64,
    "start_time": "2023-06-19T08:50:21.133Z"
   },
   {
    "duration": 4,
    "start_time": "2023-06-19T08:50:26.320Z"
   },
   {
    "duration": 949,
    "start_time": "2023-06-19T08:50:26.326Z"
   },
   {
    "duration": 19,
    "start_time": "2023-06-19T08:50:27.277Z"
   },
   {
    "duration": 39,
    "start_time": "2023-06-19T08:50:27.298Z"
   },
   {
    "duration": 456,
    "start_time": "2023-06-19T08:50:27.340Z"
   },
   {
    "duration": 449,
    "start_time": "2023-06-19T08:50:27.798Z"
   },
   {
    "duration": 762,
    "start_time": "2023-06-19T08:50:28.249Z"
   },
   {
    "duration": 319,
    "start_time": "2023-06-19T08:50:29.013Z"
   },
   {
    "duration": 15,
    "start_time": "2023-06-19T08:50:29.334Z"
   },
   {
    "duration": 120,
    "start_time": "2023-06-19T08:50:29.365Z"
   },
   {
    "duration": 27,
    "start_time": "2023-06-19T08:50:29.487Z"
   },
   {
    "duration": 38,
    "start_time": "2023-06-19T08:50:29.516Z"
   },
   {
    "duration": 9,
    "start_time": "2023-06-19T08:51:27.530Z"
   },
   {
    "duration": 4,
    "start_time": "2023-06-19T08:54:52.910Z"
   },
   {
    "duration": 9,
    "start_time": "2023-06-19T09:07:48.808Z"
   },
   {
    "duration": 4,
    "start_time": "2023-06-19T09:08:02.517Z"
   },
   {
    "duration": 1130,
    "start_time": "2023-06-19T09:08:02.523Z"
   },
   {
    "duration": 17,
    "start_time": "2023-06-19T09:08:03.658Z"
   },
   {
    "duration": 50,
    "start_time": "2023-06-19T09:08:03.678Z"
   },
   {
    "duration": 482,
    "start_time": "2023-06-19T09:08:03.730Z"
   },
   {
    "duration": 452,
    "start_time": "2023-06-19T09:08:04.214Z"
   },
   {
    "duration": 756,
    "start_time": "2023-06-19T09:08:04.667Z"
   },
   {
    "duration": 320,
    "start_time": "2023-06-19T09:08:05.425Z"
   },
   {
    "duration": 24,
    "start_time": "2023-06-19T09:08:05.747Z"
   },
   {
    "duration": 134,
    "start_time": "2023-06-19T09:08:05.773Z"
   },
   {
    "duration": 27,
    "start_time": "2023-06-19T09:08:05.908Z"
   },
   {
    "duration": 48,
    "start_time": "2023-06-19T09:08:05.937Z"
   },
   {
    "duration": 56,
    "start_time": "2023-06-19T09:08:07.594Z"
   },
   {
    "duration": 16,
    "start_time": "2023-06-19T09:08:09.019Z"
   },
   {
    "duration": 11,
    "start_time": "2023-06-19T09:09:44.996Z"
   },
   {
    "duration": 10,
    "start_time": "2023-06-19T09:20:26.714Z"
   },
   {
    "duration": 25,
    "start_time": "2023-06-19T09:25:59.615Z"
   },
   {
    "duration": 11,
    "start_time": "2023-06-19T09:26:14.838Z"
   },
   {
    "duration": 3258,
    "start_time": "2023-06-19T09:26:29.976Z"
   },
   {
    "duration": 72,
    "start_time": "2023-06-19T09:26:35.125Z"
   },
   {
    "duration": 3,
    "start_time": "2023-06-19T09:26:39.316Z"
   },
   {
    "duration": 11,
    "start_time": "2023-06-19T09:31:04.383Z"
   },
   {
    "duration": 1072,
    "start_time": "2023-06-19T09:34:06.729Z"
   },
   {
    "duration": 2200,
    "start_time": "2023-06-19T09:34:56.249Z"
   },
   {
    "duration": 7,
    "start_time": "2023-06-19T09:34:58.452Z"
   },
   {
    "duration": 1003,
    "start_time": "2023-06-19T09:34:58.461Z"
   },
   {
    "duration": 16,
    "start_time": "2023-06-19T09:34:59.467Z"
   },
   {
    "duration": 47,
    "start_time": "2023-06-19T09:34:59.486Z"
   },
   {
    "duration": 439,
    "start_time": "2023-06-19T09:34:59.535Z"
   },
   {
    "duration": 485,
    "start_time": "2023-06-19T09:34:59.976Z"
   },
   {
    "duration": 763,
    "start_time": "2023-06-19T09:35:00.469Z"
   },
   {
    "duration": 364,
    "start_time": "2023-06-19T09:35:01.234Z"
   },
   {
    "duration": 15,
    "start_time": "2023-06-19T09:35:09.130Z"
   },
   {
    "duration": 1313,
    "start_time": "2023-06-19T09:35:36.122Z"
   },
   {
    "duration": 1799,
    "start_time": "2023-06-19T09:36:29.608Z"
   },
   {
    "duration": 1556,
    "start_time": "2023-06-19T09:38:01.495Z"
   },
   {
    "duration": 1379,
    "start_time": "2023-06-19T09:38:15.528Z"
   },
   {
    "duration": 15,
    "start_time": "2023-06-19T09:38:52.600Z"
   },
   {
    "duration": 2838,
    "start_time": "2023-06-19T09:39:45.591Z"
   },
   {
    "duration": 1619,
    "start_time": "2023-06-19T09:39:48.431Z"
   },
   {
    "duration": 1175,
    "start_time": "2023-06-19T09:39:50.052Z"
   },
   {
    "duration": 54,
    "start_time": "2023-06-19T09:39:51.230Z"
   },
   {
    "duration": 62,
    "start_time": "2023-06-19T09:39:51.292Z"
   },
   {
    "duration": 617,
    "start_time": "2023-06-19T09:39:51.356Z"
   },
   {
    "duration": 681,
    "start_time": "2023-06-19T09:39:51.975Z"
   },
   {
    "duration": 1038,
    "start_time": "2023-06-19T09:39:52.660Z"
   },
   {
    "duration": 455,
    "start_time": "2023-06-19T09:39:53.701Z"
   },
   {
    "duration": 28,
    "start_time": "2023-06-19T09:39:54.158Z"
   },
   {
    "duration": 38274,
    "start_time": "2023-06-19T09:39:55.628Z"
   },
   {
    "duration": 56,
    "start_time": "2023-06-19T09:41:09.093Z"
   },
   {
    "duration": 2618,
    "start_time": "2023-06-19T09:41:12.900Z"
   },
   {
    "duration": 1648,
    "start_time": "2023-06-19T09:41:15.521Z"
   },
   {
    "duration": 1145,
    "start_time": "2023-06-19T09:41:17.175Z"
   },
   {
    "duration": 23,
    "start_time": "2023-06-19T09:41:18.322Z"
   },
   {
    "duration": 75,
    "start_time": "2023-06-19T09:41:18.348Z"
   },
   {
    "duration": 611,
    "start_time": "2023-06-19T09:41:18.424Z"
   },
   {
    "duration": 652,
    "start_time": "2023-06-19T09:41:19.037Z"
   },
   {
    "duration": 936,
    "start_time": "2023-06-19T09:41:19.699Z"
   },
   {
    "duration": 413,
    "start_time": "2023-06-19T09:41:20.637Z"
   },
   {
    "duration": 24,
    "start_time": "2023-06-19T09:41:21.052Z"
   },
   {
    "duration": 28728,
    "start_time": "2023-06-19T09:41:22.538Z"
   },
   {
    "duration": 38141,
    "start_time": "2023-06-19T09:43:17.783Z"
   },
   {
    "duration": 17,
    "start_time": "2023-06-19T09:47:28.809Z"
   },
   {
    "duration": 5938,
    "start_time": "2023-06-19T09:51:07.407Z"
   },
   {
    "duration": 5861,
    "start_time": "2023-06-19T09:51:22.810Z"
   },
   {
    "duration": 6855,
    "start_time": "2023-06-19T09:51:44.800Z"
   },
   {
    "duration": 5558,
    "start_time": "2023-06-19T09:52:08.693Z"
   },
   {
    "duration": 5,
    "start_time": "2023-06-19T09:52:49.596Z"
   },
   {
    "duration": 103,
    "start_time": "2023-06-19T09:54:12.397Z"
   },
   {
    "duration": 23,
    "start_time": "2023-06-19T09:54:43.013Z"
   },
   {
    "duration": 25,
    "start_time": "2023-06-19T09:54:54.000Z"
   },
   {
    "duration": 26,
    "start_time": "2023-06-19T09:55:06.041Z"
   },
   {
    "duration": 28,
    "start_time": "2023-06-19T09:55:10.434Z"
   },
   {
    "duration": 23,
    "start_time": "2023-06-19T09:55:23.729Z"
   },
   {
    "duration": 34,
    "start_time": "2023-06-19T09:55:29.249Z"
   },
   {
    "duration": 26,
    "start_time": "2023-06-19T09:55:40.500Z"
   },
   {
    "duration": 60,
    "start_time": "2023-06-19T09:55:50.026Z"
   },
   {
    "duration": 25,
    "start_time": "2023-06-19T09:56:16.240Z"
   },
   {
    "duration": 26,
    "start_time": "2023-06-19T09:56:26.389Z"
   },
   {
    "duration": 2286,
    "start_time": "2023-06-19T09:56:35.457Z"
   },
   {
    "duration": 4,
    "start_time": "2023-06-19T09:56:37.745Z"
   },
   {
    "duration": 1068,
    "start_time": "2023-06-19T09:56:37.751Z"
   },
   {
    "duration": 13,
    "start_time": "2023-06-19T09:56:38.821Z"
   },
   {
    "duration": 64,
    "start_time": "2023-06-19T09:56:38.836Z"
   },
   {
    "duration": 514,
    "start_time": "2023-06-19T09:56:38.902Z"
   },
   {
    "duration": 540,
    "start_time": "2023-06-19T09:56:39.418Z"
   },
   {
    "duration": 782,
    "start_time": "2023-06-19T09:56:39.960Z"
   },
   {
    "duration": 357,
    "start_time": "2023-06-19T09:56:40.743Z"
   },
   {
    "duration": 15,
    "start_time": "2023-06-19T09:56:41.102Z"
   },
   {
    "duration": 28,
    "start_time": "2023-06-19T09:56:41.702Z"
   },
   {
    "duration": 82,
    "start_time": "2023-06-19T09:57:01.757Z"
   },
   {
    "duration": 2376,
    "start_time": "2023-06-19T09:57:05.725Z"
   },
   {
    "duration": 1718,
    "start_time": "2023-06-19T09:57:08.104Z"
   },
   {
    "duration": 1127,
    "start_time": "2023-06-19T09:57:09.824Z"
   },
   {
    "duration": 40,
    "start_time": "2023-06-19T09:57:10.953Z"
   },
   {
    "duration": 52,
    "start_time": "2023-06-19T09:57:10.995Z"
   },
   {
    "duration": 571,
    "start_time": "2023-06-19T09:57:11.049Z"
   },
   {
    "duration": 606,
    "start_time": "2023-06-19T09:57:11.621Z"
   },
   {
    "duration": 857,
    "start_time": "2023-06-19T09:57:12.232Z"
   },
   {
    "duration": 386,
    "start_time": "2023-06-19T09:57:13.091Z"
   },
   {
    "duration": 29,
    "start_time": "2023-06-19T09:57:13.483Z"
   },
   {
    "duration": 112,
    "start_time": "2023-06-19T09:57:18.804Z"
   },
   {
    "duration": 29,
    "start_time": "2023-06-19T09:57:51.295Z"
   },
   {
    "duration": 14,
    "start_time": "2023-06-19T09:58:23.333Z"
   },
   {
    "duration": 16,
    "start_time": "2023-06-19T09:58:23.634Z"
   },
   {
    "duration": 61,
    "start_time": "2023-06-19T09:58:50.053Z"
   },
   {
    "duration": 4319,
    "start_time": "2023-06-19T09:58:51.952Z"
   },
   {
    "duration": 28273,
    "start_time": "2023-06-19T10:01:15.202Z"
   },
   {
    "duration": 4584,
    "start_time": "2023-06-19T10:01:43.477Z"
   },
   {
    "duration": 175,
    "start_time": "2023-06-19T10:01:52.729Z"
   },
   {
    "duration": 5892,
    "start_time": "2023-06-19T10:03:37.985Z"
   },
   {
    "duration": 2223,
    "start_time": "2023-06-19T10:25:08.092Z"
   },
   {
    "duration": 5,
    "start_time": "2023-06-19T10:25:10.317Z"
   },
   {
    "duration": 1178,
    "start_time": "2023-06-19T10:25:10.324Z"
   },
   {
    "duration": 15,
    "start_time": "2023-06-19T10:25:11.503Z"
   },
   {
    "duration": 68,
    "start_time": "2023-06-19T10:25:11.520Z"
   },
   {
    "duration": 533,
    "start_time": "2023-06-19T10:25:11.591Z"
   },
   {
    "duration": 605,
    "start_time": "2023-06-19T10:25:12.126Z"
   },
   {
    "duration": 787,
    "start_time": "2023-06-19T10:25:12.733Z"
   },
   {
    "duration": 385,
    "start_time": "2023-06-19T10:25:13.522Z"
   },
   {
    "duration": 22,
    "start_time": "2023-06-19T10:25:13.911Z"
   },
   {
    "duration": 66,
    "start_time": "2023-06-19T10:25:13.942Z"
   },
   {
    "duration": 3906,
    "start_time": "2023-06-19T10:25:14.011Z"
   },
   {
    "duration": 25860,
    "start_time": "2023-06-19T10:25:17.919Z"
   },
   {
    "duration": 133,
    "start_time": "2023-06-19T10:25:43.789Z"
   },
   {
    "duration": 66,
    "start_time": "2023-06-19T10:25:43.924Z"
   },
   {
    "duration": 27,
    "start_time": "2023-06-19T10:25:43.992Z"
   },
   {
    "duration": 80,
    "start_time": "2023-06-19T10:25:44.021Z"
   },
   {
    "duration": 15,
    "start_time": "2023-06-19T10:25:44.103Z"
   },
   {
    "duration": 30,
    "start_time": "2023-06-19T10:25:56.752Z"
   },
   {
    "duration": 10,
    "start_time": "2023-06-19T10:26:41.310Z"
   },
   {
    "duration": 10,
    "start_time": "2023-06-19T10:26:52.093Z"
   },
   {
    "duration": 16,
    "start_time": "2023-06-19T10:27:01.400Z"
   },
   {
    "duration": 24,
    "start_time": "2023-06-19T10:27:14.140Z"
   },
   {
    "duration": 19,
    "start_time": "2023-06-19T10:28:04.499Z"
   },
   {
    "duration": 19,
    "start_time": "2023-06-19T10:28:10.896Z"
   },
   {
    "duration": 9,
    "start_time": "2023-06-19T10:28:13.509Z"
   },
   {
    "duration": 9,
    "start_time": "2023-06-19T10:28:28.019Z"
   },
   {
    "duration": 29,
    "start_time": "2023-06-19T10:39:57.352Z"
   },
   {
    "duration": 4,
    "start_time": "2023-06-19T10:40:18.231Z"
   },
   {
    "duration": 12,
    "start_time": "2023-06-19T10:40:28.221Z"
   },
   {
    "duration": 17,
    "start_time": "2023-06-19T10:40:40.216Z"
   },
   {
    "duration": 21,
    "start_time": "2023-06-19T10:41:07.709Z"
   },
   {
    "duration": 29,
    "start_time": "2023-06-19T10:41:17.514Z"
   },
   {
    "duration": 33,
    "start_time": "2023-06-19T11:09:24.715Z"
   },
   {
    "duration": 4,
    "start_time": "2023-06-19T11:09:40.122Z"
   },
   {
    "duration": 29,
    "start_time": "2023-06-19T11:09:46.205Z"
   },
   {
    "duration": 180,
    "start_time": "2023-06-19T11:10:37.957Z"
   },
   {
    "duration": 164,
    "start_time": "2023-06-19T11:12:04.706Z"
   },
   {
    "duration": 197,
    "start_time": "2023-06-19T11:12:39.532Z"
   },
   {
    "duration": 195,
    "start_time": "2023-06-19T11:12:53.402Z"
   },
   {
    "duration": 10,
    "start_time": "2023-06-19T11:13:01.820Z"
   },
   {
    "duration": 4,
    "start_time": "2023-06-19T11:13:05.704Z"
   },
   {
    "duration": 194,
    "start_time": "2023-06-19T11:14:42.151Z"
   },
   {
    "duration": 167,
    "start_time": "2023-06-19T11:15:18.822Z"
   },
   {
    "duration": 7174,
    "start_time": "2023-06-19T11:16:16.416Z"
   },
   {
    "duration": 1232,
    "start_time": "2023-06-19T11:20:58.118Z"
   },
   {
    "duration": 951,
    "start_time": "2023-06-19T11:20:59.351Z"
   },
   {
    "duration": 21,
    "start_time": "2023-06-19T11:21:00.304Z"
   },
   {
    "duration": 53,
    "start_time": "2023-06-19T11:21:00.327Z"
   },
   {
    "duration": 491,
    "start_time": "2023-06-19T11:21:00.383Z"
   },
   {
    "duration": 527,
    "start_time": "2023-06-19T11:21:00.876Z"
   },
   {
    "duration": 752,
    "start_time": "2023-06-19T11:21:01.405Z"
   },
   {
    "duration": 367,
    "start_time": "2023-06-19T11:21:02.159Z"
   },
   {
    "duration": 29,
    "start_time": "2023-06-19T11:21:02.528Z"
   },
   {
    "duration": 55,
    "start_time": "2023-06-19T11:21:02.560Z"
   },
   {
    "duration": 3266,
    "start_time": "2023-06-19T11:21:02.617Z"
   },
   {
    "duration": 22407,
    "start_time": "2023-06-19T11:21:05.885Z"
   },
   {
    "duration": 109,
    "start_time": "2023-06-19T11:21:28.294Z"
   },
   {
    "duration": 33,
    "start_time": "2023-06-19T11:21:28.405Z"
   },
   {
    "duration": 34,
    "start_time": "2023-06-19T11:21:28.440Z"
   },
   {
    "duration": 69,
    "start_time": "2023-06-19T11:21:28.476Z"
   },
   {
    "duration": 15,
    "start_time": "2023-06-19T11:21:28.557Z"
   },
   {
    "duration": 9,
    "start_time": "2023-06-19T11:21:28.574Z"
   },
   {
    "duration": 22,
    "start_time": "2023-06-19T11:21:28.585Z"
   },
   {
    "duration": 132,
    "start_time": "2023-06-19T11:21:28.608Z"
   },
   {
    "duration": 6,
    "start_time": "2023-06-19T11:21:44.156Z"
   },
   {
    "duration": 182,
    "start_time": "2023-06-19T11:21:46.899Z"
   },
   {
    "duration": 167,
    "start_time": "2023-06-19T11:22:27.455Z"
   },
   {
    "duration": 11,
    "start_time": "2023-06-19T11:23:02.871Z"
   },
   {
    "duration": 20,
    "start_time": "2023-06-19T11:23:53.997Z"
   },
   {
    "duration": 12,
    "start_time": "2023-06-19T11:24:24.662Z"
   },
   {
    "duration": 21,
    "start_time": "2023-06-19T11:24:29.930Z"
   },
   {
    "duration": 13,
    "start_time": "2023-06-19T11:24:32.181Z"
   },
   {
    "duration": 13,
    "start_time": "2023-06-19T11:24:43.442Z"
   },
   {
    "duration": 4,
    "start_time": "2023-06-19T11:24:51.778Z"
   },
   {
    "duration": 12,
    "start_time": "2023-06-19T11:26:19.057Z"
   },
   {
    "duration": 5742,
    "start_time": "2023-06-19T11:26:55.872Z"
   },
   {
    "duration": 6364,
    "start_time": "2023-06-19T11:27:45.072Z"
   },
   {
    "duration": 15,
    "start_time": "2023-06-19T11:28:09.274Z"
   },
   {
    "duration": 87,
    "start_time": "2023-06-19T11:28:50.829Z"
   },
   {
    "duration": 183,
    "start_time": "2023-06-19T11:29:02.695Z"
   },
   {
    "duration": 24,
    "start_time": "2023-06-19T11:30:25.524Z"
   },
   {
    "duration": 24,
    "start_time": "2023-06-19T11:30:31.898Z"
   },
   {
    "duration": 232,
    "start_time": "2023-06-19T11:31:03.921Z"
   },
   {
    "duration": 16,
    "start_time": "2023-06-19T11:32:02.532Z"
   },
   {
    "duration": 15,
    "start_time": "2023-06-19T11:32:09.201Z"
   },
   {
    "duration": 42,
    "start_time": "2023-06-19T11:32:41.237Z"
   },
   {
    "duration": 5,
    "start_time": "2023-06-19T11:32:47.857Z"
   },
   {
    "duration": 964,
    "start_time": "2023-06-19T11:32:47.864Z"
   },
   {
    "duration": 13,
    "start_time": "2023-06-19T11:32:48.830Z"
   },
   {
    "duration": 57,
    "start_time": "2023-06-19T11:32:48.844Z"
   },
   {
    "duration": 496,
    "start_time": "2023-06-19T11:32:48.904Z"
   },
   {
    "duration": 485,
    "start_time": "2023-06-19T11:32:49.402Z"
   },
   {
    "duration": 625,
    "start_time": "2023-06-19T11:32:49.889Z"
   },
   {
    "duration": 324,
    "start_time": "2023-06-19T11:32:50.516Z"
   },
   {
    "duration": 17,
    "start_time": "2023-06-19T11:32:50.841Z"
   },
   {
    "duration": 37,
    "start_time": "2023-06-19T11:32:50.860Z"
   },
   {
    "duration": 3698,
    "start_time": "2023-06-19T11:32:50.900Z"
   },
   {
    "duration": 22338,
    "start_time": "2023-06-19T11:32:54.600Z"
   },
   {
    "duration": 130,
    "start_time": "2023-06-19T11:33:16.940Z"
   },
   {
    "duration": 30,
    "start_time": "2023-06-19T11:33:17.074Z"
   },
   {
    "duration": 18,
    "start_time": "2023-06-19T11:33:17.105Z"
   },
   {
    "duration": 84,
    "start_time": "2023-06-19T11:33:17.125Z"
   },
   {
    "duration": 31,
    "start_time": "2023-06-19T11:33:17.211Z"
   },
   {
    "duration": 15,
    "start_time": "2023-06-19T11:33:25.694Z"
   },
   {
    "duration": 17,
    "start_time": "2023-06-19T11:33:30.643Z"
   },
   {
    "duration": 12,
    "start_time": "2023-06-19T11:33:37.450Z"
   },
   {
    "duration": 13,
    "start_time": "2023-06-19T11:34:08.364Z"
   },
   {
    "duration": 11,
    "start_time": "2023-06-19T11:34:23.624Z"
   },
   {
    "duration": 24,
    "start_time": "2023-06-19T11:34:23.926Z"
   },
   {
    "duration": 167,
    "start_time": "2023-06-19T11:34:25.993Z"
   },
   {
    "duration": 5,
    "start_time": "2023-06-19T11:34:41.632Z"
   },
   {
    "duration": 173,
    "start_time": "2023-06-19T11:35:41.618Z"
   },
   {
    "duration": 23,
    "start_time": "2023-06-19T11:38:15.328Z"
   },
   {
    "duration": 4,
    "start_time": "2023-06-19T11:38:16.477Z"
   },
   {
    "duration": 260,
    "start_time": "2023-06-19T11:38:20.183Z"
   },
   {
    "duration": 9,
    "start_time": "2023-06-19T11:38:39.582Z"
   },
   {
    "duration": 5,
    "start_time": "2023-06-19T11:38:46.282Z"
   },
   {
    "duration": 225,
    "start_time": "2023-06-19T11:39:51.216Z"
   },
   {
    "duration": 22,
    "start_time": "2023-06-19T11:39:58.578Z"
   },
   {
    "duration": 159,
    "start_time": "2023-06-19T11:41:18.786Z"
   },
   {
    "duration": 17,
    "start_time": "2023-06-19T11:41:19.490Z"
   },
   {
    "duration": 292,
    "start_time": "2023-06-19T11:41:46.840Z"
   },
   {
    "duration": 16,
    "start_time": "2023-06-19T11:41:47.281Z"
   },
   {
    "duration": 17,
    "start_time": "2023-06-19T11:42:20.574Z"
   },
   {
    "duration": 294,
    "start_time": "2023-06-19T11:42:22.112Z"
   },
   {
    "duration": 16,
    "start_time": "2023-06-19T11:42:24.209Z"
   },
   {
    "duration": 262,
    "start_time": "2023-06-19T11:42:34.473Z"
   },
   {
    "duration": 326,
    "start_time": "2023-06-19T11:42:47.363Z"
   },
   {
    "duration": 16,
    "start_time": "2023-06-19T11:42:50.874Z"
   },
   {
    "duration": 205,
    "start_time": "2023-06-19T11:43:08.142Z"
   },
   {
    "duration": 15,
    "start_time": "2023-06-19T11:43:08.688Z"
   },
   {
    "duration": 35,
    "start_time": "2023-06-19T11:44:32.017Z"
   },
   {
    "duration": 211,
    "start_time": "2023-06-19T11:44:45.976Z"
   },
   {
    "duration": 47,
    "start_time": "2023-06-19T11:46:47.123Z"
   },
   {
    "duration": 280,
    "start_time": "2023-06-19T11:46:48.830Z"
   },
   {
    "duration": 1256,
    "start_time": "2023-06-19T11:49:09.432Z"
   },
   {
    "duration": 981,
    "start_time": "2023-06-19T11:49:10.690Z"
   },
   {
    "duration": 25,
    "start_time": "2023-06-19T11:49:11.672Z"
   },
   {
    "duration": 40,
    "start_time": "2023-06-19T11:49:11.699Z"
   },
   {
    "duration": 517,
    "start_time": "2023-06-19T11:49:11.758Z"
   },
   {
    "duration": 511,
    "start_time": "2023-06-19T11:49:12.277Z"
   },
   {
    "duration": 784,
    "start_time": "2023-06-19T11:49:12.790Z"
   },
   {
    "duration": 386,
    "start_time": "2023-06-19T11:49:13.576Z"
   },
   {
    "duration": 22,
    "start_time": "2023-06-19T11:49:13.964Z"
   },
   {
    "duration": 70,
    "start_time": "2023-06-19T11:49:13.988Z"
   },
   {
    "duration": 3638,
    "start_time": "2023-06-19T11:49:14.060Z"
   },
   {
    "duration": 23325,
    "start_time": "2023-06-19T11:49:17.699Z"
   },
   {
    "duration": 109,
    "start_time": "2023-06-19T11:49:41.026Z"
   },
   {
    "duration": 44,
    "start_time": "2023-06-19T11:49:41.137Z"
   },
   {
    "duration": 30,
    "start_time": "2023-06-19T11:49:41.183Z"
   },
   {
    "duration": 80,
    "start_time": "2023-06-19T11:49:41.215Z"
   },
   {
    "duration": 39,
    "start_time": "2023-06-19T11:49:41.296Z"
   },
   {
    "duration": 31,
    "start_time": "2023-06-19T11:49:41.336Z"
   },
   {
    "duration": 20,
    "start_time": "2023-06-19T11:49:41.369Z"
   },
   {
    "duration": 12,
    "start_time": "2023-06-19T11:49:52.307Z"
   },
   {
    "duration": 44,
    "start_time": "2023-06-19T11:49:54.848Z"
   },
   {
    "duration": 261,
    "start_time": "2023-06-19T11:49:55.458Z"
   },
   {
    "duration": 368,
    "start_time": "2023-06-19T11:50:28.037Z"
   },
   {
    "duration": 16,
    "start_time": "2023-06-19T11:51:01.918Z"
   },
   {
    "duration": 1194,
    "start_time": "2023-06-19T11:51:17.758Z"
   },
   {
    "duration": 16,
    "start_time": "2023-06-19T11:51:39.104Z"
   },
   {
    "duration": 22,
    "start_time": "2023-06-19T11:51:54.045Z"
   },
   {
    "duration": 87,
    "start_time": "2023-06-19T11:52:05.817Z"
   },
   {
    "duration": 84,
    "start_time": "2023-06-19T11:52:25.075Z"
   },
   {
    "duration": 73,
    "start_time": "2023-06-19T11:52:32.948Z"
   },
   {
    "duration": 17,
    "start_time": "2023-06-19T11:52:41.124Z"
   },
   {
    "duration": 4,
    "start_time": "2023-06-19T11:52:50.040Z"
   },
   {
    "duration": 14,
    "start_time": "2023-06-19T11:52:56.698Z"
   },
   {
    "duration": 16,
    "start_time": "2023-06-19T11:53:04.076Z"
   },
   {
    "duration": 12,
    "start_time": "2023-06-19T11:53:04.819Z"
   },
   {
    "duration": 19,
    "start_time": "2023-06-19T11:53:05.463Z"
   },
   {
    "duration": 14,
    "start_time": "2023-06-19T11:53:08.536Z"
   },
   {
    "duration": 74,
    "start_time": "2023-06-19T11:55:25.908Z"
   },
   {
    "duration": 5,
    "start_time": "2023-06-19T11:55:29.923Z"
   },
   {
    "duration": 5,
    "start_time": "2023-06-19T12:03:41.278Z"
   },
   {
    "duration": 5,
    "start_time": "2023-06-19T12:10:12.534Z"
   },
   {
    "duration": 4,
    "start_time": "2023-06-19T12:10:22.770Z"
   },
   {
    "duration": 939,
    "start_time": "2023-06-19T12:10:22.777Z"
   },
   {
    "duration": 13,
    "start_time": "2023-06-19T12:10:23.718Z"
   },
   {
    "duration": 54,
    "start_time": "2023-06-19T12:10:23.733Z"
   },
   {
    "duration": 484,
    "start_time": "2023-06-19T12:10:23.790Z"
   },
   {
    "duration": 486,
    "start_time": "2023-06-19T12:10:24.276Z"
   },
   {
    "duration": 685,
    "start_time": "2023-06-19T12:10:24.763Z"
   },
   {
    "duration": 345,
    "start_time": "2023-06-19T12:10:25.450Z"
   },
   {
    "duration": 16,
    "start_time": "2023-06-19T12:10:25.796Z"
   },
   {
    "duration": 72,
    "start_time": "2023-06-19T12:10:25.814Z"
   },
   {
    "duration": 3158,
    "start_time": "2023-06-19T12:10:25.887Z"
   },
   {
    "duration": 22633,
    "start_time": "2023-06-19T12:10:29.047Z"
   },
   {
    "duration": 123,
    "start_time": "2023-06-19T12:10:51.682Z"
   },
   {
    "duration": 32,
    "start_time": "2023-06-19T12:10:51.808Z"
   },
   {
    "duration": 89,
    "start_time": "2023-06-19T12:10:51.843Z"
   },
   {
    "duration": 78,
    "start_time": "2023-06-19T12:10:51.935Z"
   },
   {
    "duration": 14,
    "start_time": "2023-06-19T12:10:52.015Z"
   },
   {
    "duration": 16,
    "start_time": "2023-06-19T12:10:55.332Z"
   },
   {
    "duration": 10,
    "start_time": "2023-06-19T12:11:01.085Z"
   },
   {
    "duration": 7,
    "start_time": "2023-06-19T12:11:01.889Z"
   },
   {
    "duration": 31830,
    "start_time": "2023-06-19T12:11:04.042Z"
   },
   {
    "duration": 11,
    "start_time": "2023-06-19T12:12:09.105Z"
   },
   {
    "duration": 14,
    "start_time": "2023-06-19T12:12:10.209Z"
   },
   {
    "duration": 16,
    "start_time": "2023-06-19T12:12:23.973Z"
   },
   {
    "duration": 11,
    "start_time": "2023-06-19T12:12:26.157Z"
   },
   {
    "duration": 13,
    "start_time": "2023-06-19T12:12:28.129Z"
   },
   {
    "duration": 18,
    "start_time": "2023-06-19T12:12:47.887Z"
   },
   {
    "duration": 6,
    "start_time": "2023-06-19T12:13:00.021Z"
   },
   {
    "duration": 7,
    "start_time": "2023-06-19T12:13:10.809Z"
   },
   {
    "duration": 8,
    "start_time": "2023-06-19T12:13:14.856Z"
   },
   {
    "duration": 32216,
    "start_time": "2023-06-19T12:13:16.578Z"
   },
   {
    "duration": 11,
    "start_time": "2023-06-19T12:15:11.742Z"
   },
   {
    "duration": 7,
    "start_time": "2023-06-19T12:15:15.557Z"
   },
   {
    "duration": 36417,
    "start_time": "2023-06-19T12:15:15.953Z"
   },
   {
    "duration": 14,
    "start_time": "2023-06-19T12:20:19.431Z"
   },
   {
    "duration": 3,
    "start_time": "2023-06-19T12:20:19.794Z"
   },
   {
    "duration": 3,
    "start_time": "2023-06-19T12:21:21.174Z"
   },
   {
    "duration": 13,
    "start_time": "2023-06-19T12:21:21.550Z"
   },
   {
    "duration": 11,
    "start_time": "2023-06-19T12:22:07.136Z"
   },
   {
    "duration": 11,
    "start_time": "2023-06-19T12:22:13.290Z"
   },
   {
    "duration": 10,
    "start_time": "2023-06-19T12:22:42.369Z"
   },
   {
    "duration": 16,
    "start_time": "2023-06-19T12:23:19.439Z"
   },
   {
    "duration": 34,
    "start_time": "2023-06-19T12:24:07.288Z"
   },
   {
    "duration": 13,
    "start_time": "2023-06-19T12:24:10.145Z"
   },
   {
    "duration": 34,
    "start_time": "2023-06-19T12:24:32.943Z"
   },
   {
    "duration": 199,
    "start_time": "2023-06-19T12:27:10.087Z"
   },
   {
    "duration": 22,
    "start_time": "2023-06-19T12:27:15.574Z"
   },
   {
    "duration": 13,
    "start_time": "2023-06-19T12:27:28.189Z"
   },
   {
    "duration": 15,
    "start_time": "2023-06-19T12:27:28.773Z"
   },
   {
    "duration": 181,
    "start_time": "2023-06-19T12:27:33.153Z"
   },
   {
    "duration": 18,
    "start_time": "2023-06-19T12:27:34.444Z"
   },
   {
    "duration": 18,
    "start_time": "2023-06-19T12:31:25.553Z"
   },
   {
    "duration": 225,
    "start_time": "2023-06-19T12:31:25.909Z"
   },
   {
    "duration": 214,
    "start_time": "2023-06-19T12:31:32.380Z"
   },
   {
    "duration": 148,
    "start_time": "2023-06-19T12:31:38.960Z"
   },
   {
    "duration": 146,
    "start_time": "2023-06-19T12:31:49.823Z"
   },
   {
    "duration": 227,
    "start_time": "2023-06-19T12:32:07.610Z"
   },
   {
    "duration": 5,
    "start_time": "2023-06-19T12:33:08.780Z"
   },
   {
    "duration": 969,
    "start_time": "2023-06-19T12:33:08.788Z"
   },
   {
    "duration": 19,
    "start_time": "2023-06-19T12:33:09.759Z"
   },
   {
    "duration": 41,
    "start_time": "2023-06-19T12:33:09.780Z"
   },
   {
    "duration": 470,
    "start_time": "2023-06-19T12:33:09.824Z"
   },
   {
    "duration": 456,
    "start_time": "2023-06-19T12:33:10.296Z"
   },
   {
    "duration": 786,
    "start_time": "2023-06-19T12:33:10.754Z"
   },
   {
    "duration": 352,
    "start_time": "2023-06-19T12:33:11.542Z"
   },
   {
    "duration": 15,
    "start_time": "2023-06-19T12:33:11.896Z"
   },
   {
    "duration": 53,
    "start_time": "2023-06-19T12:33:11.913Z"
   },
   {
    "duration": 3603,
    "start_time": "2023-06-19T12:33:11.971Z"
   },
   {
    "duration": 23907,
    "start_time": "2023-06-19T12:33:15.576Z"
   },
   {
    "duration": 111,
    "start_time": "2023-06-19T12:33:39.485Z"
   },
   {
    "duration": 27,
    "start_time": "2023-06-19T12:33:39.598Z"
   },
   {
    "duration": 58,
    "start_time": "2023-06-19T12:33:39.627Z"
   },
   {
    "duration": 80,
    "start_time": "2023-06-19T12:33:39.686Z"
   },
   {
    "duration": 15,
    "start_time": "2023-06-19T12:33:39.769Z"
   },
   {
    "duration": 321,
    "start_time": "2023-06-19T12:33:39.786Z"
   },
   {
    "duration": 14,
    "start_time": "2023-06-19T12:34:36.926Z"
   },
   {
    "duration": 333,
    "start_time": "2023-06-19T12:34:38.374Z"
   },
   {
    "duration": 1361,
    "start_time": "2023-06-19T12:34:47.423Z"
   },
   {
    "duration": 1134,
    "start_time": "2023-06-19T12:34:48.786Z"
   },
   {
    "duration": 22,
    "start_time": "2023-06-19T12:34:49.922Z"
   },
   {
    "duration": 47,
    "start_time": "2023-06-19T12:34:49.958Z"
   },
   {
    "duration": 523,
    "start_time": "2023-06-19T12:34:50.008Z"
   },
   {
    "duration": 557,
    "start_time": "2023-06-19T12:34:50.533Z"
   },
   {
    "duration": 891,
    "start_time": "2023-06-19T12:34:51.091Z"
   },
   {
    "duration": 428,
    "start_time": "2023-06-19T12:34:51.984Z"
   },
   {
    "duration": 18,
    "start_time": "2023-06-19T12:34:52.414Z"
   },
   {
    "duration": 72,
    "start_time": "2023-06-19T12:34:52.435Z"
   },
   {
    "duration": 3612,
    "start_time": "2023-06-19T12:34:52.509Z"
   },
   {
    "duration": 23561,
    "start_time": "2023-06-19T12:34:56.123Z"
   },
   {
    "duration": 111,
    "start_time": "2023-06-19T12:35:19.686Z"
   },
   {
    "duration": 28,
    "start_time": "2023-06-19T12:35:19.799Z"
   },
   {
    "duration": 37,
    "start_time": "2023-06-19T12:35:19.828Z"
   },
   {
    "duration": 92,
    "start_time": "2023-06-19T12:35:19.867Z"
   },
   {
    "duration": 16,
    "start_time": "2023-06-19T12:35:19.961Z"
   },
   {
    "duration": 414,
    "start_time": "2023-06-19T12:35:23.211Z"
   },
   {
    "duration": 179,
    "start_time": "2023-06-19T12:35:47.710Z"
   },
   {
    "duration": 164,
    "start_time": "2023-06-19T12:35:55.636Z"
   },
   {
    "duration": 238,
    "start_time": "2023-06-19T12:36:00.144Z"
   },
   {
    "duration": 975126,
    "start_time": "2023-06-19T12:38:25.344Z"
   },
   {
    "duration": 981527,
    "start_time": "2023-06-19T12:55:08.592Z"
   },
   {
    "duration": 3,
    "start_time": "2023-06-19T13:12:16.814Z"
   },
   {
    "duration": 2,
    "start_time": "2023-06-19T13:12:18.153Z"
   },
   {
    "duration": 1655,
    "start_time": "2023-06-19T13:12:19.019Z"
   },
   {
    "duration": 2613,
    "start_time": "2023-06-19T13:12:20.677Z"
   },
   {
    "duration": 31320,
    "start_time": "2023-06-19T13:12:36.441Z"
   },
   {
    "duration": 50665,
    "start_time": "2023-06-19T13:13:11.673Z"
   },
   {
    "duration": 56487,
    "start_time": "2023-06-19T13:14:02.577Z"
   },
   {
    "duration": 22855,
    "start_time": "2023-06-19T13:15:04.441Z"
   },
   {
    "duration": 471,
    "start_time": "2023-06-19T13:16:00.729Z"
   },
   {
    "duration": 11,
    "start_time": "2023-06-19T13:16:05.810Z"
   },
   {
    "duration": 8,
    "start_time": "2023-06-19T13:16:07.158Z"
   },
   {
    "duration": 18626,
    "start_time": "2023-06-19T13:16:09.840Z"
   },
   {
    "duration": 96,
    "start_time": "2023-06-19T13:16:28.468Z"
   },
   {
    "duration": 6,
    "start_time": "2023-06-19T13:16:34.778Z"
   },
   {
    "duration": 4,
    "start_time": "2023-06-19T13:16:54.237Z"
   },
   {
    "duration": 107231,
    "start_time": "2023-06-19T13:16:56.129Z"
   },
   {
    "duration": 42371,
    "start_time": "2023-06-19T13:18:52.305Z"
   },
   {
    "duration": 90,
    "start_time": "2023-06-19T13:19:34.680Z"
   },
   {
    "duration": 8,
    "start_time": "2023-06-19T13:19:34.771Z"
   },
   {
    "duration": 2668,
    "start_time": "2023-06-19T13:19:34.781Z"
   },
   {
    "duration": 19,
    "start_time": "2023-06-19T13:19:37.451Z"
   },
   {
    "duration": 6,
    "start_time": "2023-06-19T13:19:37.472Z"
   },
   {
    "duration": 2729,
    "start_time": "2023-06-19T13:20:03.274Z"
   },
   {
    "duration": 14,
    "start_time": "2023-06-19T13:20:09.334Z"
   },
   {
    "duration": 6,
    "start_time": "2023-06-19T13:20:10.429Z"
   },
   {
    "duration": 508,
    "start_time": "2023-06-19T13:21:24.329Z"
   },
   {
    "duration": 22371,
    "start_time": "2023-06-19T13:21:44.652Z"
   },
   {
    "duration": 23000,
    "start_time": "2023-06-19T13:26:43.498Z"
   },
   {
    "duration": 485,
    "start_time": "2023-06-19T13:27:32.990Z"
   },
   {
    "duration": 11,
    "start_time": "2023-06-19T13:28:11.875Z"
   },
   {
    "duration": 2747,
    "start_time": "2023-06-19T13:28:14.788Z"
   },
   {
    "duration": 17,
    "start_time": "2023-06-19T13:28:21.380Z"
   },
   {
    "duration": 5,
    "start_time": "2023-06-19T13:28:21.949Z"
   },
   {
    "duration": 4,
    "start_time": "2023-06-19T13:30:26.148Z"
   },
   {
    "duration": 92,
    "start_time": "2023-06-19T13:30:27.305Z"
   },
   {
    "duration": 4,
    "start_time": "2023-06-19T13:30:51.734Z"
   },
   {
    "duration": 1187,
    "start_time": "2023-06-19T13:30:51.741Z"
   },
   {
    "duration": 15,
    "start_time": "2023-06-19T13:30:52.930Z"
   },
   {
    "duration": 69,
    "start_time": "2023-06-19T13:30:52.946Z"
   },
   {
    "duration": 541,
    "start_time": "2023-06-19T13:30:53.017Z"
   },
   {
    "duration": 628,
    "start_time": "2023-06-19T13:30:53.560Z"
   },
   {
    "duration": 799,
    "start_time": "2023-06-19T13:30:54.190Z"
   },
   {
    "duration": 365,
    "start_time": "2023-06-19T13:30:54.990Z"
   },
   {
    "duration": 25,
    "start_time": "2023-06-19T13:30:55.357Z"
   },
   {
    "duration": 52,
    "start_time": "2023-06-19T13:30:55.384Z"
   },
   {
    "duration": 3607,
    "start_time": "2023-06-19T13:30:55.438Z"
   },
   {
    "duration": 23949,
    "start_time": "2023-06-19T13:30:59.047Z"
   },
   {
    "duration": 122,
    "start_time": "2023-06-19T13:31:22.997Z"
   },
   {
    "duration": 49,
    "start_time": "2023-06-19T13:31:23.121Z"
   },
   {
    "duration": 19,
    "start_time": "2023-06-19T13:31:23.179Z"
   },
   {
    "duration": 84,
    "start_time": "2023-06-19T13:31:23.200Z"
   },
   {
    "duration": 17,
    "start_time": "2023-06-19T13:31:23.286Z"
   },
   {
    "duration": 417,
    "start_time": "2023-06-19T13:31:23.306Z"
   },
   {
    "duration": 3,
    "start_time": "2023-06-19T13:31:23.725Z"
   },
   {
    "duration": 5,
    "start_time": "2023-06-19T13:31:23.730Z"
   },
   {
    "duration": 9,
    "start_time": "2023-06-19T13:31:35.771Z"
   },
   {
    "duration": 337,
    "start_time": "2023-06-19T13:31:36.516Z"
   },
   {
    "duration": 9,
    "start_time": "2023-06-19T13:32:24.773Z"
   },
   {
    "duration": 119,
    "start_time": "2023-06-19T13:32:26.717Z"
   },
   {
    "duration": 3,
    "start_time": "2023-06-19T13:32:37.029Z"
   },
   {
    "duration": 61195,
    "start_time": "2023-06-19T13:34:55.273Z"
   },
   {
    "duration": 3627,
    "start_time": "2023-06-19T13:36:40.920Z"
   },
   {
    "duration": 106,
    "start_time": "2023-06-19T13:36:59.417Z"
   },
   {
    "duration": 886,
    "start_time": "2023-06-19T13:37:02.613Z"
   },
   {
    "duration": 2564,
    "start_time": "2023-06-19T13:38:33.133Z"
   },
   {
    "duration": 22337,
    "start_time": "2023-06-19T13:38:40.491Z"
   },
   {
    "duration": 184,
    "start_time": "2023-06-19T13:41:15.808Z"
   },
   {
    "duration": 18,
    "start_time": "2023-06-19T13:41:16.890Z"
   },
   {
    "duration": 6,
    "start_time": "2023-06-19T13:41:17.487Z"
   },
   {
    "duration": 107035,
    "start_time": "2023-06-19T13:41:28.829Z"
   },
   {
    "duration": 206,
    "start_time": "2023-06-19T13:43:15.867Z"
   },
   {
    "duration": 6,
    "start_time": "2023-06-19T13:43:16.075Z"
   },
   {
    "duration": 504,
    "start_time": "2023-06-19T13:43:40.585Z"
   },
   {
    "duration": 18,
    "start_time": "2023-06-19T13:43:47.027Z"
   },
   {
    "duration": 6,
    "start_time": "2023-06-19T13:43:47.824Z"
   },
   {
    "duration": 499,
    "start_time": "2023-06-19T13:44:17.838Z"
   },
   {
    "duration": 23,
    "start_time": "2023-06-19T13:44:19.165Z"
   },
   {
    "duration": 7,
    "start_time": "2023-06-19T13:44:19.762Z"
   },
   {
    "duration": 63832,
    "start_time": "2023-06-19T13:44:31.454Z"
   },
   {
    "duration": 276,
    "start_time": "2023-06-19T13:45:35.290Z"
   },
   {
    "duration": 6,
    "start_time": "2023-06-19T13:45:35.568Z"
   },
   {
    "duration": 54,
    "start_time": "2023-06-19T13:45:35.577Z"
   },
   {
    "duration": 0,
    "start_time": "2023-06-19T13:45:35.632Z"
   },
   {
    "duration": 0,
    "start_time": "2023-06-19T13:45:35.634Z"
   },
   {
    "duration": 21067,
    "start_time": "2023-06-19T13:45:46.852Z"
   },
   {
    "duration": 58,
    "start_time": "2023-06-19T13:46:07.922Z"
   },
   {
    "duration": 6,
    "start_time": "2023-06-19T13:46:07.982Z"
   },
   {
    "duration": 22821,
    "start_time": "2023-06-19T13:53:08.888Z"
   },
   {
    "duration": 77,
    "start_time": "2023-06-19T13:55:24.434Z"
   }
  ],
  "kernelspec": {
   "display_name": "Python 3 (ipykernel)",
   "language": "python",
   "name": "python3"
  },
  "language_info": {
   "codemirror_mode": {
    "name": "ipython",
    "version": 3
   },
   "file_extension": ".py",
   "mimetype": "text/x-python",
   "name": "python",
   "nbconvert_exporter": "python",
   "pygments_lexer": "ipython3",
   "version": "3.9.13"
  },
  "toc": {
   "base_numbering": 1,
   "nav_menu": {},
   "number_sections": true,
   "sideBar": true,
   "skip_h1_title": true,
   "title_cell": "Table of Contents",
   "title_sidebar": "Contents",
   "toc_cell": false,
   "toc_position": {},
   "toc_section_display": true,
   "toc_window_display": false
  }
 },
 "nbformat": 4,
 "nbformat_minor": 2
}
