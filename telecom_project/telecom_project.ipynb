{
 "cells": [
  {
   "cell_type": "markdown",
   "id": "452633d3",
   "metadata": {},
   "source": [
    "# Предварительный анализ данных выпускного проекта (телекоммуникации)"
   ]
  },
  {
   "cell_type": "markdown",
   "id": "02a0052e",
   "metadata": {},
   "source": [
    "## Описание проекта"
   ]
  },
  {
   "cell_type": "markdown",
   "id": "8299d297",
   "metadata": {},
   "source": [
    "Оператор связи хочет научиться предсказывать отток клиентов, для того чтобы предлагать им промокоды и специальные условия в этом случае. Компания предлагает следующие услуги:\n",
    "1. Телефонная связь (с возможностью подключения нескольких линий одновременно)\n",
    "2. Интернет (DSL и Fiber Optic)\n",
    "3. Доп. услуги:\n",
    "- DeviceProtection\n",
    "- OnlineSecurity\n",
    "- TechSupport\n",
    "- OnlineBackup\n",
    "- StreamingTV\n",
    "- StreamingMovies"
   ]
  },
  {
   "cell_type": "markdown",
   "id": "aa208244",
   "metadata": {},
   "source": [
    "## Описание данных"
   ]
  },
  {
   "cell_type": "markdown",
   "id": "7370c864",
   "metadata": {},
   "source": [
    "Данные состоят из файлов, полученных из разных источников:\n",
    "- contract_new.csv — информация о договоре;\n",
    "- personal_new.csv — персональные данные клиента;\n",
    "- internet_new.csv — информация об интернет-услугах;\n",
    "- phone_new.csv — информация об услугах телефонии.\n",
    "\n",
    "Информация о договорах актуальна на 1 февраля 2020."
   ]
  },
  {
   "cell_type": "markdown",
   "id": "b7fa8ac2",
   "metadata": {},
   "source": [
    "## Цель проекта"
   ]
  },
  {
   "cell_type": "markdown",
   "id": "ba828a64",
   "metadata": {},
   "source": [
    "Построить модель, способную наиболее точно предсказать собирается ли уходить клиент, используя данные об используемых им услугах, их стоимости, а также его персональных данных. Минимальная точность предсказаний по метрике AUC-ROC >= 0.85."
   ]
  },
  {
   "cell_type": "markdown",
   "id": "dadbb9a5",
   "metadata": {},
   "source": [
    "## Поиск пропусков и повторений"
   ]
  },
  {
   "cell_type": "code",
   "execution_count": 3,
   "id": "dd8976c8",
   "metadata": {},
   "outputs": [],
   "source": [
    "import warnings\n",
    "import pandas as pd\n",
    "import numpy as np\n",
    "import matplotlib.pyplot as plt\n",
    "import datetime\n",
    "from datetime import date\n",
    "import phik\n",
    "from phik.report import plot_correlation_matrix\n",
    "import seaborn as sns\n",
    "\n",
    "from scipy.stats import uniform as sp_randFloat\n",
    "from scipy.stats import randint as sp_randInt\n",
    "import random\n",
    "\n",
    "from sklearn.preprocessing import OrdinalEncoder\n",
    "from sklearn.model_selection import train_test_split\n",
    "from sklearn.linear_model import LogisticRegression\n",
    "from sklearn.ensemble import RandomForestClassifier\n",
    "from sklearn.model_selection import (\n",
    "    RandomizedSearchCV,\n",
    "    cross_val_score\n",
    ")\n",
    "from sklearn.metrics import (\n",
    "    roc_auc_score,\n",
    "    accuracy_score,\n",
    "    roc_curve\n",
    ")\n",
    "from catboost import CatBoostClassifier"
   ]
  },
  {
   "cell_type": "code",
   "execution_count": 4,
   "id": "1150824e",
   "metadata": {},
   "outputs": [],
   "source": [
    "state = 280823"
   ]
  },
  {
   "cell_type": "code",
   "execution_count": 5,
   "id": "4e43a031",
   "metadata": {},
   "outputs": [],
   "source": [
    "#ссылки на датасеты не включаю по правилам Яндекс.Практикума\n",
    "contract = pd.read_csv()\n",
    "personal = pd.read_csv()\n",
    "internet = pd.read_csv()\n",
    "phone = pd.read_csv()"
   ]
  },
  {
   "cell_type": "code",
   "execution_count": 6,
   "id": "beae481a",
   "metadata": {
    "scrolled": false
   },
   "outputs": [
    {
     "name": "stdout",
     "output_type": "stream",
     "text": [
      "<class 'pandas.core.frame.DataFrame'>\n",
      "RangeIndex: 7043 entries, 0 to 7042\n",
      "Data columns (total 8 columns):\n",
      " #   Column            Non-Null Count  Dtype  \n",
      "---  ------            --------------  -----  \n",
      " 0   customerID        7043 non-null   object \n",
      " 1   BeginDate         7043 non-null   object \n",
      " 2   EndDate           7043 non-null   object \n",
      " 3   Type              7043 non-null   object \n",
      " 4   PaperlessBilling  7043 non-null   object \n",
      " 5   PaymentMethod     7043 non-null   object \n",
      " 6   MonthlyCharges    7043 non-null   float64\n",
      " 7   TotalCharges      7043 non-null   object \n",
      "dtypes: float64(1), object(7)\n",
      "memory usage: 440.3+ KB\n"
     ]
    },
    {
     "data": {
      "text/html": [
       "<div>\n",
       "<style scoped>\n",
       "    .dataframe tbody tr th:only-of-type {\n",
       "        vertical-align: middle;\n",
       "    }\n",
       "\n",
       "    .dataframe tbody tr th {\n",
       "        vertical-align: top;\n",
       "    }\n",
       "\n",
       "    .dataframe thead th {\n",
       "        text-align: right;\n",
       "    }\n",
       "</style>\n",
       "<table border=\"1\" class=\"dataframe\">\n",
       "  <thead>\n",
       "    <tr style=\"text-align: right;\">\n",
       "      <th></th>\n",
       "      <th>customerID</th>\n",
       "      <th>BeginDate</th>\n",
       "      <th>EndDate</th>\n",
       "      <th>Type</th>\n",
       "      <th>PaperlessBilling</th>\n",
       "      <th>PaymentMethod</th>\n",
       "      <th>MonthlyCharges</th>\n",
       "      <th>TotalCharges</th>\n",
       "    </tr>\n",
       "  </thead>\n",
       "  <tbody>\n",
       "    <tr>\n",
       "      <th>0</th>\n",
       "      <td>7590-VHVEG</td>\n",
       "      <td>2020-01-01</td>\n",
       "      <td>No</td>\n",
       "      <td>Month-to-month</td>\n",
       "      <td>Yes</td>\n",
       "      <td>Electronic check</td>\n",
       "      <td>29.85</td>\n",
       "      <td>31.04</td>\n",
       "    </tr>\n",
       "    <tr>\n",
       "      <th>1</th>\n",
       "      <td>5575-GNVDE</td>\n",
       "      <td>2017-04-01</td>\n",
       "      <td>No</td>\n",
       "      <td>One year</td>\n",
       "      <td>No</td>\n",
       "      <td>Mailed check</td>\n",
       "      <td>56.95</td>\n",
       "      <td>2071.84</td>\n",
       "    </tr>\n",
       "    <tr>\n",
       "      <th>2</th>\n",
       "      <td>3668-QPYBK</td>\n",
       "      <td>2019-10-01</td>\n",
       "      <td>No</td>\n",
       "      <td>Month-to-month</td>\n",
       "      <td>Yes</td>\n",
       "      <td>Mailed check</td>\n",
       "      <td>53.85</td>\n",
       "      <td>226.17</td>\n",
       "    </tr>\n",
       "    <tr>\n",
       "      <th>3</th>\n",
       "      <td>7795-CFOCW</td>\n",
       "      <td>2016-05-01</td>\n",
       "      <td>No</td>\n",
       "      <td>One year</td>\n",
       "      <td>No</td>\n",
       "      <td>Bank transfer (automatic)</td>\n",
       "      <td>42.30</td>\n",
       "      <td>1960.6</td>\n",
       "    </tr>\n",
       "    <tr>\n",
       "      <th>4</th>\n",
       "      <td>9237-HQITU</td>\n",
       "      <td>2019-09-01</td>\n",
       "      <td>No</td>\n",
       "      <td>Month-to-month</td>\n",
       "      <td>Yes</td>\n",
       "      <td>Electronic check</td>\n",
       "      <td>70.70</td>\n",
       "      <td>353.5</td>\n",
       "    </tr>\n",
       "    <tr>\n",
       "      <th>5</th>\n",
       "      <td>9305-CDSKC</td>\n",
       "      <td>2019-03-01</td>\n",
       "      <td>No</td>\n",
       "      <td>Month-to-month</td>\n",
       "      <td>Yes</td>\n",
       "      <td>Electronic check</td>\n",
       "      <td>99.65</td>\n",
       "      <td>1150.96</td>\n",
       "    </tr>\n",
       "    <tr>\n",
       "      <th>6</th>\n",
       "      <td>1452-KIOVK</td>\n",
       "      <td>2018-04-01</td>\n",
       "      <td>No</td>\n",
       "      <td>Month-to-month</td>\n",
       "      <td>Yes</td>\n",
       "      <td>Credit card (automatic)</td>\n",
       "      <td>89.10</td>\n",
       "      <td>2058.21</td>\n",
       "    </tr>\n",
       "    <tr>\n",
       "      <th>7</th>\n",
       "      <td>6713-OKOMC</td>\n",
       "      <td>2019-04-01</td>\n",
       "      <td>No</td>\n",
       "      <td>Month-to-month</td>\n",
       "      <td>No</td>\n",
       "      <td>Mailed check</td>\n",
       "      <td>29.75</td>\n",
       "      <td>300.48</td>\n",
       "    </tr>\n",
       "    <tr>\n",
       "      <th>8</th>\n",
       "      <td>7892-POOKP</td>\n",
       "      <td>2017-07-01</td>\n",
       "      <td>No</td>\n",
       "      <td>Month-to-month</td>\n",
       "      <td>Yes</td>\n",
       "      <td>Electronic check</td>\n",
       "      <td>104.80</td>\n",
       "      <td>3573.68</td>\n",
       "    </tr>\n",
       "    <tr>\n",
       "      <th>9</th>\n",
       "      <td>6388-TABGU</td>\n",
       "      <td>2014-12-01</td>\n",
       "      <td>2017-05-01</td>\n",
       "      <td>One year</td>\n",
       "      <td>No</td>\n",
       "      <td>Bank transfer (automatic)</td>\n",
       "      <td>56.15</td>\n",
       "      <td>1628.35</td>\n",
       "    </tr>\n",
       "  </tbody>\n",
       "</table>\n",
       "</div>"
      ],
      "text/plain": [
       "   customerID   BeginDate     EndDate            Type PaperlessBilling  \\\n",
       "0  7590-VHVEG  2020-01-01          No  Month-to-month              Yes   \n",
       "1  5575-GNVDE  2017-04-01          No        One year               No   \n",
       "2  3668-QPYBK  2019-10-01          No  Month-to-month              Yes   \n",
       "3  7795-CFOCW  2016-05-01          No        One year               No   \n",
       "4  9237-HQITU  2019-09-01          No  Month-to-month              Yes   \n",
       "5  9305-CDSKC  2019-03-01          No  Month-to-month              Yes   \n",
       "6  1452-KIOVK  2018-04-01          No  Month-to-month              Yes   \n",
       "7  6713-OKOMC  2019-04-01          No  Month-to-month               No   \n",
       "8  7892-POOKP  2017-07-01          No  Month-to-month              Yes   \n",
       "9  6388-TABGU  2014-12-01  2017-05-01        One year               No   \n",
       "\n",
       "               PaymentMethod  MonthlyCharges TotalCharges  \n",
       "0           Electronic check           29.85        31.04  \n",
       "1               Mailed check           56.95      2071.84  \n",
       "2               Mailed check           53.85       226.17  \n",
       "3  Bank transfer (automatic)           42.30       1960.6  \n",
       "4           Electronic check           70.70        353.5  \n",
       "5           Electronic check           99.65      1150.96  \n",
       "6    Credit card (automatic)           89.10      2058.21  \n",
       "7               Mailed check           29.75       300.48  \n",
       "8           Electronic check          104.80      3573.68  \n",
       "9  Bank transfer (automatic)           56.15      1628.35  "
      ]
     },
     "execution_count": 6,
     "metadata": {},
     "output_type": "execute_result"
    }
   ],
   "source": [
    "contract.info()\n",
    "contract.head(10)"
   ]
  },
  {
   "cell_type": "code",
   "execution_count": 7,
   "id": "d6772be9",
   "metadata": {
    "scrolled": true
   },
   "outputs": [
    {
     "name": "stdout",
     "output_type": "stream",
     "text": [
      "<class 'pandas.core.frame.DataFrame'>\n",
      "RangeIndex: 7043 entries, 0 to 7042\n",
      "Data columns (total 5 columns):\n",
      " #   Column         Non-Null Count  Dtype \n",
      "---  ------         --------------  ----- \n",
      " 0   customerID     7043 non-null   object\n",
      " 1   gender         7043 non-null   object\n",
      " 2   SeniorCitizen  7043 non-null   int64 \n",
      " 3   Partner        7043 non-null   object\n",
      " 4   Dependents     7043 non-null   object\n",
      "dtypes: int64(1), object(4)\n",
      "memory usage: 275.2+ KB\n"
     ]
    },
    {
     "data": {
      "text/html": [
       "<div>\n",
       "<style scoped>\n",
       "    .dataframe tbody tr th:only-of-type {\n",
       "        vertical-align: middle;\n",
       "    }\n",
       "\n",
       "    .dataframe tbody tr th {\n",
       "        vertical-align: top;\n",
       "    }\n",
       "\n",
       "    .dataframe thead th {\n",
       "        text-align: right;\n",
       "    }\n",
       "</style>\n",
       "<table border=\"1\" class=\"dataframe\">\n",
       "  <thead>\n",
       "    <tr style=\"text-align: right;\">\n",
       "      <th></th>\n",
       "      <th>customerID</th>\n",
       "      <th>gender</th>\n",
       "      <th>SeniorCitizen</th>\n",
       "      <th>Partner</th>\n",
       "      <th>Dependents</th>\n",
       "    </tr>\n",
       "  </thead>\n",
       "  <tbody>\n",
       "    <tr>\n",
       "      <th>0</th>\n",
       "      <td>7590-VHVEG</td>\n",
       "      <td>Female</td>\n",
       "      <td>0</td>\n",
       "      <td>Yes</td>\n",
       "      <td>No</td>\n",
       "    </tr>\n",
       "    <tr>\n",
       "      <th>1</th>\n",
       "      <td>5575-GNVDE</td>\n",
       "      <td>Male</td>\n",
       "      <td>0</td>\n",
       "      <td>No</td>\n",
       "      <td>No</td>\n",
       "    </tr>\n",
       "    <tr>\n",
       "      <th>2</th>\n",
       "      <td>3668-QPYBK</td>\n",
       "      <td>Male</td>\n",
       "      <td>0</td>\n",
       "      <td>No</td>\n",
       "      <td>No</td>\n",
       "    </tr>\n",
       "    <tr>\n",
       "      <th>3</th>\n",
       "      <td>7795-CFOCW</td>\n",
       "      <td>Male</td>\n",
       "      <td>0</td>\n",
       "      <td>No</td>\n",
       "      <td>No</td>\n",
       "    </tr>\n",
       "    <tr>\n",
       "      <th>4</th>\n",
       "      <td>9237-HQITU</td>\n",
       "      <td>Female</td>\n",
       "      <td>0</td>\n",
       "      <td>No</td>\n",
       "      <td>No</td>\n",
       "    </tr>\n",
       "  </tbody>\n",
       "</table>\n",
       "</div>"
      ],
      "text/plain": [
       "   customerID  gender  SeniorCitizen Partner Dependents\n",
       "0  7590-VHVEG  Female              0     Yes         No\n",
       "1  5575-GNVDE    Male              0      No         No\n",
       "2  3668-QPYBK    Male              0      No         No\n",
       "3  7795-CFOCW    Male              0      No         No\n",
       "4  9237-HQITU  Female              0      No         No"
      ]
     },
     "execution_count": 7,
     "metadata": {},
     "output_type": "execute_result"
    }
   ],
   "source": [
    "personal.info()\n",
    "personal.head()"
   ]
  },
  {
   "cell_type": "code",
   "execution_count": 8,
   "id": "2bcd0bc2",
   "metadata": {
    "scrolled": true
   },
   "outputs": [
    {
     "name": "stdout",
     "output_type": "stream",
     "text": [
      "<class 'pandas.core.frame.DataFrame'>\n",
      "RangeIndex: 5517 entries, 0 to 5516\n",
      "Data columns (total 8 columns):\n",
      " #   Column            Non-Null Count  Dtype \n",
      "---  ------            --------------  ----- \n",
      " 0   customerID        5517 non-null   object\n",
      " 1   InternetService   5517 non-null   object\n",
      " 2   OnlineSecurity    5517 non-null   object\n",
      " 3   OnlineBackup      5517 non-null   object\n",
      " 4   DeviceProtection  5517 non-null   object\n",
      " 5   TechSupport       5517 non-null   object\n",
      " 6   StreamingTV       5517 non-null   object\n",
      " 7   StreamingMovies   5517 non-null   object\n",
      "dtypes: object(8)\n",
      "memory usage: 344.9+ KB\n"
     ]
    },
    {
     "data": {
      "text/html": [
       "<div>\n",
       "<style scoped>\n",
       "    .dataframe tbody tr th:only-of-type {\n",
       "        vertical-align: middle;\n",
       "    }\n",
       "\n",
       "    .dataframe tbody tr th {\n",
       "        vertical-align: top;\n",
       "    }\n",
       "\n",
       "    .dataframe thead th {\n",
       "        text-align: right;\n",
       "    }\n",
       "</style>\n",
       "<table border=\"1\" class=\"dataframe\">\n",
       "  <thead>\n",
       "    <tr style=\"text-align: right;\">\n",
       "      <th></th>\n",
       "      <th>customerID</th>\n",
       "      <th>InternetService</th>\n",
       "      <th>OnlineSecurity</th>\n",
       "      <th>OnlineBackup</th>\n",
       "      <th>DeviceProtection</th>\n",
       "      <th>TechSupport</th>\n",
       "      <th>StreamingTV</th>\n",
       "      <th>StreamingMovies</th>\n",
       "    </tr>\n",
       "  </thead>\n",
       "  <tbody>\n",
       "    <tr>\n",
       "      <th>0</th>\n",
       "      <td>7590-VHVEG</td>\n",
       "      <td>DSL</td>\n",
       "      <td>No</td>\n",
       "      <td>Yes</td>\n",
       "      <td>No</td>\n",
       "      <td>No</td>\n",
       "      <td>No</td>\n",
       "      <td>No</td>\n",
       "    </tr>\n",
       "    <tr>\n",
       "      <th>1</th>\n",
       "      <td>5575-GNVDE</td>\n",
       "      <td>DSL</td>\n",
       "      <td>Yes</td>\n",
       "      <td>No</td>\n",
       "      <td>Yes</td>\n",
       "      <td>No</td>\n",
       "      <td>No</td>\n",
       "      <td>No</td>\n",
       "    </tr>\n",
       "    <tr>\n",
       "      <th>2</th>\n",
       "      <td>3668-QPYBK</td>\n",
       "      <td>DSL</td>\n",
       "      <td>Yes</td>\n",
       "      <td>Yes</td>\n",
       "      <td>No</td>\n",
       "      <td>No</td>\n",
       "      <td>No</td>\n",
       "      <td>No</td>\n",
       "    </tr>\n",
       "    <tr>\n",
       "      <th>3</th>\n",
       "      <td>7795-CFOCW</td>\n",
       "      <td>DSL</td>\n",
       "      <td>Yes</td>\n",
       "      <td>No</td>\n",
       "      <td>Yes</td>\n",
       "      <td>Yes</td>\n",
       "      <td>No</td>\n",
       "      <td>No</td>\n",
       "    </tr>\n",
       "    <tr>\n",
       "      <th>4</th>\n",
       "      <td>9237-HQITU</td>\n",
       "      <td>Fiber optic</td>\n",
       "      <td>No</td>\n",
       "      <td>No</td>\n",
       "      <td>No</td>\n",
       "      <td>No</td>\n",
       "      <td>No</td>\n",
       "      <td>No</td>\n",
       "    </tr>\n",
       "  </tbody>\n",
       "</table>\n",
       "</div>"
      ],
      "text/plain": [
       "   customerID InternetService OnlineSecurity OnlineBackup DeviceProtection  \\\n",
       "0  7590-VHVEG             DSL             No          Yes               No   \n",
       "1  5575-GNVDE             DSL            Yes           No              Yes   \n",
       "2  3668-QPYBK             DSL            Yes          Yes               No   \n",
       "3  7795-CFOCW             DSL            Yes           No              Yes   \n",
       "4  9237-HQITU     Fiber optic             No           No               No   \n",
       "\n",
       "  TechSupport StreamingTV StreamingMovies  \n",
       "0          No          No              No  \n",
       "1          No          No              No  \n",
       "2          No          No              No  \n",
       "3         Yes          No              No  \n",
       "4          No          No              No  "
      ]
     },
     "execution_count": 8,
     "metadata": {},
     "output_type": "execute_result"
    }
   ],
   "source": [
    "internet.info()\n",
    "internet.head()"
   ]
  },
  {
   "cell_type": "code",
   "execution_count": 9,
   "id": "6e35b157",
   "metadata": {
    "scrolled": true
   },
   "outputs": [
    {
     "name": "stdout",
     "output_type": "stream",
     "text": [
      "<class 'pandas.core.frame.DataFrame'>\n",
      "RangeIndex: 6361 entries, 0 to 6360\n",
      "Data columns (total 2 columns):\n",
      " #   Column         Non-Null Count  Dtype \n",
      "---  ------         --------------  ----- \n",
      " 0   customerID     6361 non-null   object\n",
      " 1   MultipleLines  6361 non-null   object\n",
      "dtypes: object(2)\n",
      "memory usage: 99.5+ KB\n"
     ]
    },
    {
     "data": {
      "text/html": [
       "<div>\n",
       "<style scoped>\n",
       "    .dataframe tbody tr th:only-of-type {\n",
       "        vertical-align: middle;\n",
       "    }\n",
       "\n",
       "    .dataframe tbody tr th {\n",
       "        vertical-align: top;\n",
       "    }\n",
       "\n",
       "    .dataframe thead th {\n",
       "        text-align: right;\n",
       "    }\n",
       "</style>\n",
       "<table border=\"1\" class=\"dataframe\">\n",
       "  <thead>\n",
       "    <tr style=\"text-align: right;\">\n",
       "      <th></th>\n",
       "      <th>customerID</th>\n",
       "      <th>MultipleLines</th>\n",
       "    </tr>\n",
       "  </thead>\n",
       "  <tbody>\n",
       "    <tr>\n",
       "      <th>0</th>\n",
       "      <td>5575-GNVDE</td>\n",
       "      <td>No</td>\n",
       "    </tr>\n",
       "    <tr>\n",
       "      <th>1</th>\n",
       "      <td>3668-QPYBK</td>\n",
       "      <td>No</td>\n",
       "    </tr>\n",
       "    <tr>\n",
       "      <th>2</th>\n",
       "      <td>9237-HQITU</td>\n",
       "      <td>No</td>\n",
       "    </tr>\n",
       "    <tr>\n",
       "      <th>3</th>\n",
       "      <td>9305-CDSKC</td>\n",
       "      <td>Yes</td>\n",
       "    </tr>\n",
       "    <tr>\n",
       "      <th>4</th>\n",
       "      <td>1452-KIOVK</td>\n",
       "      <td>Yes</td>\n",
       "    </tr>\n",
       "  </tbody>\n",
       "</table>\n",
       "</div>"
      ],
      "text/plain": [
       "   customerID MultipleLines\n",
       "0  5575-GNVDE            No\n",
       "1  3668-QPYBK            No\n",
       "2  9237-HQITU            No\n",
       "3  9305-CDSKC           Yes\n",
       "4  1452-KIOVK           Yes"
      ]
     },
     "execution_count": 9,
     "metadata": {},
     "output_type": "execute_result"
    }
   ],
   "source": [
    "phone.info()\n",
    "phone.head()"
   ]
  },
  {
   "cell_type": "code",
   "execution_count": 10,
   "id": "11d27c26",
   "metadata": {},
   "outputs": [
    {
     "name": "stdout",
     "output_type": "stream",
     "text": [
      "False    7043\n",
      "dtype: int64\n",
      "False    7043\n",
      "dtype: int64\n",
      "False    5517\n",
      "dtype: int64\n",
      "False    6361\n",
      "dtype: int64\n"
     ]
    }
   ],
   "source": [
    "print(contract.duplicated().value_counts())\n",
    "print(personal.duplicated().value_counts())\n",
    "print(internet.duplicated().value_counts())\n",
    "print(phone.duplicated().value_counts())"
   ]
  },
  {
   "cell_type": "code",
   "execution_count": 11,
   "id": "147c4acb",
   "metadata": {},
   "outputs": [
    {
     "name": "stdout",
     "output_type": "stream",
     "text": [
      "False    7043\n",
      "Name: customerID, dtype: int64\n",
      "False    7043\n",
      "Name: customerID, dtype: int64\n",
      "False    5517\n",
      "Name: customerID, dtype: int64\n",
      "False    6361\n",
      "Name: customerID, dtype: int64\n"
     ]
    }
   ],
   "source": [
    "print(contract['customerID'].duplicated().value_counts())\n",
    "print(personal['customerID'].duplicated().value_counts())\n",
    "print(internet['customerID'].duplicated().value_counts())\n",
    "print(phone['customerID'].duplicated().value_counts())"
   ]
  },
  {
   "cell_type": "markdown",
   "id": "df46df89",
   "metadata": {},
   "source": [
    "Пропусков нет, дубликатов (полных и неполных в столбце customerID) тоже нет. Значит, у одного клиента может быть только один договор (все равно остается шанс, что ему присваевается новый ID при перезаключении договора). Перейдем к более подробному разбору датасетов."
   ]
  },
  {
   "cell_type": "markdown",
   "id": "5f961b18",
   "metadata": {},
   "source": [
    "## Анализ  данных"
   ]
  },
  {
   "cell_type": "markdown",
   "id": "5b48e4bb",
   "metadata": {},
   "source": [
    "У датафрейма contract неверный тип данных в некоторых столбцах, посмотрим почему."
   ]
  },
  {
   "cell_type": "code",
   "execution_count": 12,
   "id": "f2a85c7b",
   "metadata": {},
   "outputs": [
    {
     "data": {
      "text/plain": [
       "array(['2020-01-01', '2017-04-01', '2019-10-01', '2016-05-01',\n",
       "       '2019-09-01', '2019-03-01', '2018-04-01', '2019-04-01',\n",
       "       '2017-07-01', '2014-12-01', '2019-01-01', '2018-10-01',\n",
       "       '2015-04-01', '2015-09-01', '2018-01-01', '2014-05-01',\n",
       "       '2015-10-01', '2014-03-01', '2018-05-01', '2019-11-01',\n",
       "       '2019-02-01', '2016-01-01', '2017-08-01', '2015-12-01',\n",
       "       '2014-02-01', '2018-06-01', '2019-12-01', '2017-11-01',\n",
       "       '2019-06-01', '2016-04-01', '2017-02-01', '2018-12-01',\n",
       "       '2014-04-01', '2018-09-01', '2014-11-01', '2016-07-01',\n",
       "       '2015-02-01', '2018-07-01', '2014-08-01', '2016-03-01',\n",
       "       '2018-08-01', '2014-10-01', '2015-06-01', '2016-08-01',\n",
       "       '2019-05-01', '2017-03-01', '2016-02-01', '2017-09-01',\n",
       "       '2014-09-01', '2017-12-01', '2016-12-01', '2017-06-01',\n",
       "       '2015-05-01', '2016-10-01', '2016-09-01', '2019-08-01',\n",
       "       '2019-07-01', '2017-05-01', '2017-10-01', '2014-07-01',\n",
       "       '2018-03-01', '2015-01-01', '2018-11-01', '2015-03-01',\n",
       "       '2018-02-01', '2016-06-01', '2015-08-01', '2015-11-01',\n",
       "       '2014-06-01', '2017-01-01', '2015-07-01', '2020-02-01',\n",
       "       '2016-11-01', '2013-11-01', '2014-01-01', '2013-10-01',\n",
       "       '2013-12-01'], dtype=object)"
      ]
     },
     "execution_count": 12,
     "metadata": {},
     "output_type": "execute_result"
    }
   ],
   "source": [
    "contract['BeginDate'].unique()"
   ]
  },
  {
   "cell_type": "code",
   "execution_count": 13,
   "id": "ffcf9dc7",
   "metadata": {},
   "outputs": [
    {
     "data": {
      "text/plain": [
       "array(['No', '2017-05-01', '2016-03-01', '2018-09-01', '2018-11-01',\n",
       "       '2018-12-01', '2019-08-01', '2018-07-01', '2017-09-01',\n",
       "       '2015-09-01', '2016-07-01', '2016-06-01', '2018-03-01',\n",
       "       '2019-02-01', '2018-06-01', '2019-06-01', '2020-01-01',\n",
       "       '2019-11-01', '2016-09-01', '2015-06-01', '2016-12-01',\n",
       "       '2019-05-01', '2019-04-01', '2017-06-01', '2017-08-01',\n",
       "       '2018-04-01', '2018-08-01', '2018-02-01', '2019-07-01',\n",
       "       '2015-12-01', '2014-06-01', '2018-10-01', '2019-01-01',\n",
       "       '2017-07-01', '2017-12-01', '2018-05-01', '2015-11-01',\n",
       "       '2019-10-01', '2019-03-01', '2016-02-01', '2016-10-01',\n",
       "       '2018-01-01', '2017-11-01', '2015-10-01', '2019-12-01',\n",
       "       '2015-07-01', '2017-04-01', '2015-02-01', '2017-03-01',\n",
       "       '2016-05-01', '2016-11-01', '2015-08-01', '2019-09-01',\n",
       "       '2017-10-01', '2017-02-01', '2016-08-01', '2016-04-01',\n",
       "       '2015-05-01', '2014-09-01', '2014-10-01', '2017-01-01',\n",
       "       '2015-03-01', '2015-01-01', '2016-01-01', '2015-04-01',\n",
       "       '2014-12-01', '2014-11-01'], dtype=object)"
      ]
     },
     "execution_count": 13,
     "metadata": {},
     "output_type": "execute_result"
    }
   ],
   "source": [
    "contract['EndDate'].unique()"
   ]
  },
  {
   "cell_type": "markdown",
   "id": "3ddb6171",
   "metadata": {},
   "source": [
    "Проблем нет, можно перевести значения в datetime (кроме \"No\" в EndDate, но нам так и надо)."
   ]
  },
  {
   "cell_type": "code",
   "execution_count": 14,
   "id": "6e411e2f",
   "metadata": {},
   "outputs": [
    {
     "data": {
      "text/html": [
       "<div>\n",
       "<style scoped>\n",
       "    .dataframe tbody tr th:only-of-type {\n",
       "        vertical-align: middle;\n",
       "    }\n",
       "\n",
       "    .dataframe tbody tr th {\n",
       "        vertical-align: top;\n",
       "    }\n",
       "\n",
       "    .dataframe thead th {\n",
       "        text-align: right;\n",
       "    }\n",
       "</style>\n",
       "<table border=\"1\" class=\"dataframe\">\n",
       "  <thead>\n",
       "    <tr style=\"text-align: right;\">\n",
       "      <th></th>\n",
       "      <th>customerID</th>\n",
       "      <th>BeginDate</th>\n",
       "      <th>EndDate</th>\n",
       "      <th>Type</th>\n",
       "      <th>PaperlessBilling</th>\n",
       "      <th>PaymentMethod</th>\n",
       "      <th>MonthlyCharges</th>\n",
       "      <th>TotalCharges</th>\n",
       "      <th>TotalCharges2</th>\n",
       "    </tr>\n",
       "  </thead>\n",
       "  <tbody>\n",
       "    <tr>\n",
       "      <th>488</th>\n",
       "      <td>4472-LVYGI</td>\n",
       "      <td>2020-02-01</td>\n",
       "      <td>No</td>\n",
       "      <td>Two year</td>\n",
       "      <td>Yes</td>\n",
       "      <td>Bank transfer (automatic)</td>\n",
       "      <td>52.55</td>\n",
       "      <td></td>\n",
       "      <td>NaN</td>\n",
       "    </tr>\n",
       "    <tr>\n",
       "      <th>753</th>\n",
       "      <td>3115-CZMZD</td>\n",
       "      <td>2020-02-01</td>\n",
       "      <td>No</td>\n",
       "      <td>Two year</td>\n",
       "      <td>No</td>\n",
       "      <td>Mailed check</td>\n",
       "      <td>20.25</td>\n",
       "      <td></td>\n",
       "      <td>NaN</td>\n",
       "    </tr>\n",
       "    <tr>\n",
       "      <th>936</th>\n",
       "      <td>5709-LVOEQ</td>\n",
       "      <td>2020-02-01</td>\n",
       "      <td>No</td>\n",
       "      <td>Two year</td>\n",
       "      <td>No</td>\n",
       "      <td>Mailed check</td>\n",
       "      <td>80.85</td>\n",
       "      <td></td>\n",
       "      <td>NaN</td>\n",
       "    </tr>\n",
       "    <tr>\n",
       "      <th>1082</th>\n",
       "      <td>4367-NUYAO</td>\n",
       "      <td>2020-02-01</td>\n",
       "      <td>No</td>\n",
       "      <td>Two year</td>\n",
       "      <td>No</td>\n",
       "      <td>Mailed check</td>\n",
       "      <td>25.75</td>\n",
       "      <td></td>\n",
       "      <td>NaN</td>\n",
       "    </tr>\n",
       "    <tr>\n",
       "      <th>1340</th>\n",
       "      <td>1371-DWPAZ</td>\n",
       "      <td>2020-02-01</td>\n",
       "      <td>No</td>\n",
       "      <td>Two year</td>\n",
       "      <td>No</td>\n",
       "      <td>Credit card (automatic)</td>\n",
       "      <td>56.05</td>\n",
       "      <td></td>\n",
       "      <td>NaN</td>\n",
       "    </tr>\n",
       "    <tr>\n",
       "      <th>3331</th>\n",
       "      <td>7644-OMVMY</td>\n",
       "      <td>2020-02-01</td>\n",
       "      <td>No</td>\n",
       "      <td>Two year</td>\n",
       "      <td>No</td>\n",
       "      <td>Mailed check</td>\n",
       "      <td>19.85</td>\n",
       "      <td></td>\n",
       "      <td>NaN</td>\n",
       "    </tr>\n",
       "    <tr>\n",
       "      <th>3826</th>\n",
       "      <td>3213-VVOLG</td>\n",
       "      <td>2020-02-01</td>\n",
       "      <td>No</td>\n",
       "      <td>Two year</td>\n",
       "      <td>No</td>\n",
       "      <td>Mailed check</td>\n",
       "      <td>25.35</td>\n",
       "      <td></td>\n",
       "      <td>NaN</td>\n",
       "    </tr>\n",
       "    <tr>\n",
       "      <th>4380</th>\n",
       "      <td>2520-SGTTA</td>\n",
       "      <td>2020-02-01</td>\n",
       "      <td>No</td>\n",
       "      <td>Two year</td>\n",
       "      <td>No</td>\n",
       "      <td>Mailed check</td>\n",
       "      <td>20.00</td>\n",
       "      <td></td>\n",
       "      <td>NaN</td>\n",
       "    </tr>\n",
       "    <tr>\n",
       "      <th>5218</th>\n",
       "      <td>2923-ARZLG</td>\n",
       "      <td>2020-02-01</td>\n",
       "      <td>No</td>\n",
       "      <td>One year</td>\n",
       "      <td>Yes</td>\n",
       "      <td>Mailed check</td>\n",
       "      <td>19.70</td>\n",
       "      <td></td>\n",
       "      <td>NaN</td>\n",
       "    </tr>\n",
       "    <tr>\n",
       "      <th>6670</th>\n",
       "      <td>4075-WKNIU</td>\n",
       "      <td>2020-02-01</td>\n",
       "      <td>No</td>\n",
       "      <td>Two year</td>\n",
       "      <td>No</td>\n",
       "      <td>Mailed check</td>\n",
       "      <td>73.35</td>\n",
       "      <td></td>\n",
       "      <td>NaN</td>\n",
       "    </tr>\n",
       "    <tr>\n",
       "      <th>6754</th>\n",
       "      <td>2775-SEFEE</td>\n",
       "      <td>2020-02-01</td>\n",
       "      <td>No</td>\n",
       "      <td>Two year</td>\n",
       "      <td>Yes</td>\n",
       "      <td>Bank transfer (automatic)</td>\n",
       "      <td>61.90</td>\n",
       "      <td></td>\n",
       "      <td>NaN</td>\n",
       "    </tr>\n",
       "  </tbody>\n",
       "</table>\n",
       "</div>"
      ],
      "text/plain": [
       "      customerID   BeginDate EndDate      Type PaperlessBilling  \\\n",
       "488   4472-LVYGI  2020-02-01      No  Two year              Yes   \n",
       "753   3115-CZMZD  2020-02-01      No  Two year               No   \n",
       "936   5709-LVOEQ  2020-02-01      No  Two year               No   \n",
       "1082  4367-NUYAO  2020-02-01      No  Two year               No   \n",
       "1340  1371-DWPAZ  2020-02-01      No  Two year               No   \n",
       "3331  7644-OMVMY  2020-02-01      No  Two year               No   \n",
       "3826  3213-VVOLG  2020-02-01      No  Two year               No   \n",
       "4380  2520-SGTTA  2020-02-01      No  Two year               No   \n",
       "5218  2923-ARZLG  2020-02-01      No  One year              Yes   \n",
       "6670  4075-WKNIU  2020-02-01      No  Two year               No   \n",
       "6754  2775-SEFEE  2020-02-01      No  Two year              Yes   \n",
       "\n",
       "                  PaymentMethod  MonthlyCharges TotalCharges  TotalCharges2  \n",
       "488   Bank transfer (automatic)           52.55                         NaN  \n",
       "753                Mailed check           20.25                         NaN  \n",
       "936                Mailed check           80.85                         NaN  \n",
       "1082               Mailed check           25.75                         NaN  \n",
       "1340    Credit card (automatic)           56.05                         NaN  \n",
       "3331               Mailed check           19.85                         NaN  \n",
       "3826               Mailed check           25.35                         NaN  \n",
       "4380               Mailed check           20.00                         NaN  \n",
       "5218               Mailed check           19.70                         NaN  \n",
       "6670               Mailed check           73.35                         NaN  \n",
       "6754  Bank transfer (automatic)           61.90                         NaN  "
      ]
     },
     "execution_count": 14,
     "metadata": {},
     "output_type": "execute_result"
    }
   ],
   "source": [
    "contract['TotalCharges2']=pd.to_numeric(contract['TotalCharges'],errors='coerce')\n",
    "contract[contract['TotalCharges2'].isna()]"
   ]
  },
  {
   "cell_type": "markdown",
   "id": "a75cf8a8",
   "metadata": {},
   "source": [
    "Проблема в клиентах, которые заключили контракт в день выгрузки данных. Похоже, с них еще не была списана плата. Стоит ли их удалять или нет зависит от того, будем ли мы использовать признак TotalCharges при обучении модели. Посмотрим на остальные столбцы."
   ]
  },
  {
   "cell_type": "code",
   "execution_count": 15,
   "id": "c0a41743",
   "metadata": {},
   "outputs": [
    {
     "data": {
      "text/plain": [
       "array(['Month-to-month', 'One year', 'Two year'], dtype=object)"
      ]
     },
     "execution_count": 15,
     "metadata": {},
     "output_type": "execute_result"
    }
   ],
   "source": [
    "contract['Type'].unique()"
   ]
  },
  {
   "cell_type": "code",
   "execution_count": 16,
   "id": "bf027dd1",
   "metadata": {},
   "outputs": [
    {
     "data": {
      "text/plain": [
       "array(['Yes', 'No'], dtype=object)"
      ]
     },
     "execution_count": 16,
     "metadata": {},
     "output_type": "execute_result"
    }
   ],
   "source": [
    "contract['PaperlessBilling'].unique()"
   ]
  },
  {
   "cell_type": "code",
   "execution_count": 17,
   "id": "0a8680f5",
   "metadata": {},
   "outputs": [
    {
     "data": {
      "text/plain": [
       "array(['Electronic check', 'Mailed check', 'Bank transfer (automatic)',\n",
       "       'Credit card (automatic)'], dtype=object)"
      ]
     },
     "execution_count": 17,
     "metadata": {},
     "output_type": "execute_result"
    }
   ],
   "source": [
    "contract['PaymentMethod'].unique()"
   ]
  },
  {
   "cell_type": "markdown",
   "id": "4c20c4eb",
   "metadata": {},
   "source": [
    "Странных значений нет, перейдем к остальным датафреймам."
   ]
  },
  {
   "cell_type": "code",
   "execution_count": 18,
   "id": "acfac9f9",
   "metadata": {},
   "outputs": [
    {
     "name": "stdout",
     "output_type": "stream",
     "text": [
      "['7590-VHVEG' '5575-GNVDE' '3668-QPYBK' ... '4801-JZAZL' '8361-LTMKD'\n",
      " '3186-AJIEK']\n",
      "['Female' 'Male']\n",
      "[0 1]\n",
      "['Yes' 'No']\n",
      "['No' 'Yes']\n"
     ]
    }
   ],
   "source": [
    "for i in personal.columns:\n",
    "    print(personal[i].unique())"
   ]
  },
  {
   "cell_type": "code",
   "execution_count": 19,
   "id": "62a745bc",
   "metadata": {},
   "outputs": [
    {
     "name": "stdout",
     "output_type": "stream",
     "text": [
      "['7590-VHVEG' '5575-GNVDE' '3668-QPYBK' ... '4801-JZAZL' '8361-LTMKD'\n",
      " '3186-AJIEK']\n",
      "['DSL' 'Fiber optic']\n",
      "['No' 'Yes']\n",
      "['Yes' 'No']\n",
      "['No' 'Yes']\n",
      "['No' 'Yes']\n",
      "['No' 'Yes']\n",
      "['No' 'Yes']\n"
     ]
    }
   ],
   "source": [
    "for i in internet.columns:\n",
    "    print(internet[i].unique())"
   ]
  },
  {
   "cell_type": "code",
   "execution_count": 20,
   "id": "02b3ebd9",
   "metadata": {},
   "outputs": [
    {
     "name": "stdout",
     "output_type": "stream",
     "text": [
      "['5575-GNVDE' '3668-QPYBK' '9237-HQITU' ... '2234-XADUH' '8361-LTMKD'\n",
      " '3186-AJIEK']\n",
      "['No' 'Yes']\n"
     ]
    }
   ],
   "source": [
    "for i in phone.columns:\n",
    "    print(phone[i].unique())"
   ]
  },
  {
   "cell_type": "markdown",
   "id": "aeb6f8da",
   "metadata": {},
   "source": [
    "Больше странных значений нет. Можно переходить к уточняющим вопросам и составлению плана."
   ]
  },
  {
   "cell_type": "markdown",
   "id": "1576c2f3",
   "metadata": {},
   "source": [
    "## План решения задачи"
   ]
  },
  {
   "cell_type": "markdown",
   "id": "da05216f",
   "metadata": {},
   "source": [
    "1. Финальная предобработка.<br>\n",
    "    2.1.  Сведение всех данных в общий датасет, где CustomerId выступает ключом.<br>\n",
    "    2.2. Приведение столбцов к необходимым типам данных.<br>\n",
    "    2.3. Подготовка признаков (OrdinalEncoding для нечисловых признаков).<br>\n",
    "    2.4.  Создание новых признаков (время с компанией в днях, наличие интернета, наличие телефонной линии), удаление лишних признаков.<br>\n",
    "    2.5. Выделение обучающей и тестовой выборки.<br>\n",
    "2. Исследовательский анализ данных.\n",
    "3. Обучение нескольких моделей классификации (собирается уходить Да/Нет) на полученных признаках. Предварительный список необходимых признаков:\n",
    "- время с компанией, колонки Type, MonthlyCharges\n",
    "- все признаки из personal\n",
    "- все признаки из internet + признак наличия интернета\n",
    "- все признаки из phone + признак наличия телефонной линии\n",
    "\n",
    "Предполагается использовать следующие модели:\n",
    "- sklearn.linear_model.LogisticRegression\n",
    "- sklearn.ensemble.RandomForestClassifier\n",
    "- CatBoost\n",
    "4. Проверка лучшей модели (целевая метрика - roc_auc, доп. метрика - accuracy) на тестовой выборке."
   ]
  },
  {
   "cell_type": "markdown",
   "id": "ef54e7ef",
   "metadata": {},
   "source": [
    "## Предобработка данных"
   ]
  },
  {
   "cell_type": "markdown",
   "id": "668e5434",
   "metadata": {},
   "source": [
    "### Создание общего датасета"
   ]
  },
  {
   "cell_type": "markdown",
   "id": "1207fd7c",
   "metadata": {},
   "source": [
    "Соберем все данные в общий датафрейм, логично будет все присоединить на датафрейм с договорами, стоит проверить все ли CustomerID туда попали."
   ]
  },
  {
   "cell_type": "code",
   "execution_count": 21,
   "id": "e29f0295",
   "metadata": {},
   "outputs": [],
   "source": [
    "for i in personal['customerID']:\n",
    "    if i not in contract['customerID'].values:\n",
    "        print(i)"
   ]
  },
  {
   "cell_type": "code",
   "execution_count": 22,
   "id": "1d0a8a66",
   "metadata": {},
   "outputs": [],
   "source": [
    "for i in internet['customerID']:\n",
    "    if i not in contract['customerID'].values:\n",
    "        print(i)"
   ]
  },
  {
   "cell_type": "code",
   "execution_count": 23,
   "id": "1c2c4a02",
   "metadata": {},
   "outputs": [],
   "source": [
    "for i in phone['customerID']:\n",
    "    if i not in contract['customerID'].values:\n",
    "        print(i)"
   ]
  },
  {
   "cell_type": "code",
   "execution_count": 24,
   "id": "a2b98b17",
   "metadata": {},
   "outputs": [
    {
     "name": "stdout",
     "output_type": "stream",
     "text": [
      "<class 'pandas.core.frame.DataFrame'>\n",
      "Int64Index: 7043 entries, 0 to 7042\n",
      "Data columns (total 21 columns):\n",
      " #   Column            Non-Null Count  Dtype  \n",
      "---  ------            --------------  -----  \n",
      " 0   customerID        7043 non-null   object \n",
      " 1   BeginDate         7043 non-null   object \n",
      " 2   EndDate           7043 non-null   object \n",
      " 3   Type              7043 non-null   object \n",
      " 4   PaperlessBilling  7043 non-null   object \n",
      " 5   PaymentMethod     7043 non-null   object \n",
      " 6   MonthlyCharges    7043 non-null   float64\n",
      " 7   TotalCharges      7043 non-null   object \n",
      " 8   TotalCharges2     7032 non-null   float64\n",
      " 9   gender            7043 non-null   object \n",
      " 10  SeniorCitizen     7043 non-null   int64  \n",
      " 11  Partner           7043 non-null   object \n",
      " 12  Dependents        7043 non-null   object \n",
      " 13  InternetService   5517 non-null   object \n",
      " 14  OnlineSecurity    5517 non-null   object \n",
      " 15  OnlineBackup      5517 non-null   object \n",
      " 16  DeviceProtection  5517 non-null   object \n",
      " 17  TechSupport       5517 non-null   object \n",
      " 18  StreamingTV       5517 non-null   object \n",
      " 19  StreamingMovies   5517 non-null   object \n",
      " 20  MultipleLines     6361 non-null   object \n",
      "dtypes: float64(2), int64(1), object(18)\n",
      "memory usage: 1.2+ MB\n"
     ]
    }
   ],
   "source": [
    "df = pd.merge(contract, personal, on='customerID', how='left')\n",
    "df = pd.merge(df, internet, on='customerID', how='left')\n",
    "df = pd.merge(df, phone, on='customerID', how='left')\n",
    "df.info()"
   ]
  },
  {
   "cell_type": "markdown",
   "id": "ba8e0e60",
   "metadata": {},
   "source": [
    "### Приведение столбцов к нужным типам данных"
   ]
  },
  {
   "cell_type": "markdown",
   "id": "bdf9ee24",
   "metadata": {},
   "source": [
    "Общий датасет готов, приведем признаки к нужным типам данных."
   ]
  },
  {
   "cell_type": "code",
   "execution_count": 25,
   "id": "c3abc45a",
   "metadata": {},
   "outputs": [],
   "source": [
    "df['BeginDate'] = pd.to_datetime(df['BeginDate'], format='%Y-%m-%d')\n",
    "df['EndDate'] = pd.to_datetime(df['EndDate'], format='%Y-%m-%d', errors='coerce')"
   ]
  },
  {
   "cell_type": "markdown",
   "id": "a5962cf1",
   "metadata": {},
   "source": [
    "### Заполнение пропусков в признаках"
   ]
  },
  {
   "cell_type": "markdown",
   "id": "403f1103",
   "metadata": {},
   "source": [
    "Перед кодированием легче заполнить пропуски в некоторых признаках."
   ]
  },
  {
   "cell_type": "code",
   "execution_count": 26,
   "id": "a18fe5bf",
   "metadata": {},
   "outputs": [],
   "source": [
    "#получаю список колонок, которые нужно заполнить\n",
    "columns_to_fill = ['EndDate','InternetService','OnlineSecurity','OnlineBackup','DeviceProtection',\n",
    "                   'TechSupport','StreamingTV','StreamingMovies']"
   ]
  },
  {
   "cell_type": "code",
   "execution_count": 27,
   "id": "07ba1a36",
   "metadata": {},
   "outputs": [],
   "source": [
    "df['MultipleLines'] = df['MultipleLines'].fillna('No phone')"
   ]
  },
  {
   "cell_type": "code",
   "execution_count": 28,
   "id": "f774187d",
   "metadata": {},
   "outputs": [],
   "source": [
    "df[columns_to_fill] = df[columns_to_fill].fillna('No')"
   ]
  },
  {
   "cell_type": "code",
   "execution_count": 29,
   "id": "2d74e7c6",
   "metadata": {},
   "outputs": [
    {
     "data": {
      "text/html": [
       "<div>\n",
       "<style scoped>\n",
       "    .dataframe tbody tr th:only-of-type {\n",
       "        vertical-align: middle;\n",
       "    }\n",
       "\n",
       "    .dataframe tbody tr th {\n",
       "        vertical-align: top;\n",
       "    }\n",
       "\n",
       "    .dataframe thead th {\n",
       "        text-align: right;\n",
       "    }\n",
       "</style>\n",
       "<table border=\"1\" class=\"dataframe\">\n",
       "  <thead>\n",
       "    <tr style=\"text-align: right;\">\n",
       "      <th></th>\n",
       "      <th>BeginDate</th>\n",
       "      <th>EndDate</th>\n",
       "      <th>Type</th>\n",
       "      <th>PaperlessBilling</th>\n",
       "      <th>PaymentMethod</th>\n",
       "      <th>MonthlyCharges</th>\n",
       "      <th>TotalCharges</th>\n",
       "      <th>TotalCharges2</th>\n",
       "      <th>gender</th>\n",
       "      <th>SeniorCitizen</th>\n",
       "      <th>Partner</th>\n",
       "      <th>Dependents</th>\n",
       "      <th>InternetService</th>\n",
       "      <th>OnlineSecurity</th>\n",
       "      <th>OnlineBackup</th>\n",
       "      <th>DeviceProtection</th>\n",
       "      <th>TechSupport</th>\n",
       "      <th>StreamingTV</th>\n",
       "      <th>StreamingMovies</th>\n",
       "      <th>MultipleLines</th>\n",
       "    </tr>\n",
       "    <tr>\n",
       "      <th>customerID</th>\n",
       "      <th></th>\n",
       "      <th></th>\n",
       "      <th></th>\n",
       "      <th></th>\n",
       "      <th></th>\n",
       "      <th></th>\n",
       "      <th></th>\n",
       "      <th></th>\n",
       "      <th></th>\n",
       "      <th></th>\n",
       "      <th></th>\n",
       "      <th></th>\n",
       "      <th></th>\n",
       "      <th></th>\n",
       "      <th></th>\n",
       "      <th></th>\n",
       "      <th></th>\n",
       "      <th></th>\n",
       "      <th></th>\n",
       "      <th></th>\n",
       "    </tr>\n",
       "  </thead>\n",
       "  <tbody>\n",
       "    <tr>\n",
       "      <th>7590-VHVEG</th>\n",
       "      <td>2020-01-01</td>\n",
       "      <td>No</td>\n",
       "      <td>Month-to-month</td>\n",
       "      <td>Yes</td>\n",
       "      <td>Electronic check</td>\n",
       "      <td>29.85</td>\n",
       "      <td>31.04</td>\n",
       "      <td>31.04</td>\n",
       "      <td>Female</td>\n",
       "      <td>0</td>\n",
       "      <td>Yes</td>\n",
       "      <td>No</td>\n",
       "      <td>DSL</td>\n",
       "      <td>No</td>\n",
       "      <td>Yes</td>\n",
       "      <td>No</td>\n",
       "      <td>No</td>\n",
       "      <td>No</td>\n",
       "      <td>No</td>\n",
       "      <td>No phone</td>\n",
       "    </tr>\n",
       "    <tr>\n",
       "      <th>5575-GNVDE</th>\n",
       "      <td>2017-04-01</td>\n",
       "      <td>No</td>\n",
       "      <td>One year</td>\n",
       "      <td>No</td>\n",
       "      <td>Mailed check</td>\n",
       "      <td>56.95</td>\n",
       "      <td>2071.84</td>\n",
       "      <td>2071.84</td>\n",
       "      <td>Male</td>\n",
       "      <td>0</td>\n",
       "      <td>No</td>\n",
       "      <td>No</td>\n",
       "      <td>DSL</td>\n",
       "      <td>Yes</td>\n",
       "      <td>No</td>\n",
       "      <td>Yes</td>\n",
       "      <td>No</td>\n",
       "      <td>No</td>\n",
       "      <td>No</td>\n",
       "      <td>No</td>\n",
       "    </tr>\n",
       "    <tr>\n",
       "      <th>3668-QPYBK</th>\n",
       "      <td>2019-10-01</td>\n",
       "      <td>No</td>\n",
       "      <td>Month-to-month</td>\n",
       "      <td>Yes</td>\n",
       "      <td>Mailed check</td>\n",
       "      <td>53.85</td>\n",
       "      <td>226.17</td>\n",
       "      <td>226.17</td>\n",
       "      <td>Male</td>\n",
       "      <td>0</td>\n",
       "      <td>No</td>\n",
       "      <td>No</td>\n",
       "      <td>DSL</td>\n",
       "      <td>Yes</td>\n",
       "      <td>Yes</td>\n",
       "      <td>No</td>\n",
       "      <td>No</td>\n",
       "      <td>No</td>\n",
       "      <td>No</td>\n",
       "      <td>No</td>\n",
       "    </tr>\n",
       "    <tr>\n",
       "      <th>7795-CFOCW</th>\n",
       "      <td>2016-05-01</td>\n",
       "      <td>No</td>\n",
       "      <td>One year</td>\n",
       "      <td>No</td>\n",
       "      <td>Bank transfer (automatic)</td>\n",
       "      <td>42.30</td>\n",
       "      <td>1960.6</td>\n",
       "      <td>1960.60</td>\n",
       "      <td>Male</td>\n",
       "      <td>0</td>\n",
       "      <td>No</td>\n",
       "      <td>No</td>\n",
       "      <td>DSL</td>\n",
       "      <td>Yes</td>\n",
       "      <td>No</td>\n",
       "      <td>Yes</td>\n",
       "      <td>Yes</td>\n",
       "      <td>No</td>\n",
       "      <td>No</td>\n",
       "      <td>No phone</td>\n",
       "    </tr>\n",
       "    <tr>\n",
       "      <th>9237-HQITU</th>\n",
       "      <td>2019-09-01</td>\n",
       "      <td>No</td>\n",
       "      <td>Month-to-month</td>\n",
       "      <td>Yes</td>\n",
       "      <td>Electronic check</td>\n",
       "      <td>70.70</td>\n",
       "      <td>353.5</td>\n",
       "      <td>353.50</td>\n",
       "      <td>Female</td>\n",
       "      <td>0</td>\n",
       "      <td>No</td>\n",
       "      <td>No</td>\n",
       "      <td>Fiber optic</td>\n",
       "      <td>No</td>\n",
       "      <td>No</td>\n",
       "      <td>No</td>\n",
       "      <td>No</td>\n",
       "      <td>No</td>\n",
       "      <td>No</td>\n",
       "      <td>No</td>\n",
       "    </tr>\n",
       "    <tr>\n",
       "      <th>...</th>\n",
       "      <td>...</td>\n",
       "      <td>...</td>\n",
       "      <td>...</td>\n",
       "      <td>...</td>\n",
       "      <td>...</td>\n",
       "      <td>...</td>\n",
       "      <td>...</td>\n",
       "      <td>...</td>\n",
       "      <td>...</td>\n",
       "      <td>...</td>\n",
       "      <td>...</td>\n",
       "      <td>...</td>\n",
       "      <td>...</td>\n",
       "      <td>...</td>\n",
       "      <td>...</td>\n",
       "      <td>...</td>\n",
       "      <td>...</td>\n",
       "      <td>...</td>\n",
       "      <td>...</td>\n",
       "      <td>...</td>\n",
       "    </tr>\n",
       "    <tr>\n",
       "      <th>6840-RESVB</th>\n",
       "      <td>2018-02-01</td>\n",
       "      <td>No</td>\n",
       "      <td>One year</td>\n",
       "      <td>Yes</td>\n",
       "      <td>Mailed check</td>\n",
       "      <td>84.80</td>\n",
       "      <td>2035.2</td>\n",
       "      <td>2035.20</td>\n",
       "      <td>Male</td>\n",
       "      <td>0</td>\n",
       "      <td>Yes</td>\n",
       "      <td>Yes</td>\n",
       "      <td>DSL</td>\n",
       "      <td>Yes</td>\n",
       "      <td>No</td>\n",
       "      <td>Yes</td>\n",
       "      <td>Yes</td>\n",
       "      <td>Yes</td>\n",
       "      <td>Yes</td>\n",
       "      <td>Yes</td>\n",
       "    </tr>\n",
       "    <tr>\n",
       "      <th>2234-XADUH</th>\n",
       "      <td>2014-02-01</td>\n",
       "      <td>No</td>\n",
       "      <td>One year</td>\n",
       "      <td>Yes</td>\n",
       "      <td>Credit card (automatic)</td>\n",
       "      <td>103.20</td>\n",
       "      <td>7430.4</td>\n",
       "      <td>7430.40</td>\n",
       "      <td>Female</td>\n",
       "      <td>0</td>\n",
       "      <td>Yes</td>\n",
       "      <td>Yes</td>\n",
       "      <td>Fiber optic</td>\n",
       "      <td>No</td>\n",
       "      <td>Yes</td>\n",
       "      <td>Yes</td>\n",
       "      <td>No</td>\n",
       "      <td>Yes</td>\n",
       "      <td>Yes</td>\n",
       "      <td>Yes</td>\n",
       "    </tr>\n",
       "    <tr>\n",
       "      <th>4801-JZAZL</th>\n",
       "      <td>2019-03-01</td>\n",
       "      <td>No</td>\n",
       "      <td>Month-to-month</td>\n",
       "      <td>Yes</td>\n",
       "      <td>Electronic check</td>\n",
       "      <td>29.60</td>\n",
       "      <td>325.6</td>\n",
       "      <td>325.60</td>\n",
       "      <td>Female</td>\n",
       "      <td>0</td>\n",
       "      <td>Yes</td>\n",
       "      <td>Yes</td>\n",
       "      <td>DSL</td>\n",
       "      <td>Yes</td>\n",
       "      <td>No</td>\n",
       "      <td>No</td>\n",
       "      <td>No</td>\n",
       "      <td>No</td>\n",
       "      <td>No</td>\n",
       "      <td>No phone</td>\n",
       "    </tr>\n",
       "    <tr>\n",
       "      <th>8361-LTMKD</th>\n",
       "      <td>2019-07-01</td>\n",
       "      <td>No</td>\n",
       "      <td>Month-to-month</td>\n",
       "      <td>Yes</td>\n",
       "      <td>Mailed check</td>\n",
       "      <td>74.40</td>\n",
       "      <td>520.8</td>\n",
       "      <td>520.80</td>\n",
       "      <td>Male</td>\n",
       "      <td>1</td>\n",
       "      <td>Yes</td>\n",
       "      <td>No</td>\n",
       "      <td>Fiber optic</td>\n",
       "      <td>No</td>\n",
       "      <td>No</td>\n",
       "      <td>No</td>\n",
       "      <td>No</td>\n",
       "      <td>No</td>\n",
       "      <td>No</td>\n",
       "      <td>Yes</td>\n",
       "    </tr>\n",
       "    <tr>\n",
       "      <th>3186-AJIEK</th>\n",
       "      <td>2014-08-01</td>\n",
       "      <td>No</td>\n",
       "      <td>Two year</td>\n",
       "      <td>Yes</td>\n",
       "      <td>Bank transfer (automatic)</td>\n",
       "      <td>105.65</td>\n",
       "      <td>7251.82</td>\n",
       "      <td>7251.82</td>\n",
       "      <td>Male</td>\n",
       "      <td>0</td>\n",
       "      <td>No</td>\n",
       "      <td>No</td>\n",
       "      <td>Fiber optic</td>\n",
       "      <td>Yes</td>\n",
       "      <td>No</td>\n",
       "      <td>Yes</td>\n",
       "      <td>Yes</td>\n",
       "      <td>Yes</td>\n",
       "      <td>Yes</td>\n",
       "      <td>No</td>\n",
       "    </tr>\n",
       "  </tbody>\n",
       "</table>\n",
       "<p>7043 rows × 20 columns</p>\n",
       "</div>"
      ],
      "text/plain": [
       "            BeginDate EndDate            Type PaperlessBilling  \\\n",
       "customerID                                                       \n",
       "7590-VHVEG 2020-01-01      No  Month-to-month              Yes   \n",
       "5575-GNVDE 2017-04-01      No        One year               No   \n",
       "3668-QPYBK 2019-10-01      No  Month-to-month              Yes   \n",
       "7795-CFOCW 2016-05-01      No        One year               No   \n",
       "9237-HQITU 2019-09-01      No  Month-to-month              Yes   \n",
       "...               ...     ...             ...              ...   \n",
       "6840-RESVB 2018-02-01      No        One year              Yes   \n",
       "2234-XADUH 2014-02-01      No        One year              Yes   \n",
       "4801-JZAZL 2019-03-01      No  Month-to-month              Yes   \n",
       "8361-LTMKD 2019-07-01      No  Month-to-month              Yes   \n",
       "3186-AJIEK 2014-08-01      No        Two year              Yes   \n",
       "\n",
       "                        PaymentMethod  MonthlyCharges TotalCharges  \\\n",
       "customerID                                                           \n",
       "7590-VHVEG           Electronic check           29.85        31.04   \n",
       "5575-GNVDE               Mailed check           56.95      2071.84   \n",
       "3668-QPYBK               Mailed check           53.85       226.17   \n",
       "7795-CFOCW  Bank transfer (automatic)           42.30       1960.6   \n",
       "9237-HQITU           Electronic check           70.70        353.5   \n",
       "...                               ...             ...          ...   \n",
       "6840-RESVB               Mailed check           84.80       2035.2   \n",
       "2234-XADUH    Credit card (automatic)          103.20       7430.4   \n",
       "4801-JZAZL           Electronic check           29.60        325.6   \n",
       "8361-LTMKD               Mailed check           74.40        520.8   \n",
       "3186-AJIEK  Bank transfer (automatic)          105.65      7251.82   \n",
       "\n",
       "            TotalCharges2  gender  SeniorCitizen Partner Dependents  \\\n",
       "customerID                                                            \n",
       "7590-VHVEG          31.04  Female              0     Yes         No   \n",
       "5575-GNVDE        2071.84    Male              0      No         No   \n",
       "3668-QPYBK         226.17    Male              0      No         No   \n",
       "7795-CFOCW        1960.60    Male              0      No         No   \n",
       "9237-HQITU         353.50  Female              0      No         No   \n",
       "...                   ...     ...            ...     ...        ...   \n",
       "6840-RESVB        2035.20    Male              0     Yes        Yes   \n",
       "2234-XADUH        7430.40  Female              0     Yes        Yes   \n",
       "4801-JZAZL         325.60  Female              0     Yes        Yes   \n",
       "8361-LTMKD         520.80    Male              1     Yes         No   \n",
       "3186-AJIEK        7251.82    Male              0      No         No   \n",
       "\n",
       "           InternetService OnlineSecurity OnlineBackup DeviceProtection  \\\n",
       "customerID                                                                \n",
       "7590-VHVEG             DSL             No          Yes               No   \n",
       "5575-GNVDE             DSL            Yes           No              Yes   \n",
       "3668-QPYBK             DSL            Yes          Yes               No   \n",
       "7795-CFOCW             DSL            Yes           No              Yes   \n",
       "9237-HQITU     Fiber optic             No           No               No   \n",
       "...                    ...            ...          ...              ...   \n",
       "6840-RESVB             DSL            Yes           No              Yes   \n",
       "2234-XADUH     Fiber optic             No          Yes              Yes   \n",
       "4801-JZAZL             DSL            Yes           No               No   \n",
       "8361-LTMKD     Fiber optic             No           No               No   \n",
       "3186-AJIEK     Fiber optic            Yes           No              Yes   \n",
       "\n",
       "           TechSupport StreamingTV StreamingMovies MultipleLines  \n",
       "customerID                                                        \n",
       "7590-VHVEG          No          No              No      No phone  \n",
       "5575-GNVDE          No          No              No            No  \n",
       "3668-QPYBK          No          No              No            No  \n",
       "7795-CFOCW         Yes          No              No      No phone  \n",
       "9237-HQITU          No          No              No            No  \n",
       "...                ...         ...             ...           ...  \n",
       "6840-RESVB         Yes         Yes             Yes           Yes  \n",
       "2234-XADUH          No         Yes             Yes           Yes  \n",
       "4801-JZAZL          No          No              No      No phone  \n",
       "8361-LTMKD          No          No              No           Yes  \n",
       "3186-AJIEK         Yes         Yes             Yes            No  \n",
       "\n",
       "[7043 rows x 20 columns]"
      ]
     },
     "execution_count": 29,
     "metadata": {},
     "output_type": "execute_result"
    }
   ],
   "source": [
    "df.set_index('customerID')"
   ]
  },
  {
   "cell_type": "markdown",
   "id": "541ff98f",
   "metadata": {},
   "source": [
    "### Создание новых признаков"
   ]
  },
  {
   "cell_type": "code",
   "execution_count": 30,
   "id": "8b87d082",
   "metadata": {},
   "outputs": [],
   "source": [
    "df['target'] = (df['EndDate'] != 'No').astype(int)"
   ]
  },
  {
   "cell_type": "code",
   "execution_count": 31,
   "id": "fd651339",
   "metadata": {},
   "outputs": [
    {
     "data": {
      "text/plain": [
       "0    5942\n",
       "1    1101\n",
       "Name: target, dtype: int64"
      ]
     },
     "execution_count": 31,
     "metadata": {},
     "output_type": "execute_result"
    }
   ],
   "source": [
    "df['target'].value_counts()"
   ]
  },
  {
   "cell_type": "code",
   "execution_count": 32,
   "id": "7b5a6b2b",
   "metadata": {},
   "outputs": [],
   "source": [
    "df['EndDate'] = df['EndDate'].replace('No', '2020-02-01')\n",
    "df['duration'] = (pd.to_datetime(df['EndDate']) - pd.to_datetime(df['BeginDate'])).dt.days"
   ]
  },
  {
   "cell_type": "code",
   "execution_count": 33,
   "id": "f0da8f42",
   "metadata": {},
   "outputs": [
    {
     "data": {
      "text/plain": [
       "array([  31, 1036,  123, 1371,  153,  337,  671,  306,  945,  882,  396,\n",
       "        488, 1767, 1614,  761,  670, 1584, 2163,  641,   92,  365, 1492,\n",
       "       1523, 2191,  610, 1706,   62,  822, 1764,  245, 1401, 1095,  427,\n",
       "       1948,  518, 1918, 2102, 1310, 1826,  580, 2010, 1432, 1246,  549,\n",
       "       1949, 1888,  914, 1279,  276, 1067, 1461,  883,  881,  792, 1157,\n",
       "       1581, 1280,  973, 1248,  184,  215, 1006,  853, 2041,  702, 1737,\n",
       "       1857, 1979,  457,  884, 1431,  485, 1034,  975, 1551,  700,  942,\n",
       "       1734, 1798,  730, 1340, 1216,  943, 1066, 1096, 1645, 1642,  273,\n",
       "       1553, 1219,  303, 1126, 1887, 2071,  426, 2040,  911, 2132, 1736,\n",
       "        640, 1489, 1675, 1218, 1522, 1186,  608,  214,   59,   61,    0,\n",
       "       1035, 1341, 1917, 1676, 1795, 1155,  913,  182,  820, 1430,  976,\n",
       "        579,  669,  486,  668,  760, 1611,  912, 1552,  275, 2038, 1187,\n",
       "       1068, 1003, 1127, 1124,  274, 1705,  305, 1308, 1491,  762,  335,\n",
       "       1185,  425,  609, 1004, 2283, 1005,  181,  489,  304, 1247, 1065,\n",
       "        550,  854, 2070, 1370,  334,  213,  122,  851,  395,  546,  578,\n",
       "        548,  946,  638, 1007,  456,  487, 1372, 1582, 1064,  972,  974,\n",
       "       1673, 1217, 1156,  823, 1765, 1369,  791, 1643,  759,  458, 1249,\n",
       "       1037, 1644,  852,  790,   28,  212, 1338,  699,  243,  183,  515,\n",
       "        731,  366, 1583, 1188,  850,  577, 1277,  519,  517, 1400,  915,\n",
       "        151,  242, 1278,  607,  393, 1735, 1339, 1158, 1704,   30,  944,\n",
       "       1520,  639,  701, 1125, 1311, 2314, 2068,  672,  121, 1612,  611,\n",
       "       1399,  454, 1309,  424,   90, 1550,  547, 1915,  336,  516,  821,\n",
       "       2129,  789,   91,  397, 1402,  703,  244, 2253,  793])"
      ]
     },
     "execution_count": 33,
     "metadata": {},
     "output_type": "execute_result"
    }
   ],
   "source": [
    "df['duration'].unique()"
   ]
  },
  {
   "cell_type": "markdown",
   "id": "8298fbe6",
   "metadata": {},
   "source": [
    "## Исследовательский анализ данных"
   ]
  },
  {
   "cell_type": "code",
   "execution_count": 34,
   "id": "1b8a1c25",
   "metadata": {
    "scrolled": true
   },
   "outputs": [
    {
     "data": {
      "text/plain": [
       "array([[<AxesSubplot:title={'center':'BeginDate'}>,\n",
       "        <AxesSubplot:title={'center':'MonthlyCharges'}>],\n",
       "       [<AxesSubplot:title={'center':'TotalCharges2'}>,\n",
       "        <AxesSubplot:title={'center':'SeniorCitizen'}>],\n",
       "       [<AxesSubplot:title={'center':'target'}>,\n",
       "        <AxesSubplot:title={'center':'duration'}>]], dtype=object)"
      ]
     },
     "execution_count": 34,
     "metadata": {},
     "output_type": "execute_result"
    },
    {
     "data": {
      "image/png": "[encoded data removed]",
      "text/plain": [
       "<Figure size 1800x1800 with 6 Axes>"
      ]
     },
     "metadata": {
      "needs_background": "light"
     },
     "output_type": "display_data"
    }
   ],
   "source": [
    "df.hist(bins=20, figsize=(25,25))"
   ]
  },
  {
   "cell_type": "markdown",
   "id": "59af7333",
   "metadata": {},
   "source": [
    "Число подключений сильно увеличилось в прошлом году, число отключений стабильно растет на протяжении всего времени. Половина людей платит ежемесячно. Ожидаемые графики для доп. услуг - большинство людей их не подключают. Клиентов-пенсионеров достаточно мало, около 15% выборки. Половина клиентов женаты/замужем, только треть имеет детей/является опекуном. Интересная разбивка по Charges, примерно половина клиентов платит достаточно мало, остальные клиенты зачастую платят в несколько раз больше минимума. "
   ]
  },
  {
   "cell_type": "code",
   "execution_count": 35,
   "id": "847fae89",
   "metadata": {},
   "outputs": [
    {
     "data": {
      "text/plain": [
       "<AxesSubplot:xlabel='MonthlyCharges', ylabel='Count'>"
      ]
     },
     "execution_count": 35,
     "metadata": {},
     "output_type": "execute_result"
    },
    {
     "data": {
      "image/png": "[encoded data removed]",
      "text/plain": [
       "<Figure size 432x288 with 1 Axes>"
      ]
     },
     "metadata": {
      "needs_background": "light"
     },
     "output_type": "display_data"
    }
   ],
   "source": [
    "sns.histplot(df, x='MonthlyCharges', hue='target', element=\"step\")"
   ]
  },
  {
   "cell_type": "markdown",
   "id": "865a43cc",
   "metadata": {},
   "source": [
    "Клиенты, которые платят больше всего ежемесячно уходят чаще. Скорее всего именно это их и не устраивает."
   ]
  },
  {
   "cell_type": "code",
   "execution_count": 36,
   "id": "ab12a2e2",
   "metadata": {},
   "outputs": [
    {
     "data": {
      "text/plain": [
       "<AxesSubplot:xlabel='duration', ylabel='Count'>"
      ]
     },
     "execution_count": 36,
     "metadata": {},
     "output_type": "execute_result"
    },
    {
     "data": {
      "image/png": "[encoded data removed]",
      "text/plain": [
       "<Figure size 432x288 with 1 Axes>"
      ]
     },
     "metadata": {
      "needs_background": "light"
     },
     "output_type": "display_data"
    }
   ],
   "source": [
    "sns.histplot(df, x='duration', hue='target', element=\"step\")"
   ]
  },
  {
   "cell_type": "markdown",
   "id": "50554ed6",
   "metadata": {},
   "source": [
    "Больше всего уходят клиенты, время с кампанией которых около 1000 дней (3 года). После этого шансы их ухода значительно снижаются. "
   ]
  },
  {
   "cell_type": "code",
   "execution_count": 37,
   "id": "8f5a5261",
   "metadata": {},
   "outputs": [
    {
     "data": {
      "text/plain": [
       "<AxesSubplot:xlabel='InternetService', ylabel='Count'>"
      ]
     },
     "execution_count": 37,
     "metadata": {},
     "output_type": "execute_result"
    },
    {
     "data": {
      "image/png": "[encoded data removed]",
      "text/plain": [
       "<Figure size 432x288 with 1 Axes>"
      ]
     },
     "metadata": {
      "needs_background": "light"
     },
     "output_type": "display_data"
    }
   ],
   "source": [
    "sns.histplot(df, x='InternetService', hue='target', element=\"bars\")"
   ]
  },
  {
   "cell_type": "code",
   "execution_count": 38,
   "id": "d4ae6b20",
   "metadata": {},
   "outputs": [
    {
     "data": {
      "text/plain": [
       "<AxesSubplot:xlabel='MultipleLines', ylabel='Count'>"
      ]
     },
     "execution_count": 38,
     "metadata": {},
     "output_type": "execute_result"
    },
    {
     "data": {
      "image/png": "[encoded data removed]",
      "text/plain": [
       "<Figure size 432x288 with 1 Axes>"
      ]
     },
     "metadata": {
      "needs_background": "light"
     },
     "output_type": "display_data"
    }
   ],
   "source": [
    "sns.histplot(df, x='MultipleLines', hue='target', element=\"bars\")"
   ]
  },
  {
   "cell_type": "markdown",
   "id": "d2463454",
   "metadata": {},
   "source": [
    "Люди с разными типами подключения интернета уходят в примерно одинаковом соотношении. Люди, у которых подключены несколько линий уходят чаще, чем остальные. Возможно, качество этой услуги хуже, чем у конкурентов. "
   ]
  },
  {
   "cell_type": "markdown",
   "id": "b4d93d72",
   "metadata": {},
   "source": [
    "Посмотрим различные корреляции."
   ]
  },
  {
   "cell_type": "code",
   "execution_count": 39,
   "id": "03cf7e4e",
   "metadata": {},
   "outputs": [
    {
     "name": "stdout",
     "output_type": "stream",
     "text": [
      "interval columns not set, guessing: ['MonthlyCharges', 'TotalCharges2', 'duration']\n"
     ]
    },
    {
     "data": {
      "image/png": "[encoded data removed]",
      "text/plain": [
       "<Figure size 504x396 with 2 Axes>"
      ]
     },
     "metadata": {
      "needs_background": "light"
     },
     "output_type": "display_data"
    }
   ],
   "source": [
    "phik_overview = df[['MonthlyCharges','TotalCharges2','duration']].phik_matrix()\n",
    "\n",
    "plot_correlation_matrix(phik_overview.values, x_labels=phik_overview.columns, y_labels=phik_overview.index, \n",
    "                        vmin=0, vmax=1, color_map='Blues', title=r'correlation $\\phi_K$', fontsize_factor=1.5,\n",
    "                        figsize=(7,5.5))"
   ]
  },
  {
   "cell_type": "markdown",
   "id": "811618a1",
   "metadata": {},
   "source": [
    "Корреляция между месячными и общими затратами достаточно высокая, но не идеальная. Можно предположить, что в большинстве случаев тариф клиента не меняется. Аналогичная корреляция между общими затратами и временем с компанией."
   ]
  },
  {
   "cell_type": "code",
   "execution_count": 40,
   "id": "6b253556",
   "metadata": {
    "scrolled": true
   },
   "outputs": [
    {
     "name": "stdout",
     "output_type": "stream",
     "text": [
      "interval columns not set, guessing: ['SeniorCitizen', 'target', 'duration']\n"
     ]
    },
    {
     "data": {
      "image/png": "[encoded data removed]",
      "text/plain": [
       "<Figure size 1440x1440 with 2 Axes>"
      ]
     },
     "metadata": {
      "needs_background": "light"
     },
     "output_type": "display_data"
    }
   ],
   "source": [
    "phik_overview = df.iloc[:,-14:].phik_matrix()\n",
    "\n",
    "plot_correlation_matrix(phik_overview.values, x_labels=phik_overview.columns, y_labels=phik_overview.index, \n",
    "                        vmin=0, vmax=1, color_map='Blues', title=r'correlation $\\phi_K$', fontsize_factor=1.5,\n",
    "                        figsize=(20,20))"
   ]
  },
  {
   "cell_type": "markdown",
   "id": "a5e92147",
   "metadata": {},
   "source": [
    "Неожиданная сильная корреляция между типом интернета и несколькими телефонными линиями. Точно будет 100% связь с клиентами, у которых нет интернета, но есть телефон, если не ошибаюсь DSL занимает телефонную линию, так что это тоже логично. Средне-сильная связь между наличием партнера и детей. Сильная корреляция между стриминговыми сервисами, их логично подключать вместе, возможно есть специальный тариф, где оба сервиса. Средняя корреляция между всеми доп. услугами. На это влияет то, что их подключают только клиенты с интернетом, также вероятно, что клиенты часто подключают сразу несколько услуг. Также есть слабо-средняя корреляция между доп. услугами и временем с компанией. Логично, чем больше проходит времени, тем больше шанс пождключения новых услуг."
   ]
  },
  {
   "cell_type": "markdown",
   "id": "694756a9",
   "metadata": {},
   "source": [
    "Теперь можно удалить ненужные признаки. Т.к. есть время с компанией - удалим дату начала и завершения контракта. Также стоит удалить столбцы TotalCharges, корреляция сильная с другим столбцом и маловероятно кто-то из клиентов решает уйти только потому что они заплатили слишком много за услуги в общей сумме, а не в ежемесячном расчете. CustomerID тоже не нужен, это уникальный индикатор. "
   ]
  },
  {
   "cell_type": "code",
   "execution_count": 41,
   "id": "f8f0d29b",
   "metadata": {},
   "outputs": [
    {
     "name": "stdout",
     "output_type": "stream",
     "text": [
      "<class 'pandas.core.frame.DataFrame'>\n",
      "Int64Index: 7043 entries, 0 to 7042\n",
      "Data columns (total 18 columns):\n",
      " #   Column            Non-Null Count  Dtype  \n",
      "---  ------            --------------  -----  \n",
      " 0   Type              7043 non-null   object \n",
      " 1   PaperlessBilling  7043 non-null   object \n",
      " 2   PaymentMethod     7043 non-null   object \n",
      " 3   MonthlyCharges    7043 non-null   float64\n",
      " 4   gender            7043 non-null   object \n",
      " 5   SeniorCitizen     7043 non-null   int64  \n",
      " 6   Partner           7043 non-null   object \n",
      " 7   Dependents        7043 non-null   object \n",
      " 8   InternetService   7043 non-null   object \n",
      " 9   OnlineSecurity    7043 non-null   object \n",
      " 10  OnlineBackup      7043 non-null   object \n",
      " 11  DeviceProtection  7043 non-null   object \n",
      " 12  TechSupport       7043 non-null   object \n",
      " 13  StreamingTV       7043 non-null   object \n",
      " 14  StreamingMovies   7043 non-null   object \n",
      " 15  MultipleLines     7043 non-null   object \n",
      " 16  target            7043 non-null   int64  \n",
      " 17  duration          7043 non-null   int64  \n",
      "dtypes: float64(1), int64(3), object(14)\n",
      "memory usage: 1.0+ MB\n"
     ]
    }
   ],
   "source": [
    "df_final = df.drop(columns=['customerID','BeginDate','EndDate','TotalCharges','TotalCharges2'])\n",
    "df_final.info()"
   ]
  },
  {
   "cell_type": "code",
   "execution_count": 42,
   "id": "85dcdd56",
   "metadata": {},
   "outputs": [],
   "source": [
    "df_final['SeniorCitizen']=df_final['SeniorCitizen'].astype('float64')\n",
    "df_final['target']=df_final['target'].astype('float64')\n",
    "df_final['duration']=df_final['duration'].astype('float64')"
   ]
  },
  {
   "cell_type": "markdown",
   "id": "0e0e230c",
   "metadata": {},
   "source": [
    "## Обучение моделей"
   ]
  },
  {
   "cell_type": "code",
   "execution_count": 43,
   "id": "28fa8b90",
   "metadata": {},
   "outputs": [],
   "source": [
    "features = df_final.drop(['target'], axis=1)\n",
    "target = df_final['target']\n",
    "features_train, features_test, target_train, target_test = train_test_split(\n",
    "    features, target, test_size=0.25, random_state=state)"
   ]
  },
  {
   "cell_type": "code",
   "execution_count": 44,
   "id": "36f9285f",
   "metadata": {},
   "outputs": [],
   "source": [
    "columns_to_transform = ['Type','PaperlessBilling', 'PaymentMethod','gender','Partner','Dependents',\n",
    "                        'InternetService','OnlineSecurity', 'OnlineBackup','DeviceProtection',\n",
    "                        'TechSupport','StreamingTV','StreamingMovies','MultipleLines']"
   ]
  },
  {
   "cell_type": "code",
   "execution_count": 45,
   "id": "3fb2d930",
   "metadata": {
    "scrolled": true
   },
   "outputs": [
    {
     "name": "stderr",
     "output_type": "stream",
     "text": [
      "/tmp/ipykernel_31/1444488255.py:2: SettingWithCopyWarning: \n",
      "A value is trying to be set on a copy of a slice from a DataFrame.\n",
      "Try using .loc[row_indexer,col_indexer] = value instead\n",
      "\n",
      "See the caveats in the documentation: https://pandas.pydata.org/pandas-docs/stable/user_guide/indexing.html#returning-a-view-versus-a-copy\n",
      "  features_train[columns_to_transform] = enc.fit_transform(features_train[columns_to_transform])\n",
      "/opt/conda/lib/python3.9/site-packages/pandas/core/indexing.py:1738: SettingWithCopyWarning: \n",
      "A value is trying to be set on a copy of a slice from a DataFrame.\n",
      "Try using .loc[row_indexer,col_indexer] = value instead\n",
      "\n",
      "See the caveats in the documentation: https://pandas.pydata.org/pandas-docs/stable/user_guide/indexing.html#returning-a-view-versus-a-copy\n",
      "  self._setitem_single_column(loc, value[:, i].tolist(), pi)\n",
      "/tmp/ipykernel_31/1444488255.py:3: SettingWithCopyWarning: \n",
      "A value is trying to be set on a copy of a slice from a DataFrame.\n",
      "Try using .loc[row_indexer,col_indexer] = value instead\n",
      "\n",
      "See the caveats in the documentation: https://pandas.pydata.org/pandas-docs/stable/user_guide/indexing.html#returning-a-view-versus-a-copy\n",
      "  features_test[columns_to_transform] = enc.transform(features_test[columns_to_transform])\n",
      "/opt/conda/lib/python3.9/site-packages/pandas/core/indexing.py:1738: SettingWithCopyWarning: \n",
      "A value is trying to be set on a copy of a slice from a DataFrame.\n",
      "Try using .loc[row_indexer,col_indexer] = value instead\n",
      "\n",
      "See the caveats in the documentation: https://pandas.pydata.org/pandas-docs/stable/user_guide/indexing.html#returning-a-view-versus-a-copy\n",
      "  self._setitem_single_column(loc, value[:, i].tolist(), pi)\n"
     ]
    }
   ],
   "source": [
    "enc = OrdinalEncoder(handle_unknown='use_encoded_value', unknown_value=-1)\n",
    "features_train[columns_to_transform] = enc.fit_transform(features_train[columns_to_transform])\n",
    "features_test[columns_to_transform] = enc.transform(features_test[columns_to_transform])"
   ]
  },
  {
   "cell_type": "code",
   "execution_count": 46,
   "id": "a64d20a2",
   "metadata": {},
   "outputs": [
    {
     "name": "stdout",
     "output_type": "stream",
     "text": [
      "{'max_depth': 8, 'max_features': 3, 'min_samples_leaf': 2, 'n_estimators': 116}\n"
     ]
    },
    {
     "data": {
      "text/plain": [
       "0.8293536111224711"
      ]
     },
     "execution_count": 46,
     "metadata": {},
     "output_type": "execute_result"
    }
   ],
   "source": [
    "model_rfc = RandomForestClassifier(random_state=state)\n",
    "model_rfc.fit(features_train,target_train)\n",
    "parameters = {'n_estimators' : [int(x) for x in np.linspace(start = 1, stop = 150, num = 10)], \n",
    "              'max_depth' : sp_randInt(1, 10),\n",
    "              'max_features' : sp_randInt(1, 5), 'min_samples_leaf' : sp_randInt(1, 5)}\n",
    "randm_src = RandomizedSearchCV(estimator=model_rfc, param_distributions=parameters, cv=3, n_iter=100,\n",
    "                               random_state=state, scoring = 'roc_auc')\n",
    "randm_src.fit(features_train, target_train)\n",
    "print(randm_src.best_params_)\n",
    "randm_src.best_score_"
   ]
  },
  {
   "cell_type": "code",
   "execution_count": 230,
   "id": "05fab077",
   "metadata": {},
   "outputs": [
    {
     "name": "stdout",
     "output_type": "stream",
     "text": [
      "{'learning_rate': 0.1, 'iterations': 1000, 'depth': 5}\n",
      "Wall time: 36min 25s\n"
     ]
    },
    {
     "data": {
      "text/plain": [
       "0.9087472897630479"
      ]
     },
     "execution_count": 230,
     "metadata": {},
     "output_type": "execute_result"
    }
   ],
   "source": [
    "%%time\n",
    "parameters2 = {'depth': [5,6,7,8,9,10],\n",
    "              'learning_rate': [0.01,0.02,0.03,0.04,0.05,0.001,0.1,0.2,0.5,0.005],\n",
    "              'iterations': [500,600,700,800,900,1000,1500,2000,2500,3000],\n",
    "             }\n",
    "model_cbc = CatBoostClassifier(silent=True, random_state=state, eval_metric='AUC')\n",
    "randm_src = RandomizedSearchCV(estimator=model_cbc, param_distributions=parameters2, cv=3, n_iter=50, random_state=state)\n",
    "randm_src.fit(features_train, target_train)\n",
    "print(randm_src.best_params_)\n",
    "randm_src.best_score_"
   ]
  },
  {
   "cell_type": "markdown",
   "id": "64121137",
   "metadata": {},
   "source": [
    "CatBoost показывает лучшие результаты, проверим ее на тестовой выборке."
   ]
  },
  {
   "cell_type": "markdown",
   "id": "fc8a38cb",
   "metadata": {},
   "source": [
    "## Тестирование лучшей модели"
   ]
  },
  {
   "cell_type": "code",
   "execution_count": 47,
   "id": "10e695c9",
   "metadata": {},
   "outputs": [
    {
     "name": "stdout",
     "output_type": "stream",
     "text": [
      "0:\ttotal: 149ms\tremaining: 2m 29s\n",
      "999:\ttotal: 3.1s\tremaining: 0us\n",
      "AUC-ROC на тестовой выборке: 0.9281767324747319\n",
      "Accuracy на тестовой выборке: 0.9307211811470755\n"
     ]
    }
   ],
   "source": [
    "model_cbc = CatBoostClassifier(verbose = 1000, random_state=state, eval_metric='AUC',\n",
    "                              learning_rate = 0.1, iterations = 1000, depth = 5)\n",
    "model_cbc.fit(features_train, target_train)\n",
    "predictions = model_cbc.predict_proba(features_test)[:, 1]\n",
    "predictions2 = model_cbc.predict(features_test)\n",
    "print('AUC-ROC на тестовой выборке:', roc_auc_score(target_test, predictions))\n",
    "print('Accuracy на тестовой выборке:', accuracy_score(target_test, predictions2))"
   ]
  },
  {
   "cell_type": "code",
   "execution_count": 48,
   "id": "4b14fe51",
   "metadata": {},
   "outputs": [
    {
     "data": {
      "text/plain": [
       "Text(0.5, 1.0, 'Feature Importance')"
      ]
     },
     "execution_count": 48,
     "metadata": {},
     "output_type": "execute_result"
    },
    {
     "data": {
      "image/png": "[encoded data removed]",
      "text/plain": [
       "<Figure size 1200x600 with 1 Axes>"
      ]
     },
     "metadata": {},
     "output_type": "display_data"
    }
   ],
   "source": [
    "feature_importance = model_cbc.feature_importances_\n",
    "sorted_idx = np.argsort(feature_importance)\n",
    "fig = plt.figure(figsize=(12, 6))\n",
    "plt.barh(range(len(sorted_idx)), feature_importance[sorted_idx], align='center')\n",
    "plt.yticks(range(len(sorted_idx)), np.array(features_test.columns)[sorted_idx])\n",
    "plt.title('Feature Importance')"
   ]
  },
  {
   "cell_type": "code",
   "execution_count": 49,
   "id": "f4f48059",
   "metadata": {},
   "outputs": [
    {
     "data": {
      "image/png": "[encoded data removed]",
      "text/plain": [
       "<Figure size 640x480 with 1 Axes>"
      ]
     },
     "metadata": {},
     "output_type": "display_data"
    }
   ],
   "source": [
    "y_pred_proba = model_cbc.predict_proba(features_test)[::,1]\n",
    "fpr, tpr,_ = roc_curve(target_test,  y_pred_proba)\n",
    "auc = roc_auc_score(target_test, y_pred_proba)\n",
    "plt.plot(fpr,tpr,label=\"AUC=\"+str(auc))\n",
    "plt.ylabel('True Positive Rate')\n",
    "plt.xlabel('False Positive Rate')\n",
    "plt.legend(loc=4)\n",
    "plt.show()"
   ]
  },
  {
   "cell_type": "markdown",
   "id": "36b6a7d6",
   "metadata": {},
   "source": [
    "Обе метрики больше 0.85, что достаточно для цели проекта. Features importance показывает, что модель в основном ориентируется на 4-5 признаков, отдавая наибольший приоритет duration. На 2 месте MonthlyCharges - логично, стоимость услуг зачастую влияет на поведение клиентов. Type, PaymentMethod и MultipleLines на 3, 4 и 5 месте соответсвенно. До этого была гипотеза, что возможно проблема в качестве услуги нескольких линий, зависимость от частоты платежа тоже понятна - если услуги оплачены на год, то скорее всего клиент не уйдет до их окончания. Также клиенты реже видят чеки оплаты, так что у них меньше шансов задуматься о том, что они платят слишком много. Способ оплаты может косвенно влиять на уход - автоматическое списание не требует никакой концентрации, когда ручная оплата (особенно чек письмом) дает клиенту больше шансов пересмотреть свое отношение к услугам."
   ]
  },
  {
   "cell_type": "markdown",
   "id": "ee9223ea",
   "metadata": {},
   "source": [
    "## Вывод"
   ]
  },
  {
   "cell_type": "markdown",
   "id": "130ef801",
   "metadata": {},
   "source": [
    "В ходе работы были достигнуты поставленные цели - была создана модель с метрикой AUC-ROC равной 0.92, что превышает поставленную планку в 0.85. Также модель обладает точностью 0.93.<br>\n",
    "Также в ходе работы были установлены корреляции между несколькими признаками (интернет-несколько телефонных линий, стриминг фильмов-стриминг ТВ, наличие партнера-наличие детей, и другие менее сильные связи).<br>\n",
    "Для улучшения результатов были созданы новые признаки - время с компанией и статус договора (целевой признак).<br>\n",
    "Найдена корреляция между отключением клиента и признаками MultipleLines, Type и PaymentMethod. Возможно, следует сравнить качество услуг с конкурентами, а также глубже исследовать, как на клиентов влияет частота и тип оплаты услуг. <br>\n",
    "Во время предобработки была найдена единственная проблема в выгрузке данных - отсутствие данных в столбце TotalCharges, если договор был заключен в день выгрузки. Не влияет на результаты проекта, т.к. данный признак не используется при обучении модели. "
   ]
  },
  {
   "cell_type": "markdown",
   "id": "6d79592e",
   "metadata": {},
   "source": [
    "# Отчет о проведенной работе"
   ]
  },
  {
   "cell_type": "markdown",
   "id": "f7a30dac",
   "metadata": {},
   "source": [
    "## Введение"
   ]
  },
  {
   "cell_type": "markdown",
   "id": "3e7b0095",
   "metadata": {},
   "source": [
    "Оператор связи хочет научиться предсказывать отток клиентов, для того чтобы предлагать им промокоды и специальные условия в этом случае. Компания предлагает следующие услуги:\n",
    "1. Телефонная связь (с возможностью подключения нескольких линий одновременно)\n",
    "2. Интернет (DSL и Fiber Optic)\n",
    "3. Доп. услуги:\n",
    "- DeviceProtection\n",
    "- OnlineSecurity\n",
    "- TechSupport\n",
    "- OnlineBackup\n",
    "- StreamingTV\n",
    "- StreamingMovies\n",
    "\n",
    "Построить модель, способную наиболее точно предсказать собирается ли уходить клиент, используя данные об используемых им услугах, их стоимости, а также его персональных данных. Минимальная точность предсказаний по метрике AUC-ROC >= 0.85."
   ]
  },
  {
   "cell_type": "markdown",
   "id": "e63fa4d0",
   "metadata": {},
   "source": [
    "## Датасет"
   ]
  },
  {
   "cell_type": "markdown",
   "id": "5a02431e",
   "metadata": {},
   "source": [
    "Данные состоят из файлов, полученных из разных источников:\n",
    "- contract_new.csv — информация о договоре;\n",
    "- personal_new.csv — персональные данные клиента;\n",
    "- internet_new.csv — информация об интернет-услугах;\n",
    "- phone_new.csv — информация об услугах телефонии.\n",
    "\n",
    "Информация о договорах актуальна на 1 февраля 2020.<br>\n",
    "Из данных был собран общий датасет, после чего получены 2 новых признака - status (целевой признак отключения клиента) и duration (кол-во дней клиента с компанией."
   ]
  },
  {
   "cell_type": "markdown",
   "id": "1b75cc40",
   "metadata": {},
   "source": [
    "Из датасета были убраны договора, заключенные в день выгрузки из-за проблем с расчетом затрат клиента. Заполнены пропуски, полученные в ходе соединения датасетов. После создания новых признаков были убраны следующие признаки:\n",
    "- BeginDate\n",
    "- EndDate\n",
    "- customerID (сделан индексом)\n",
    "- TotalCharges\n",
    "\n",
    "Все остальные признаки используются при обучении модели (размер финального датасета - 17x7043)."
   ]
  },
  {
   "cell_type": "markdown",
   "id": "52d26b10",
   "metadata": {},
   "source": [
    "## Обучение модели"
   ]
  },
  {
   "cell_type": "markdown",
   "id": "d9b82003",
   "metadata": {},
   "source": [
    "Датасет был разделен на обучающую и тестовую выборку (тест - 0.25 датасета). random_state используемый во всех частях проекта - 280823. Были обучены 2 модели (RandomForestClassifier и CatBoostClassifier) на следующих признаках:\n",
    "\n",
    "0.   Type\n",
    "1.   PaperlessBilling\n",
    "2.   PaymentMethod\n",
    "3.   MonthlyCharges\n",
    "4.   gender\n",
    "5.   SeniorCitizen\n",
    "6.   Partner\n",
    "7.   Dependents\n",
    "8.   InternetService\n",
    "9.   OnlineSecurity\n",
    "10.  OnlineBackup\n",
    "11.  DeviceProtection\n",
    "12.  TechSupport\n",
    "13.  StreamingTV\n",
    "14.  StreamingMovies\n",
    "15.  MultipleLines\n",
    "16.  target\n",
    "17.  duration\n",
    "\n",
    "По итогам кросс-валидации лучшей моделью оказалась CatBoost со следующими гиперпараметрами:"
   ]
  },
  {
   "cell_type": "markdown",
   "id": "7b1de344",
   "metadata": {},
   "source": [
    "**CatBoostClassifier(verbose = 1000, random_state=280823, eval_metric='AUC',\n",
    "                              learning_rate = 0.1, iterations = 1000, depth = 5)**"
   ]
  },
  {
   "cell_type": "markdown",
   "id": "a7c279e9",
   "metadata": {},
   "source": [
    "Во время тестировки модель обладала следующими метрик"
   ]
  },
  {
   "cell_type": "markdown",
   "id": "ed2a626a",
   "metadata": {},
   "source": [
    "## Отличия от исходного плана работ"
   ]
  },
  {
   "cell_type": "markdown",
   "id": "8d7c70c0",
   "metadata": {},
   "source": [
    "Добавлено заполнение пропусков, кодирование признаков перенесено из предобратки в обучение модели. В проекте не использовалась модель логистической регрессии (требует другой кодировки данных, маловероятно выдаст лучший результат)."
   ]
  },
  {
   "cell_type": "markdown",
   "id": "ef0f310f",
   "metadata": {},
   "source": [
    "## Трудности в работе, ключевые этапы"
   ]
  },
  {
   "cell_type": "markdown",
   "id": "990060bd",
   "metadata": {},
   "source": [
    "Трудностей в работе не возникало."
   ]
  },
  {
   "cell_type": "markdown",
   "id": "15460941",
   "metadata": {},
   "source": [
    "Ключевым этапом работы является предобработка. Модель в основном ориентируется на созданный признак - duration, так что в нем нельзя допустить утечку данных."
   ]
  },
  {
   "cell_type": "markdown",
   "id": "1240874e",
   "metadata": {},
   "source": [
    "## Результаты"
   ]
  },
  {
   "cell_type": "markdown",
   "id": "a76fdb29",
   "metadata": {},
   "source": [
    "В ходе работы были достигнуты поставленные цели - была создана модель с метрикой AUC-ROC равной 0.92, что превышает поставленную планку в 0.85. Также модель обладает точностью 0.93.<br>\n",
    "Также в ходе работы были установлены корреляции между несколькими признаками (интернет-несколько телефонных линий, стриминг фильмов-стриминг ТВ, наличие партнера-наличие детей, и другие менее сильные связи).<br>\n",
    "Найдена корреляция между отключением клиента и признаками MultipleLines, Type и PaymentMethod. Возможно, следует сравнить качество услуг с конкурентами, а также глубже исследовать, как на клиентов влияет частота и тип оплаты услуг. <br>"
   ]
  },
  {
   "cell_type": "code",
   "execution_count": null,
   "id": "4a950b1e",
   "metadata": {},
   "outputs": [],
   "source": []
  }
 ],
 "metadata": {
  "ExecuteTimeLog": [
   {
    "duration": 107,
    "start_time": "2023-08-29T18:26:19.192Z"
   },
   {
    "duration": 1143,
    "start_time": "2023-09-02T04:49:20.390Z"
   },
   {
    "duration": 4314,
    "start_time": "2023-09-02T04:49:28.267Z"
   },
   {
    "duration": 6871,
    "start_time": "2023-09-02T04:49:39.738Z"
   },
   {
    "duration": 3,
    "start_time": "2023-09-02T04:50:02.049Z"
   },
   {
    "duration": 480,
    "start_time": "2023-09-02T04:50:02.964Z"
   },
   {
    "duration": 29,
    "start_time": "2023-09-02T04:50:03.447Z"
   },
   {
    "duration": 19,
    "start_time": "2023-09-02T04:50:03.557Z"
   },
   {
    "duration": 21,
    "start_time": "2023-09-02T04:50:03.764Z"
   },
   {
    "duration": 28,
    "start_time": "2023-09-02T04:50:04.030Z"
   },
   {
    "duration": 52,
    "start_time": "2023-09-02T04:50:04.188Z"
   },
   {
    "duration": 19,
    "start_time": "2023-09-02T04:50:04.335Z"
   },
   {
    "duration": 8,
    "start_time": "2023-09-02T04:50:05.239Z"
   },
   {
    "duration": 5,
    "start_time": "2023-09-02T04:50:05.389Z"
   },
   {
    "duration": 18,
    "start_time": "2023-09-02T04:50:05.965Z"
   },
   {
    "duration": 5,
    "start_time": "2023-09-02T04:50:07.860Z"
   },
   {
    "duration": 15,
    "start_time": "2023-09-02T04:50:08.116Z"
   },
   {
    "duration": 14,
    "start_time": "2023-09-02T04:50:08.321Z"
   },
   {
    "duration": 11,
    "start_time": "2023-09-02T04:50:09.531Z"
   },
   {
    "duration": 8,
    "start_time": "2023-09-02T04:50:09.661Z"
   },
   {
    "duration": 6,
    "start_time": "2023-09-02T04:50:09.853Z"
   },
   {
    "duration": 1328,
    "start_time": "2023-09-02T04:50:20.132Z"
   },
   {
    "duration": 1095,
    "start_time": "2023-09-02T04:50:21.462Z"
   },
   {
    "duration": 1240,
    "start_time": "2023-09-02T04:50:23.878Z"
   },
   {
    "duration": 51,
    "start_time": "2023-09-02T04:50:25.130Z"
   },
   {
    "duration": 22,
    "start_time": "2023-09-02T04:50:39.546Z"
   },
   {
    "duration": 9,
    "start_time": "2023-09-02T04:50:41.319Z"
   },
   {
    "duration": 323,
    "start_time": "2023-09-02T04:55:12.571Z"
   },
   {
    "duration": 4,
    "start_time": "2023-09-02T04:55:21.151Z"
   },
   {
    "duration": 12,
    "start_time": "2023-09-02T04:55:21.566Z"
   },
   {
    "duration": 50,
    "start_time": "2023-09-02T04:55:23.224Z"
   },
   {
    "duration": 79,
    "start_time": "2023-09-02T04:55:25.546Z"
   },
   {
    "duration": 51,
    "start_time": "2023-09-02T04:55:27.682Z"
   },
   {
    "duration": 3595,
    "start_time": "2023-09-02T04:55:30.317Z"
   },
   {
    "duration": 7,
    "start_time": "2023-09-02T04:55:35.187Z"
   },
   {
    "duration": 4297,
    "start_time": "2023-09-02T04:59:47.134Z"
   },
   {
    "duration": 5440,
    "start_time": "2023-09-04T18:33:50.361Z"
   },
   {
    "duration": 2537,
    "start_time": "2023-09-04T18:33:55.803Z"
   },
   {
    "duration": 5,
    "start_time": "2023-09-04T18:33:58.342Z"
   },
   {
    "duration": 276,
    "start_time": "2023-09-04T18:33:58.349Z"
   },
   {
    "duration": 26,
    "start_time": "2023-09-04T18:33:58.627Z"
   },
   {
    "duration": 19,
    "start_time": "2023-09-04T18:33:58.655Z"
   },
   {
    "duration": 20,
    "start_time": "2023-09-04T18:33:58.676Z"
   },
   {
    "duration": 17,
    "start_time": "2023-09-04T18:33:58.698Z"
   },
   {
    "duration": 56,
    "start_time": "2023-09-04T18:33:58.716Z"
   },
   {
    "duration": 12,
    "start_time": "2023-09-04T18:33:58.774Z"
   },
   {
    "duration": 8,
    "start_time": "2023-09-04T18:33:58.787Z"
   },
   {
    "duration": 5,
    "start_time": "2023-09-04T18:33:59.371Z"
   },
   {
    "duration": 21,
    "start_time": "2023-09-04T18:33:59.377Z"
   },
   {
    "duration": 6,
    "start_time": "2023-09-04T18:34:00.583Z"
   },
   {
    "duration": 4,
    "start_time": "2023-09-04T18:34:01.031Z"
   },
   {
    "duration": 4,
    "start_time": "2023-09-04T18:34:01.233Z"
   },
   {
    "duration": 7,
    "start_time": "2023-09-04T18:34:01.854Z"
   },
   {
    "duration": 8,
    "start_time": "2023-09-04T18:34:02.064Z"
   },
   {
    "duration": 5,
    "start_time": "2023-09-04T18:34:02.270Z"
   },
   {
    "duration": 1290,
    "start_time": "2023-09-04T18:34:06.207Z"
   },
   {
    "duration": 1064,
    "start_time": "2023-09-04T18:34:07.500Z"
   },
   {
    "duration": 1183,
    "start_time": "2023-09-04T18:34:08.566Z"
   },
   {
    "duration": 50,
    "start_time": "2023-09-04T18:34:09.752Z"
   },
   {
    "duration": 13,
    "start_time": "2023-09-04T18:34:09.804Z"
   },
   {
    "duration": 28,
    "start_time": "2023-09-04T18:34:09.819Z"
   },
   {
    "duration": 8,
    "start_time": "2023-09-04T18:34:09.849Z"
   },
   {
    "duration": 40,
    "start_time": "2023-09-04T18:34:09.859Z"
   },
   {
    "duration": 34,
    "start_time": "2023-09-04T18:34:10.205Z"
   },
   {
    "duration": 5,
    "start_time": "2023-09-04T18:34:13.959Z"
   },
   {
    "duration": 6,
    "start_time": "2023-09-04T18:34:14.783Z"
   },
   {
    "duration": 17,
    "start_time": "2023-09-04T18:34:16.782Z"
   },
   {
    "duration": 6,
    "start_time": "2023-09-04T18:34:19.111Z"
   },
   {
    "duration": 1294,
    "start_time": "2023-09-04T18:34:21.190Z"
   },
   {
    "duration": 188,
    "start_time": "2023-09-04T18:34:22.486Z"
   },
   {
    "duration": 188,
    "start_time": "2023-09-04T18:34:23.135Z"
   },
   {
    "duration": 163,
    "start_time": "2023-09-04T18:34:23.584Z"
   },
   {
    "duration": 164,
    "start_time": "2023-09-04T18:34:23.815Z"
   },
   {
    "duration": 579,
    "start_time": "2023-09-04T18:34:25.384Z"
   },
   {
    "duration": 2654,
    "start_time": "2023-09-04T18:34:26.463Z"
   },
   {
    "duration": 18,
    "start_time": "2023-09-04T18:34:29.519Z"
   },
   {
    "duration": 6,
    "start_time": "2023-09-04T18:34:29.759Z"
   },
   {
    "duration": 8,
    "start_time": "2023-09-04T18:34:33.183Z"
   },
   {
    "duration": 3,
    "start_time": "2023-09-04T18:34:34.032Z"
   },
   {
    "duration": 66,
    "start_time": "2023-09-04T18:34:34.423Z"
   },
   {
    "duration": 31,
    "start_time": "2023-09-04T18:44:26.859Z"
   },
   {
    "duration": 1941,
    "start_time": "2023-09-04T18:44:42.019Z"
   },
   {
    "duration": 1852,
    "start_time": "2023-09-04T18:45:06.724Z"
   },
   {
    "duration": 1865,
    "start_time": "2023-09-04T18:45:34.164Z"
   },
   {
    "duration": 26,
    "start_time": "2023-09-04T18:46:58.687Z"
   },
   {
    "duration": 29,
    "start_time": "2023-09-04T18:47:31.080Z"
   },
   {
    "duration": 3112,
    "start_time": "2023-09-05T12:55:32.466Z"
   },
   {
    "duration": 1538,
    "start_time": "2023-09-05T12:55:35.581Z"
   },
   {
    "duration": 4,
    "start_time": "2023-09-05T12:55:37.124Z"
   },
   {
    "duration": 306,
    "start_time": "2023-09-05T12:55:37.131Z"
   },
   {
    "duration": 37,
    "start_time": "2023-09-05T12:55:37.439Z"
   },
   {
    "duration": 31,
    "start_time": "2023-09-05T12:55:37.477Z"
   },
   {
    "duration": 41,
    "start_time": "2023-09-05T12:55:37.510Z"
   },
   {
    "duration": 22,
    "start_time": "2023-09-05T12:55:37.554Z"
   },
   {
    "duration": 52,
    "start_time": "2023-09-05T12:55:37.579Z"
   },
   {
    "duration": 31,
    "start_time": "2023-09-05T12:55:37.635Z"
   },
   {
    "duration": 8,
    "start_time": "2023-09-05T12:55:37.668Z"
   },
   {
    "duration": 19,
    "start_time": "2023-09-05T12:55:37.678Z"
   },
   {
    "duration": 34,
    "start_time": "2023-09-05T12:55:37.699Z"
   },
   {
    "duration": 5,
    "start_time": "2023-09-05T12:55:37.735Z"
   },
   {
    "duration": 8,
    "start_time": "2023-09-05T12:55:37.742Z"
   },
   {
    "duration": 8,
    "start_time": "2023-09-05T12:55:37.752Z"
   },
   {
    "duration": 9,
    "start_time": "2023-09-05T12:55:37.922Z"
   },
   {
    "duration": 10,
    "start_time": "2023-09-05T12:55:38.080Z"
   },
   {
    "duration": 6,
    "start_time": "2023-09-05T12:55:38.231Z"
   },
   {
    "duration": 1310,
    "start_time": "2023-09-05T12:55:41.521Z"
   },
   {
    "duration": 1180,
    "start_time": "2023-09-05T12:55:42.833Z"
   },
   {
    "duration": 1484,
    "start_time": "2023-09-05T12:55:44.017Z"
   },
   {
    "duration": 52,
    "start_time": "2023-09-05T12:55:45.504Z"
   },
   {
    "duration": 12,
    "start_time": "2023-09-05T12:55:45.558Z"
   },
   {
    "duration": 30,
    "start_time": "2023-09-05T12:55:45.572Z"
   },
   {
    "duration": 21,
    "start_time": "2023-09-05T12:55:45.604Z"
   },
   {
    "duration": 42,
    "start_time": "2023-09-05T12:55:45.627Z"
   },
   {
    "duration": 46,
    "start_time": "2023-09-05T12:55:46.032Z"
   },
   {
    "duration": 5,
    "start_time": "2023-09-05T12:55:48.664Z"
   },
   {
    "duration": 6,
    "start_time": "2023-09-05T12:55:48.852Z"
   },
   {
    "duration": 16,
    "start_time": "2023-09-05T12:55:51.482Z"
   },
   {
    "duration": 6,
    "start_time": "2023-09-05T12:55:53.879Z"
   },
   {
    "duration": 1397,
    "start_time": "2023-09-05T12:55:55.423Z"
   },
   {
    "duration": 210,
    "start_time": "2023-09-05T12:55:57.695Z"
   },
   {
    "duration": 239,
    "start_time": "2023-09-05T12:55:58.401Z"
   },
   {
    "duration": 174,
    "start_time": "2023-09-05T12:55:58.951Z"
   },
   {
    "duration": 186,
    "start_time": "2023-09-05T12:55:59.143Z"
   },
   {
    "duration": 625,
    "start_time": "2023-09-05T12:56:00.127Z"
   },
   {
    "duration": 2857,
    "start_time": "2023-09-05T12:56:01.254Z"
   },
   {
    "duration": 20,
    "start_time": "2023-09-05T12:56:04.114Z"
   },
   {
    "duration": 233,
    "start_time": "2023-09-05T12:56:04.136Z"
   },
   {
    "duration": 11,
    "start_time": "2023-09-05T12:56:06.927Z"
   },
   {
    "duration": 8,
    "start_time": "2023-09-05T12:56:07.115Z"
   },
   {
    "duration": 58,
    "start_time": "2023-09-05T12:56:07.480Z"
   },
   {
    "duration": 92369,
    "start_time": "2023-09-05T12:56:49.277Z"
   },
   {
    "duration": 48,
    "start_time": "2023-09-05T13:20:03.981Z"
   },
   {
    "duration": 3152,
    "start_time": "2023-09-05T13:20:07.399Z"
   },
   {
    "duration": 1631,
    "start_time": "2023-09-05T13:20:10.553Z"
   },
   {
    "duration": 3,
    "start_time": "2023-09-05T13:20:12.185Z"
   },
   {
    "duration": 394,
    "start_time": "2023-09-05T13:20:12.190Z"
   },
   {
    "duration": 25,
    "start_time": "2023-09-05T13:20:12.586Z"
   },
   {
    "duration": 41,
    "start_time": "2023-09-05T13:20:12.613Z"
   },
   {
    "duration": 17,
    "start_time": "2023-09-05T13:20:12.655Z"
   },
   {
    "duration": 16,
    "start_time": "2023-09-05T13:20:12.674Z"
   },
   {
    "duration": 25,
    "start_time": "2023-09-05T13:20:12.691Z"
   },
   {
    "duration": 10,
    "start_time": "2023-09-05T13:20:12.736Z"
   },
   {
    "duration": 6,
    "start_time": "2023-09-05T13:20:12.748Z"
   },
   {
    "duration": 8,
    "start_time": "2023-09-05T13:20:12.755Z"
   },
   {
    "duration": 24,
    "start_time": "2023-09-05T13:20:12.764Z"
   },
   {
    "duration": 5,
    "start_time": "2023-09-05T13:20:12.791Z"
   },
   {
    "duration": 36,
    "start_time": "2023-09-05T13:20:12.798Z"
   },
   {
    "duration": 7,
    "start_time": "2023-09-05T13:20:12.836Z"
   },
   {
    "duration": 10,
    "start_time": "2023-09-05T13:20:12.845Z"
   },
   {
    "duration": 7,
    "start_time": "2023-09-05T13:20:12.857Z"
   },
   {
    "duration": 5,
    "start_time": "2023-09-05T13:20:12.866Z"
   },
   {
    "duration": 1121,
    "start_time": "2023-09-05T13:20:12.872Z"
   },
   {
    "duration": 976,
    "start_time": "2023-09-05T13:20:13.995Z"
   },
   {
    "duration": 990,
    "start_time": "2023-09-05T13:20:14.972Z"
   },
   {
    "duration": 42,
    "start_time": "2023-09-05T13:20:15.964Z"
   },
   {
    "duration": 9,
    "start_time": "2023-09-05T13:20:16.007Z"
   },
   {
    "duration": 25,
    "start_time": "2023-09-05T13:20:16.018Z"
   },
   {
    "duration": 17,
    "start_time": "2023-09-05T13:20:16.045Z"
   },
   {
    "duration": 30,
    "start_time": "2023-09-05T13:20:16.064Z"
   },
   {
    "duration": 26,
    "start_time": "2023-09-05T13:20:16.097Z"
   },
   {
    "duration": 4,
    "start_time": "2023-09-05T13:20:16.125Z"
   },
   {
    "duration": 8,
    "start_time": "2023-09-05T13:20:16.130Z"
   },
   {
    "duration": 27,
    "start_time": "2023-09-05T13:20:16.140Z"
   },
   {
    "duration": 5,
    "start_time": "2023-09-05T13:20:16.168Z"
   },
   {
    "duration": 1073,
    "start_time": "2023-09-05T13:20:16.174Z"
   },
   {
    "duration": 157,
    "start_time": "2023-09-05T13:20:17.248Z"
   },
   {
    "duration": 158,
    "start_time": "2023-09-05T13:20:17.407Z"
   },
   {
    "duration": 151,
    "start_time": "2023-09-05T13:20:17.567Z"
   },
   {
    "duration": 188,
    "start_time": "2023-09-05T13:20:17.720Z"
   },
   {
    "duration": 527,
    "start_time": "2023-09-05T13:20:17.910Z"
   },
   {
    "duration": 2330,
    "start_time": "2023-09-05T13:20:18.439Z"
   },
   {
    "duration": 16,
    "start_time": "2023-09-05T13:20:20.771Z"
   },
   {
    "duration": 79,
    "start_time": "2023-09-05T13:20:20.789Z"
   },
   {
    "duration": 83,
    "start_time": "2023-09-05T13:20:20.869Z"
   },
   {
    "duration": 6,
    "start_time": "2023-09-05T13:20:20.954Z"
   },
   {
    "duration": 69,
    "start_time": "2023-09-05T13:20:20.962Z"
   },
   {
    "duration": 46322,
    "start_time": "2023-09-05T13:20:25.985Z"
   }
  ],
  "kernelspec": {
   "display_name": "Python 3 (ipykernel)",
   "language": "python",
   "name": "python3"
  },
  "language_info": {
   "codemirror_mode": {
    "name": "ipython",
    "version": 3
   },
   "file_extension": ".py",
   "mimetype": "text/x-python",
   "name": "python",
   "nbconvert_exporter": "python",
   "pygments_lexer": "ipython3",
   "version": "3.9.5"
  },
  "toc": {
   "base_numbering": 1,
   "nav_menu": {},
   "number_sections": true,
   "sideBar": true,
   "skip_h1_title": true,
   "title_cell": "Table of Contents",
   "title_sidebar": "Contents",
   "toc_cell": false,
   "toc_position": {},
   "toc_section_display": true,
   "toc_window_display": false
  }
 },
 "nbformat": 4,
 "nbformat_minor": 5
}
