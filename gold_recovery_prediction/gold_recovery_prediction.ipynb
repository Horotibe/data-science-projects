{
 "cells": [
  {
   "cell_type": "markdown",
   "metadata": {},
   "source": [
    "# Восстановление золота из руды"
   ]
  },
  {
   "cell_type": "markdown",
   "metadata": {},
   "source": [
    "Подготовьте прототип модели машинного обучения для «Цифры». Компания разрабатывает решения для эффективной работы промышленных предприятий.\n",
    "\n",
    "Модель должна предсказать коэффициент восстановления золота из золотосодержащей руды. Используйте данные с параметрами добычи и очистки. \n",
    "\n",
    "Модель поможет оптимизировать производство, чтобы не запускать предприятие с убыточными характеристиками.\n",
    "\n",
    "Вам нужно:\n",
    "\n",
    "1. Подготовить данные;\n",
    "2. Провести исследовательский анализ данных;\n",
    "3. Построить и обучить модель.\n",
    "\n",
    "Чтобы выполнить проект, обращайтесь к библиотекам *pandas*, *matplotlib* и *sklearn.* Вам поможет их документация."
   ]
  },
  {
   "cell_type": "markdown",
   "metadata": {},
   "source": [
    "## Подготовка данных"
   ]
  },
  {
   "cell_type": "code",
   "execution_count": 178,
   "metadata": {},
   "outputs": [],
   "source": [
    "import pandas as pd\n",
    "import numpy as np\n",
    "from sklearn.metrics import mean_absolute_error\n",
    "from sklearn.metrics import mean_squared_error\n",
    "import matplotlib.pyplot as plt\n",
    "from sklearn.ensemble import RandomForestRegressor\n",
    "from sklearn.linear_model import LinearRegression\n",
    "from sklearn.model_selection import cross_val_score\n",
    "from sklearn.metrics import make_scorer\n",
    "from sklearn.model_selection import RandomizedSearchCV\n",
    "from scipy.stats import uniform as sp_randFloat\n",
    "from scipy.stats import randint as sp_randInt\n",
    "from sklearn.dummy import DummyRegressor\n",
    "from sklearn import linear_model"
   ]
  },
  {
   "cell_type": "code",
   "execution_count": 110,
   "metadata": {},
   "outputs": [],
   "source": [
    "df_train=pd.read_csv('/datasets/gold_industry_train.csv')\n",
    "df_test=pd.read_csv('/datasets/gold_industry_test.csv')\n",
    "df=pd.read_csv('/datasets/gold_industry_full.csv')"
   ]
  },
  {
   "cell_type": "code",
   "execution_count": 111,
   "metadata": {},
   "outputs": [
    {
     "name": "stdout",
     "output_type": "stream",
     "text": [
      "<class 'pandas.core.frame.DataFrame'>\n",
      "RangeIndex: 19439 entries, 0 to 19438\n",
      "Data columns (total 87 columns):\n",
      " #   Column                                              Non-Null Count  Dtype  \n",
      "---  ------                                              --------------  -----  \n",
      " 0   date                                                19439 non-null  object \n",
      " 1   rougher.input.feed_au                               19439 non-null  float64\n",
      " 2   rougher.input.feed_ag                               19439 non-null  float64\n",
      " 3   rougher.input.feed_pb                               19339 non-null  float64\n",
      " 4   rougher.input.feed_sol                              19340 non-null  float64\n",
      " 5   rougher.input.feed_rate                             19428 non-null  float64\n",
      " 6   rougher.input.feed_size                             19294 non-null  float64\n",
      " 7   rougher.input.floatbank10_sulfate                   19405 non-null  float64\n",
      " 8   rougher.input.floatbank10_xanthate                  19431 non-null  float64\n",
      " 9   rougher.state.floatbank10_a_air                     19438 non-null  float64\n",
      " 10  rougher.state.floatbank10_a_level                   19438 non-null  float64\n",
      " 11  rougher.state.floatbank10_b_air                     19438 non-null  float64\n",
      " 12  rougher.state.floatbank10_b_level                   19438 non-null  float64\n",
      " 13  rougher.state.floatbank10_c_air                     19438 non-null  float64\n",
      " 14  rougher.state.floatbank10_c_level                   19438 non-null  float64\n",
      " 15  rougher.state.floatbank10_d_air                     19439 non-null  float64\n",
      " 16  rougher.state.floatbank10_d_level                   19439 non-null  float64\n",
      " 17  rougher.state.floatbank10_e_air                     19003 non-null  float64\n",
      " 18  rougher.state.floatbank10_e_level                   19439 non-null  float64\n",
      " 19  rougher.state.floatbank10_f_air                     19439 non-null  float64\n",
      " 20  rougher.state.floatbank10_f_level                   19439 non-null  float64\n",
      " 21  rougher.input.floatbank11_sulfate                   19395 non-null  float64\n",
      " 22  rougher.input.floatbank11_xanthate                  18986 non-null  float64\n",
      " 23  rougher.calculation.sulfate_to_au_concentrate       19437 non-null  float64\n",
      " 24  rougher.calculation.floatbank10_sulfate_to_au_feed  19437 non-null  float64\n",
      " 25  rougher.calculation.floatbank11_sulfate_to_au_feed  19437 non-null  float64\n",
      " 26  rougher.calculation.au_pb_ratio                     19439 non-null  float64\n",
      " 27  rougher.output.concentrate_au                       19439 non-null  float64\n",
      " 28  rougher.output.concentrate_ag                       19439 non-null  float64\n",
      " 29  rougher.output.concentrate_pb                       19439 non-null  float64\n",
      " 30  rougher.output.concentrate_sol                      19416 non-null  float64\n",
      " 31  rougher.output.recovery                             19439 non-null  float64\n",
      " 32  rougher.output.tail_au                              19439 non-null  float64\n",
      " 33  rougher.output.tail_ag                              19438 non-null  float64\n",
      " 34  rougher.output.tail_pb                              19439 non-null  float64\n",
      " 35  rougher.output.tail_sol                             19439 non-null  float64\n",
      " 36  primary_cleaner.input.sulfate                       19415 non-null  float64\n",
      " 37  primary_cleaner.input.depressant                    19402 non-null  float64\n",
      " 38  primary_cleaner.input.feed_size                     19439 non-null  float64\n",
      " 39  primary_cleaner.input.xanthate                      19335 non-null  float64\n",
      " 40  primary_cleaner.state.floatbank8_a_air              19435 non-null  float64\n",
      " 41  primary_cleaner.state.floatbank8_a_level            19438 non-null  float64\n",
      " 42  primary_cleaner.state.floatbank8_b_air              19435 non-null  float64\n",
      " 43  primary_cleaner.state.floatbank8_b_level            19438 non-null  float64\n",
      " 44  primary_cleaner.state.floatbank8_c_air              19437 non-null  float64\n",
      " 45  primary_cleaner.state.floatbank8_c_level            19438 non-null  float64\n",
      " 46  primary_cleaner.state.floatbank8_d_air              19436 non-null  float64\n",
      " 47  primary_cleaner.state.floatbank8_d_level            19438 non-null  float64\n",
      " 48  primary_cleaner.output.concentrate_au               19439 non-null  float64\n",
      " 49  primary_cleaner.output.concentrate_ag               19439 non-null  float64\n",
      " 50  primary_cleaner.output.concentrate_pb               19323 non-null  float64\n",
      " 51  primary_cleaner.output.concentrate_sol              19069 non-null  float64\n",
      " 52  primary_cleaner.output.tail_au                      19439 non-null  float64\n",
      " 53  primary_cleaner.output.tail_ag                      19435 non-null  float64\n",
      " 54  primary_cleaner.output.tail_pb                      19418 non-null  float64\n",
      " 55  primary_cleaner.output.tail_sol                     19377 non-null  float64\n",
      " 56  secondary_cleaner.state.floatbank2_a_air            19219 non-null  float64\n",
      " 57  secondary_cleaner.state.floatbank2_a_level          19438 non-null  float64\n",
      " 58  secondary_cleaner.state.floatbank2_b_air            19416 non-null  float64\n",
      " 59  secondary_cleaner.state.floatbank2_b_level          19438 non-null  float64\n",
      " 60  secondary_cleaner.state.floatbank3_a_air            19426 non-null  float64\n",
      " 61  secondary_cleaner.state.floatbank3_a_level          19438 non-null  float64\n",
      " 62  secondary_cleaner.state.floatbank3_b_air            19438 non-null  float64\n",
      " 63  secondary_cleaner.state.floatbank3_b_level          19438 non-null  float64\n",
      " 64  secondary_cleaner.state.floatbank4_a_air            19433 non-null  float64\n",
      " 65  secondary_cleaner.state.floatbank4_a_level          19438 non-null  float64\n",
      " 66  secondary_cleaner.state.floatbank4_b_air            19438 non-null  float64\n",
      " 67  secondary_cleaner.state.floatbank4_b_level          19438 non-null  float64\n",
      " 68  secondary_cleaner.state.floatbank5_a_air            19438 non-null  float64\n",
      " 69  secondary_cleaner.state.floatbank5_a_level          19438 non-null  float64\n",
      " 70  secondary_cleaner.state.floatbank5_b_air            19438 non-null  float64\n",
      " 71  secondary_cleaner.state.floatbank5_b_level          19438 non-null  float64\n",
      " 72  secondary_cleaner.state.floatbank6_a_air            19437 non-null  float64\n",
      " 73  secondary_cleaner.state.floatbank6_a_level          19438 non-null  float64\n",
      " 74  secondary_cleaner.output.tail_au                    19439 non-null  float64\n",
      " 75  secondary_cleaner.output.tail_ag                    19437 non-null  float64\n",
      " 76  secondary_cleaner.output.tail_pb                    19427 non-null  float64\n",
      " 77  secondary_cleaner.output.tail_sol                   17691 non-null  float64\n",
      " 78  final.output.concentrate_au                         19439 non-null  float64\n",
      " 79  final.output.concentrate_ag                         19438 non-null  float64\n",
      " 80  final.output.concentrate_pb                         19438 non-null  float64\n",
      " 81  final.output.concentrate_sol                        19228 non-null  float64\n",
      " 82  final.output.recovery                               19439 non-null  float64\n",
      " 83  final.output.tail_au                                19439 non-null  float64\n",
      " 84  final.output.tail_ag                                19438 non-null  float64\n",
      " 85  final.output.tail_pb                                19338 non-null  float64\n",
      " 86  final.output.tail_sol                               19433 non-null  float64\n",
      "dtypes: float64(86), object(1)\n",
      "memory usage: 12.9+ MB\n"
     ]
    },
    {
     "data": {
      "text/html": [
       "<div>\n",
       "<style scoped>\n",
       "    .dataframe tbody tr th:only-of-type {\n",
       "        vertical-align: middle;\n",
       "    }\n",
       "\n",
       "    .dataframe tbody tr th {\n",
       "        vertical-align: top;\n",
       "    }\n",
       "\n",
       "    .dataframe thead th {\n",
       "        text-align: right;\n",
       "    }\n",
       "</style>\n",
       "<table border=\"1\" class=\"dataframe\">\n",
       "  <thead>\n",
       "    <tr style=\"text-align: right;\">\n",
       "      <th></th>\n",
       "      <th>date</th>\n",
       "      <th>rougher.input.feed_au</th>\n",
       "      <th>rougher.input.feed_ag</th>\n",
       "      <th>rougher.input.feed_pb</th>\n",
       "      <th>rougher.input.feed_sol</th>\n",
       "      <th>rougher.input.feed_rate</th>\n",
       "      <th>rougher.input.feed_size</th>\n",
       "      <th>rougher.input.floatbank10_sulfate</th>\n",
       "      <th>rougher.input.floatbank10_xanthate</th>\n",
       "      <th>rougher.state.floatbank10_a_air</th>\n",
       "      <th>...</th>\n",
       "      <th>secondary_cleaner.output.tail_sol</th>\n",
       "      <th>final.output.concentrate_au</th>\n",
       "      <th>final.output.concentrate_ag</th>\n",
       "      <th>final.output.concentrate_pb</th>\n",
       "      <th>final.output.concentrate_sol</th>\n",
       "      <th>final.output.recovery</th>\n",
       "      <th>final.output.tail_au</th>\n",
       "      <th>final.output.tail_ag</th>\n",
       "      <th>final.output.tail_pb</th>\n",
       "      <th>final.output.tail_sol</th>\n",
       "    </tr>\n",
       "  </thead>\n",
       "  <tbody>\n",
       "    <tr>\n",
       "      <th>0</th>\n",
       "      <td>2016-01-15 00:00:00</td>\n",
       "      <td>6.486150</td>\n",
       "      <td>6.100378</td>\n",
       "      <td>2.284912</td>\n",
       "      <td>36.808594</td>\n",
       "      <td>523.546326</td>\n",
       "      <td>55.486599</td>\n",
       "      <td>11.986616</td>\n",
       "      <td>6.007990</td>\n",
       "      <td>999.706909</td>\n",
       "      <td>...</td>\n",
       "      <td>8.764648</td>\n",
       "      <td>42.192020</td>\n",
       "      <td>6.055403</td>\n",
       "      <td>9.889648</td>\n",
       "      <td>5.507324</td>\n",
       "      <td>70.541216</td>\n",
       "      <td>2.143149</td>\n",
       "      <td>10.411962</td>\n",
       "      <td>0.895447</td>\n",
       "      <td>16.904297</td>\n",
       "    </tr>\n",
       "    <tr>\n",
       "      <th>1</th>\n",
       "      <td>2016-01-15 01:00:00</td>\n",
       "      <td>6.478583</td>\n",
       "      <td>6.161113</td>\n",
       "      <td>2.266033</td>\n",
       "      <td>35.753385</td>\n",
       "      <td>525.290581</td>\n",
       "      <td>57.278666</td>\n",
       "      <td>11.971193</td>\n",
       "      <td>6.005766</td>\n",
       "      <td>1000.286398</td>\n",
       "      <td>...</td>\n",
       "      <td>9.001494</td>\n",
       "      <td>42.701629</td>\n",
       "      <td>6.029369</td>\n",
       "      <td>9.968944</td>\n",
       "      <td>5.257781</td>\n",
       "      <td>69.266198</td>\n",
       "      <td>2.224930</td>\n",
       "      <td>10.462676</td>\n",
       "      <td>0.927452</td>\n",
       "      <td>16.634514</td>\n",
       "    </tr>\n",
       "    <tr>\n",
       "      <th>2</th>\n",
       "      <td>2016-01-15 02:00:00</td>\n",
       "      <td>6.362222</td>\n",
       "      <td>6.116455</td>\n",
       "      <td>2.159622</td>\n",
       "      <td>35.971630</td>\n",
       "      <td>530.026610</td>\n",
       "      <td>57.510649</td>\n",
       "      <td>11.920603</td>\n",
       "      <td>6.197377</td>\n",
       "      <td>999.719565</td>\n",
       "      <td>...</td>\n",
       "      <td>8.842896</td>\n",
       "      <td>42.657501</td>\n",
       "      <td>6.055926</td>\n",
       "      <td>10.213995</td>\n",
       "      <td>5.383759</td>\n",
       "      <td>68.116445</td>\n",
       "      <td>2.257889</td>\n",
       "      <td>10.507046</td>\n",
       "      <td>0.953716</td>\n",
       "      <td>16.208849</td>\n",
       "    </tr>\n",
       "    <tr>\n",
       "      <th>3</th>\n",
       "      <td>2016-01-15 03:00:00</td>\n",
       "      <td>6.118189</td>\n",
       "      <td>6.043309</td>\n",
       "      <td>2.037807</td>\n",
       "      <td>36.862241</td>\n",
       "      <td>542.590390</td>\n",
       "      <td>57.792734</td>\n",
       "      <td>11.630094</td>\n",
       "      <td>6.203177</td>\n",
       "      <td>999.814770</td>\n",
       "      <td>...</td>\n",
       "      <td>9.122857</td>\n",
       "      <td>42.689819</td>\n",
       "      <td>6.047977</td>\n",
       "      <td>9.977019</td>\n",
       "      <td>4.858634</td>\n",
       "      <td>68.347543</td>\n",
       "      <td>2.146849</td>\n",
       "      <td>10.422762</td>\n",
       "      <td>0.883763</td>\n",
       "      <td>16.532835</td>\n",
       "    </tr>\n",
       "    <tr>\n",
       "      <th>4</th>\n",
       "      <td>2016-01-15 04:00:00</td>\n",
       "      <td>5.663707</td>\n",
       "      <td>6.060915</td>\n",
       "      <td>1.786875</td>\n",
       "      <td>34.347666</td>\n",
       "      <td>540.531893</td>\n",
       "      <td>56.047189</td>\n",
       "      <td>10.957755</td>\n",
       "      <td>6.198826</td>\n",
       "      <td>999.678690</td>\n",
       "      <td>...</td>\n",
       "      <td>8.871028</td>\n",
       "      <td>42.774141</td>\n",
       "      <td>6.148599</td>\n",
       "      <td>10.142511</td>\n",
       "      <td>4.939416</td>\n",
       "      <td>66.927016</td>\n",
       "      <td>2.055292</td>\n",
       "      <td>10.360302</td>\n",
       "      <td>0.792826</td>\n",
       "      <td>16.525686</td>\n",
       "    </tr>\n",
       "  </tbody>\n",
       "</table>\n",
       "<p>5 rows × 87 columns</p>\n",
       "</div>"
      ],
      "text/plain": [
       "                  date  rougher.input.feed_au  rougher.input.feed_ag  \\\n",
       "0  2016-01-15 00:00:00               6.486150               6.100378   \n",
       "1  2016-01-15 01:00:00               6.478583               6.161113   \n",
       "2  2016-01-15 02:00:00               6.362222               6.116455   \n",
       "3  2016-01-15 03:00:00               6.118189               6.043309   \n",
       "4  2016-01-15 04:00:00               5.663707               6.060915   \n",
       "\n",
       "   rougher.input.feed_pb  rougher.input.feed_sol  rougher.input.feed_rate  \\\n",
       "0               2.284912               36.808594               523.546326   \n",
       "1               2.266033               35.753385               525.290581   \n",
       "2               2.159622               35.971630               530.026610   \n",
       "3               2.037807               36.862241               542.590390   \n",
       "4               1.786875               34.347666               540.531893   \n",
       "\n",
       "   rougher.input.feed_size  rougher.input.floatbank10_sulfate  \\\n",
       "0                55.486599                          11.986616   \n",
       "1                57.278666                          11.971193   \n",
       "2                57.510649                          11.920603   \n",
       "3                57.792734                          11.630094   \n",
       "4                56.047189                          10.957755   \n",
       "\n",
       "   rougher.input.floatbank10_xanthate  rougher.state.floatbank10_a_air  ...  \\\n",
       "0                            6.007990                       999.706909  ...   \n",
       "1                            6.005766                      1000.286398  ...   \n",
       "2                            6.197377                       999.719565  ...   \n",
       "3                            6.203177                       999.814770  ...   \n",
       "4                            6.198826                       999.678690  ...   \n",
       "\n",
       "   secondary_cleaner.output.tail_sol  final.output.concentrate_au  \\\n",
       "0                           8.764648                    42.192020   \n",
       "1                           9.001494                    42.701629   \n",
       "2                           8.842896                    42.657501   \n",
       "3                           9.122857                    42.689819   \n",
       "4                           8.871028                    42.774141   \n",
       "\n",
       "   final.output.concentrate_ag  final.output.concentrate_pb  \\\n",
       "0                     6.055403                     9.889648   \n",
       "1                     6.029369                     9.968944   \n",
       "2                     6.055926                    10.213995   \n",
       "3                     6.047977                     9.977019   \n",
       "4                     6.148599                    10.142511   \n",
       "\n",
       "   final.output.concentrate_sol  final.output.recovery  final.output.tail_au  \\\n",
       "0                      5.507324              70.541216              2.143149   \n",
       "1                      5.257781              69.266198              2.224930   \n",
       "2                      5.383759              68.116445              2.257889   \n",
       "3                      4.858634              68.347543              2.146849   \n",
       "4                      4.939416              66.927016              2.055292   \n",
       "\n",
       "   final.output.tail_ag  final.output.tail_pb  final.output.tail_sol  \n",
       "0             10.411962              0.895447              16.904297  \n",
       "1             10.462676              0.927452              16.634514  \n",
       "2             10.507046              0.953716              16.208849  \n",
       "3             10.422762              0.883763              16.532835  \n",
       "4             10.360302              0.792826              16.525686  \n",
       "\n",
       "[5 rows x 87 columns]"
      ]
     },
     "execution_count": 111,
     "metadata": {},
     "output_type": "execute_result"
    }
   ],
   "source": [
    "df.info()\n",
    "df.head()"
   ]
  },
  {
   "cell_type": "code",
   "execution_count": 112,
   "metadata": {},
   "outputs": [
    {
     "name": "stdout",
     "output_type": "stream",
     "text": [
      "<class 'pandas.core.frame.DataFrame'>\n",
      "RangeIndex: 14579 entries, 0 to 14578\n",
      "Data columns (total 87 columns):\n",
      " #   Column                                              Non-Null Count  Dtype  \n",
      "---  ------                                              --------------  -----  \n",
      " 0   date                                                14579 non-null  object \n",
      " 1   rougher.input.feed_au                               14579 non-null  float64\n",
      " 2   rougher.input.feed_ag                               14579 non-null  float64\n",
      " 3   rougher.input.feed_pb                               14507 non-null  float64\n",
      " 4   rougher.input.feed_sol                              14502 non-null  float64\n",
      " 5   rougher.input.feed_rate                             14572 non-null  float64\n",
      " 6   rougher.input.feed_size                             14478 non-null  float64\n",
      " 7   rougher.input.floatbank10_sulfate                   14548 non-null  float64\n",
      " 8   rougher.input.floatbank10_xanthate                  14572 non-null  float64\n",
      " 9   rougher.state.floatbank10_a_air                     14579 non-null  float64\n",
      " 10  rougher.state.floatbank10_a_level                   14579 non-null  float64\n",
      " 11  rougher.state.floatbank10_b_air                     14579 non-null  float64\n",
      " 12  rougher.state.floatbank10_b_level                   14579 non-null  float64\n",
      " 13  rougher.state.floatbank10_c_air                     14579 non-null  float64\n",
      " 14  rougher.state.floatbank10_c_level                   14579 non-null  float64\n",
      " 15  rougher.state.floatbank10_d_air                     14579 non-null  float64\n",
      " 16  rougher.state.floatbank10_d_level                   14579 non-null  float64\n",
      " 17  rougher.state.floatbank10_e_air                     14150 non-null  float64\n",
      " 18  rougher.state.floatbank10_e_level                   14579 non-null  float64\n",
      " 19  rougher.state.floatbank10_f_air                     14579 non-null  float64\n",
      " 20  rougher.state.floatbank10_f_level                   14579 non-null  float64\n",
      " 21  rougher.input.floatbank11_sulfate                   14543 non-null  float64\n",
      " 22  rougher.input.floatbank11_xanthate                  14172 non-null  float64\n",
      " 23  rougher.calculation.sulfate_to_au_concentrate       14578 non-null  float64\n",
      " 24  rougher.calculation.floatbank10_sulfate_to_au_feed  14578 non-null  float64\n",
      " 25  rougher.calculation.floatbank11_sulfate_to_au_feed  14578 non-null  float64\n",
      " 26  rougher.calculation.au_pb_ratio                     14579 non-null  float64\n",
      " 27  rougher.output.concentrate_au                       14579 non-null  float64\n",
      " 28  rougher.output.concentrate_ag                       14579 non-null  float64\n",
      " 29  rougher.output.concentrate_pb                       14579 non-null  float64\n",
      " 30  rougher.output.concentrate_sol                      14561 non-null  float64\n",
      " 31  rougher.output.recovery                             14579 non-null  float64\n",
      " 32  rougher.output.tail_au                              14579 non-null  float64\n",
      " 33  rougher.output.tail_ag                              14578 non-null  float64\n",
      " 34  rougher.output.tail_pb                              14579 non-null  float64\n",
      " 35  rougher.output.tail_sol                             14579 non-null  float64\n",
      " 36  primary_cleaner.input.sulfate                       14556 non-null  float64\n",
      " 37  primary_cleaner.input.depressant                    14551 non-null  float64\n",
      " 38  primary_cleaner.input.feed_size                     14579 non-null  float64\n",
      " 39  primary_cleaner.input.xanthate                      14518 non-null  float64\n",
      " 40  primary_cleaner.state.floatbank8_a_air              14576 non-null  float64\n",
      " 41  primary_cleaner.state.floatbank8_a_level            14579 non-null  float64\n",
      " 42  primary_cleaner.state.floatbank8_b_air              14576 non-null  float64\n",
      " 43  primary_cleaner.state.floatbank8_b_level            14579 non-null  float64\n",
      " 44  primary_cleaner.state.floatbank8_c_air              14579 non-null  float64\n",
      " 45  primary_cleaner.state.floatbank8_c_level            14579 non-null  float64\n",
      " 46  primary_cleaner.state.floatbank8_d_air              14578 non-null  float64\n",
      " 47  primary_cleaner.state.floatbank8_d_level            14579 non-null  float64\n",
      " 48  primary_cleaner.output.concentrate_au               14579 non-null  float64\n",
      " 49  primary_cleaner.output.concentrate_ag               14579 non-null  float64\n",
      " 50  primary_cleaner.output.concentrate_pb               14491 non-null  float64\n",
      " 51  primary_cleaner.output.concentrate_sol              14314 non-null  float64\n",
      " 52  primary_cleaner.output.tail_au                      14579 non-null  float64\n",
      " 53  primary_cleaner.output.tail_ag                      14575 non-null  float64\n",
      " 54  primary_cleaner.output.tail_pb                      14573 non-null  float64\n",
      " 55  primary_cleaner.output.tail_sol                     14534 non-null  float64\n",
      " 56  secondary_cleaner.state.floatbank2_a_air            14485 non-null  float64\n",
      " 57  secondary_cleaner.state.floatbank2_a_level          14579 non-null  float64\n",
      " 58  secondary_cleaner.state.floatbank2_b_air            14557 non-null  float64\n",
      " 59  secondary_cleaner.state.floatbank2_b_level          14579 non-null  float64\n",
      " 60  secondary_cleaner.state.floatbank3_a_air            14567 non-null  float64\n",
      " 61  secondary_cleaner.state.floatbank3_a_level          14579 non-null  float64\n",
      " 62  secondary_cleaner.state.floatbank3_b_air            14579 non-null  float64\n",
      " 63  secondary_cleaner.state.floatbank3_b_level          14579 non-null  float64\n",
      " 64  secondary_cleaner.state.floatbank4_a_air            14574 non-null  float64\n",
      " 65  secondary_cleaner.state.floatbank4_a_level          14579 non-null  float64\n",
      " 66  secondary_cleaner.state.floatbank4_b_air            14579 non-null  float64\n",
      " 67  secondary_cleaner.state.floatbank4_b_level          14579 non-null  float64\n",
      " 68  secondary_cleaner.state.floatbank5_a_air            14579 non-null  float64\n",
      " 69  secondary_cleaner.state.floatbank5_a_level          14579 non-null  float64\n",
      " 70  secondary_cleaner.state.floatbank5_b_air            14579 non-null  float64\n",
      " 71  secondary_cleaner.state.floatbank5_b_level          14579 non-null  float64\n",
      " 72  secondary_cleaner.state.floatbank6_a_air            14578 non-null  float64\n",
      " 73  secondary_cleaner.state.floatbank6_a_level          14579 non-null  float64\n",
      " 74  secondary_cleaner.output.tail_au                    14579 non-null  float64\n",
      " 75  secondary_cleaner.output.tail_ag                    14578 non-null  float64\n",
      " 76  secondary_cleaner.output.tail_pb                    14575 non-null  float64\n",
      " 77  secondary_cleaner.output.tail_sol                   13659 non-null  float64\n",
      " 78  final.output.concentrate_au                         14579 non-null  float64\n",
      " 79  final.output.concentrate_ag                         14578 non-null  float64\n",
      " 80  final.output.concentrate_pb                         14578 non-null  float64\n",
      " 81  final.output.concentrate_sol                        14387 non-null  float64\n",
      " 82  final.output.recovery                               14579 non-null  float64\n",
      " 83  final.output.tail_au                                14579 non-null  float64\n",
      " 84  final.output.tail_ag                                14578 non-null  float64\n",
      " 85  final.output.tail_pb                                14504 non-null  float64\n",
      " 86  final.output.tail_sol                               14574 non-null  float64\n",
      "dtypes: float64(86), object(1)\n",
      "memory usage: 9.7+ MB\n"
     ]
    },
    {
     "data": {
      "text/html": [
       "<div>\n",
       "<style scoped>\n",
       "    .dataframe tbody tr th:only-of-type {\n",
       "        vertical-align: middle;\n",
       "    }\n",
       "\n",
       "    .dataframe tbody tr th {\n",
       "        vertical-align: top;\n",
       "    }\n",
       "\n",
       "    .dataframe thead th {\n",
       "        text-align: right;\n",
       "    }\n",
       "</style>\n",
       "<table border=\"1\" class=\"dataframe\">\n",
       "  <thead>\n",
       "    <tr style=\"text-align: right;\">\n",
       "      <th></th>\n",
       "      <th>date</th>\n",
       "      <th>rougher.input.feed_au</th>\n",
       "      <th>rougher.input.feed_ag</th>\n",
       "      <th>rougher.input.feed_pb</th>\n",
       "      <th>rougher.input.feed_sol</th>\n",
       "      <th>rougher.input.feed_rate</th>\n",
       "      <th>rougher.input.feed_size</th>\n",
       "      <th>rougher.input.floatbank10_sulfate</th>\n",
       "      <th>rougher.input.floatbank10_xanthate</th>\n",
       "      <th>rougher.state.floatbank10_a_air</th>\n",
       "      <th>...</th>\n",
       "      <th>secondary_cleaner.output.tail_sol</th>\n",
       "      <th>final.output.concentrate_au</th>\n",
       "      <th>final.output.concentrate_ag</th>\n",
       "      <th>final.output.concentrate_pb</th>\n",
       "      <th>final.output.concentrate_sol</th>\n",
       "      <th>final.output.recovery</th>\n",
       "      <th>final.output.tail_au</th>\n",
       "      <th>final.output.tail_ag</th>\n",
       "      <th>final.output.tail_pb</th>\n",
       "      <th>final.output.tail_sol</th>\n",
       "    </tr>\n",
       "  </thead>\n",
       "  <tbody>\n",
       "    <tr>\n",
       "      <th>0</th>\n",
       "      <td>2016-01-15 00:00:00</td>\n",
       "      <td>6.486150</td>\n",
       "      <td>6.100378</td>\n",
       "      <td>2.284912</td>\n",
       "      <td>36.808594</td>\n",
       "      <td>523.546326</td>\n",
       "      <td>55.486599</td>\n",
       "      <td>11.986616</td>\n",
       "      <td>6.007990</td>\n",
       "      <td>999.706909</td>\n",
       "      <td>...</td>\n",
       "      <td>8.764648</td>\n",
       "      <td>42.192020</td>\n",
       "      <td>6.055403</td>\n",
       "      <td>9.889648</td>\n",
       "      <td>5.507324</td>\n",
       "      <td>70.541216</td>\n",
       "      <td>2.143149</td>\n",
       "      <td>10.411962</td>\n",
       "      <td>0.895447</td>\n",
       "      <td>16.904297</td>\n",
       "    </tr>\n",
       "    <tr>\n",
       "      <th>1</th>\n",
       "      <td>2016-01-15 01:00:00</td>\n",
       "      <td>6.478583</td>\n",
       "      <td>6.161113</td>\n",
       "      <td>2.266033</td>\n",
       "      <td>35.753385</td>\n",
       "      <td>525.290581</td>\n",
       "      <td>57.278666</td>\n",
       "      <td>11.971193</td>\n",
       "      <td>6.005766</td>\n",
       "      <td>1000.286398</td>\n",
       "      <td>...</td>\n",
       "      <td>9.001494</td>\n",
       "      <td>42.701629</td>\n",
       "      <td>6.029369</td>\n",
       "      <td>9.968944</td>\n",
       "      <td>5.257781</td>\n",
       "      <td>69.266198</td>\n",
       "      <td>2.224930</td>\n",
       "      <td>10.462676</td>\n",
       "      <td>0.927452</td>\n",
       "      <td>16.634514</td>\n",
       "    </tr>\n",
       "    <tr>\n",
       "      <th>2</th>\n",
       "      <td>2016-01-15 02:00:00</td>\n",
       "      <td>6.362222</td>\n",
       "      <td>6.116455</td>\n",
       "      <td>2.159622</td>\n",
       "      <td>35.971630</td>\n",
       "      <td>530.026610</td>\n",
       "      <td>57.510649</td>\n",
       "      <td>11.920603</td>\n",
       "      <td>6.197377</td>\n",
       "      <td>999.719565</td>\n",
       "      <td>...</td>\n",
       "      <td>8.842896</td>\n",
       "      <td>42.657501</td>\n",
       "      <td>6.055926</td>\n",
       "      <td>10.213995</td>\n",
       "      <td>5.383759</td>\n",
       "      <td>68.116445</td>\n",
       "      <td>2.257889</td>\n",
       "      <td>10.507046</td>\n",
       "      <td>0.953716</td>\n",
       "      <td>16.208849</td>\n",
       "    </tr>\n",
       "    <tr>\n",
       "      <th>3</th>\n",
       "      <td>2016-01-15 03:00:00</td>\n",
       "      <td>6.118189</td>\n",
       "      <td>6.043309</td>\n",
       "      <td>2.037807</td>\n",
       "      <td>36.862241</td>\n",
       "      <td>542.590390</td>\n",
       "      <td>57.792734</td>\n",
       "      <td>11.630094</td>\n",
       "      <td>6.203177</td>\n",
       "      <td>999.814770</td>\n",
       "      <td>...</td>\n",
       "      <td>9.122857</td>\n",
       "      <td>42.689819</td>\n",
       "      <td>6.047977</td>\n",
       "      <td>9.977019</td>\n",
       "      <td>4.858634</td>\n",
       "      <td>68.347543</td>\n",
       "      <td>2.146849</td>\n",
       "      <td>10.422762</td>\n",
       "      <td>0.883763</td>\n",
       "      <td>16.532835</td>\n",
       "    </tr>\n",
       "    <tr>\n",
       "      <th>4</th>\n",
       "      <td>2016-01-15 04:00:00</td>\n",
       "      <td>5.663707</td>\n",
       "      <td>6.060915</td>\n",
       "      <td>1.786875</td>\n",
       "      <td>34.347666</td>\n",
       "      <td>540.531893</td>\n",
       "      <td>56.047189</td>\n",
       "      <td>10.957755</td>\n",
       "      <td>6.198826</td>\n",
       "      <td>999.678690</td>\n",
       "      <td>...</td>\n",
       "      <td>8.871028</td>\n",
       "      <td>42.774141</td>\n",
       "      <td>6.148599</td>\n",
       "      <td>10.142511</td>\n",
       "      <td>4.939416</td>\n",
       "      <td>66.927016</td>\n",
       "      <td>2.055292</td>\n",
       "      <td>10.360302</td>\n",
       "      <td>0.792826</td>\n",
       "      <td>16.525686</td>\n",
       "    </tr>\n",
       "  </tbody>\n",
       "</table>\n",
       "<p>5 rows × 87 columns</p>\n",
       "</div>"
      ],
      "text/plain": [
       "                  date  rougher.input.feed_au  rougher.input.feed_ag  \\\n",
       "0  2016-01-15 00:00:00               6.486150               6.100378   \n",
       "1  2016-01-15 01:00:00               6.478583               6.161113   \n",
       "2  2016-01-15 02:00:00               6.362222               6.116455   \n",
       "3  2016-01-15 03:00:00               6.118189               6.043309   \n",
       "4  2016-01-15 04:00:00               5.663707               6.060915   \n",
       "\n",
       "   rougher.input.feed_pb  rougher.input.feed_sol  rougher.input.feed_rate  \\\n",
       "0               2.284912               36.808594               523.546326   \n",
       "1               2.266033               35.753385               525.290581   \n",
       "2               2.159622               35.971630               530.026610   \n",
       "3               2.037807               36.862241               542.590390   \n",
       "4               1.786875               34.347666               540.531893   \n",
       "\n",
       "   rougher.input.feed_size  rougher.input.floatbank10_sulfate  \\\n",
       "0                55.486599                          11.986616   \n",
       "1                57.278666                          11.971193   \n",
       "2                57.510649                          11.920603   \n",
       "3                57.792734                          11.630094   \n",
       "4                56.047189                          10.957755   \n",
       "\n",
       "   rougher.input.floatbank10_xanthate  rougher.state.floatbank10_a_air  ...  \\\n",
       "0                            6.007990                       999.706909  ...   \n",
       "1                            6.005766                      1000.286398  ...   \n",
       "2                            6.197377                       999.719565  ...   \n",
       "3                            6.203177                       999.814770  ...   \n",
       "4                            6.198826                       999.678690  ...   \n",
       "\n",
       "   secondary_cleaner.output.tail_sol  final.output.concentrate_au  \\\n",
       "0                           8.764648                    42.192020   \n",
       "1                           9.001494                    42.701629   \n",
       "2                           8.842896                    42.657501   \n",
       "3                           9.122857                    42.689819   \n",
       "4                           8.871028                    42.774141   \n",
       "\n",
       "   final.output.concentrate_ag  final.output.concentrate_pb  \\\n",
       "0                     6.055403                     9.889648   \n",
       "1                     6.029369                     9.968944   \n",
       "2                     6.055926                    10.213995   \n",
       "3                     6.047977                     9.977019   \n",
       "4                     6.148599                    10.142511   \n",
       "\n",
       "   final.output.concentrate_sol  final.output.recovery  final.output.tail_au  \\\n",
       "0                      5.507324              70.541216              2.143149   \n",
       "1                      5.257781              69.266198              2.224930   \n",
       "2                      5.383759              68.116445              2.257889   \n",
       "3                      4.858634              68.347543              2.146849   \n",
       "4                      4.939416              66.927016              2.055292   \n",
       "\n",
       "   final.output.tail_ag  final.output.tail_pb  final.output.tail_sol  \n",
       "0             10.411962              0.895447              16.904297  \n",
       "1             10.462676              0.927452              16.634514  \n",
       "2             10.507046              0.953716              16.208849  \n",
       "3             10.422762              0.883763              16.532835  \n",
       "4             10.360302              0.792826              16.525686  \n",
       "\n",
       "[5 rows x 87 columns]"
      ]
     },
     "execution_count": 112,
     "metadata": {},
     "output_type": "execute_result"
    }
   ],
   "source": [
    "df_train.info()\n",
    "df_train.head()"
   ]
  },
  {
   "cell_type": "code",
   "execution_count": 113,
   "metadata": {
    "scrolled": true
   },
   "outputs": [
    {
     "name": "stdout",
     "output_type": "stream",
     "text": [
      "<class 'pandas.core.frame.DataFrame'>\n",
      "RangeIndex: 4860 entries, 0 to 4859\n",
      "Data columns (total 53 columns):\n",
      " #   Column                                      Non-Null Count  Dtype  \n",
      "---  ------                                      --------------  -----  \n",
      " 0   date                                        4860 non-null   object \n",
      " 1   rougher.input.feed_au                       4860 non-null   float64\n",
      " 2   rougher.input.feed_ag                       4860 non-null   float64\n",
      " 3   rougher.input.feed_pb                       4832 non-null   float64\n",
      " 4   rougher.input.feed_sol                      4838 non-null   float64\n",
      " 5   rougher.input.feed_rate                     4856 non-null   float64\n",
      " 6   rougher.input.feed_size                     4816 non-null   float64\n",
      " 7   rougher.input.floatbank10_sulfate           4857 non-null   float64\n",
      " 8   rougher.input.floatbank10_xanthate          4859 non-null   float64\n",
      " 9   rougher.state.floatbank10_a_air             4859 non-null   float64\n",
      " 10  rougher.state.floatbank10_a_level           4859 non-null   float64\n",
      " 11  rougher.state.floatbank10_b_air             4859 non-null   float64\n",
      " 12  rougher.state.floatbank10_b_level           4859 non-null   float64\n",
      " 13  rougher.state.floatbank10_c_air             4859 non-null   float64\n",
      " 14  rougher.state.floatbank10_c_level           4859 non-null   float64\n",
      " 15  rougher.state.floatbank10_d_air             4860 non-null   float64\n",
      " 16  rougher.state.floatbank10_d_level           4860 non-null   float64\n",
      " 17  rougher.state.floatbank10_e_air             4853 non-null   float64\n",
      " 18  rougher.state.floatbank10_e_level           4860 non-null   float64\n",
      " 19  rougher.state.floatbank10_f_air             4860 non-null   float64\n",
      " 20  rougher.state.floatbank10_f_level           4860 non-null   float64\n",
      " 21  rougher.input.floatbank11_sulfate           4852 non-null   float64\n",
      " 22  rougher.input.floatbank11_xanthate          4814 non-null   float64\n",
      " 23  primary_cleaner.input.sulfate               4859 non-null   float64\n",
      " 24  primary_cleaner.input.depressant            4851 non-null   float64\n",
      " 25  primary_cleaner.input.feed_size             4860 non-null   float64\n",
      " 26  primary_cleaner.input.xanthate              4817 non-null   float64\n",
      " 27  primary_cleaner.state.floatbank8_a_air      4859 non-null   float64\n",
      " 28  primary_cleaner.state.floatbank8_a_level    4859 non-null   float64\n",
      " 29  primary_cleaner.state.floatbank8_b_air      4859 non-null   float64\n",
      " 30  primary_cleaner.state.floatbank8_b_level    4859 non-null   float64\n",
      " 31  primary_cleaner.state.floatbank8_c_air      4858 non-null   float64\n",
      " 32  primary_cleaner.state.floatbank8_c_level    4859 non-null   float64\n",
      " 33  primary_cleaner.state.floatbank8_d_air      4858 non-null   float64\n",
      " 34  primary_cleaner.state.floatbank8_d_level    4859 non-null   float64\n",
      " 35  secondary_cleaner.state.floatbank2_a_air    4734 non-null   float64\n",
      " 36  secondary_cleaner.state.floatbank2_a_level  4859 non-null   float64\n",
      " 37  secondary_cleaner.state.floatbank2_b_air    4859 non-null   float64\n",
      " 38  secondary_cleaner.state.floatbank2_b_level  4859 non-null   float64\n",
      " 39  secondary_cleaner.state.floatbank3_a_air    4859 non-null   float64\n",
      " 40  secondary_cleaner.state.floatbank3_a_level  4859 non-null   float64\n",
      " 41  secondary_cleaner.state.floatbank3_b_air    4859 non-null   float64\n",
      " 42  secondary_cleaner.state.floatbank3_b_level  4859 non-null   float64\n",
      " 43  secondary_cleaner.state.floatbank4_a_air    4859 non-null   float64\n",
      " 44  secondary_cleaner.state.floatbank4_a_level  4859 non-null   float64\n",
      " 45  secondary_cleaner.state.floatbank4_b_air    4859 non-null   float64\n",
      " 46  secondary_cleaner.state.floatbank4_b_level  4859 non-null   float64\n",
      " 47  secondary_cleaner.state.floatbank5_a_air    4859 non-null   float64\n",
      " 48  secondary_cleaner.state.floatbank5_a_level  4859 non-null   float64\n",
      " 49  secondary_cleaner.state.floatbank5_b_air    4859 non-null   float64\n",
      " 50  secondary_cleaner.state.floatbank5_b_level  4859 non-null   float64\n",
      " 51  secondary_cleaner.state.floatbank6_a_air    4859 non-null   float64\n",
      " 52  secondary_cleaner.state.floatbank6_a_level  4859 non-null   float64\n",
      "dtypes: float64(52), object(1)\n",
      "memory usage: 2.0+ MB\n"
     ]
    },
    {
     "data": {
      "text/html": [
       "<div>\n",
       "<style scoped>\n",
       "    .dataframe tbody tr th:only-of-type {\n",
       "        vertical-align: middle;\n",
       "    }\n",
       "\n",
       "    .dataframe tbody tr th {\n",
       "        vertical-align: top;\n",
       "    }\n",
       "\n",
       "    .dataframe thead th {\n",
       "        text-align: right;\n",
       "    }\n",
       "</style>\n",
       "<table border=\"1\" class=\"dataframe\">\n",
       "  <thead>\n",
       "    <tr style=\"text-align: right;\">\n",
       "      <th></th>\n",
       "      <th>date</th>\n",
       "      <th>rougher.input.feed_au</th>\n",
       "      <th>rougher.input.feed_ag</th>\n",
       "      <th>rougher.input.feed_pb</th>\n",
       "      <th>rougher.input.feed_sol</th>\n",
       "      <th>rougher.input.feed_rate</th>\n",
       "      <th>rougher.input.feed_size</th>\n",
       "      <th>rougher.input.floatbank10_sulfate</th>\n",
       "      <th>rougher.input.floatbank10_xanthate</th>\n",
       "      <th>rougher.state.floatbank10_a_air</th>\n",
       "      <th>...</th>\n",
       "      <th>secondary_cleaner.state.floatbank4_a_air</th>\n",
       "      <th>secondary_cleaner.state.floatbank4_a_level</th>\n",
       "      <th>secondary_cleaner.state.floatbank4_b_air</th>\n",
       "      <th>secondary_cleaner.state.floatbank4_b_level</th>\n",
       "      <th>secondary_cleaner.state.floatbank5_a_air</th>\n",
       "      <th>secondary_cleaner.state.floatbank5_a_level</th>\n",
       "      <th>secondary_cleaner.state.floatbank5_b_air</th>\n",
       "      <th>secondary_cleaner.state.floatbank5_b_level</th>\n",
       "      <th>secondary_cleaner.state.floatbank6_a_air</th>\n",
       "      <th>secondary_cleaner.state.floatbank6_a_level</th>\n",
       "    </tr>\n",
       "  </thead>\n",
       "  <tbody>\n",
       "    <tr>\n",
       "      <th>0</th>\n",
       "      <td>2017-12-09 14:59:59</td>\n",
       "      <td>4.365491</td>\n",
       "      <td>6.158718</td>\n",
       "      <td>3.875727</td>\n",
       "      <td>39.135119</td>\n",
       "      <td>555.820208</td>\n",
       "      <td>94.544358</td>\n",
       "      <td>6.146982</td>\n",
       "      <td>9.308612</td>\n",
       "      <td>1196.238112</td>\n",
       "      <td>...</td>\n",
       "      <td>23.018622</td>\n",
       "      <td>-500.492702</td>\n",
       "      <td>20.020205</td>\n",
       "      <td>-500.220296</td>\n",
       "      <td>17.963512</td>\n",
       "      <td>-499.939490</td>\n",
       "      <td>12.990306</td>\n",
       "      <td>-500.080993</td>\n",
       "      <td>19.990336</td>\n",
       "      <td>-499.191575</td>\n",
       "    </tr>\n",
       "    <tr>\n",
       "      <th>1</th>\n",
       "      <td>2017-12-09 15:59:59</td>\n",
       "      <td>4.362781</td>\n",
       "      <td>6.048130</td>\n",
       "      <td>3.902537</td>\n",
       "      <td>39.713906</td>\n",
       "      <td>544.731687</td>\n",
       "      <td>123.742430</td>\n",
       "      <td>6.210119</td>\n",
       "      <td>9.297709</td>\n",
       "      <td>1201.904177</td>\n",
       "      <td>...</td>\n",
       "      <td>23.024963</td>\n",
       "      <td>-501.153409</td>\n",
       "      <td>20.054122</td>\n",
       "      <td>-500.314711</td>\n",
       "      <td>17.979515</td>\n",
       "      <td>-499.272871</td>\n",
       "      <td>12.992404</td>\n",
       "      <td>-499.976268</td>\n",
       "      <td>20.013986</td>\n",
       "      <td>-500.625471</td>\n",
       "    </tr>\n",
       "    <tr>\n",
       "      <th>2</th>\n",
       "      <td>2017-12-09 16:59:59</td>\n",
       "      <td>5.081681</td>\n",
       "      <td>6.082745</td>\n",
       "      <td>4.564078</td>\n",
       "      <td>37.208683</td>\n",
       "      <td>558.155110</td>\n",
       "      <td>82.610855</td>\n",
       "      <td>7.363824</td>\n",
       "      <td>9.003562</td>\n",
       "      <td>1200.826926</td>\n",
       "      <td>...</td>\n",
       "      <td>22.993827</td>\n",
       "      <td>-501.559663</td>\n",
       "      <td>20.029144</td>\n",
       "      <td>-500.000662</td>\n",
       "      <td>18.012723</td>\n",
       "      <td>-500.024764</td>\n",
       "      <td>13.016445</td>\n",
       "      <td>-500.058432</td>\n",
       "      <td>19.973767</td>\n",
       "      <td>-501.394155</td>\n",
       "    </tr>\n",
       "    <tr>\n",
       "      <th>3</th>\n",
       "      <td>2017-12-09 17:59:59</td>\n",
       "      <td>5.145949</td>\n",
       "      <td>6.084374</td>\n",
       "      <td>4.768124</td>\n",
       "      <td>36.808874</td>\n",
       "      <td>539.713765</td>\n",
       "      <td>77.984784</td>\n",
       "      <td>6.927072</td>\n",
       "      <td>8.955597</td>\n",
       "      <td>1199.292489</td>\n",
       "      <td>...</td>\n",
       "      <td>23.032807</td>\n",
       "      <td>-501.287889</td>\n",
       "      <td>19.977466</td>\n",
       "      <td>-500.159903</td>\n",
       "      <td>17.980463</td>\n",
       "      <td>-500.504602</td>\n",
       "      <td>12.949071</td>\n",
       "      <td>-500.009937</td>\n",
       "      <td>20.010332</td>\n",
       "      <td>-508.337973</td>\n",
       "    </tr>\n",
       "    <tr>\n",
       "      <th>4</th>\n",
       "      <td>2017-12-09 18:59:59</td>\n",
       "      <td>5.735249</td>\n",
       "      <td>6.165220</td>\n",
       "      <td>4.512346</td>\n",
       "      <td>37.810642</td>\n",
       "      <td>558.713584</td>\n",
       "      <td>86.434874</td>\n",
       "      <td>7.823471</td>\n",
       "      <td>7.490356</td>\n",
       "      <td>1198.005449</td>\n",
       "      <td>...</td>\n",
       "      <td>23.001911</td>\n",
       "      <td>-499.947838</td>\n",
       "      <td>20.023735</td>\n",
       "      <td>-499.713680</td>\n",
       "      <td>17.990955</td>\n",
       "      <td>-500.334769</td>\n",
       "      <td>13.007523</td>\n",
       "      <td>-499.968459</td>\n",
       "      <td>19.995999</td>\n",
       "      <td>-499.788805</td>\n",
       "    </tr>\n",
       "  </tbody>\n",
       "</table>\n",
       "<p>5 rows × 53 columns</p>\n",
       "</div>"
      ],
      "text/plain": [
       "                  date  rougher.input.feed_au  rougher.input.feed_ag  \\\n",
       "0  2017-12-09 14:59:59               4.365491               6.158718   \n",
       "1  2017-12-09 15:59:59               4.362781               6.048130   \n",
       "2  2017-12-09 16:59:59               5.081681               6.082745   \n",
       "3  2017-12-09 17:59:59               5.145949               6.084374   \n",
       "4  2017-12-09 18:59:59               5.735249               6.165220   \n",
       "\n",
       "   rougher.input.feed_pb  rougher.input.feed_sol  rougher.input.feed_rate  \\\n",
       "0               3.875727               39.135119               555.820208   \n",
       "1               3.902537               39.713906               544.731687   \n",
       "2               4.564078               37.208683               558.155110   \n",
       "3               4.768124               36.808874               539.713765   \n",
       "4               4.512346               37.810642               558.713584   \n",
       "\n",
       "   rougher.input.feed_size  rougher.input.floatbank10_sulfate  \\\n",
       "0                94.544358                           6.146982   \n",
       "1               123.742430                           6.210119   \n",
       "2                82.610855                           7.363824   \n",
       "3                77.984784                           6.927072   \n",
       "4                86.434874                           7.823471   \n",
       "\n",
       "   rougher.input.floatbank10_xanthate  rougher.state.floatbank10_a_air  ...  \\\n",
       "0                            9.308612                      1196.238112  ...   \n",
       "1                            9.297709                      1201.904177  ...   \n",
       "2                            9.003562                      1200.826926  ...   \n",
       "3                            8.955597                      1199.292489  ...   \n",
       "4                            7.490356                      1198.005449  ...   \n",
       "\n",
       "   secondary_cleaner.state.floatbank4_a_air  \\\n",
       "0                                 23.018622   \n",
       "1                                 23.024963   \n",
       "2                                 22.993827   \n",
       "3                                 23.032807   \n",
       "4                                 23.001911   \n",
       "\n",
       "   secondary_cleaner.state.floatbank4_a_level  \\\n",
       "0                                 -500.492702   \n",
       "1                                 -501.153409   \n",
       "2                                 -501.559663   \n",
       "3                                 -501.287889   \n",
       "4                                 -499.947838   \n",
       "\n",
       "   secondary_cleaner.state.floatbank4_b_air  \\\n",
       "0                                 20.020205   \n",
       "1                                 20.054122   \n",
       "2                                 20.029144   \n",
       "3                                 19.977466   \n",
       "4                                 20.023735   \n",
       "\n",
       "   secondary_cleaner.state.floatbank4_b_level  \\\n",
       "0                                 -500.220296   \n",
       "1                                 -500.314711   \n",
       "2                                 -500.000662   \n",
       "3                                 -500.159903   \n",
       "4                                 -499.713680   \n",
       "\n",
       "   secondary_cleaner.state.floatbank5_a_air  \\\n",
       "0                                 17.963512   \n",
       "1                                 17.979515   \n",
       "2                                 18.012723   \n",
       "3                                 17.980463   \n",
       "4                                 17.990955   \n",
       "\n",
       "   secondary_cleaner.state.floatbank5_a_level  \\\n",
       "0                                 -499.939490   \n",
       "1                                 -499.272871   \n",
       "2                                 -500.024764   \n",
       "3                                 -500.504602   \n",
       "4                                 -500.334769   \n",
       "\n",
       "   secondary_cleaner.state.floatbank5_b_air  \\\n",
       "0                                 12.990306   \n",
       "1                                 12.992404   \n",
       "2                                 13.016445   \n",
       "3                                 12.949071   \n",
       "4                                 13.007523   \n",
       "\n",
       "   secondary_cleaner.state.floatbank5_b_level  \\\n",
       "0                                 -500.080993   \n",
       "1                                 -499.976268   \n",
       "2                                 -500.058432   \n",
       "3                                 -500.009937   \n",
       "4                                 -499.968459   \n",
       "\n",
       "   secondary_cleaner.state.floatbank6_a_air  \\\n",
       "0                                 19.990336   \n",
       "1                                 20.013986   \n",
       "2                                 19.973767   \n",
       "3                                 20.010332   \n",
       "4                                 19.995999   \n",
       "\n",
       "   secondary_cleaner.state.floatbank6_a_level  \n",
       "0                                 -499.191575  \n",
       "1                                 -500.625471  \n",
       "2                                 -501.394155  \n",
       "3                                 -508.337973  \n",
       "4                                 -499.788805  \n",
       "\n",
       "[5 rows x 53 columns]"
      ]
     },
     "execution_count": 113,
     "metadata": {},
     "output_type": "execute_result"
    }
   ],
   "source": [
    "df_test.info()\n",
    "df_test.head()"
   ]
  },
  {
   "cell_type": "markdown",
   "metadata": {},
   "source": [
    "Во всех датафреймах есть пропуски, предобработку проведем позже. Сейчас проверим расчет recovery."
   ]
  },
  {
   "cell_type": "code",
   "execution_count": 114,
   "metadata": {},
   "outputs": [
    {
     "name": "stderr",
     "output_type": "stream",
     "text": [
      "/tmp/ipykernel_32/979121548.py:6: SettingWithCopyWarning: \n",
      "A value is trying to be set on a copy of a slice from a DataFrame\n",
      "\n",
      "See the caveats in the documentation: https://pandas.pydata.org/pandas-docs/stable/user_guide/indexing.html#returning-a-view-versus-a-copy\n",
      "  df_check.dropna(inplace=True)\n",
      "/tmp/ipykernel_32/979121548.py:7: SettingWithCopyWarning: \n",
      "A value is trying to be set on a copy of a slice from a DataFrame.\n",
      "Try using .loc[row_indexer,col_indexer] = value instead\n",
      "\n",
      "See the caveats in the documentation: https://pandas.pydata.org/pandas-docs/stable/user_guide/indexing.html#returning-a-view-versus-a-copy\n",
      "  df_check['recovery_check']=round(df_check['recovery_check'])\n",
      "/tmp/ipykernel_32/979121548.py:8: SettingWithCopyWarning: \n",
      "A value is trying to be set on a copy of a slice from a DataFrame.\n",
      "Try using .loc[row_indexer,col_indexer] = value instead\n",
      "\n",
      "See the caveats in the documentation: https://pandas.pydata.org/pandas-docs/stable/user_guide/indexing.html#returning-a-view-versus-a-copy\n",
      "  df_check['rougher.output.recovery']=round(df_check['rougher.output.recovery'])\n"
     ]
    },
    {
     "data": {
      "text/plain": [
       "0.0"
      ]
     },
     "execution_count": 114,
     "metadata": {},
     "output_type": "execute_result"
    }
   ],
   "source": [
    "df_train['recovery_check']=(df_train['rougher.output.concentrate_au']*\\\n",
    "    (df_train['rougher.input.feed_au']-df_train['rougher.output.tail_au']))/\\\n",
    "    (df_train['rougher.input.feed_au']*\\\n",
    "    (df_train['rougher.output.concentrate_au']-df_train['rougher.output.tail_au']))*100\n",
    "df_check=df_train[['rougher.output.recovery','recovery_check']]\n",
    "df_check.dropna(inplace=True)\n",
    "df_check['recovery_check']=round(df_check['recovery_check'])\n",
    "df_check['rougher.output.recovery']=round(df_check['rougher.output.recovery'])\n",
    "mean_absolute_error(df_check['recovery_check'], df_check['rougher.output.recovery'])"
   ]
  },
  {
   "cell_type": "markdown",
   "metadata": {},
   "source": [
    "МАЕ 0, вычисления правильные. *Первоначальное МАЕ было больше нуля, проверил датафрейм и заметил, что иногда расчеты отличались после 5-7 знака после запятой. Не думаю, что потеря молекулярной доли золота в расчетах важна в задании, так что предположим, что расчеты правильные.*"
   ]
  },
  {
   "cell_type": "code",
   "execution_count": 115,
   "metadata": {
    "scrolled": true
   },
   "outputs": [
    {
     "name": "stdout",
     "output_type": "stream",
     "text": [
      "rougher.calculation.sulfate_to_au_concentrate\n",
      "rougher.calculation.floatbank10_sulfate_to_au_feed\n",
      "rougher.calculation.floatbank11_sulfate_to_au_feed\n",
      "rougher.calculation.au_pb_ratio\n",
      "rougher.output.concentrate_au\n",
      "rougher.output.concentrate_ag\n",
      "rougher.output.concentrate_pb\n",
      "rougher.output.concentrate_sol\n",
      "rougher.output.recovery\n",
      "rougher.output.tail_au\n",
      "rougher.output.tail_ag\n",
      "rougher.output.tail_pb\n",
      "rougher.output.tail_sol\n",
      "primary_cleaner.output.concentrate_au\n",
      "primary_cleaner.output.concentrate_ag\n",
      "primary_cleaner.output.concentrate_pb\n",
      "primary_cleaner.output.concentrate_sol\n",
      "primary_cleaner.output.tail_au\n",
      "primary_cleaner.output.tail_ag\n",
      "primary_cleaner.output.tail_pb\n",
      "primary_cleaner.output.tail_sol\n",
      "secondary_cleaner.output.tail_au\n",
      "secondary_cleaner.output.tail_ag\n",
      "secondary_cleaner.output.tail_pb\n",
      "secondary_cleaner.output.tail_sol\n",
      "final.output.concentrate_au\n",
      "final.output.concentrate_ag\n",
      "final.output.concentrate_pb\n",
      "final.output.concentrate_sol\n",
      "final.output.recovery\n",
      "final.output.tail_au\n",
      "final.output.tail_ag\n",
      "final.output.tail_pb\n",
      "final.output.tail_sol\n"
     ]
    }
   ],
   "source": [
    "for i in df.columns:\n",
    "    if i not in df_test.columns:\n",
    "        print (i)"
   ]
  },
  {
   "cell_type": "markdown",
   "metadata": {},
   "source": [
    "В тестовой выборке нет некоторых расчетных характеристик и выдачи ценных металлов на каждом этапе. На самом деле, эти данные нам не нужны для предсказания - они нужны для расчета recovery, которую мы будем предсказывать на основе тех. процесса (также, я не уверен, что модель, обученная с учетом этих признаков будет работать с датафреймом без них). Перейдем к предобработке."
   ]
  },
  {
   "cell_type": "markdown",
   "metadata": {},
   "source": [
    "Во всех датафреймах есть пропуски, возможности восстановить эти данные нет. Модель с пропусками работать не сможет, поэтому оставлять их тоже нельзя. Заглушки снизят точность предсказаний. Придется удалить строки с пропусками в нужных нам значениях, в столбцы, которых нет в тестовой выборке (т.е. не будут использоваться в модели) поставим заглушки в виде 0, т.к. их еще можно использовать."
   ]
  },
  {
   "cell_type": "code",
   "execution_count": 116,
   "metadata": {
    "scrolled": true
   },
   "outputs": [
    {
     "name": "stdout",
     "output_type": "stream",
     "text": [
      "<class 'pandas.core.frame.DataFrame'>\n",
      "Int64Index: 17908 entries, 0 to 19438\n",
      "Data columns (total 87 columns):\n",
      " #   Column                                              Non-Null Count  Dtype  \n",
      "---  ------                                              --------------  -----  \n",
      " 0   date                                                17908 non-null  object \n",
      " 1   rougher.input.feed_au                               17908 non-null  float64\n",
      " 2   rougher.input.feed_ag                               17908 non-null  float64\n",
      " 3   rougher.input.feed_pb                               17908 non-null  float64\n",
      " 4   rougher.input.feed_sol                              17908 non-null  float64\n",
      " 5   rougher.input.feed_rate                             17908 non-null  float64\n",
      " 6   rougher.input.feed_size                             17908 non-null  float64\n",
      " 7   rougher.input.floatbank10_sulfate                   17908 non-null  float64\n",
      " 8   rougher.input.floatbank10_xanthate                  17908 non-null  float64\n",
      " 9   rougher.state.floatbank10_a_air                     17908 non-null  float64\n",
      " 10  rougher.state.floatbank10_a_level                   17908 non-null  float64\n",
      " 11  rougher.state.floatbank10_b_air                     17908 non-null  float64\n",
      " 12  rougher.state.floatbank10_b_level                   17908 non-null  float64\n",
      " 13  rougher.state.floatbank10_c_air                     17908 non-null  float64\n",
      " 14  rougher.state.floatbank10_c_level                   17908 non-null  float64\n",
      " 15  rougher.state.floatbank10_d_air                     17908 non-null  float64\n",
      " 16  rougher.state.floatbank10_d_level                   17908 non-null  float64\n",
      " 17  rougher.state.floatbank10_e_air                     17908 non-null  float64\n",
      " 18  rougher.state.floatbank10_e_level                   17908 non-null  float64\n",
      " 19  rougher.state.floatbank10_f_air                     17908 non-null  float64\n",
      " 20  rougher.state.floatbank10_f_level                   17908 non-null  float64\n",
      " 21  rougher.input.floatbank11_sulfate                   17908 non-null  float64\n",
      " 22  rougher.input.floatbank11_xanthate                  17908 non-null  float64\n",
      " 23  rougher.calculation.sulfate_to_au_concentrate       17908 non-null  float64\n",
      " 24  rougher.calculation.floatbank10_sulfate_to_au_feed  17908 non-null  float64\n",
      " 25  rougher.calculation.floatbank11_sulfate_to_au_feed  17908 non-null  float64\n",
      " 26  rougher.calculation.au_pb_ratio                     17908 non-null  float64\n",
      " 27  rougher.output.concentrate_au                       17908 non-null  float64\n",
      " 28  rougher.output.concentrate_ag                       17908 non-null  float64\n",
      " 29  rougher.output.concentrate_pb                       17908 non-null  float64\n",
      " 30  rougher.output.concentrate_sol                      17908 non-null  float64\n",
      " 31  rougher.output.recovery                             17908 non-null  float64\n",
      " 32  rougher.output.tail_au                              17908 non-null  float64\n",
      " 33  rougher.output.tail_ag                              17908 non-null  float64\n",
      " 34  rougher.output.tail_pb                              17908 non-null  float64\n",
      " 35  rougher.output.tail_sol                             17908 non-null  float64\n",
      " 36  primary_cleaner.input.sulfate                       17908 non-null  float64\n",
      " 37  primary_cleaner.input.depressant                    17908 non-null  float64\n",
      " 38  primary_cleaner.input.feed_size                     17908 non-null  float64\n",
      " 39  primary_cleaner.input.xanthate                      17908 non-null  float64\n",
      " 40  primary_cleaner.state.floatbank8_a_air              17908 non-null  float64\n",
      " 41  primary_cleaner.state.floatbank8_a_level            17908 non-null  float64\n",
      " 42  primary_cleaner.state.floatbank8_b_air              17908 non-null  float64\n",
      " 43  primary_cleaner.state.floatbank8_b_level            17908 non-null  float64\n",
      " 44  primary_cleaner.state.floatbank8_c_air              17908 non-null  float64\n",
      " 45  primary_cleaner.state.floatbank8_c_level            17908 non-null  float64\n",
      " 46  primary_cleaner.state.floatbank8_d_air              17908 non-null  float64\n",
      " 47  primary_cleaner.state.floatbank8_d_level            17908 non-null  float64\n",
      " 48  primary_cleaner.output.concentrate_au               17908 non-null  float64\n",
      " 49  primary_cleaner.output.concentrate_ag               17908 non-null  float64\n",
      " 50  primary_cleaner.output.concentrate_pb               17908 non-null  float64\n",
      " 51  primary_cleaner.output.concentrate_sol              17908 non-null  float64\n",
      " 52  primary_cleaner.output.tail_au                      17908 non-null  float64\n",
      " 53  primary_cleaner.output.tail_ag                      17908 non-null  float64\n",
      " 54  primary_cleaner.output.tail_pb                      17908 non-null  float64\n",
      " 55  primary_cleaner.output.tail_sol                     17908 non-null  float64\n",
      " 56  secondary_cleaner.state.floatbank2_a_air            17908 non-null  float64\n",
      " 57  secondary_cleaner.state.floatbank2_a_level          17908 non-null  float64\n",
      " 58  secondary_cleaner.state.floatbank2_b_air            17908 non-null  float64\n",
      " 59  secondary_cleaner.state.floatbank2_b_level          17908 non-null  float64\n",
      " 60  secondary_cleaner.state.floatbank3_a_air            17908 non-null  float64\n",
      " 61  secondary_cleaner.state.floatbank3_a_level          17908 non-null  float64\n",
      " 62  secondary_cleaner.state.floatbank3_b_air            17908 non-null  float64\n",
      " 63  secondary_cleaner.state.floatbank3_b_level          17908 non-null  float64\n",
      " 64  secondary_cleaner.state.floatbank4_a_air            17908 non-null  float64\n",
      " 65  secondary_cleaner.state.floatbank4_a_level          17908 non-null  float64\n",
      " 66  secondary_cleaner.state.floatbank4_b_air            17908 non-null  float64\n",
      " 67  secondary_cleaner.state.floatbank4_b_level          17908 non-null  float64\n",
      " 68  secondary_cleaner.state.floatbank5_a_air            17908 non-null  float64\n",
      " 69  secondary_cleaner.state.floatbank5_a_level          17908 non-null  float64\n",
      " 70  secondary_cleaner.state.floatbank5_b_air            17908 non-null  float64\n",
      " 71  secondary_cleaner.state.floatbank5_b_level          17908 non-null  float64\n",
      " 72  secondary_cleaner.state.floatbank6_a_air            17908 non-null  float64\n",
      " 73  secondary_cleaner.state.floatbank6_a_level          17908 non-null  float64\n",
      " 74  secondary_cleaner.output.tail_au                    17908 non-null  float64\n",
      " 75  secondary_cleaner.output.tail_ag                    17908 non-null  float64\n",
      " 76  secondary_cleaner.output.tail_pb                    17908 non-null  float64\n",
      " 77  secondary_cleaner.output.tail_sol                   17908 non-null  float64\n",
      " 78  final.output.concentrate_au                         17908 non-null  float64\n",
      " 79  final.output.concentrate_ag                         17908 non-null  float64\n",
      " 80  final.output.concentrate_pb                         17908 non-null  float64\n",
      " 81  final.output.concentrate_sol                        17908 non-null  float64\n",
      " 82  final.output.recovery                               17908 non-null  float64\n",
      " 83  final.output.tail_au                                17908 non-null  float64\n",
      " 84  final.output.tail_ag                                17908 non-null  float64\n",
      " 85  final.output.tail_pb                                17908 non-null  float64\n",
      " 86  final.output.tail_sol                               17908 non-null  float64\n",
      "dtypes: float64(86), object(1)\n",
      "memory usage: 12.0+ MB\n"
     ]
    }
   ],
   "source": [
    "df2=df\n",
    "for i in df2.columns:\n",
    "    if i in df_test.columns:\n",
    "        df2.dropna(subset=[i],inplace=True)\n",
    "df2=df2.fillna(0)\n",
    "df2.info()"
   ]
  },
  {
   "cell_type": "code",
   "execution_count": 117,
   "metadata": {},
   "outputs": [
    {
     "data": {
      "text/plain": [
       "(13371, 88)"
      ]
     },
     "execution_count": 117,
     "metadata": {},
     "output_type": "execute_result"
    }
   ],
   "source": [
    "df_train2=df_train\n",
    "for i in df_train2.columns:\n",
    "    if i in df_test.columns:\n",
    "        df_train2.dropna(subset=[i],inplace=True)\n",
    "df_train2=df_train2.fillna(0)\n",
    "df_train2.shape"
   ]
  },
  {
   "cell_type": "code",
   "execution_count": 118,
   "metadata": {},
   "outputs": [
    {
     "data": {
      "text/plain": [
       "(4537, 53)"
      ]
     },
     "execution_count": 118,
     "metadata": {},
     "output_type": "execute_result"
    }
   ],
   "source": [
    "df_test2=df_test\n",
    "df_test2.dropna(inplace=True)\n",
    "df_test2.shape"
   ]
  },
  {
   "cell_type": "code",
   "execution_count": 119,
   "metadata": {},
   "outputs": [
    {
     "name": "stdout",
     "output_type": "stream",
     "text": [
      "False    17908\n",
      "dtype: int64\n",
      "False    13371\n",
      "dtype: int64\n",
      "False    4537\n",
      "dtype: int64\n"
     ]
    }
   ],
   "source": [
    "print(df2.duplicated().value_counts())\n",
    "print(df_train2.duplicated().value_counts())\n",
    "print(df_test2.duplicated().value_counts())"
   ]
  },
  {
   "cell_type": "markdown",
   "metadata": {},
   "source": [
    "Дубликатов нет, из-за пропусков пришлось удалить 8% данных. Также были поставлены заглушки в виде 0. Данные готовы к работе. "
   ]
  },
  {
   "cell_type": "markdown",
   "metadata": {},
   "source": [
    "## Анализ данных"
   ]
  },
  {
   "cell_type": "code",
   "execution_count": 120,
   "metadata": {},
   "outputs": [
    {
     "name": "stdout",
     "output_type": "stream",
     "text": [
      "Среднее кол-во сырья Au: 8.314461503312353\n",
      "Медиана кол-ва сырья Au: 8.149709584949559\n",
      "Среднее кол-во чернового концентрата Au: 19.918702061048403\n",
      "Медиана кол-ва чернового концентрата Au: 20.34980800814676\n",
      "Среднее кол-во очищенного концентрата Au: 32.15275920212488\n",
      "Медиана кол-ва очищенного концентрата Au: 32.76099130917136\n",
      "Среднее кол-во финального концентрата Au: 44.192261594083604\n",
      "Медиана кол-ва финального концентрата Au: 45.01309090546902\n"
     ]
    },
    {
     "data": {
      "text/plain": [
       "<AxesSubplot:>"
      ]
     },
     "execution_count": 120,
     "metadata": {},
     "output_type": "execute_result"
    },
    {
     "data": {
      "image/png": "[encoded data removed]",
      "text/plain": [
       "<Figure size 1440x1080 with 1 Axes>"
      ]
     },
     "metadata": {
      "needs_background": "light"
     },
     "output_type": "display_data"
    }
   ],
   "source": [
    "print('Среднее кол-во сырья Au:',df2['rougher.input.feed_au'].mean())\n",
    "print('Медиана кол-ва сырья Au:',df2['rougher.input.feed_au'].median())\n",
    "print('Среднее кол-во чернового концентрата Au:',df2['rougher.output.concentrate_au'].mean())\n",
    "print('Медиана кол-ва чернового концентрата Au:',df2['rougher.output.concentrate_au'].median())\n",
    "print('Среднее кол-во очищенного концентрата Au:',df2['primary_cleaner.output.concentrate_au'].mean())\n",
    "print('Медиана кол-ва очищенного концентрата Au:',df2['primary_cleaner.output.concentrate_au'].median())\n",
    "print('Среднее кол-во финального концентрата Au:',df2['final.output.concentrate_au'].mean())\n",
    "print('Медиана кол-ва финального концентрата Au:',df2['final.output.concentrate_au'].median())\n",
    "df2.boxplot(column=['rougher.input.feed_au','rougher.output.concentrate_au',\n",
    "            'primary_cleaner.output.concentrate_au','final.output.concentrate_au'],figsize=(20,15))"
   ]
  },
  {
   "cell_type": "markdown",
   "metadata": {},
   "source": [
    "Доля золота увеличивается с каждым шагом, однако очень много выбросов, особенно в последних 2 этапах обработки. С учетом того, что на первом этапе выборосов намного меньше, стоит предположить что тех. процесс сильно влияет на качество."
   ]
  },
  {
   "cell_type": "code",
   "execution_count": 121,
   "metadata": {},
   "outputs": [
    {
     "name": "stdout",
     "output_type": "stream",
     "text": [
      "Среднее кол-во сырья Ag: 8.815912904118447\n",
      "Медиана кол-ва сырья Ag: 8.59771016066701\n",
      "Среднее кол-во чернового концентрата Ag: 12.02001234434156\n",
      "Медиана кол-ва чернового концентрата Ag: 12.077092318414582\n",
      "Среднее кол-во очищенного концентрата Ag: 8.501495050239189\n",
      "Медиана кол-ва очищенного концентрата Ag: 8.534430757483438\n",
      "Среднее кол-во финального концентрата Ag: 5.152700043071946\n",
      "Медиана кол-ва финального концентрата Ag: 5.031100117813823\n"
     ]
    },
    {
     "data": {
      "text/plain": [
       "<AxesSubplot:>"
      ]
     },
     "execution_count": 121,
     "metadata": {},
     "output_type": "execute_result"
    },
    {
     "data": {
      "image/png": "[encoded data removed]",
      "text/plain": [
       "<Figure size 1440x1080 with 1 Axes>"
      ]
     },
     "metadata": {
      "needs_background": "light"
     },
     "output_type": "display_data"
    }
   ],
   "source": [
    "print('Среднее кол-во сырья Ag:',df2['rougher.input.feed_ag'].mean())\n",
    "print('Медиана кол-ва сырья Ag:',df2['rougher.input.feed_ag'].median())\n",
    "print('Среднее кол-во чернового концентрата Ag:',df2['rougher.output.concentrate_ag'].mean())\n",
    "print('Медиана кол-ва чернового концентрата Ag:',df2['rougher.output.concentrate_ag'].median())\n",
    "print('Среднее кол-во очищенного концентрата Ag:',df2['primary_cleaner.output.concentrate_ag'].mean())\n",
    "print('Медиана кол-ва очищенного концентрата Ag:',df2['primary_cleaner.output.concentrate_ag'].median())\n",
    "print('Среднее кол-во финального концентрата Ag:',df2['final.output.concentrate_ag'].mean())\n",
    "print('Медиана кол-ва финального концентрата Ag:',df2['final.output.concentrate_ag'].median())\n",
    "df2.boxplot(column=['rougher.input.feed_ag','rougher.output.concentrate_ag',\n",
    "            'primary_cleaner.output.concentrate_ag','final.output.concentrate_ag'],figsize=(20,15))"
   ]
  },
  {
   "cell_type": "markdown",
   "metadata": {},
   "source": [
    "Концентрат серебра растет после первой обработки и падает в последующих. Выбросов также много как и у золота, возможна зависимость между ними."
   ]
  },
  {
   "cell_type": "code",
   "execution_count": 122,
   "metadata": {},
   "outputs": [
    {
     "name": "stdout",
     "output_type": "stream",
     "text": [
      "Среднее кол-во сырья Pb: 3.6062017142759517\n",
      "Медиана кол-ва сырья Pb: 3.553564490510358\n",
      "Среднее кол-во чернового концентрата Pb: 7.65044986550459\n",
      "Медиана кол-ва чернового концентрата Pb: 7.746292283005186\n",
      "Среднее кол-во очищенного концентрата Pb: 9.829814420207603\n",
      "Медиана кол-ва очищенного концентрата Pb: 10.164272129800583\n",
      "Среднее кол-во финального концентрата Pb: 10.018255578788324\n",
      "Медиана кол-ва финального концентрата Pb: 10.136793613831202\n"
     ]
    },
    {
     "data": {
      "text/plain": [
       "<AxesSubplot:>"
      ]
     },
     "execution_count": 122,
     "metadata": {},
     "output_type": "execute_result"
    },
    {
     "data": {
      "image/png": "[encoded data removed]",
      "text/plain": [
       "<Figure size 1440x1080 with 1 Axes>"
      ]
     },
     "metadata": {
      "needs_background": "light"
     },
     "output_type": "display_data"
    }
   ],
   "source": [
    "print('Среднее кол-во сырья Pb:',df2['rougher.input.feed_pb'].mean())\n",
    "print('Медиана кол-ва сырья Pb:',df2['rougher.input.feed_pb'].median())\n",
    "print('Среднее кол-во чернового концентрата Pb:',df2['rougher.output.concentrate_pb'].mean())\n",
    "print('Медиана кол-ва чернового концентрата Pb:',df2['rougher.output.concentrate_pb'].median())\n",
    "print('Среднее кол-во очищенного концентрата Pb:',df2['primary_cleaner.output.concentrate_pb'].mean())\n",
    "print('Медиана кол-ва очищенного концентрата Pb:',df2['primary_cleaner.output.concentrate_pb'].median())\n",
    "print('Среднее кол-во финального концентрата Pb:',df2['final.output.concentrate_pb'].mean())\n",
    "print('Медиана кол-ва финального концентрата Pb:',df2['final.output.concentrate_pb'].median())\n",
    "df2.boxplot(column=['rougher.input.feed_pb','rougher.output.concentrate_pb',\n",
    "            'primary_cleaner.output.concentrate_pb','final.output.concentrate_pb'],figsize=(20,15))"
   ]
  },
  {
   "cell_type": "markdown",
   "metadata": {},
   "source": [
    "Концентрация свинца растет до финальной обработки. Выбросов также много, как и у других металлов."
   ]
  },
  {
   "cell_type": "markdown",
   "metadata": {},
   "source": [
    "Возможно между выбросами есть корреляция, например если в руде намного больше одного из металлов, то будет меньше других, что даст им выброс. Также отличия в тех. процессе очевидно по разному влияет на эти металлы."
   ]
  },
  {
   "cell_type": "code",
   "execution_count": 123,
   "metadata": {},
   "outputs": [
    {
     "data": {
      "text/plain": [
       "(0.0, 150.0)"
      ]
     },
     "execution_count": 123,
     "metadata": {},
     "output_type": "execute_result"
    },
    {
     "data": {
      "image/png": "[encoded data removed]",
      "text/plain": [
       "<Figure size 1440x1080 with 1 Axes>"
      ]
     },
     "metadata": {
      "needs_background": "light"
     },
     "output_type": "display_data"
    }
   ],
   "source": [
    "df_train2.boxplot(column=['rougher.input.feed_size'],figsize=(20,15))\n",
    "plt.ylim(0,150)"
   ]
  },
  {
   "cell_type": "code",
   "execution_count": 124,
   "metadata": {},
   "outputs": [
    {
     "data": {
      "text/plain": [
       "(0.0, 150.0)"
      ]
     },
     "execution_count": 124,
     "metadata": {},
     "output_type": "execute_result"
    },
    {
     "data": {
      "image/png": "[encoded data removed]",
      "text/plain": [
       "<Figure size 1440x1080 with 1 Axes>"
      ]
     },
     "metadata": {
      "needs_background": "light"
     },
     "output_type": "display_data"
    }
   ],
   "source": [
    "df_test2.boxplot(column=['rougher.input.feed_size'],figsize=(20,15))\n",
    "plt.ylim(0,150)"
   ]
  },
  {
   "cell_type": "markdown",
   "metadata": {},
   "source": [
    "Распределение похоже в обоих датафреймах, оценка будет правильной."
   ]
  },
  {
   "cell_type": "code",
   "execution_count": 125,
   "metadata": {},
   "outputs": [
    {
     "data": {
      "text/plain": [
       "0        58.137072\n",
       "1        58.699942\n",
       "2        58.927421\n",
       "3        58.714815\n",
       "4        59.065251\n",
       "           ...    \n",
       "19434    58.775321\n",
       "19435    59.719404\n",
       "19436    59.503013\n",
       "19437    59.173650\n",
       "19438    58.902686\n",
       "Name: final.output.total_concentrate, Length: 17908, dtype: float64"
      ]
     },
     "execution_count": 125,
     "metadata": {},
     "output_type": "execute_result"
    },
    {
     "data": {
      "image/png": "[encoded data removed]",
      "text/plain": [
       "<Figure size 1440x1080 with 1 Axes>"
      ]
     },
     "metadata": {
      "needs_background": "light"
     },
     "output_type": "display_data"
    }
   ],
   "source": [
    "df2['rougher.input.total_concentrate']=df2['rougher.input.feed_pb']+df2['rougher.input.feed_au']+df2['rougher.input.feed_ag']\n",
    "df2['rougher.output.total_concentrate']=df2['rougher.output.concentrate_pb']+df2['rougher.output.concentrate_au']\\\n",
    "    +df2['rougher.output.concentrate_ag']\n",
    "df2['primary_cleaner.output.total_concentrate']=df2['primary_cleaner.output.concentrate_pb']\\\n",
    "    +df2['primary_cleaner.output.concentrate_au']+df2['primary_cleaner.output.concentrate_ag']\n",
    "df2['final.output.total_concentrate']=df2['final.output.concentrate_pb']\\\n",
    "    +df2['final.output.concentrate_au']+df2['final.output.concentrate_ag']\n",
    "df2.boxplot(column=['rougher.input.total_concentrate','rougher.output.total_concentrate',\n",
    "            'primary_cleaner.output.total_concentrate','final.output.total_concentrate'],figsize=(20,15))\n",
    "df2['final.output.total_concentrate']"
   ]
  },
  {
   "cell_type": "markdown",
   "metadata": {},
   "source": [
    "Суммарная концентрация металлов стабильно растет с каждым шагом процесса и обычно составляет около 60% на финальной стадии. Однако в распределении очень много выбросов, хотя их почти нет в исходном сырье. Это еще раз подтверждает, что процесс очень сильно влияет на результат."
   ]
  },
  {
   "cell_type": "code",
   "execution_count": 126,
   "metadata": {},
   "outputs": [],
   "source": [
    "list0=df2[(df2['rougher.input.total_concentrate']==0)|(df2['rougher.output.total_concentrate']==0)\n",
    "                |(df2['primary_cleaner.output.total_concentrate']==0)\n",
    "                |(df2['final.output.total_concentrate']==0)]['date'].tolist()"
   ]
  },
  {
   "cell_type": "code",
   "execution_count": 127,
   "metadata": {},
   "outputs": [],
   "source": [
    "df_train2.reset_index(drop=True,inplace=True)\n",
    "df_test2.reset_index(drop=True,inplace=True)"
   ]
  },
  {
   "cell_type": "code",
   "execution_count": 128,
   "metadata": {},
   "outputs": [],
   "source": [
    "for i in range(len(df_train2)):\n",
    "    if df_train2['date'][i] in list0:\n",
    "        df_train2.drop(i, inplace=True)\n",
    "for i in range(len(df_test2)):\n",
    "    if df_test2['date'][i] in list0:\n",
    "        df_test2.drop(i, inplace=True)"
   ]
  },
  {
   "cell_type": "markdown",
   "metadata": {},
   "source": [
    "## Модель"
   ]
  },
  {
   "cell_type": "code",
   "execution_count": 129,
   "metadata": {},
   "outputs": [],
   "source": [
    "def sMAPE(predicted_values, real_values):\n",
    "    numerator = np.abs(real_values - predicted_values)\n",
    "    denominator = (np.abs(real_values) + np.abs(predicted_values)) / 2 \n",
    "\n",
    "    return 1 / len(real_values) * np.sum(numerator / denominator) * 100 "
   ]
  },
  {
   "cell_type": "code",
   "execution_count": 130,
   "metadata": {},
   "outputs": [],
   "source": [
    "def final_sMAPE(predicted_values1, real_values1, predicted_values2, real_values2):\n",
    "    sMAPE1= sMAPE(predicted_values1, real_values1)\n",
    "    sMAPE2= sMAPE(predicted_values2, real_values2)\n",
    "    return sMAPE1*0.25+sMAPE2*0.75"
   ]
  },
  {
   "cell_type": "markdown",
   "metadata": {},
   "source": [
    "Функции для определения метрик качества готовы, осталось выделить для модели features и target. В features возьмем все параметры, которые есть в тестовой выборке (кроме даты). Target - recovery после флотации и финальное. Чтобы можно было проверить качество модели, добавим их в тестовый датафрейм. В features для флотации логично включить только столбцы с параметром rougher. "
   ]
  },
  {
   "cell_type": "code",
   "execution_count": 131,
   "metadata": {},
   "outputs": [
    {
     "data": {
      "text/plain": [
       "False    17908\n",
       "dtype: int64"
      ]
     },
     "execution_count": 131,
     "metadata": {},
     "output_type": "execute_result"
    }
   ],
   "source": [
    "df2.duplicated(subset='date').value_counts()#ни одна дата не совпадает, используем их для поиска значений recovery"
   ]
  },
  {
   "cell_type": "code",
   "execution_count": 132,
   "metadata": {},
   "outputs": [],
   "source": [
    "merge_df=df2[['date','rougher.output.recovery','final.output.recovery']]\n",
    "df_test2=df_test2.merge(merge_df,how='left')\n",
    "df_test2.drop(['date'], axis=1, inplace=True)"
   ]
  },
  {
   "cell_type": "code",
   "execution_count": 133,
   "metadata": {
    "scrolled": true
   },
   "outputs": [
    {
     "name": "stdout",
     "output_type": "stream",
     "text": [
      "<class 'pandas.core.frame.DataFrame'>\n",
      "Int64Index: 12923 entries, 0 to 13370\n",
      "Data columns (total 54 columns):\n",
      " #   Column                                      Non-Null Count  Dtype  \n",
      "---  ------                                      --------------  -----  \n",
      " 0   rougher.input.feed_au                       12923 non-null  float64\n",
      " 1   rougher.input.feed_ag                       12923 non-null  float64\n",
      " 2   rougher.input.feed_pb                       12923 non-null  float64\n",
      " 3   rougher.input.feed_sol                      12923 non-null  float64\n",
      " 4   rougher.input.feed_rate                     12923 non-null  float64\n",
      " 5   rougher.input.feed_size                     12923 non-null  float64\n",
      " 6   rougher.input.floatbank10_sulfate           12923 non-null  float64\n",
      " 7   rougher.input.floatbank10_xanthate          12923 non-null  float64\n",
      " 8   rougher.state.floatbank10_a_air             12923 non-null  float64\n",
      " 9   rougher.state.floatbank10_a_level           12923 non-null  float64\n",
      " 10  rougher.state.floatbank10_b_air             12923 non-null  float64\n",
      " 11  rougher.state.floatbank10_b_level           12923 non-null  float64\n",
      " 12  rougher.state.floatbank10_c_air             12923 non-null  float64\n",
      " 13  rougher.state.floatbank10_c_level           12923 non-null  float64\n",
      " 14  rougher.state.floatbank10_d_air             12923 non-null  float64\n",
      " 15  rougher.state.floatbank10_d_level           12923 non-null  float64\n",
      " 16  rougher.state.floatbank10_e_air             12923 non-null  float64\n",
      " 17  rougher.state.floatbank10_e_level           12923 non-null  float64\n",
      " 18  rougher.state.floatbank10_f_air             12923 non-null  float64\n",
      " 19  rougher.state.floatbank10_f_level           12923 non-null  float64\n",
      " 20  rougher.input.floatbank11_sulfate           12923 non-null  float64\n",
      " 21  rougher.input.floatbank11_xanthate          12923 non-null  float64\n",
      " 22  rougher.output.recovery                     12923 non-null  float64\n",
      " 23  primary_cleaner.input.sulfate               12923 non-null  float64\n",
      " 24  primary_cleaner.input.depressant            12923 non-null  float64\n",
      " 25  primary_cleaner.input.feed_size             12923 non-null  float64\n",
      " 26  primary_cleaner.input.xanthate              12923 non-null  float64\n",
      " 27  primary_cleaner.state.floatbank8_a_air      12923 non-null  float64\n",
      " 28  primary_cleaner.state.floatbank8_a_level    12923 non-null  float64\n",
      " 29  primary_cleaner.state.floatbank8_b_air      12923 non-null  float64\n",
      " 30  primary_cleaner.state.floatbank8_b_level    12923 non-null  float64\n",
      " 31  primary_cleaner.state.floatbank8_c_air      12923 non-null  float64\n",
      " 32  primary_cleaner.state.floatbank8_c_level    12923 non-null  float64\n",
      " 33  primary_cleaner.state.floatbank8_d_air      12923 non-null  float64\n",
      " 34  primary_cleaner.state.floatbank8_d_level    12923 non-null  float64\n",
      " 35  secondary_cleaner.state.floatbank2_a_air    12923 non-null  float64\n",
      " 36  secondary_cleaner.state.floatbank2_a_level  12923 non-null  float64\n",
      " 37  secondary_cleaner.state.floatbank2_b_air    12923 non-null  float64\n",
      " 38  secondary_cleaner.state.floatbank2_b_level  12923 non-null  float64\n",
      " 39  secondary_cleaner.state.floatbank3_a_air    12923 non-null  float64\n",
      " 40  secondary_cleaner.state.floatbank3_a_level  12923 non-null  float64\n",
      " 41  secondary_cleaner.state.floatbank3_b_air    12923 non-null  float64\n",
      " 42  secondary_cleaner.state.floatbank3_b_level  12923 non-null  float64\n",
      " 43  secondary_cleaner.state.floatbank4_a_air    12923 non-null  float64\n",
      " 44  secondary_cleaner.state.floatbank4_a_level  12923 non-null  float64\n",
      " 45  secondary_cleaner.state.floatbank4_b_air    12923 non-null  float64\n",
      " 46  secondary_cleaner.state.floatbank4_b_level  12923 non-null  float64\n",
      " 47  secondary_cleaner.state.floatbank5_a_air    12923 non-null  float64\n",
      " 48  secondary_cleaner.state.floatbank5_a_level  12923 non-null  float64\n",
      " 49  secondary_cleaner.state.floatbank5_b_air    12923 non-null  float64\n",
      " 50  secondary_cleaner.state.floatbank5_b_level  12923 non-null  float64\n",
      " 51  secondary_cleaner.state.floatbank6_a_air    12923 non-null  float64\n",
      " 52  secondary_cleaner.state.floatbank6_a_level  12923 non-null  float64\n",
      " 53  final.output.recovery                       12923 non-null  float64\n",
      "dtypes: float64(54)\n",
      "memory usage: 5.9 MB\n"
     ]
    }
   ],
   "source": [
    "for i in df_train2.columns:\n",
    "    if i not in df_test2.columns:\n",
    "        df_train2.drop([i], axis=1, inplace=True)\n",
    "df_train2.info()"
   ]
  },
  {
   "cell_type": "code",
   "execution_count": 134,
   "metadata": {
    "scrolled": true
   },
   "outputs": [
    {
     "name": "stdout",
     "output_type": "stream",
     "text": [
      "<class 'pandas.core.frame.DataFrame'>\n",
      "Int64Index: 4537 entries, 0 to 4536\n",
      "Data columns (total 23 columns):\n",
      " #   Column                              Non-Null Count  Dtype  \n",
      "---  ------                              --------------  -----  \n",
      " 0   rougher.input.feed_au               4537 non-null   float64\n",
      " 1   rougher.input.feed_ag               4537 non-null   float64\n",
      " 2   rougher.input.feed_pb               4537 non-null   float64\n",
      " 3   rougher.input.feed_sol              4537 non-null   float64\n",
      " 4   rougher.input.feed_rate             4537 non-null   float64\n",
      " 5   rougher.input.feed_size             4537 non-null   float64\n",
      " 6   rougher.input.floatbank10_sulfate   4537 non-null   float64\n",
      " 7   rougher.input.floatbank10_xanthate  4537 non-null   float64\n",
      " 8   rougher.state.floatbank10_a_air     4537 non-null   float64\n",
      " 9   rougher.state.floatbank10_a_level   4537 non-null   float64\n",
      " 10  rougher.state.floatbank10_b_air     4537 non-null   float64\n",
      " 11  rougher.state.floatbank10_b_level   4537 non-null   float64\n",
      " 12  rougher.state.floatbank10_c_air     4537 non-null   float64\n",
      " 13  rougher.state.floatbank10_c_level   4537 non-null   float64\n",
      " 14  rougher.state.floatbank10_d_air     4537 non-null   float64\n",
      " 15  rougher.state.floatbank10_d_level   4537 non-null   float64\n",
      " 16  rougher.state.floatbank10_e_air     4537 non-null   float64\n",
      " 17  rougher.state.floatbank10_e_level   4537 non-null   float64\n",
      " 18  rougher.state.floatbank10_f_air     4537 non-null   float64\n",
      " 19  rougher.state.floatbank10_f_level   4537 non-null   float64\n",
      " 20  rougher.input.floatbank11_sulfate   4537 non-null   float64\n",
      " 21  rougher.input.floatbank11_xanthate  4537 non-null   float64\n",
      " 22  rougher.output.recovery             4537 non-null   float64\n",
      "dtypes: float64(23)\n",
      "memory usage: 850.7 KB\n",
      "None\n",
      "<class 'pandas.core.frame.DataFrame'>\n",
      "Int64Index: 12923 entries, 0 to 13370\n",
      "Data columns (total 23 columns):\n",
      " #   Column                              Non-Null Count  Dtype  \n",
      "---  ------                              --------------  -----  \n",
      " 0   rougher.input.feed_au               12923 non-null  float64\n",
      " 1   rougher.input.feed_ag               12923 non-null  float64\n",
      " 2   rougher.input.feed_pb               12923 non-null  float64\n",
      " 3   rougher.input.feed_sol              12923 non-null  float64\n",
      " 4   rougher.input.feed_rate             12923 non-null  float64\n",
      " 5   rougher.input.feed_size             12923 non-null  float64\n",
      " 6   rougher.input.floatbank10_sulfate   12923 non-null  float64\n",
      " 7   rougher.input.floatbank10_xanthate  12923 non-null  float64\n",
      " 8   rougher.state.floatbank10_a_air     12923 non-null  float64\n",
      " 9   rougher.state.floatbank10_a_level   12923 non-null  float64\n",
      " 10  rougher.state.floatbank10_b_air     12923 non-null  float64\n",
      " 11  rougher.state.floatbank10_b_level   12923 non-null  float64\n",
      " 12  rougher.state.floatbank10_c_air     12923 non-null  float64\n",
      " 13  rougher.state.floatbank10_c_level   12923 non-null  float64\n",
      " 14  rougher.state.floatbank10_d_air     12923 non-null  float64\n",
      " 15  rougher.state.floatbank10_d_level   12923 non-null  float64\n",
      " 16  rougher.state.floatbank10_e_air     12923 non-null  float64\n",
      " 17  rougher.state.floatbank10_e_level   12923 non-null  float64\n",
      " 18  rougher.state.floatbank10_f_air     12923 non-null  float64\n",
      " 19  rougher.state.floatbank10_f_level   12923 non-null  float64\n",
      " 20  rougher.input.floatbank11_sulfate   12923 non-null  float64\n",
      " 21  rougher.input.floatbank11_xanthate  12923 non-null  float64\n",
      " 22  rougher.output.recovery             12923 non-null  float64\n",
      "dtypes: float64(23)\n",
      "memory usage: 2.9 MB\n"
     ]
    }
   ],
   "source": [
    "df_train_rougher=df_train2.drop(columns=df_train2.columns[-31:], axis=1)\n",
    "df_test_rougher=df_test2.drop(columns=df_test2.columns[-32:], axis=1)\n",
    "df_test_rougher['rougher.output.recovery']=df_test2['rougher.output.recovery']\n",
    "print(df_test_rougher.info())\n",
    "df_train_rougher.info()#датафреймы для первого таргета"
   ]
  },
  {
   "cell_type": "code",
   "execution_count": 135,
   "metadata": {},
   "outputs": [
    {
     "name": "stdout",
     "output_type": "stream",
     "text": [
      "(12923, 22)\n",
      "(12923,)\n",
      "(4537, 22)\n",
      "(4537,)\n",
      "\n",
      "(12923, 52)\n",
      "(12923,)\n",
      "(4537, 52)\n",
      "(4537,)\n"
     ]
    }
   ],
   "source": [
    "features_train_rougher = df_train_rougher.drop(['rougher.output.recovery'], axis=1)\n",
    "target_train_rougher = df_train_rougher['rougher.output.recovery']\n",
    "features_test_rougher = df_test_rougher.drop(['rougher.output.recovery'], axis=1)\n",
    "target_test_rougher = df_test_rougher['rougher.output.recovery']\n",
    "\n",
    "features_train_final = df_train2.drop(['rougher.output.recovery','final.output.recovery'], axis=1)\n",
    "target_train_final = df_train2['rougher.output.recovery']\n",
    "features_test_final = df_test2.drop(['rougher.output.recovery','final.output.recovery'], axis=1)\n",
    "target_test_final = df_test2['final.output.recovery']\n",
    "\n",
    "print(features_train_rougher.shape)\n",
    "print(target_train_rougher.shape)\n",
    "print(features_test_rougher.shape)\n",
    "print(target_test_rougher.shape)\n",
    "print()\n",
    "print(features_train_final.shape)\n",
    "print(target_train_final.shape)\n",
    "print(features_test_final.shape)\n",
    "print(target_test_final.shape)"
   ]
  },
  {
   "cell_type": "markdown",
   "metadata": {},
   "source": [
    "Сначала обучим модель для флотации."
   ]
  },
  {
   "cell_type": "code",
   "execution_count": 165,
   "metadata": {
    "scrolled": true
   },
   "outputs": [
    {
     "name": "stdout",
     "output_type": "stream",
     "text": [
      "Модель: RandomForestRegressor(max_depth=1, n_estimators=1, random_state=12345)\n",
      "Score: -6.838100209715011\n",
      "Модель: RandomForestRegressor(max_depth=2, n_estimators=1, random_state=12345)\n",
      "Score: -6.0397128562398565\n",
      "Модель: RandomForestRegressor(max_depth=3, n_estimators=1, random_state=12345)\n",
      "Score: -6.23513720696077\n",
      "Модель: RandomForestRegressor(max_depth=4, n_estimators=1, random_state=12345)\n",
      "Score: -6.088704689038434\n",
      "Модель: RandomForestRegressor(max_depth=5, n_estimators=1, random_state=12345)\n",
      "Score: -5.996458042871929\n",
      "Модель: RandomForestRegressor(max_depth=6, n_estimators=1, random_state=12345)\n",
      "Score: -6.237185918179108\n",
      "Модель: RandomForestRegressor(max_depth=7, n_estimators=1, random_state=12345)\n",
      "Score: -6.30833551219782\n",
      "Модель: RandomForestRegressor(max_depth=8, n_estimators=1, random_state=12345)\n",
      "Score: -6.618655628536489\n",
      "Модель: RandomForestRegressor(max_depth=9, n_estimators=1, random_state=12345)\n",
      "Score: -7.225282121857042\n",
      "Модель: RandomForestRegressor(max_depth=1, n_estimators=2, random_state=12345)\n",
      "Score: -6.809698933094012\n",
      "Модель: RandomForestRegressor(max_depth=2, n_estimators=2, random_state=12345)\n",
      "Score: -6.127336795157215\n",
      "Модель: RandomForestRegressor(max_depth=3, n_estimators=2, random_state=12345)\n",
      "Score: -6.152182192437233\n",
      "Модель: RandomForestRegressor(max_depth=4, n_estimators=2, random_state=12345)\n",
      "Score: -5.968258924922326\n",
      "Модель: RandomForestRegressor(max_depth=5, n_estimators=2, random_state=12345)\n",
      "Score: -5.840593070849873\n",
      "Модель: RandomForestRegressor(max_depth=6, n_estimators=2, random_state=12345)\n",
      "Score: -5.930485751540813\n",
      "Модель: RandomForestRegressor(max_depth=7, n_estimators=2, random_state=12345)\n",
      "Score: -6.006113097933389\n",
      "Модель: RandomForestRegressor(max_depth=8, n_estimators=2, random_state=12345)\n",
      "Score: -6.304202551326581\n",
      "Модель: RandomForestRegressor(max_depth=9, n_estimators=2, random_state=12345)\n",
      "Score: -6.718494297145069\n",
      "Модель: RandomForestRegressor(max_depth=1, n_estimators=3, random_state=12345)\n",
      "Score: -6.834902086394207\n",
      "Модель: RandomForestRegressor(max_depth=2, n_estimators=3, random_state=12345)\n",
      "Score: -6.047508146021519\n",
      "Модель: RandomForestRegressor(max_depth=3, n_estimators=3, random_state=12345)\n",
      "Score: -6.1467288518379855\n",
      "Модель: RandomForestRegressor(max_depth=4, n_estimators=3, random_state=12345)\n",
      "Score: -5.951724489578213\n",
      "Модель: RandomForestRegressor(max_depth=5, n_estimators=3, random_state=12345)\n",
      "Score: -5.755463555035747\n",
      "Модель: RandomForestRegressor(max_depth=6, n_estimators=3, random_state=12345)\n",
      "Score: -5.851133990829986\n",
      "Модель: RandomForestRegressor(max_depth=7, n_estimators=3, random_state=12345)\n",
      "Score: -5.8395910169662155\n",
      "Модель: RandomForestRegressor(max_depth=8, n_estimators=3, random_state=12345)\n",
      "Score: -6.103716408118806\n",
      "Модель: RandomForestRegressor(max_depth=9, n_estimators=3, random_state=12345)\n",
      "Score: -6.497249042563453\n",
      "Модель: RandomForestRegressor(max_depth=1, n_estimators=4, random_state=12345)\n",
      "Score: -6.827925260085725\n",
      "Модель: RandomForestRegressor(max_depth=2, n_estimators=4, random_state=12345)\n",
      "Score: -6.012387320163372\n",
      "Модель: RandomForestRegressor(max_depth=3, n_estimators=4, random_state=12345)\n",
      "Score: -6.0910737727626865\n",
      "Модель: RandomForestRegressor(max_depth=4, n_estimators=4, random_state=12345)\n",
      "Score: -5.827531643185184\n",
      "Модель: RandomForestRegressor(max_depth=5, n_estimators=4, random_state=12345)\n",
      "Score: -5.682905062515624\n",
      "Модель: RandomForestRegressor(max_depth=6, n_estimators=4, random_state=12345)\n",
      "Score: -5.800547640696455\n",
      "Модель: RandomForestRegressor(max_depth=7, n_estimators=4, random_state=12345)\n",
      "Score: -5.843324955191816\n",
      "Модель: RandomForestRegressor(max_depth=8, n_estimators=4, random_state=12345)\n",
      "Score: -6.031384770032647\n",
      "Модель: RandomForestRegressor(max_depth=9, n_estimators=4, random_state=12345)\n",
      "Score: -6.341232804346215\n",
      "Модель: RandomForestRegressor(max_depth=1, n_estimators=5, random_state=12345)\n",
      "Score: -6.825987228598021\n",
      "Модель: RandomForestRegressor(max_depth=2, n_estimators=5, random_state=12345)\n",
      "Score: -6.022236092009533\n",
      "Модель: RandomForestRegressor(max_depth=3, n_estimators=5, random_state=12345)\n",
      "Score: -6.0828554234661585\n",
      "Модель: RandomForestRegressor(max_depth=4, n_estimators=5, random_state=12345)\n",
      "Score: -5.815030285620169\n",
      "Модель: RandomForestRegressor(max_depth=5, n_estimators=5, random_state=12345)\n",
      "Score: -5.690735086367807\n",
      "Модель: RandomForestRegressor(max_depth=6, n_estimators=5, random_state=12345)\n",
      "Score: -5.7928083283462914\n",
      "Модель: RandomForestRegressor(max_depth=7, n_estimators=5, random_state=12345)\n",
      "Score: -5.8468333816798\n",
      "Модель: RandomForestRegressor(max_depth=8, n_estimators=5, random_state=12345)\n",
      "Score: -6.00528429538898\n",
      "Модель: RandomForestRegressor(max_depth=9, n_estimators=5, random_state=12345)\n",
      "Score: -6.255063464124007\n",
      "Модель: RandomForestRegressor(max_depth=1, n_estimators=6, random_state=12345)\n",
      "Score: -6.815675776994908\n",
      "Модель: RandomForestRegressor(max_depth=2, n_estimators=6, random_state=12345)\n",
      "Score: -6.043451376066709\n",
      "Модель: RandomForestRegressor(max_depth=3, n_estimators=6, random_state=12345)\n",
      "Score: -6.094099839734743\n",
      "Модель: RandomForestRegressor(max_depth=4, n_estimators=6, random_state=12345)\n",
      "Score: -5.86212841585574\n",
      "Модель: RandomForestRegressor(max_depth=5, n_estimators=6, random_state=12345)\n",
      "Score: -5.715987664576171\n",
      "Модель: RandomForestRegressor(max_depth=6, n_estimators=6, random_state=12345)\n",
      "Score: -5.817175271509692\n",
      "Модель: RandomForestRegressor(max_depth=7, n_estimators=6, random_state=12345)\n",
      "Score: -5.900290569091398\n",
      "Модель: RandomForestRegressor(max_depth=8, n_estimators=6, random_state=12345)\n",
      "Score: -6.047512973669835\n",
      "Модель: RandomForestRegressor(max_depth=9, n_estimators=6, random_state=12345)\n",
      "Score: -6.238982362287433\n",
      "Модель: RandomForestRegressor(max_depth=1, n_estimators=7, random_state=12345)\n",
      "Score: -6.809846147708778\n",
      "Модель: RandomForestRegressor(max_depth=2, n_estimators=7, random_state=12345)\n",
      "Score: -6.062327224903496\n",
      "Модель: RandomForestRegressor(max_depth=3, n_estimators=7, random_state=12345)\n",
      "Score: -6.111197560451087\n",
      "Модель: RandomForestRegressor(max_depth=4, n_estimators=7, random_state=12345)\n",
      "Score: -5.892649292867228\n",
      "Модель: RandomForestRegressor(max_depth=5, n_estimators=7, random_state=12345)\n",
      "Score: -5.793686369571465\n",
      "Модель: RandomForestRegressor(max_depth=6, n_estimators=7, random_state=12345)\n",
      "Score: -5.882062472894395\n",
      "Модель: RandomForestRegressor(max_depth=7, n_estimators=7, random_state=12345)\n",
      "Score: -5.962250056011085\n",
      "Модель: RandomForestRegressor(max_depth=8, n_estimators=7, random_state=12345)\n",
      "Score: -6.054016314766687\n",
      "Модель: RandomForestRegressor(max_depth=9, n_estimators=7, random_state=12345)\n",
      "Score: -6.316281871751185\n",
      "Модель: RandomForestRegressor(max_depth=1, n_estimators=8, random_state=12345)\n",
      "Score: -6.8144458522775695\n",
      "Модель: RandomForestRegressor(max_depth=2, n_estimators=8, random_state=12345)\n",
      "Score: -6.050289846208688\n",
      "Модель: RandomForestRegressor(max_depth=3, n_estimators=8, random_state=12345)\n",
      "Score: -6.121131728943294\n",
      "Модель: RandomForestRegressor(max_depth=4, n_estimators=8, random_state=12345)\n",
      "Score: -5.92454688860987\n",
      "Модель: RandomForestRegressor(max_depth=5, n_estimators=8, random_state=12345)\n",
      "Score: -5.797998554048759\n",
      "Модель: RandomForestRegressor(max_depth=6, n_estimators=8, random_state=12345)\n",
      "Score: -5.8685675819381204\n",
      "Модель: RandomForestRegressor(max_depth=7, n_estimators=8, random_state=12345)\n",
      "Score: -5.960584482732597\n",
      "Модель: RandomForestRegressor(max_depth=8, n_estimators=8, random_state=12345)\n",
      "Score: -6.031878140880851\n",
      "Модель: RandomForestRegressor(max_depth=9, n_estimators=8, random_state=12345)\n",
      "Score: -6.227670695799661\n",
      "Модель: RandomForestRegressor(max_depth=1, n_estimators=9, random_state=12345)\n",
      "Score: -6.829470426847097\n",
      "Модель: RandomForestRegressor(max_depth=2, n_estimators=9, random_state=12345)\n",
      "Score: -6.0402243977280055\n",
      "Модель: RandomForestRegressor(max_depth=3, n_estimators=9, random_state=12345)\n",
      "Score: -6.12946311299055\n",
      "Модель: RandomForestRegressor(max_depth=4, n_estimators=9, random_state=12345)\n",
      "Score: -5.913566503408044\n",
      "Модель: RandomForestRegressor(max_depth=5, n_estimators=9, random_state=12345)\n",
      "Score: -5.763668406064495\n",
      "Модель: RandomForestRegressor(max_depth=6, n_estimators=9, random_state=12345)\n",
      "Score: -5.832850079504366\n",
      "Модель: RandomForestRegressor(max_depth=7, n_estimators=9, random_state=12345)\n",
      "Score: -5.928474385819673\n",
      "Модель: RandomForestRegressor(max_depth=8, n_estimators=9, random_state=12345)\n",
      "Score: -6.0025150066823505\n",
      "Модель: RandomForestRegressor(max_depth=9, n_estimators=9, random_state=12345)\n",
      "Score: -6.210546630302966\n",
      "Модель: RandomForestRegressor(max_depth=1, n_estimators=10, random_state=12345)\n",
      "Score: -6.823220392493385\n",
      "Модель: RandomForestRegressor(max_depth=2, n_estimators=10, random_state=12345)\n",
      "Score: -6.030150539009382\n",
      "Модель: RandomForestRegressor(max_depth=3, n_estimators=10, random_state=12345)\n",
      "Score: -6.096221004726506\n",
      "Модель: RandomForestRegressor(max_depth=4, n_estimators=10, random_state=12345)\n",
      "Score: -5.880628358357659\n",
      "Модель: RandomForestRegressor(max_depth=5, n_estimators=10, random_state=12345)\n",
      "Score: -5.734578958952622\n",
      "Модель: RandomForestRegressor(max_depth=6, n_estimators=10, random_state=12345)\n",
      "Score: -5.823867815176355\n",
      "Модель: RandomForestRegressor(max_depth=7, n_estimators=10, random_state=12345)\n",
      "Score: -5.909413770550239\n",
      "Модель: RandomForestRegressor(max_depth=8, n_estimators=10, random_state=12345)\n",
      "Score: -5.98210230265053\n",
      "Модель: RandomForestRegressor(max_depth=9, n_estimators=10, random_state=12345)\n",
      "Score: -6.158454292433335\n",
      "Модель: RandomForestRegressor(max_depth=1, n_estimators=11, random_state=12345)\n",
      "Score: -6.787840314760745\n",
      "Модель: RandomForestRegressor(max_depth=2, n_estimators=11, random_state=12345)\n",
      "Score: -6.008620029299314\n",
      "Модель: RandomForestRegressor(max_depth=3, n_estimators=11, random_state=12345)\n",
      "Score: -6.036227005327049\n",
      "Модель: RandomForestRegressor(max_depth=4, n_estimators=11, random_state=12345)\n",
      "Score: -5.851322479632796\n",
      "Модель: RandomForestRegressor(max_depth=5, n_estimators=11, random_state=12345)\n",
      "Score: -5.719298337113395\n",
      "Модель: RandomForestRegressor(max_depth=6, n_estimators=11, random_state=12345)\n",
      "Score: -5.812448455642162\n",
      "Модель: RandomForestRegressor(max_depth=7, n_estimators=11, random_state=12345)\n",
      "Score: -5.909357411418957\n",
      "Модель: RandomForestRegressor(max_depth=8, n_estimators=11, random_state=12345)\n",
      "Score: -5.979739210400275\n",
      "Модель: RandomForestRegressor(max_depth=9, n_estimators=11, random_state=12345)\n",
      "Score: -6.139474172221645\n",
      "Модель: RandomForestRegressor(max_depth=1, n_estimators=12, random_state=12345)\n",
      "Score: -6.788223759542052\n",
      "Модель: RandomForestRegressor(max_depth=2, n_estimators=12, random_state=12345)\n",
      "Score: -6.012086123236607\n",
      "Модель: RandomForestRegressor(max_depth=3, n_estimators=12, random_state=12345)\n",
      "Score: -6.037562161768395\n",
      "Модель: RandomForestRegressor(max_depth=4, n_estimators=12, random_state=12345)\n",
      "Score: -5.824079145157228\n",
      "Модель: RandomForestRegressor(max_depth=5, n_estimators=12, random_state=12345)\n",
      "Score: -5.691887785868456\n",
      "Модель: RandomForestRegressor(max_depth=6, n_estimators=12, random_state=12345)\n",
      "Score: -5.774505011947585\n",
      "Модель: RandomForestRegressor(max_depth=7, n_estimators=12, random_state=12345)\n",
      "Score: -5.888477960163416\n",
      "Модель: RandomForestRegressor(max_depth=8, n_estimators=12, random_state=12345)\n",
      "Score: -5.964704827017209\n",
      "Модель: RandomForestRegressor(max_depth=9, n_estimators=12, random_state=12345)\n",
      "Score: -6.140452702299605\n",
      "Модель: RandomForestRegressor(max_depth=1, n_estimators=13, random_state=12345)\n",
      "Score: -6.766687846956475\n",
      "Модель: RandomForestRegressor(max_depth=2, n_estimators=13, random_state=12345)\n",
      "Score: -5.995500482213368\n",
      "Модель: RandomForestRegressor(max_depth=3, n_estimators=13, random_state=12345)\n",
      "Score: -5.9899046259174895\n",
      "Модель: RandomForestRegressor(max_depth=4, n_estimators=13, random_state=12345)\n",
      "Score: -5.8034718841307775\n",
      "Модель: RandomForestRegressor(max_depth=5, n_estimators=13, random_state=12345)\n",
      "Score: -5.691107838151614\n",
      "Модель: RandomForestRegressor(max_depth=6, n_estimators=13, random_state=12345)\n",
      "Score: -5.792009305592432\n",
      "Модель: RandomForestRegressor(max_depth=7, n_estimators=13, random_state=12345)\n",
      "Score: -5.912338978791554\n",
      "Модель: RandomForestRegressor(max_depth=8, n_estimators=13, random_state=12345)\n",
      "Score: -5.977075013108465\n",
      "Модель: RandomForestRegressor(max_depth=9, n_estimators=13, random_state=12345)\n",
      "Score: -6.162352840347219\n",
      "Модель: RandomForestRegressor(max_depth=1, n_estimators=14, random_state=12345)\n",
      "Score: -6.772233808343261\n",
      "Модель: RandomForestRegressor(max_depth=2, n_estimators=14, random_state=12345)\n",
      "Score: -5.990125931961167\n",
      "Модель: RandomForestRegressor(max_depth=3, n_estimators=14, random_state=12345)\n",
      "Score: -5.996092798987536\n",
      "Модель: RandomForestRegressor(max_depth=4, n_estimators=14, random_state=12345)\n",
      "Score: -5.813362892968389\n",
      "Модель: RandomForestRegressor(max_depth=5, n_estimators=14, random_state=12345)\n",
      "Score: -5.7260092714891915\n",
      "Модель: RandomForestRegressor(max_depth=6, n_estimators=14, random_state=12345)\n",
      "Score: -5.794815620491267\n",
      "Модель: RandomForestRegressor(max_depth=7, n_estimators=14, random_state=12345)\n",
      "Score: -5.938870109852937\n",
      "Модель: RandomForestRegressor(max_depth=8, n_estimators=14, random_state=12345)\n",
      "Score: -6.0333703121843705\n",
      "Модель: RandomForestRegressor(max_depth=9, n_estimators=14, random_state=12345)\n",
      "Score: -6.191461616531565\n",
      "Модель: RandomForestRegressor(max_depth=1, n_estimators=15, random_state=12345)\n",
      "Score: -6.772663126581568\n",
      "Модель: RandomForestRegressor(max_depth=2, n_estimators=15, random_state=12345)\n",
      "Score: -5.9950688824226885\n",
      "Модель: RandomForestRegressor(max_depth=3, n_estimators=15, random_state=12345)\n",
      "Score: -6.005399283026202\n",
      "Модель: RandomForestRegressor(max_depth=4, n_estimators=15, random_state=12345)\n",
      "Score: -5.813443403969266\n",
      "Модель: RandomForestRegressor(max_depth=5, n_estimators=15, random_state=12345)\n",
      "Score: -5.725190074374201\n",
      "Модель: RandomForestRegressor(max_depth=6, n_estimators=15, random_state=12345)\n",
      "Score: -5.791901945790757\n",
      "Модель: RandomForestRegressor(max_depth=7, n_estimators=15, random_state=12345)\n",
      "Score: -5.942831914107443\n",
      "Модель: RandomForestRegressor(max_depth=8, n_estimators=15, random_state=12345)\n",
      "Score: -6.04118810612565\n",
      "Модель: RandomForestRegressor(max_depth=9, n_estimators=15, random_state=12345)\n",
      "Score: -6.187204848616919\n",
      "Модель: RandomForestRegressor(max_depth=1, n_estimators=16, random_state=12345)\n",
      "Score: -6.783141939948583\n",
      "Модель: RandomForestRegressor(max_depth=2, n_estimators=16, random_state=12345)\n",
      "Score: -6.011351711660087\n",
      "Модель: RandomForestRegressor(max_depth=3, n_estimators=16, random_state=12345)\n",
      "Score: -6.013391347708918\n",
      "Модель: RandomForestRegressor(max_depth=4, n_estimators=16, random_state=12345)\n",
      "Score: -5.815682487272102\n",
      "Модель: RandomForestRegressor(max_depth=5, n_estimators=16, random_state=12345)\n",
      "Score: -5.72741154442335\n",
      "Модель: RandomForestRegressor(max_depth=6, n_estimators=16, random_state=12345)\n",
      "Score: -5.792642090683145\n",
      "Модель: RandomForestRegressor(max_depth=7, n_estimators=16, random_state=12345)\n",
      "Score: -5.933958480019493\n",
      "Модель: RandomForestRegressor(max_depth=8, n_estimators=16, random_state=12345)\n",
      "Score: -6.0497633848658765\n",
      "Модель: RandomForestRegressor(max_depth=9, n_estimators=16, random_state=12345)\n",
      "Score: -6.169918590334036\n",
      "Модель: RandomForestRegressor(max_depth=1, n_estimators=17, random_state=12345)\n",
      "Score: -6.787076245680991\n",
      "Модель: RandomForestRegressor(max_depth=2, n_estimators=17, random_state=12345)\n",
      "Score: -6.014805301564115\n",
      "Модель: RandomForestRegressor(max_depth=3, n_estimators=17, random_state=12345)\n",
      "Score: -6.010273916111605\n",
      "Модель: RandomForestRegressor(max_depth=4, n_estimators=17, random_state=12345)\n",
      "Score: -5.83593258445322\n",
      "Модель: RandomForestRegressor(max_depth=5, n_estimators=17, random_state=12345)\n",
      "Score: -5.738788888410268\n",
      "Модель: RandomForestRegressor(max_depth=6, n_estimators=17, random_state=12345)\n",
      "Score: -5.77776127685138\n",
      "Модель: RandomForestRegressor(max_depth=7, n_estimators=17, random_state=12345)\n",
      "Score: -5.9075012912791705\n",
      "Модель: RandomForestRegressor(max_depth=8, n_estimators=17, random_state=12345)\n",
      "Score: -6.0210311664846285\n",
      "Модель: RandomForestRegressor(max_depth=9, n_estimators=17, random_state=12345)\n",
      "Score: -6.132796254281102\n",
      "Модель: RandomForestRegressor(max_depth=1, n_estimators=18, random_state=12345)\n",
      "Score: -6.776789773865849\n",
      "Модель: RandomForestRegressor(max_depth=2, n_estimators=18, random_state=12345)\n",
      "Score: -6.022682265122453\n",
      "Модель: RandomForestRegressor(max_depth=3, n_estimators=18, random_state=12345)\n",
      "Score: -5.988006586072079\n",
      "Модель: RandomForestRegressor(max_depth=4, n_estimators=18, random_state=12345)\n",
      "Score: -5.847230055415899\n",
      "Модель: RandomForestRegressor(max_depth=5, n_estimators=18, random_state=12345)\n",
      "Score: -5.748472650840109\n",
      "Модель: RandomForestRegressor(max_depth=6, n_estimators=18, random_state=12345)\n",
      "Score: -5.78357920980137\n",
      "Модель: RandomForestRegressor(max_depth=7, n_estimators=18, random_state=12345)\n",
      "Score: -5.926199003107729\n",
      "Модель: RandomForestRegressor(max_depth=8, n_estimators=18, random_state=12345)\n",
      "Score: -6.03801419239735\n",
      "Модель: RandomForestRegressor(max_depth=9, n_estimators=18, random_state=12345)\n",
      "Score: -6.136149017438553\n",
      "Модель: RandomForestRegressor(max_depth=1, n_estimators=19, random_state=12345)\n",
      "Score: -6.781427226140778\n",
      "Модель: RandomForestRegressor(max_depth=2, n_estimators=19, random_state=12345)\n",
      "Score: -6.023735834220133\n",
      "Модель: RandomForestRegressor(max_depth=3, n_estimators=19, random_state=12345)\n",
      "Score: -5.996504993599789\n",
      "Модель: RandomForestRegressor(max_depth=4, n_estimators=19, random_state=12345)\n",
      "Score: -5.859461329539602\n",
      "Модель: RandomForestRegressor(max_depth=5, n_estimators=19, random_state=12345)\n",
      "Score: -5.744929849678536\n",
      "Модель: RandomForestRegressor(max_depth=6, n_estimators=19, random_state=12345)\n",
      "Score: -5.766738748316473\n",
      "Модель: RandomForestRegressor(max_depth=7, n_estimators=19, random_state=12345)\n",
      "Score: -5.918953565174659\n",
      "Модель: RandomForestRegressor(max_depth=8, n_estimators=19, random_state=12345)\n",
      "Score: -6.03447371008622\n",
      "Модель: RandomForestRegressor(max_depth=9, n_estimators=19, random_state=12345)\n",
      "Score: -6.136166558901735\n",
      "Лучшая модель: RandomForestRegressor(max_depth=5, n_estimators=4, random_state=12345)\n",
      "Score лучшей модели: -5.682905062515624\n"
     ]
    }
   ],
   "source": [
    "smape_scorer = make_scorer(sMAPE, greater_is_better=False)\n",
    "best_model = None\n",
    "best_score = -10\n",
    "for est in range(1, 20):\n",
    "    for depth in range(1,10):\n",
    "        model = RandomForestRegressor(random_state=12345, n_estimators=est, max_depth=depth)\n",
    "        model.fit(features_train_rougher,target_train_rougher)\n",
    "        score=cross_val_score(model, features_train_rougher, target_train_rougher, scoring=smape_scorer, cv=5).mean()\n",
    "        if score > best_score:\n",
    "            best_model = model\n",
    "            best_score = score\n",
    "        print(\"Модель:\", model)\n",
    "        print(\"Score:\", score)\n",
    "print(\"Лучшая модель:\", best_model)\n",
    "print(\"Score лучшей модели:\", best_score)\n",
    "        "
   ]
  },
  {
   "cell_type": "code",
   "execution_count": 139,
   "metadata": {},
   "outputs": [
    {
     "data": {
      "text/plain": [
       "-6.15299196677391"
      ]
     },
     "execution_count": 139,
     "metadata": {},
     "output_type": "execute_result"
    }
   ],
   "source": [
    "model = LinearRegression()\n",
    "model.fit(features_train_rougher, target_train_rougher)\n",
    "score=cross_val_score(model, features_train_rougher, target_train_rougher, scoring=smape_scorer, cv=5).mean()\n",
    "score"
   ]
  },
  {
   "cell_type": "code",
   "execution_count": 187,
   "metadata": {
    "scrolled": true
   },
   "outputs": [
    {
     "data": {
      "text/plain": [
       "{'max_depth': 8, 'max_features': 4, 'min_samples_leaf': 2, 'n_estimators': 9}"
      ]
     },
     "execution_count": 187,
     "metadata": {},
     "output_type": "execute_result"
    }
   ],
   "source": [
    "model = RandomForestRegressor(random_state=12345)\n",
    "model.fit(features_train_final,target_train_final)\n",
    "parameters = {'n_estimators' : sp_randInt(1, 15), 'max_depth' : sp_randInt(1, 10)\n",
    "              , 'max_features' : sp_randInt(1, 5), 'min_samples_leaf' : sp_randInt(1, 5)}\n",
    "randm_src = RandomizedSearchCV(estimator=model, param_distributions=parameters, cv=5, scoring=smape_scorer, random_state=12345)\n",
    "randm_src.fit(features_train_final, target_train_final)\n",
    "randm_src.best_params_"
   ]
  },
  {
   "cell_type": "code",
   "execution_count": 203,
   "metadata": {},
   "outputs": [
    {
     "data": {
      "text/plain": [
       "-6.047549558564052"
      ]
     },
     "execution_count": 203,
     "metadata": {},
     "output_type": "execute_result"
    }
   ],
   "source": [
    "model = RandomForestRegressor(random_state=12345, criterion='mae', n_estimators=9, max_depth=8, max_features= 4, min_samples_leaf=2)\n",
    "model.fit(features_train_final,target_train_final)\n",
    "score=cross_val_score(model, features_train_final, target_train_final, scoring=smape_scorer, cv=5).mean()\n",
    "score"
   ]
  },
  {
   "cell_type": "code",
   "execution_count": 183,
   "metadata": {},
   "outputs": [
    {
     "data": {
      "text/plain": [
       "-6.4828385538664035"
      ]
     },
     "execution_count": 183,
     "metadata": {},
     "output_type": "execute_result"
    }
   ],
   "source": [
    "model=linear_model.Lasso(alpha=0.1)\n",
    "model.fit(features_train_final,target_train_final)\n",
    "score=cross_val_score(model, features_train_final, target_train_final, scoring=smape_scorer, cv=5).mean()\n",
    "score"
   ]
  },
  {
   "cell_type": "code",
   "execution_count": 161,
   "metadata": {},
   "outputs": [
    {
     "data": {
      "text/plain": [
       "-6.742082217121367"
      ]
     },
     "execution_count": 161,
     "metadata": {},
     "output_type": "execute_result"
    }
   ],
   "source": [
    "model = LinearRegression()\n",
    "model.fit(features_train_final, target_train_final)\n",
    "score=cross_val_score(model, features_train_final, target_train_final, scoring=smape_scorer, cv=5).mean()\n",
    "score"
   ]
  },
  {
   "cell_type": "code",
   "execution_count": 162,
   "metadata": {},
   "outputs": [
    {
     "data": {
      "text/plain": [
       "-7.133311015140395"
      ]
     },
     "execution_count": 162,
     "metadata": {},
     "output_type": "execute_result"
    }
   ],
   "source": [
    "dummy=DummyRegressor(strategy=\"mean\")\n",
    "dummy.fit(features_train_final, target_train_final)\n",
    "score=cross_val_score(dummy, features_train_final, target_train_final, scoring=smape_scorer, cv=5).mean()\n",
    "score"
   ]
  },
  {
   "cell_type": "code",
   "execution_count": 163,
   "metadata": {},
   "outputs": [
    {
     "data": {
      "text/plain": [
       "-6.9276347904563025"
      ]
     },
     "execution_count": 163,
     "metadata": {},
     "output_type": "execute_result"
    }
   ],
   "source": [
    "dummy=DummyRegressor(strategy=\"median\")\n",
    "dummy.fit(features_train_final, target_train_final)\n",
    "score=cross_val_score(dummy, features_train_final, target_train_final, scoring=smape_scorer, cv=5).mean()\n",
    "score"
   ]
  },
  {
   "cell_type": "code",
   "execution_count": 164,
   "metadata": {},
   "outputs": [
    {
     "data": {
      "text/plain": [
       "-6.9276347904563025"
      ]
     },
     "execution_count": 164,
     "metadata": {},
     "output_type": "execute_result"
    }
   ],
   "source": [
    "dummy=DummyRegressor(strategy=\"median\")\n",
    "dummy.fit(features_train_rougher, target_train_rougher)\n",
    "score=cross_val_score(dummy, features_train_rougher, target_train_rougher, scoring=smape_scorer, cv=5).mean()\n",
    "score"
   ]
  },
  {
   "cell_type": "markdown",
   "metadata": {},
   "source": [
    "Почти все полученные модели как минимум лучше константных по sMAPE, лучшие показатели у RandomForestRegressor со следующими настройками:\n",
    "- для rougher: max_depth=5, n_estimators=4\n",
    "- для final: max_depth=5, n_estimators=11"
   ]
  },
  {
   "cell_type": "code",
   "execution_count": 206,
   "metadata": {},
   "outputs": [
    {
     "name": "stdout",
     "output_type": "stream",
     "text": [
      "3.856859713116293\n",
      "23.835171226271985\n"
     ]
    },
    {
     "data": {
      "text/plain": [
       "18.840593347983063"
      ]
     },
     "execution_count": 206,
     "metadata": {},
     "output_type": "execute_result"
    }
   ],
   "source": [
    "model = RandomForestRegressor(random_state=12345, n_estimators=4, max_depth=5)\n",
    "model.fit(features_train_rougher, target_train_rougher)\n",
    "predictions_rougher=model.predict(features_test_rougher)\n",
    "print(sMAPE(predictions_rougher,target_test_rougher))\n",
    "model = RandomForestRegressor(random_state=12345, criterion='mae', n_estimators=9, max_depth=8, max_features= 4, min_samples_leaf=2)\n",
    "model.fit(features_train_final, target_train_final)\n",
    "predictions_final=model.predict(features_test_final)\n",
    "print(sMAPE(predictions_final,target_test_final))\n",
    "sMAPE_final=final_sMAPE(predictions_rougher, target_test_rougher, predictions_final, target_test_final)\n",
    "sMAPE_final"
   ]
  },
  {
   "cell_type": "code",
   "execution_count": 207,
   "metadata": {},
   "outputs": [
    {
     "name": "stdout",
     "output_type": "stream",
     "text": [
      "5.83321841779251\n",
      "24.33896026764699\n"
     ]
    }
   ],
   "source": [
    "model = DummyRegressor(strategy=\"median\")\n",
    "model.fit(features_train_rougher, target_train_rougher)\n",
    "predictions_rougher=model.predict(features_test_rougher)\n",
    "print(sMAPE(predictions_rougher,target_test_rougher))\n",
    "model = DummyRegressor(strategy=\"median\")\n",
    "model.fit(features_train_final, target_train_final)\n",
    "predictions_final=model.predict(features_test_final)\n",
    "print(sMAPE(predictions_final,target_test_final))"
   ]
  },
  {
   "cell_type": "markdown",
   "metadata": {},
   "source": [
    "Финальный sMAPE на тестовой выборке 18,5%, причем за счет высокого sMAPE предсказаний финального концентрата. Очень большая разница по сравнению с результатами обучающей выборки, хотя все равно лучше константы. Выглядит так, будто модель переобучилась, попробовал увеличить метрики через большее кол-во гиперпараметров, но sMAPE все равно не выходит ниже 23.5%."
   ]
  },
  {
   "cell_type": "markdown",
   "metadata": {},
   "source": [
    "## Общий вывод"
   ]
  },
  {
   "cell_type": "markdown",
   "metadata": {},
   "source": [
    "В ходе исследования были сделаны следующие шаги:\n",
    "1. Данные загружены.\n",
    "2. Удалены 8% в связи с пропусками, поставлены заглушки в строках, не нужных для обучения модели.\n",
    "3. На основе данных построены несколько разных моделей, выбраны модели с лучшими результатами.\n",
    "4. Выбранные модели проверены кросс-валидацией и сравнением с константой.\n",
    "5. Выбранные модели проверены на тестовой выборке, достигнута финальная метрика sMAPE в 18.8%.\n",
    "\n",
    "Итого был построен прототип модели, симметричное среднее абсолютное процентное отклонение которой составляет 3,8% при предсказании эффективности обогащения чернового концентрата и 23,8% при предсказании эффективности обогащения финального концентрата, что дает нам финальное sMAPE в 18,8%.  "
   ]
  }
 ],
 "metadata": {
  "ExecuteTimeLog": [
   {
    "duration": 414,
    "start_time": "2023-05-11T15:36:58.943Z"
   },
   {
    "duration": 1145,
    "start_time": "2023-05-11T15:37:39.282Z"
   },
   {
    "duration": 243,
    "start_time": "2023-05-11T15:38:36.686Z"
   },
   {
    "duration": 2250,
    "start_time": "2023-05-11T15:38:43.364Z"
   },
   {
    "duration": 61,
    "start_time": "2023-05-11T15:39:43.541Z"
   },
   {
    "duration": 44,
    "start_time": "2023-05-11T15:40:24.351Z"
   },
   {
    "duration": 35,
    "start_time": "2023-05-11T15:40:24.727Z"
   },
   {
    "duration": 26,
    "start_time": "2023-05-11T15:43:21.168Z"
   },
   {
    "duration": 124,
    "start_time": "2023-05-11T15:43:29.315Z"
   },
   {
    "duration": 30,
    "start_time": "2023-05-11T15:43:34.090Z"
   },
   {
    "duration": 192,
    "start_time": "2023-05-11T15:43:54.752Z"
   },
   {
    "duration": 3,
    "start_time": "2023-05-11T15:43:58.550Z"
   },
   {
    "duration": 1054,
    "start_time": "2023-05-11T15:43:58.556Z"
   },
   {
    "duration": 41,
    "start_time": "2023-05-11T15:43:59.612Z"
   },
   {
    "duration": 56,
    "start_time": "2023-05-11T15:43:59.656Z"
   },
   {
    "duration": 101,
    "start_time": "2023-05-11T15:43:59.714Z"
   },
   {
    "duration": 130,
    "start_time": "2023-05-11T15:43:59.817Z"
   },
   {
    "duration": 60,
    "start_time": "2023-05-11T15:44:26.716Z"
   },
   {
    "duration": 35,
    "start_time": "2023-05-11T15:45:00.135Z"
   },
   {
    "duration": 21,
    "start_time": "2023-05-11T15:45:53.031Z"
   },
   {
    "duration": 86,
    "start_time": "2023-05-11T15:46:07.748Z"
   },
   {
    "duration": 120,
    "start_time": "2023-05-11T15:46:11.195Z"
   },
   {
    "duration": 36,
    "start_time": "2023-05-11T15:46:14.823Z"
   },
   {
    "duration": 18,
    "start_time": "2023-05-11T15:46:20.652Z"
   },
   {
    "duration": 30,
    "start_time": "2023-05-11T15:46:26.343Z"
   },
   {
    "duration": 7,
    "start_time": "2023-05-11T15:50:49.167Z"
   },
   {
    "duration": 4,
    "start_time": "2023-05-11T15:50:52.348Z"
   },
   {
    "duration": 2365,
    "start_time": "2023-05-11T16:57:29.872Z"
   },
   {
    "duration": 9,
    "start_time": "2023-05-11T16:57:57.067Z"
   },
   {
    "duration": 91,
    "start_time": "2023-05-11T16:59:33.366Z"
   },
   {
    "duration": 13,
    "start_time": "2023-05-11T16:59:45.582Z"
   },
   {
    "duration": 82,
    "start_time": "2023-05-11T16:59:57.778Z"
   },
   {
    "duration": 282,
    "start_time": "2023-05-11T17:00:02.413Z"
   },
   {
    "duration": 11,
    "start_time": "2023-05-11T17:00:07.190Z"
   },
   {
    "duration": 14,
    "start_time": "2023-05-11T17:00:15.026Z"
   },
   {
    "duration": 32,
    "start_time": "2023-05-11T17:00:37.627Z"
   },
   {
    "duration": 59,
    "start_time": "2023-05-11T17:01:07.166Z"
   },
   {
    "duration": 52,
    "start_time": "2023-05-11T17:02:50.184Z"
   },
   {
    "duration": 77,
    "start_time": "2023-05-12T11:03:24.278Z"
   },
   {
    "duration": 423,
    "start_time": "2023-05-12T11:03:27.719Z"
   },
   {
    "duration": 4834,
    "start_time": "2023-05-12T11:03:28.144Z"
   },
   {
    "duration": 57,
    "start_time": "2023-05-12T11:03:32.980Z"
   },
   {
    "duration": 64,
    "start_time": "2023-05-12T11:03:33.039Z"
   },
   {
    "duration": 36,
    "start_time": "2023-05-12T11:03:33.105Z"
   },
   {
    "duration": 72,
    "start_time": "2023-05-12T11:03:33.143Z"
   },
   {
    "duration": 5,
    "start_time": "2023-05-12T11:03:33.216Z"
   },
   {
    "duration": 84,
    "start_time": "2023-05-12T11:03:33.223Z"
   },
   {
    "duration": 28,
    "start_time": "2023-05-12T11:04:13.410Z"
   },
   {
    "duration": 8,
    "start_time": "2023-05-12T11:04:19.330Z"
   },
   {
    "duration": 8,
    "start_time": "2023-05-12T11:04:42.805Z"
   },
   {
    "duration": 8,
    "start_time": "2023-05-12T11:04:53.406Z"
   },
   {
    "duration": 14,
    "start_time": "2023-05-12T11:04:59.088Z"
   },
   {
    "duration": 80,
    "start_time": "2023-05-12T11:05:11.771Z"
   },
   {
    "duration": 79,
    "start_time": "2023-05-12T11:05:17.905Z"
   },
   {
    "duration": 69,
    "start_time": "2023-05-12T11:05:19.662Z"
   },
   {
    "duration": 34,
    "start_time": "2023-05-12T11:05:39.625Z"
   },
   {
    "duration": 18,
    "start_time": "2023-05-12T11:05:50.072Z"
   },
   {
    "duration": 7,
    "start_time": "2023-05-12T11:06:11.508Z"
   },
   {
    "duration": 61,
    "start_time": "2023-05-12T11:06:15.111Z"
   },
   {
    "duration": 33,
    "start_time": "2023-05-12T11:06:16.194Z"
   },
   {
    "duration": 69,
    "start_time": "2023-05-12T11:07:00.493Z"
   },
   {
    "duration": 45,
    "start_time": "2023-05-12T11:07:08.171Z"
   },
   {
    "duration": 10,
    "start_time": "2023-05-12T11:07:37.756Z"
   },
   {
    "duration": 8,
    "start_time": "2023-05-12T11:08:01.331Z"
   },
   {
    "duration": 87,
    "start_time": "2023-05-12T11:08:04.323Z"
   },
   {
    "duration": 31,
    "start_time": "2023-05-12T11:08:05.474Z"
   },
   {
    "duration": 41,
    "start_time": "2023-05-12T11:08:11.786Z"
   },
   {
    "duration": 50,
    "start_time": "2023-05-12T11:08:30.154Z"
   },
   {
    "duration": 130,
    "start_time": "2023-05-12T11:08:35.270Z"
   },
   {
    "duration": 32,
    "start_time": "2023-05-12T11:08:43.309Z"
   },
   {
    "duration": 3,
    "start_time": "2023-05-12T11:08:45.844Z"
   },
   {
    "duration": 945,
    "start_time": "2023-05-12T11:08:45.848Z"
   },
   {
    "duration": 42,
    "start_time": "2023-05-12T11:08:46.799Z"
   },
   {
    "duration": 53,
    "start_time": "2023-05-12T11:08:46.843Z"
   },
   {
    "duration": 39,
    "start_time": "2023-05-12T11:08:46.906Z"
   },
   {
    "duration": 54,
    "start_time": "2023-05-12T11:08:46.946Z"
   },
   {
    "duration": 7,
    "start_time": "2023-05-12T11:08:47.002Z"
   },
   {
    "duration": 85,
    "start_time": "2023-05-12T11:08:47.012Z"
   },
   {
    "duration": 38,
    "start_time": "2023-05-12T11:08:47.102Z"
   },
   {
    "duration": 20,
    "start_time": "2023-05-12T11:08:59.026Z"
   },
   {
    "duration": 43,
    "start_time": "2023-05-12T11:09:57.947Z"
   },
   {
    "duration": 30,
    "start_time": "2023-05-12T11:09:58.972Z"
   },
   {
    "duration": 63,
    "start_time": "2023-05-12T11:10:40.525Z"
   },
   {
    "duration": 20,
    "start_time": "2023-05-12T11:11:37.898Z"
   },
   {
    "duration": 3,
    "start_time": "2023-05-12T11:11:43.705Z"
   },
   {
    "duration": 935,
    "start_time": "2023-05-12T11:11:43.711Z"
   },
   {
    "duration": 51,
    "start_time": "2023-05-12T11:11:44.648Z"
   },
   {
    "duration": 60,
    "start_time": "2023-05-12T11:11:44.705Z"
   },
   {
    "duration": 57,
    "start_time": "2023-05-12T11:11:44.775Z"
   },
   {
    "duration": 76,
    "start_time": "2023-05-12T11:11:44.833Z"
   },
   {
    "duration": 10,
    "start_time": "2023-05-12T11:11:44.911Z"
   },
   {
    "duration": 44,
    "start_time": "2023-05-12T11:11:44.922Z"
   },
   {
    "duration": 29,
    "start_time": "2023-05-12T11:11:44.968Z"
   },
   {
    "duration": 37,
    "start_time": "2023-05-12T11:11:44.999Z"
   },
   {
    "duration": 29,
    "start_time": "2023-05-12T11:11:45.041Z"
   },
   {
    "duration": 43,
    "start_time": "2023-05-12T11:12:01.877Z"
   },
   {
    "duration": 16,
    "start_time": "2023-05-12T11:12:13.303Z"
   },
   {
    "duration": 119,
    "start_time": "2023-05-12T11:13:46.976Z"
   },
   {
    "duration": 120,
    "start_time": "2023-05-12T11:13:54.508Z"
   },
   {
    "duration": 266,
    "start_time": "2023-05-12T11:14:17.712Z"
   },
   {
    "duration": 247,
    "start_time": "2023-05-12T11:14:31.077Z"
   },
   {
    "duration": 2,
    "start_time": "2023-05-12T11:17:17.109Z"
   },
   {
    "duration": 900,
    "start_time": "2023-05-12T11:17:17.113Z"
   },
   {
    "duration": 59,
    "start_time": "2023-05-12T11:17:18.015Z"
   },
   {
    "duration": 40,
    "start_time": "2023-05-12T11:17:18.085Z"
   },
   {
    "duration": 44,
    "start_time": "2023-05-12T11:17:18.127Z"
   },
   {
    "duration": 41,
    "start_time": "2023-05-12T11:17:18.173Z"
   },
   {
    "duration": 5,
    "start_time": "2023-05-12T11:17:18.216Z"
   },
   {
    "duration": 45,
    "start_time": "2023-05-12T11:17:18.223Z"
   },
   {
    "duration": 29,
    "start_time": "2023-05-12T11:17:18.270Z"
   },
   {
    "duration": 29,
    "start_time": "2023-05-12T11:17:18.301Z"
   },
   {
    "duration": 30,
    "start_time": "2023-05-12T11:17:18.332Z"
   },
   {
    "duration": 37,
    "start_time": "2023-05-12T11:17:18.364Z"
   },
   {
    "duration": 13,
    "start_time": "2023-05-12T11:17:18.408Z"
   },
   {
    "duration": 277,
    "start_time": "2023-05-12T11:17:18.424Z"
   },
   {
    "duration": 5,
    "start_time": "2023-05-12T11:34:36.842Z"
   },
   {
    "duration": 6,
    "start_time": "2023-05-12T11:34:52.905Z"
   },
   {
    "duration": 1004,
    "start_time": "2023-05-12T11:34:52.913Z"
   },
   {
    "duration": 68,
    "start_time": "2023-05-12T11:34:53.919Z"
   },
   {
    "duration": 60,
    "start_time": "2023-05-12T11:34:53.989Z"
   },
   {
    "duration": 52,
    "start_time": "2023-05-12T11:34:54.052Z"
   },
   {
    "duration": 65,
    "start_time": "2023-05-12T11:34:54.106Z"
   },
   {
    "duration": 22,
    "start_time": "2023-05-12T11:44:07.500Z"
   },
   {
    "duration": 20,
    "start_time": "2023-05-12T11:49:35.590Z"
   },
   {
    "duration": 8,
    "start_time": "2023-05-12T11:49:55.106Z"
   },
   {
    "duration": 9,
    "start_time": "2023-05-12T11:50:08.803Z"
   },
   {
    "duration": 5,
    "start_time": "2023-05-12T11:50:53.392Z"
   },
   {
    "duration": 4,
    "start_time": "2023-05-12T11:51:18.107Z"
   },
   {
    "duration": 8,
    "start_time": "2023-05-12T11:51:27.112Z"
   },
   {
    "duration": 67,
    "start_time": "2023-05-12T11:53:14.665Z"
   },
   {
    "duration": 1044,
    "start_time": "2023-05-12T11:53:20.889Z"
   },
   {
    "duration": 1033,
    "start_time": "2023-05-12T11:53:37.006Z"
   },
   {
    "duration": 11,
    "start_time": "2023-05-12T11:53:43.179Z"
   },
   {
    "duration": 4,
    "start_time": "2023-05-12T11:53:52.617Z"
   },
   {
    "duration": 87,
    "start_time": "2023-05-12T11:53:58.522Z"
   },
   {
    "duration": 5,
    "start_time": "2023-05-12T11:54:01.624Z"
   },
   {
    "duration": 9,
    "start_time": "2023-05-12T11:54:26.643Z"
   },
   {
    "duration": 22,
    "start_time": "2023-05-12T12:36:36.276Z"
   },
   {
    "duration": 790,
    "start_time": "2023-05-12T12:39:04.421Z"
   },
   {
    "duration": 66,
    "start_time": "2023-05-12T12:39:49.672Z"
   },
   {
    "duration": 71,
    "start_time": "2023-05-12T12:39:56.818Z"
   },
   {
    "duration": 27,
    "start_time": "2023-05-12T12:41:03.845Z"
   },
   {
    "duration": 41,
    "start_time": "2023-05-12T12:41:49.647Z"
   },
   {
    "duration": 22,
    "start_time": "2023-05-12T12:42:00.811Z"
   },
   {
    "duration": 27,
    "start_time": "2023-05-12T12:42:39.409Z"
   },
   {
    "duration": 26,
    "start_time": "2023-05-12T12:44:14.117Z"
   },
   {
    "duration": 19,
    "start_time": "2023-05-12T12:44:25.610Z"
   },
   {
    "duration": 38,
    "start_time": "2023-05-12T12:44:48.073Z"
   },
   {
    "duration": 28,
    "start_time": "2023-05-12T12:45:04.917Z"
   },
   {
    "duration": 33,
    "start_time": "2023-05-12T12:45:18.383Z"
   },
   {
    "duration": 36,
    "start_time": "2023-05-12T12:46:50.471Z"
   },
   {
    "duration": 19,
    "start_time": "2023-05-12T12:47:27.812Z"
   },
   {
    "duration": 19,
    "start_time": "2023-05-12T12:47:40.894Z"
   },
   {
    "duration": 38,
    "start_time": "2023-05-12T12:50:39.348Z"
   },
   {
    "duration": 20,
    "start_time": "2023-05-12T12:50:52.696Z"
   },
   {
    "duration": 69,
    "start_time": "2023-05-12T12:50:57.763Z"
   },
   {
    "duration": 25,
    "start_time": "2023-05-12T12:51:00.780Z"
   },
   {
    "duration": 24,
    "start_time": "2023-05-12T12:51:14.007Z"
   },
   {
    "duration": 2,
    "start_time": "2023-05-12T12:51:39.396Z"
   },
   {
    "duration": 900,
    "start_time": "2023-05-12T12:51:39.400Z"
   },
   {
    "duration": 64,
    "start_time": "2023-05-12T12:51:40.302Z"
   },
   {
    "duration": 39,
    "start_time": "2023-05-12T12:51:40.375Z"
   },
   {
    "duration": 32,
    "start_time": "2023-05-12T12:51:40.417Z"
   },
   {
    "duration": 35,
    "start_time": "2023-05-12T12:51:40.451Z"
   },
   {
    "duration": 3,
    "start_time": "2023-05-12T12:57:35.696Z"
   },
   {
    "duration": 29,
    "start_time": "2023-05-12T12:58:07.487Z"
   },
   {
    "duration": 33,
    "start_time": "2023-05-12T12:58:17.831Z"
   },
   {
    "duration": 82,
    "start_time": "2023-05-12T12:58:35.946Z"
   },
   {
    "duration": 25,
    "start_time": "2023-05-12T12:58:45.383Z"
   },
   {
    "duration": 1034,
    "start_time": "2023-05-13T07:32:09.819Z"
   },
   {
    "duration": 2791,
    "start_time": "2023-05-13T07:32:10.856Z"
   },
   {
    "duration": 41,
    "start_time": "2023-05-13T07:32:13.649Z"
   },
   {
    "duration": 32,
    "start_time": "2023-05-13T07:32:13.692Z"
   },
   {
    "duration": 28,
    "start_time": "2023-05-13T07:32:13.726Z"
   },
   {
    "duration": 48,
    "start_time": "2023-05-13T07:32:13.756Z"
   },
   {
    "duration": 102,
    "start_time": "2023-05-13T07:33:33.639Z"
   },
   {
    "duration": 8,
    "start_time": "2023-05-13T07:33:45.695Z"
   },
   {
    "duration": 4,
    "start_time": "2023-05-13T07:33:49.233Z"
   },
   {
    "duration": 3,
    "start_time": "2023-05-13T07:33:59.149Z"
   },
   {
    "duration": 2,
    "start_time": "2023-05-13T07:34:29.953Z"
   },
   {
    "duration": 6,
    "start_time": "2023-05-13T07:35:18.987Z"
   },
   {
    "duration": 3,
    "start_time": "2023-05-13T07:35:27.957Z"
   },
   {
    "duration": 3,
    "start_time": "2023-05-13T07:35:50.190Z"
   },
   {
    "duration": 8,
    "start_time": "2023-05-13T07:36:30.904Z"
   },
   {
    "duration": 11,
    "start_time": "2023-05-13T07:36:55.788Z"
   },
   {
    "duration": 3,
    "start_time": "2023-05-13T07:37:02.509Z"
   },
   {
    "duration": 7,
    "start_time": "2023-05-13T07:37:30.315Z"
   },
   {
    "duration": 41,
    "start_time": "2023-05-13T08:11:59.299Z"
   },
   {
    "duration": 290,
    "start_time": "2023-05-13T08:12:06.337Z"
   },
   {
    "duration": 286,
    "start_time": "2023-05-13T08:12:17.066Z"
   },
   {
    "duration": 308,
    "start_time": "2023-05-13T08:13:23.810Z"
   },
   {
    "duration": 308,
    "start_time": "2023-05-13T08:13:34.727Z"
   },
   {
    "duration": 580,
    "start_time": "2023-05-13T11:04:02.758Z"
   },
   {
    "duration": 19,
    "start_time": "2023-05-13T11:04:05.902Z"
   },
   {
    "duration": 1391,
    "start_time": "2023-05-13T11:04:05.931Z"
   },
   {
    "duration": 52,
    "start_time": "2023-05-13T11:04:07.324Z"
   },
   {
    "duration": 55,
    "start_time": "2023-05-13T11:04:07.378Z"
   },
   {
    "duration": 58,
    "start_time": "2023-05-13T11:04:07.439Z"
   },
   {
    "duration": 47,
    "start_time": "2023-05-13T11:04:07.502Z"
   },
   {
    "duration": 17,
    "start_time": "2023-05-13T11:04:07.556Z"
   },
   {
    "duration": 385,
    "start_time": "2023-05-13T11:04:07.575Z"
   },
   {
    "duration": 306,
    "start_time": "2023-05-13T11:04:07.967Z"
   },
   {
    "duration": 32,
    "start_time": "2023-05-13T11:05:03.505Z"
   },
   {
    "duration": 41,
    "start_time": "2023-05-13T11:07:53.241Z"
   },
   {
    "duration": 202,
    "start_time": "2023-05-13T11:08:19.965Z"
   },
   {
    "duration": 188,
    "start_time": "2023-05-13T11:08:28.737Z"
   },
   {
    "duration": 611,
    "start_time": "2023-05-13T11:08:45.678Z"
   },
   {
    "duration": 3,
    "start_time": "2023-05-13T12:20:24.566Z"
   },
   {
    "duration": 925,
    "start_time": "2023-05-13T12:20:24.571Z"
   },
   {
    "duration": 47,
    "start_time": "2023-05-13T12:20:25.498Z"
   },
   {
    "duration": 58,
    "start_time": "2023-05-13T12:20:25.547Z"
   },
   {
    "duration": 64,
    "start_time": "2023-05-13T12:20:25.607Z"
   },
   {
    "duration": 58,
    "start_time": "2023-05-13T12:20:25.673Z"
   },
   {
    "duration": 12,
    "start_time": "2023-05-13T12:20:25.734Z"
   },
   {
    "duration": 339,
    "start_time": "2023-05-13T12:20:25.748Z"
   },
   {
    "duration": 266,
    "start_time": "2023-05-13T12:20:26.088Z"
   },
   {
    "duration": 9,
    "start_time": "2023-05-13T12:20:26.356Z"
   },
   {
    "duration": 287,
    "start_time": "2023-05-13T12:20:26.379Z"
   },
   {
    "duration": 15,
    "start_time": "2023-05-13T12:23:57.103Z"
   },
   {
    "duration": 10,
    "start_time": "2023-05-13T12:24:26.521Z"
   },
   {
    "duration": 7,
    "start_time": "2023-05-13T12:24:48.514Z"
   },
   {
    "duration": 11,
    "start_time": "2023-05-13T12:24:52.081Z"
   },
   {
    "duration": 6,
    "start_time": "2023-05-13T12:25:06.027Z"
   },
   {
    "duration": 13,
    "start_time": "2023-05-13T12:25:16.724Z"
   },
   {
    "duration": 4,
    "start_time": "2023-05-13T12:25:21.454Z"
   },
   {
    "duration": 9,
    "start_time": "2023-05-13T12:25:33.234Z"
   },
   {
    "duration": 6,
    "start_time": "2023-05-13T12:30:59.271Z"
   },
   {
    "duration": 10,
    "start_time": "2023-05-13T12:31:08.195Z"
   },
   {
    "duration": 9,
    "start_time": "2023-05-13T12:31:57.806Z"
   },
   {
    "duration": 11,
    "start_time": "2023-05-13T12:32:56.388Z"
   },
   {
    "duration": 9,
    "start_time": "2023-05-13T12:34:21.107Z"
   },
   {
    "duration": 23,
    "start_time": "2023-05-13T12:34:48.858Z"
   },
   {
    "duration": 4,
    "start_time": "2023-05-13T12:46:13.074Z"
   },
   {
    "duration": 877,
    "start_time": "2023-05-13T12:46:13.081Z"
   },
   {
    "duration": 45,
    "start_time": "2023-05-13T12:46:13.960Z"
   },
   {
    "duration": 47,
    "start_time": "2023-05-13T12:46:14.006Z"
   },
   {
    "duration": 43,
    "start_time": "2023-05-13T12:46:14.079Z"
   },
   {
    "duration": 32,
    "start_time": "2023-05-13T12:46:27.713Z"
   },
   {
    "duration": 30,
    "start_time": "2023-05-13T12:46:37.701Z"
   },
   {
    "duration": 17,
    "start_time": "2023-05-13T12:46:53.644Z"
   },
   {
    "duration": 18,
    "start_time": "2023-05-13T12:47:58.376Z"
   },
   {
    "duration": 15,
    "start_time": "2023-05-13T12:48:21.832Z"
   },
   {
    "duration": 13,
    "start_time": "2023-05-13T12:48:55.327Z"
   },
   {
    "duration": 14,
    "start_time": "2023-05-13T12:49:02.940Z"
   },
   {
    "duration": 28,
    "start_time": "2023-05-13T12:49:52.181Z"
   },
   {
    "duration": 16,
    "start_time": "2023-05-13T12:50:00.929Z"
   },
   {
    "duration": 17,
    "start_time": "2023-05-13T12:50:07.735Z"
   },
   {
    "duration": 25,
    "start_time": "2023-05-13T12:50:51.598Z"
   },
   {
    "duration": 45,
    "start_time": "2023-05-13T12:51:10.670Z"
   },
   {
    "duration": 28,
    "start_time": "2023-05-13T12:51:45.407Z"
   },
   {
    "duration": 20,
    "start_time": "2023-05-13T12:51:55.767Z"
   },
   {
    "duration": 15,
    "start_time": "2023-05-13T12:53:08.436Z"
   },
   {
    "duration": 2281,
    "start_time": "2023-05-13T12:56:48.398Z"
   },
   {
    "duration": 15,
    "start_time": "2023-05-13T12:58:55.248Z"
   },
   {
    "duration": 25,
    "start_time": "2023-05-13T12:59:01.606Z"
   },
   {
    "duration": 8,
    "start_time": "2023-05-13T13:09:45.343Z"
   },
   {
    "duration": 5,
    "start_time": "2023-05-13T13:09:53.257Z"
   },
   {
    "duration": 8,
    "start_time": "2023-05-13T13:10:00.817Z"
   },
   {
    "duration": 803,
    "start_time": "2023-05-13T13:10:20.955Z"
   },
   {
    "duration": 233,
    "start_time": "2023-05-13T13:10:39.802Z"
   },
   {
    "duration": 260,
    "start_time": "2023-05-13T13:11:13.071Z"
   },
   {
    "duration": 323,
    "start_time": "2023-05-13T13:11:23.464Z"
   },
   {
    "duration": 296,
    "start_time": "2023-05-13T13:11:28.708Z"
   },
   {
    "duration": 21,
    "start_time": "2023-05-13T13:11:54.255Z"
   },
   {
    "duration": 333,
    "start_time": "2023-05-13T13:12:09.532Z"
   },
   {
    "duration": 348,
    "start_time": "2023-05-13T13:12:51.260Z"
   },
   {
    "duration": 399,
    "start_time": "2023-05-13T13:16:15.606Z"
   },
   {
    "duration": 341,
    "start_time": "2023-05-13T13:17:10.308Z"
   },
   {
    "duration": 482,
    "start_time": "2023-05-13T13:18:43.634Z"
   },
   {
    "duration": 392,
    "start_time": "2023-05-13T13:18:53.862Z"
   },
   {
    "duration": 378,
    "start_time": "2023-05-13T13:19:10.026Z"
   },
   {
    "duration": 1239,
    "start_time": "2023-05-15T14:23:58.263Z"
   },
   {
    "duration": 3486,
    "start_time": "2023-05-15T14:23:59.504Z"
   },
   {
    "duration": 47,
    "start_time": "2023-05-15T14:24:02.993Z"
   },
   {
    "duration": 51,
    "start_time": "2023-05-15T14:24:03.042Z"
   },
   {
    "duration": 37,
    "start_time": "2023-05-15T14:24:03.096Z"
   },
   {
    "duration": 53,
    "start_time": "2023-05-15T14:24:03.135Z"
   },
   {
    "duration": 6,
    "start_time": "2023-05-15T14:24:03.190Z"
   },
   {
    "duration": 317,
    "start_time": "2023-05-15T14:24:03.198Z"
   },
   {
    "duration": 248,
    "start_time": "2023-05-15T14:24:03.516Z"
   },
   {
    "duration": 8,
    "start_time": "2023-05-15T14:24:03.766Z"
   },
   {
    "duration": 245,
    "start_time": "2023-05-15T14:24:03.775Z"
   },
   {
    "duration": 878,
    "start_time": "2023-05-15T14:24:04.022Z"
   },
   {
    "duration": 332,
    "start_time": "2023-05-15T14:24:04.902Z"
   },
   {
    "duration": 336,
    "start_time": "2023-05-15T14:24:05.237Z"
   },
   {
    "duration": 205,
    "start_time": "2023-05-15T14:25:13.161Z"
   },
   {
    "duration": 255,
    "start_time": "2023-05-15T14:25:30.433Z"
   },
   {
    "duration": 290,
    "start_time": "2023-05-15T14:25:42.240Z"
   },
   {
    "duration": 4,
    "start_time": "2023-05-15T14:27:06.994Z"
   },
   {
    "duration": 139,
    "start_time": "2023-05-15T14:27:33.780Z"
   },
   {
    "duration": 121,
    "start_time": "2023-05-15T14:27:38.736Z"
   },
   {
    "duration": 3,
    "start_time": "2023-05-15T14:27:41.485Z"
   },
   {
    "duration": 778,
    "start_time": "2023-05-15T14:27:41.490Z"
   },
   {
    "duration": 42,
    "start_time": "2023-05-15T14:27:42.270Z"
   },
   {
    "duration": 36,
    "start_time": "2023-05-15T14:27:42.314Z"
   },
   {
    "duration": 54,
    "start_time": "2023-05-15T14:27:42.353Z"
   },
   {
    "duration": 22,
    "start_time": "2023-05-15T14:27:42.409Z"
   },
   {
    "duration": 7,
    "start_time": "2023-05-15T14:27:42.433Z"
   },
   {
    "duration": 341,
    "start_time": "2023-05-15T14:27:42.442Z"
   },
   {
    "duration": 268,
    "start_time": "2023-05-15T14:27:42.788Z"
   },
   {
    "duration": 10,
    "start_time": "2023-05-15T14:27:43.058Z"
   },
   {
    "duration": 253,
    "start_time": "2023-05-15T14:27:43.069Z"
   },
   {
    "duration": 323,
    "start_time": "2023-05-15T14:27:43.323Z"
   },
   {
    "duration": 309,
    "start_time": "2023-05-15T14:27:43.648Z"
   },
   {
    "duration": 326,
    "start_time": "2023-05-15T14:27:43.960Z"
   },
   {
    "duration": 136,
    "start_time": "2023-05-15T14:27:44.287Z"
   },
   {
    "duration": 221,
    "start_time": "2023-05-15T14:27:44.425Z"
   },
   {
    "duration": 58,
    "start_time": "2023-05-15T14:27:49.244Z"
   },
   {
    "duration": 127,
    "start_time": "2023-05-15T14:28:01.829Z"
   },
   {
    "duration": 220,
    "start_time": "2023-05-15T14:28:12.999Z"
   },
   {
    "duration": 3,
    "start_time": "2023-05-15T14:28:17.635Z"
   },
   {
    "duration": 740,
    "start_time": "2023-05-15T14:28:17.640Z"
   },
   {
    "duration": 41,
    "start_time": "2023-05-15T14:28:18.382Z"
   },
   {
    "duration": 36,
    "start_time": "2023-05-15T14:28:18.425Z"
   },
   {
    "duration": 49,
    "start_time": "2023-05-15T14:28:18.464Z"
   },
   {
    "duration": 19,
    "start_time": "2023-05-15T14:28:18.515Z"
   },
   {
    "duration": 6,
    "start_time": "2023-05-15T14:28:18.536Z"
   },
   {
    "duration": 344,
    "start_time": "2023-05-15T14:28:18.544Z"
   },
   {
    "duration": 243,
    "start_time": "2023-05-15T14:28:18.891Z"
   },
   {
    "duration": 9,
    "start_time": "2023-05-15T14:28:19.136Z"
   },
   {
    "duration": 244,
    "start_time": "2023-05-15T14:28:19.147Z"
   },
   {
    "duration": 405,
    "start_time": "2023-05-15T14:28:19.392Z"
   },
   {
    "duration": 310,
    "start_time": "2023-05-15T14:28:19.799Z"
   },
   {
    "duration": 399,
    "start_time": "2023-05-15T14:28:20.111Z"
   },
   {
    "duration": 257,
    "start_time": "2023-05-15T14:28:20.512Z"
   },
   {
    "duration": 222,
    "start_time": "2023-05-15T14:28:20.770Z"
   },
   {
    "duration": 202,
    "start_time": "2023-05-15T14:28:39.928Z"
   },
   {
    "duration": 199,
    "start_time": "2023-05-15T14:28:47.977Z"
   },
   {
    "duration": 200,
    "start_time": "2023-05-15T14:28:58.402Z"
   },
   {
    "duration": 7,
    "start_time": "2023-05-15T14:35:59.806Z"
   },
   {
    "duration": 9,
    "start_time": "2023-05-15T14:36:19.645Z"
   },
   {
    "duration": 312,
    "start_time": "2023-05-15T14:37:03.622Z"
   },
   {
    "duration": 338,
    "start_time": "2023-05-15T14:38:28.223Z"
   },
   {
    "duration": 229,
    "start_time": "2023-05-15T15:00:24.564Z"
   },
   {
    "duration": 4,
    "start_time": "2023-05-15T15:00:56.136Z"
   },
   {
    "duration": 4,
    "start_time": "2023-05-15T15:30:46.845Z"
   },
   {
    "duration": 4,
    "start_time": "2023-05-15T15:30:47.239Z"
   },
   {
    "duration": 1666,
    "start_time": "2023-05-16T10:58:34.762Z"
   },
   {
    "duration": 3221,
    "start_time": "2023-05-16T10:58:36.430Z"
   },
   {
    "duration": 52,
    "start_time": "2023-05-16T10:58:39.653Z"
   },
   {
    "duration": 53,
    "start_time": "2023-05-16T10:58:39.707Z"
   },
   {
    "duration": 52,
    "start_time": "2023-05-16T10:58:39.764Z"
   },
   {
    "duration": 27,
    "start_time": "2023-05-16T10:58:39.817Z"
   },
   {
    "duration": 9,
    "start_time": "2023-05-16T10:58:39.845Z"
   },
   {
    "duration": 338,
    "start_time": "2023-05-16T10:58:39.855Z"
   },
   {
    "duration": 280,
    "start_time": "2023-05-16T10:58:40.195Z"
   },
   {
    "duration": 15,
    "start_time": "2023-05-16T10:58:40.477Z"
   },
   {
    "duration": 244,
    "start_time": "2023-05-16T10:58:40.494Z"
   },
   {
    "duration": 335,
    "start_time": "2023-05-16T10:58:40.740Z"
   },
   {
    "duration": 331,
    "start_time": "2023-05-16T10:58:41.076Z"
   },
   {
    "duration": 332,
    "start_time": "2023-05-16T10:58:41.411Z"
   },
   {
    "duration": 230,
    "start_time": "2023-05-16T10:58:41.746Z"
   },
   {
    "duration": 227,
    "start_time": "2023-05-16T10:58:41.978Z"
   },
   {
    "duration": 387,
    "start_time": "2023-05-16T10:58:42.208Z"
   },
   {
    "duration": 4,
    "start_time": "2023-05-16T10:58:42.597Z"
   },
   {
    "duration": 3,
    "start_time": "2023-05-16T10:58:42.603Z"
   },
   {
    "duration": 40,
    "start_time": "2023-05-16T11:00:33.803Z"
   },
   {
    "duration": 142,
    "start_time": "2023-05-16T11:12:03.759Z"
   },
   {
    "duration": 14,
    "start_time": "2023-05-16T11:12:17.465Z"
   },
   {
    "duration": 3,
    "start_time": "2023-05-16T11:13:26.723Z"
   },
   {
    "duration": 791,
    "start_time": "2023-05-16T11:13:26.728Z"
   },
   {
    "duration": 37,
    "start_time": "2023-05-16T11:13:27.520Z"
   },
   {
    "duration": 63,
    "start_time": "2023-05-16T11:13:27.558Z"
   },
   {
    "duration": 30,
    "start_time": "2023-05-16T11:13:27.624Z"
   },
   {
    "duration": 42,
    "start_time": "2023-05-16T11:13:27.656Z"
   },
   {
    "duration": 13,
    "start_time": "2023-05-16T11:13:27.699Z"
   },
   {
    "duration": 312,
    "start_time": "2023-05-16T11:13:27.715Z"
   },
   {
    "duration": 235,
    "start_time": "2023-05-16T11:13:28.029Z"
   },
   {
    "duration": 9,
    "start_time": "2023-05-16T11:13:28.266Z"
   },
   {
    "duration": 267,
    "start_time": "2023-05-16T11:13:28.276Z"
   },
   {
    "duration": 367,
    "start_time": "2023-05-16T11:13:28.544Z"
   },
   {
    "duration": 346,
    "start_time": "2023-05-16T11:13:28.915Z"
   },
   {
    "duration": 372,
    "start_time": "2023-05-16T11:13:29.264Z"
   },
   {
    "duration": 256,
    "start_time": "2023-05-16T11:13:29.637Z"
   },
   {
    "duration": 276,
    "start_time": "2023-05-16T11:13:29.895Z"
   },
   {
    "duration": 454,
    "start_time": "2023-05-16T11:13:30.173Z"
   },
   {
    "duration": 6,
    "start_time": "2023-05-16T11:13:30.630Z"
   },
   {
    "duration": 43,
    "start_time": "2023-05-16T11:13:30.638Z"
   },
   {
    "duration": 14,
    "start_time": "2023-05-16T11:13:33.562Z"
   },
   {
    "duration": 111,
    "start_time": "2023-05-16T11:13:46.118Z"
   },
   {
    "duration": 121,
    "start_time": "2023-05-16T11:13:56.506Z"
   },
   {
    "duration": 94,
    "start_time": "2023-05-16T11:14:13.154Z"
   },
   {
    "duration": 14,
    "start_time": "2023-05-16T11:14:33.559Z"
   },
   {
    "duration": 21,
    "start_time": "2023-05-16T11:14:40.099Z"
   },
   {
    "duration": 4,
    "start_time": "2023-05-16T11:14:46.718Z"
   },
   {
    "duration": 5,
    "start_time": "2023-05-16T11:14:49.812Z"
   },
   {
    "duration": 12,
    "start_time": "2023-05-16T11:15:02.255Z"
   },
   {
    "duration": 11,
    "start_time": "2023-05-16T11:15:09.462Z"
   },
   {
    "duration": 11,
    "start_time": "2023-05-16T11:15:12.074Z"
   },
   {
    "duration": 4,
    "start_time": "2023-05-16T11:15:21.612Z"
   },
   {
    "duration": 10,
    "start_time": "2023-05-16T11:16:13.324Z"
   },
   {
    "duration": 4,
    "start_time": "2023-05-16T11:16:37.956Z"
   },
   {
    "duration": 98,
    "start_time": "2023-05-16T11:16:50.905Z"
   },
   {
    "duration": 4,
    "start_time": "2023-05-16T11:17:20.169Z"
   },
   {
    "duration": 4,
    "start_time": "2023-05-16T11:17:41.255Z"
   },
   {
    "duration": 16,
    "start_time": "2023-05-16T11:17:44.159Z"
   },
   {
    "duration": 849,
    "start_time": "2023-05-16T11:17:44.177Z"
   },
   {
    "duration": 39,
    "start_time": "2023-05-16T11:17:45.028Z"
   },
   {
    "duration": 64,
    "start_time": "2023-05-16T11:17:45.069Z"
   },
   {
    "duration": 35,
    "start_time": "2023-05-16T11:17:45.136Z"
   },
   {
    "duration": 27,
    "start_time": "2023-05-16T11:17:45.173Z"
   },
   {
    "duration": 14,
    "start_time": "2023-05-16T11:17:45.201Z"
   },
   {
    "duration": 334,
    "start_time": "2023-05-16T11:17:45.217Z"
   },
   {
    "duration": 256,
    "start_time": "2023-05-16T11:17:45.554Z"
   },
   {
    "duration": 10,
    "start_time": "2023-05-16T11:17:45.812Z"
   },
   {
    "duration": 267,
    "start_time": "2023-05-16T11:17:45.824Z"
   },
   {
    "duration": 365,
    "start_time": "2023-05-16T11:17:46.092Z"
   },
   {
    "duration": 456,
    "start_time": "2023-05-16T11:17:46.458Z"
   },
   {
    "duration": 357,
    "start_time": "2023-05-16T11:17:46.917Z"
   },
   {
    "duration": 272,
    "start_time": "2023-05-16T11:17:47.276Z"
   },
   {
    "duration": 262,
    "start_time": "2023-05-16T11:17:47.550Z"
   },
   {
    "duration": 395,
    "start_time": "2023-05-16T11:17:47.814Z"
   },
   {
    "duration": 13,
    "start_time": "2023-05-16T11:17:48.212Z"
   },
   {
    "duration": 7,
    "start_time": "2023-05-16T11:17:48.229Z"
   },
   {
    "duration": 131,
    "start_time": "2023-05-16T11:17:49.914Z"
   },
   {
    "duration": 12,
    "start_time": "2023-05-16T11:18:58.658Z"
   },
   {
    "duration": 14,
    "start_time": "2023-05-16T11:19:25.412Z"
   },
   {
    "duration": 12,
    "start_time": "2023-05-16T11:19:46.214Z"
   },
   {
    "duration": 55,
    "start_time": "2023-05-16T11:24:04.862Z"
   },
   {
    "duration": 30,
    "start_time": "2023-05-16T11:24:31.326Z"
   },
   {
    "duration": 23,
    "start_time": "2023-05-16T11:25:04.112Z"
   },
   {
    "duration": 3,
    "start_time": "2023-05-16T11:25:58.753Z"
   },
   {
    "duration": 856,
    "start_time": "2023-05-16T11:25:58.759Z"
   },
   {
    "duration": 43,
    "start_time": "2023-05-16T11:25:59.617Z"
   },
   {
    "duration": 60,
    "start_time": "2023-05-16T11:25:59.661Z"
   },
   {
    "duration": 42,
    "start_time": "2023-05-16T11:25:59.724Z"
   },
   {
    "duration": 40,
    "start_time": "2023-05-16T11:25:59.769Z"
   },
   {
    "duration": 9,
    "start_time": "2023-05-16T11:25:59.810Z"
   },
   {
    "duration": 353,
    "start_time": "2023-05-16T11:25:59.822Z"
   },
   {
    "duration": 288,
    "start_time": "2023-05-16T11:26:00.177Z"
   },
   {
    "duration": 12,
    "start_time": "2023-05-16T11:26:00.468Z"
   },
   {
    "duration": 325,
    "start_time": "2023-05-16T11:26:00.481Z"
   },
   {
    "duration": 402,
    "start_time": "2023-05-16T11:26:00.811Z"
   },
   {
    "duration": 322,
    "start_time": "2023-05-16T11:26:01.216Z"
   },
   {
    "duration": 358,
    "start_time": "2023-05-16T11:26:01.540Z"
   },
   {
    "duration": 256,
    "start_time": "2023-05-16T11:26:01.903Z"
   },
   {
    "duration": 231,
    "start_time": "2023-05-16T11:26:02.162Z"
   },
   {
    "duration": 365,
    "start_time": "2023-05-16T11:26:02.395Z"
   },
   {
    "duration": 4,
    "start_time": "2023-05-16T11:26:02.762Z"
   },
   {
    "duration": 10,
    "start_time": "2023-05-16T11:26:02.767Z"
   },
   {
    "duration": 14,
    "start_time": "2023-05-16T11:26:02.788Z"
   },
   {
    "duration": 57,
    "start_time": "2023-05-16T11:26:02.804Z"
   },
   {
    "duration": 94,
    "start_time": "2023-05-16T11:26:07.154Z"
   },
   {
    "duration": 3,
    "start_time": "2023-05-16T11:26:30.756Z"
   },
   {
    "duration": 23,
    "start_time": "2023-05-16T11:27:11.970Z"
   },
   {
    "duration": 14,
    "start_time": "2023-05-16T11:27:18.758Z"
   },
   {
    "duration": 17,
    "start_time": "2023-05-16T11:27:25.112Z"
   },
   {
    "duration": 6,
    "start_time": "2023-05-16T11:27:44.022Z"
   },
   {
    "duration": 6,
    "start_time": "2023-05-16T11:27:50.522Z"
   },
   {
    "duration": 28,
    "start_time": "2023-05-16T11:28:16.282Z"
   },
   {
    "duration": 16,
    "start_time": "2023-05-16T11:28:34.843Z"
   },
   {
    "duration": 23,
    "start_time": "2023-05-16T11:28:56.449Z"
   },
   {
    "duration": 123,
    "start_time": "2023-05-16T11:29:18.811Z"
   },
   {
    "duration": 4,
    "start_time": "2023-05-16T11:29:23.257Z"
   },
   {
    "duration": 770,
    "start_time": "2023-05-16T11:29:23.264Z"
   },
   {
    "duration": 43,
    "start_time": "2023-05-16T11:29:24.036Z"
   },
   {
    "duration": 45,
    "start_time": "2023-05-16T11:29:24.089Z"
   },
   {
    "duration": 33,
    "start_time": "2023-05-16T11:29:24.136Z"
   },
   {
    "duration": 40,
    "start_time": "2023-05-16T11:29:24.170Z"
   },
   {
    "duration": 7,
    "start_time": "2023-05-16T11:29:24.211Z"
   },
   {
    "duration": 337,
    "start_time": "2023-05-16T11:29:24.220Z"
   },
   {
    "duration": 261,
    "start_time": "2023-05-16T11:29:24.560Z"
   },
   {
    "duration": 9,
    "start_time": "2023-05-16T11:29:24.824Z"
   },
   {
    "duration": 256,
    "start_time": "2023-05-16T11:29:24.835Z"
   },
   {
    "duration": 329,
    "start_time": "2023-05-16T11:29:25.099Z"
   },
   {
    "duration": 334,
    "start_time": "2023-05-16T11:29:25.429Z"
   },
   {
    "duration": 347,
    "start_time": "2023-05-16T11:29:25.764Z"
   },
   {
    "duration": 239,
    "start_time": "2023-05-16T11:29:26.114Z"
   },
   {
    "duration": 247,
    "start_time": "2023-05-16T11:29:26.356Z"
   },
   {
    "duration": 327,
    "start_time": "2023-05-16T11:29:26.605Z"
   },
   {
    "duration": 4,
    "start_time": "2023-05-16T11:29:26.935Z"
   },
   {
    "duration": 9,
    "start_time": "2023-05-16T11:29:26.941Z"
   },
   {
    "duration": 21,
    "start_time": "2023-05-16T11:29:26.951Z"
   },
   {
    "duration": 50,
    "start_time": "2023-05-16T11:29:26.973Z"
   },
   {
    "duration": 20,
    "start_time": "2023-05-16T11:30:16.077Z"
   },
   {
    "duration": 26,
    "start_time": "2023-05-16T11:30:24.750Z"
   },
   {
    "duration": 89,
    "start_time": "2023-05-16T11:30:34.155Z"
   },
   {
    "duration": 17,
    "start_time": "2023-05-16T11:30:45.601Z"
   },
   {
    "duration": 4,
    "start_time": "2023-05-16T11:31:08.264Z"
   },
   {
    "duration": 827,
    "start_time": "2023-05-16T11:31:08.270Z"
   },
   {
    "duration": 48,
    "start_time": "2023-05-16T11:31:09.100Z"
   },
   {
    "duration": 58,
    "start_time": "2023-05-16T11:31:09.149Z"
   },
   {
    "duration": 37,
    "start_time": "2023-05-16T11:31:09.209Z"
   },
   {
    "duration": 18,
    "start_time": "2023-05-16T11:31:09.248Z"
   },
   {
    "duration": 8,
    "start_time": "2023-05-16T11:31:09.287Z"
   },
   {
    "duration": 323,
    "start_time": "2023-05-16T11:31:09.297Z"
   },
   {
    "duration": 237,
    "start_time": "2023-05-16T11:31:09.631Z"
   },
   {
    "duration": 8,
    "start_time": "2023-05-16T11:31:09.869Z"
   },
   {
    "duration": 254,
    "start_time": "2023-05-16T11:31:09.889Z"
   },
   {
    "duration": 435,
    "start_time": "2023-05-16T11:31:10.144Z"
   },
   {
    "duration": 375,
    "start_time": "2023-05-16T11:31:10.581Z"
   },
   {
    "duration": 368,
    "start_time": "2023-05-16T11:31:10.958Z"
   },
   {
    "duration": 241,
    "start_time": "2023-05-16T11:31:11.328Z"
   },
   {
    "duration": 253,
    "start_time": "2023-05-16T11:31:11.571Z"
   },
   {
    "duration": 491,
    "start_time": "2023-05-16T11:31:11.827Z"
   },
   {
    "duration": 5,
    "start_time": "2023-05-16T11:31:12.320Z"
   },
   {
    "duration": 8,
    "start_time": "2023-05-16T11:31:12.327Z"
   },
   {
    "duration": 16,
    "start_time": "2023-05-16T11:31:12.336Z"
   },
   {
    "duration": 53,
    "start_time": "2023-05-16T11:31:12.354Z"
   },
   {
    "duration": 89,
    "start_time": "2023-05-16T11:31:12.420Z"
   },
   {
    "duration": 15,
    "start_time": "2023-05-16T11:31:15.847Z"
   },
   {
    "duration": 6,
    "start_time": "2023-05-16T11:31:24.851Z"
   },
   {
    "duration": 32,
    "start_time": "2023-05-16T11:31:38.412Z"
   },
   {
    "duration": 13,
    "start_time": "2023-05-16T11:31:44.468Z"
   },
   {
    "duration": 8,
    "start_time": "2023-05-16T11:32:59.924Z"
   },
   {
    "duration": 11,
    "start_time": "2023-05-16T11:33:20.026Z"
   },
   {
    "duration": 22,
    "start_time": "2023-05-16T11:33:33.182Z"
   },
   {
    "duration": 343,
    "start_time": "2023-05-16T11:34:51.662Z"
   },
   {
    "duration": 4,
    "start_time": "2023-05-16T11:35:13.208Z"
   },
   {
    "duration": 3880,
    "start_time": "2023-05-16T11:35:51.526Z"
   },
   {
    "duration": 3743,
    "start_time": "2023-05-16T11:36:38.754Z"
   },
   {
    "duration": 3326,
    "start_time": "2023-05-16T11:36:50.964Z"
   },
   {
    "duration": 5,
    "start_time": "2023-05-16T11:38:24.453Z"
   },
   {
    "duration": 15,
    "start_time": "2023-05-16T11:49:37.808Z"
   },
   {
    "duration": 12,
    "start_time": "2023-05-16T11:49:44.750Z"
   },
   {
    "duration": 10,
    "start_time": "2023-05-16T11:49:59.578Z"
   },
   {
    "duration": 29,
    "start_time": "2023-05-16T11:50:18.814Z"
   },
   {
    "duration": 826,
    "start_time": "2023-05-16T11:50:18.846Z"
   },
   {
    "duration": 47,
    "start_time": "2023-05-16T11:50:19.674Z"
   },
   {
    "duration": 36,
    "start_time": "2023-05-16T11:50:19.723Z"
   },
   {
    "duration": 59,
    "start_time": "2023-05-16T11:50:19.761Z"
   },
   {
    "duration": 19,
    "start_time": "2023-05-16T11:50:19.822Z"
   },
   {
    "duration": 6,
    "start_time": "2023-05-16T11:50:19.843Z"
   },
   {
    "duration": 345,
    "start_time": "2023-05-16T11:50:19.851Z"
   },
   {
    "duration": 305,
    "start_time": "2023-05-16T11:50:20.198Z"
   },
   {
    "duration": 12,
    "start_time": "2023-05-16T11:50:20.511Z"
   },
   {
    "duration": 299,
    "start_time": "2023-05-16T11:50:20.525Z"
   },
   {
    "duration": 331,
    "start_time": "2023-05-16T11:50:20.826Z"
   },
   {
    "duration": 322,
    "start_time": "2023-05-16T11:50:21.159Z"
   },
   {
    "duration": 340,
    "start_time": "2023-05-16T11:50:21.487Z"
   },
   {
    "duration": 221,
    "start_time": "2023-05-16T11:50:21.828Z"
   },
   {
    "duration": 223,
    "start_time": "2023-05-16T11:50:22.052Z"
   },
   {
    "duration": 355,
    "start_time": "2023-05-16T11:50:22.277Z"
   },
   {
    "duration": 4,
    "start_time": "2023-05-16T11:50:22.633Z"
   },
   {
    "duration": 4,
    "start_time": "2023-05-16T11:50:22.639Z"
   },
   {
    "duration": 13,
    "start_time": "2023-05-16T11:50:22.645Z"
   },
   {
    "duration": 50,
    "start_time": "2023-05-16T11:50:22.660Z"
   },
   {
    "duration": 120,
    "start_time": "2023-05-16T11:50:22.712Z"
   },
   {
    "duration": 11,
    "start_time": "2023-05-16T11:50:22.834Z"
   },
   {
    "duration": 13268040,
    "start_time": "2023-05-16T11:50:22.847Z"
   },
   {
    "duration": 21,
    "start_time": "2023-05-16T15:31:30.900Z"
   },
   {
    "duration": 540791,
    "start_time": "2023-05-16T15:33:07.216Z"
   },
   {
    "duration": 10,
    "start_time": "2023-05-16T15:56:25.620Z"
   },
   {
    "duration": 13,
    "start_time": "2023-05-16T15:59:11.550Z"
   },
   {
    "duration": 0,
    "start_time": "2023-05-16T16:29:48.832Z"
   },
   {
    "duration": 3,
    "start_time": "2023-05-16T16:29:53.969Z"
   },
   {
    "duration": 1026,
    "start_time": "2023-05-16T16:29:53.975Z"
   },
   {
    "duration": 55,
    "start_time": "2023-05-16T16:29:55.006Z"
   },
   {
    "duration": 51,
    "start_time": "2023-05-16T16:29:55.063Z"
   },
   {
    "duration": 63,
    "start_time": "2023-05-16T16:29:55.117Z"
   },
   {
    "duration": 77,
    "start_time": "2023-05-16T16:29:55.182Z"
   },
   {
    "duration": 8,
    "start_time": "2023-05-16T16:29:55.261Z"
   },
   {
    "duration": 402,
    "start_time": "2023-05-16T16:29:55.271Z"
   },
   {
    "duration": 278,
    "start_time": "2023-05-16T16:29:55.675Z"
   },
   {
    "duration": 10,
    "start_time": "2023-05-16T16:29:55.956Z"
   },
   {
    "duration": 310,
    "start_time": "2023-05-16T16:29:55.969Z"
   },
   {
    "duration": 458,
    "start_time": "2023-05-16T16:29:56.281Z"
   },
   {
    "duration": 503,
    "start_time": "2023-05-16T16:29:56.748Z"
   },
   {
    "duration": 400,
    "start_time": "2023-05-16T16:29:57.252Z"
   },
   {
    "duration": 295,
    "start_time": "2023-05-16T16:29:57.654Z"
   },
   {
    "duration": 261,
    "start_time": "2023-05-16T16:29:57.951Z"
   },
   {
    "duration": 389,
    "start_time": "2023-05-16T16:29:58.218Z"
   },
   {
    "duration": 10,
    "start_time": "2023-05-16T16:29:58.611Z"
   },
   {
    "duration": 12,
    "start_time": "2023-05-16T16:29:58.629Z"
   },
   {
    "duration": 15,
    "start_time": "2023-05-16T16:29:58.650Z"
   },
   {
    "duration": 33,
    "start_time": "2023-05-16T16:29:58.667Z"
   },
   {
    "duration": 88,
    "start_time": "2023-05-16T16:29:58.702Z"
   },
   {
    "duration": 19,
    "start_time": "2023-05-16T16:29:58.795Z"
   },
   {
    "duration": 1863,
    "start_time": "2023-05-16T16:31:19.940Z"
   },
   {
    "duration": 1003,
    "start_time": "2023-05-16T16:31:21.814Z"
   },
   {
    "duration": 54,
    "start_time": "2023-05-16T16:31:22.825Z"
   },
   {
    "duration": 103,
    "start_time": "2023-05-16T16:31:22.880Z"
   },
   {
    "duration": 52,
    "start_time": "2023-05-16T16:31:22.986Z"
   },
   {
    "duration": 33,
    "start_time": "2023-05-16T16:31:23.040Z"
   },
   {
    "duration": 57,
    "start_time": "2023-05-16T16:31:23.074Z"
   },
   {
    "duration": 372,
    "start_time": "2023-05-16T16:31:23.134Z"
   },
   {
    "duration": 272,
    "start_time": "2023-05-16T16:31:23.508Z"
   },
   {
    "duration": 17,
    "start_time": "2023-05-16T16:31:23.781Z"
   },
   {
    "duration": 275,
    "start_time": "2023-05-16T16:31:23.812Z"
   },
   {
    "duration": 418,
    "start_time": "2023-05-16T16:31:24.099Z"
   },
   {
    "duration": 397,
    "start_time": "2023-05-16T16:31:24.537Z"
   },
   {
    "duration": 405,
    "start_time": "2023-05-16T16:31:24.938Z"
   },
   {
    "duration": 286,
    "start_time": "2023-05-16T16:31:25.346Z"
   },
   {
    "duration": 346,
    "start_time": "2023-05-16T16:31:25.634Z"
   },
   {
    "duration": 398,
    "start_time": "2023-05-16T16:31:25.988Z"
   },
   {
    "duration": 16,
    "start_time": "2023-05-16T16:31:26.388Z"
   },
   {
    "duration": 6,
    "start_time": "2023-05-16T16:31:26.407Z"
   },
   {
    "duration": 33,
    "start_time": "2023-05-16T16:31:26.418Z"
   },
   {
    "duration": 53,
    "start_time": "2023-05-16T16:31:26.453Z"
   },
   {
    "duration": 103,
    "start_time": "2023-05-16T16:31:26.508Z"
   },
   {
    "duration": 26,
    "start_time": "2023-05-16T16:31:26.624Z"
   },
   {
    "duration": 547348,
    "start_time": "2023-05-16T16:31:26.653Z"
   },
   {
    "duration": 166,
    "start_time": "2023-05-16T16:40:34.012Z"
   },
   {
    "duration": 0,
    "start_time": "2023-05-16T16:40:34.180Z"
   },
   {
    "duration": 4,
    "start_time": "2023-05-16T17:29:00.243Z"
   },
   {
    "duration": 1156,
    "start_time": "2023-05-16T17:29:00.249Z"
   },
   {
    "duration": 57,
    "start_time": "2023-05-16T17:29:01.410Z"
   },
   {
    "duration": 50,
    "start_time": "2023-05-16T17:29:01.469Z"
   },
   {
    "duration": 48,
    "start_time": "2023-05-16T17:29:01.522Z"
   },
   {
    "duration": 51,
    "start_time": "2023-05-16T17:29:01.572Z"
   },
   {
    "duration": 28,
    "start_time": "2023-05-16T17:29:01.625Z"
   },
   {
    "duration": 430,
    "start_time": "2023-05-16T17:29:01.656Z"
   },
   {
    "duration": 346,
    "start_time": "2023-05-16T17:29:02.098Z"
   },
   {
    "duration": 11,
    "start_time": "2023-05-16T17:29:02.451Z"
   },
   {
    "duration": 317,
    "start_time": "2023-05-16T17:29:02.464Z"
   },
   {
    "duration": 416,
    "start_time": "2023-05-16T17:29:02.784Z"
   },
   {
    "duration": 395,
    "start_time": "2023-05-16T17:29:03.202Z"
   },
   {
    "duration": 378,
    "start_time": "2023-05-16T17:29:03.613Z"
   },
   {
    "duration": 288,
    "start_time": "2023-05-16T17:29:03.994Z"
   },
   {
    "duration": 284,
    "start_time": "2023-05-16T17:29:04.285Z"
   },
   {
    "duration": 446,
    "start_time": "2023-05-16T17:29:04.571Z"
   },
   {
    "duration": 4,
    "start_time": "2023-05-16T17:29:05.020Z"
   },
   {
    "duration": 6,
    "start_time": "2023-05-16T17:29:05.026Z"
   },
   {
    "duration": 23,
    "start_time": "2023-05-16T17:29:05.035Z"
   },
   {
    "duration": 31,
    "start_time": "2023-05-16T17:29:05.060Z"
   },
   {
    "duration": 116,
    "start_time": "2023-05-16T17:29:05.093Z"
   },
   {
    "duration": 21,
    "start_time": "2023-05-16T17:29:10.063Z"
   },
   {
    "duration": 7,
    "start_time": "2023-05-16T17:30:53.112Z"
   },
   {
    "duration": 23,
    "start_time": "2023-05-16T17:31:01.316Z"
   },
   {
    "duration": 27,
    "start_time": "2023-05-16T17:31:24.217Z"
   },
   {
    "duration": 48,
    "start_time": "2023-05-16T17:32:39.968Z"
   },
   {
    "duration": 18,
    "start_time": "2023-05-16T17:33:05.240Z"
   },
   {
    "duration": 92,
    "start_time": "2023-05-16T17:34:51.667Z"
   },
   {
    "duration": 5,
    "start_time": "2023-05-16T17:34:58.920Z"
   },
   {
    "duration": 997,
    "start_time": "2023-05-16T17:34:58.927Z"
   },
   {
    "duration": 39,
    "start_time": "2023-05-16T17:34:59.925Z"
   },
   {
    "duration": 70,
    "start_time": "2023-05-16T17:34:59.965Z"
   },
   {
    "duration": 33,
    "start_time": "2023-05-16T17:35:00.039Z"
   },
   {
    "duration": 31,
    "start_time": "2023-05-16T17:35:00.074Z"
   },
   {
    "duration": 25,
    "start_time": "2023-05-16T17:35:00.107Z"
   },
   {
    "duration": 431,
    "start_time": "2023-05-16T17:35:00.136Z"
   },
   {
    "duration": 323,
    "start_time": "2023-05-16T17:35:00.570Z"
   },
   {
    "duration": 21,
    "start_time": "2023-05-16T17:35:00.897Z"
   },
   {
    "duration": 313,
    "start_time": "2023-05-16T17:35:00.920Z"
   },
   {
    "duration": 501,
    "start_time": "2023-05-16T17:35:01.238Z"
   },
   {
    "duration": 388,
    "start_time": "2023-05-16T17:35:01.742Z"
   },
   {
    "duration": 393,
    "start_time": "2023-05-16T17:35:02.137Z"
   },
   {
    "duration": 259,
    "start_time": "2023-05-16T17:35:02.532Z"
   },
   {
    "duration": 289,
    "start_time": "2023-05-16T17:35:02.793Z"
   },
   {
    "duration": 392,
    "start_time": "2023-05-16T17:35:03.084Z"
   },
   {
    "duration": 4,
    "start_time": "2023-05-16T17:35:03.478Z"
   },
   {
    "duration": 12,
    "start_time": "2023-05-16T17:35:03.484Z"
   },
   {
    "duration": 14,
    "start_time": "2023-05-16T17:35:03.498Z"
   },
   {
    "duration": 26,
    "start_time": "2023-05-16T17:35:03.516Z"
   },
   {
    "duration": 115,
    "start_time": "2023-05-16T17:35:03.544Z"
   },
   {
    "duration": 14,
    "start_time": "2023-05-16T17:35:03.661Z"
   },
   {
    "duration": 24,
    "start_time": "2023-05-16T17:35:09.009Z"
   },
   {
    "duration": 22,
    "start_time": "2023-05-16T17:35:46.842Z"
   },
   {
    "duration": 30,
    "start_time": "2023-05-16T17:36:22.682Z"
   },
   {
    "duration": 35,
    "start_time": "2023-05-16T17:37:01.314Z"
   },
   {
    "duration": 16,
    "start_time": "2023-05-16T17:37:06.882Z"
   },
   {
    "duration": 10,
    "start_time": "2023-05-16T17:37:52.559Z"
   },
   {
    "duration": 2042,
    "start_time": "2023-05-16T17:42:52.289Z"
   },
   {
    "duration": 1216,
    "start_time": "2023-05-16T17:42:54.343Z"
   },
   {
    "duration": 72,
    "start_time": "2023-05-16T17:42:55.576Z"
   },
   {
    "duration": 64,
    "start_time": "2023-05-16T17:42:55.651Z"
   },
   {
    "duration": 59,
    "start_time": "2023-05-16T17:42:55.717Z"
   },
   {
    "duration": 43,
    "start_time": "2023-05-16T17:42:55.780Z"
   },
   {
    "duration": 22,
    "start_time": "2023-05-16T17:42:55.831Z"
   },
   {
    "duration": 406,
    "start_time": "2023-05-16T17:42:55.856Z"
   },
   {
    "duration": 313,
    "start_time": "2023-05-16T17:42:56.264Z"
   },
   {
    "duration": 14,
    "start_time": "2023-05-16T17:42:56.584Z"
   },
   {
    "duration": 397,
    "start_time": "2023-05-16T17:42:56.600Z"
   },
   {
    "duration": 507,
    "start_time": "2023-05-16T17:42:57.003Z"
   },
   {
    "duration": 449,
    "start_time": "2023-05-16T17:42:57.516Z"
   },
   {
    "duration": 448,
    "start_time": "2023-05-16T17:42:57.969Z"
   },
   {
    "duration": 367,
    "start_time": "2023-05-16T17:42:58.419Z"
   },
   {
    "duration": 470,
    "start_time": "2023-05-16T17:42:58.788Z"
   },
   {
    "duration": 528,
    "start_time": "2023-05-16T17:42:59.260Z"
   },
   {
    "duration": 12,
    "start_time": "2023-05-16T17:42:59.795Z"
   },
   {
    "duration": 6,
    "start_time": "2023-05-16T17:42:59.814Z"
   },
   {
    "duration": 19,
    "start_time": "2023-05-16T17:42:59.825Z"
   },
   {
    "duration": 37,
    "start_time": "2023-05-16T17:42:59.851Z"
   },
   {
    "duration": 117,
    "start_time": "2023-05-16T17:42:59.895Z"
   },
   {
    "duration": 32,
    "start_time": "2023-05-16T17:43:00.015Z"
   },
   {
    "duration": 12,
    "start_time": "2023-05-16T17:43:00.050Z"
   },
   {
    "duration": 1483,
    "start_time": "2023-05-16T17:44:32.693Z"
   },
   {
    "duration": 868,
    "start_time": "2023-05-16T17:44:34.178Z"
   },
   {
    "duration": 49,
    "start_time": "2023-05-16T17:44:35.050Z"
   },
   {
    "duration": 47,
    "start_time": "2023-05-16T17:44:35.102Z"
   },
   {
    "duration": 63,
    "start_time": "2023-05-16T17:44:35.153Z"
   },
   {
    "duration": 31,
    "start_time": "2023-05-16T17:44:35.219Z"
   },
   {
    "duration": 8,
    "start_time": "2023-05-16T17:44:35.252Z"
   },
   {
    "duration": 331,
    "start_time": "2023-05-16T17:44:35.266Z"
   },
   {
    "duration": 261,
    "start_time": "2023-05-16T17:44:35.599Z"
   },
   {
    "duration": 11,
    "start_time": "2023-05-16T17:44:35.862Z"
   },
   {
    "duration": 244,
    "start_time": "2023-05-16T17:44:35.888Z"
   },
   {
    "duration": 364,
    "start_time": "2023-05-16T17:44:36.135Z"
   },
   {
    "duration": 331,
    "start_time": "2023-05-16T17:44:36.501Z"
   },
   {
    "duration": 335,
    "start_time": "2023-05-16T17:44:36.837Z"
   },
   {
    "duration": 242,
    "start_time": "2023-05-16T17:44:37.174Z"
   },
   {
    "duration": 315,
    "start_time": "2023-05-16T17:44:37.419Z"
   },
   {
    "duration": 336,
    "start_time": "2023-05-16T17:44:37.736Z"
   },
   {
    "duration": 4,
    "start_time": "2023-05-16T17:44:38.074Z"
   },
   {
    "duration": 13,
    "start_time": "2023-05-16T17:44:38.080Z"
   },
   {
    "duration": 17,
    "start_time": "2023-05-16T17:44:38.095Z"
   },
   {
    "duration": 34,
    "start_time": "2023-05-16T17:44:38.114Z"
   },
   {
    "duration": 103,
    "start_time": "2023-05-16T17:44:38.150Z"
   },
   {
    "duration": 42,
    "start_time": "2023-05-16T17:44:38.255Z"
   },
   {
    "duration": 11,
    "start_time": "2023-05-16T17:44:38.300Z"
   },
   {
    "duration": 43631,
    "start_time": "2023-05-16T17:44:38.313Z"
   },
   {
    "duration": 0,
    "start_time": "2023-05-16T17:45:21.947Z"
   },
   {
    "duration": 0,
    "start_time": "2023-05-16T17:45:21.948Z"
   },
   {
    "duration": 0,
    "start_time": "2023-05-16T17:45:21.950Z"
   },
   {
    "duration": 51,
    "start_time": "2023-05-16T17:45:24.409Z"
   },
   {
    "duration": 22,
    "start_time": "2023-05-16T17:45:31.656Z"
   },
   {
    "duration": 16,
    "start_time": "2023-05-16T17:45:51.306Z"
   },
   {
    "duration": 5,
    "start_time": "2023-05-16T17:45:54.727Z"
   },
   {
    "duration": 802,
    "start_time": "2023-05-16T17:45:54.735Z"
   },
   {
    "duration": 46,
    "start_time": "2023-05-16T17:45:55.543Z"
   },
   {
    "duration": 37,
    "start_time": "2023-05-16T17:45:55.591Z"
   },
   {
    "duration": 33,
    "start_time": "2023-05-16T17:45:55.630Z"
   },
   {
    "duration": 19,
    "start_time": "2023-05-16T17:45:55.688Z"
   },
   {
    "duration": 7,
    "start_time": "2023-05-16T17:45:55.709Z"
   },
   {
    "duration": 316,
    "start_time": "2023-05-16T17:45:55.718Z"
   },
   {
    "duration": 228,
    "start_time": "2023-05-16T17:45:56.036Z"
   },
   {
    "duration": 9,
    "start_time": "2023-05-16T17:45:56.266Z"
   },
   {
    "duration": 252,
    "start_time": "2023-05-16T17:45:56.290Z"
   },
   {
    "duration": 328,
    "start_time": "2023-05-16T17:45:56.544Z"
   },
   {
    "duration": 310,
    "start_time": "2023-05-16T17:45:56.874Z"
   },
   {
    "duration": 325,
    "start_time": "2023-05-16T17:45:57.187Z"
   },
   {
    "duration": 268,
    "start_time": "2023-05-16T17:45:57.515Z"
   },
   {
    "duration": 220,
    "start_time": "2023-05-16T17:45:57.785Z"
   },
   {
    "duration": 335,
    "start_time": "2023-05-16T17:45:58.007Z"
   },
   {
    "duration": 4,
    "start_time": "2023-05-16T17:45:58.344Z"
   },
   {
    "duration": 6,
    "start_time": "2023-05-16T17:45:58.350Z"
   },
   {
    "duration": 30,
    "start_time": "2023-05-16T17:45:58.358Z"
   },
   {
    "duration": 24,
    "start_time": "2023-05-16T17:45:58.390Z"
   },
   {
    "duration": 107,
    "start_time": "2023-05-16T17:45:58.416Z"
   },
   {
    "duration": 24,
    "start_time": "2023-05-16T17:45:58.525Z"
   },
   {
    "duration": 9,
    "start_time": "2023-05-16T17:45:58.551Z"
   },
   {
    "duration": 17,
    "start_time": "2023-05-16T17:45:58.588Z"
   },
   {
    "duration": 0,
    "start_time": "2023-05-16T17:45:58.607Z"
   },
   {
    "duration": 0,
    "start_time": "2023-05-16T17:45:58.609Z"
   },
   {
    "duration": 15,
    "start_time": "2023-05-16T17:46:32.991Z"
   },
   {
    "duration": 4,
    "start_time": "2023-05-16T17:47:54.228Z"
   },
   {
    "duration": 892,
    "start_time": "2023-05-16T17:48:05.307Z"
   },
   {
    "duration": 915,
    "start_time": "2023-05-16T17:48:12.989Z"
   },
   {
    "duration": 184543,
    "start_time": "2023-05-16T17:48:27.442Z"
   },
   {
    "duration": 1100,
    "start_time": "2023-05-16T17:51:31.989Z"
   },
   {
    "duration": 2883,
    "start_time": "2023-05-16T17:51:43.011Z"
   },
   {
    "duration": 1990,
    "start_time": "2023-05-16T17:51:50.709Z"
   },
   {
    "duration": 14,
    "start_time": "2023-05-16T17:53:09.696Z"
   },
   {
    "duration": 13,
    "start_time": "2023-05-16T17:54:05.341Z"
   },
   {
    "duration": 13,
    "start_time": "2023-05-16T17:54:21.808Z"
   },
   {
    "duration": 14,
    "start_time": "2023-05-16T17:54:40.315Z"
   },
   {
    "duration": 32673,
    "start_time": "2023-05-16T17:54:45.941Z"
   },
   {
    "duration": 23289,
    "start_time": "2023-05-16T17:55:19.544Z"
   },
   {
    "duration": 5844,
    "start_time": "2023-05-16T17:56:19.648Z"
   },
   {
    "duration": 148,
    "start_time": "2023-05-16T18:02:06.841Z"
   },
   {
    "duration": 612,
    "start_time": "2023-05-16T18:02:46.586Z"
   },
   {
    "duration": 651,
    "start_time": "2023-05-16T18:03:52.982Z"
   },
   {
    "duration": 6,
    "start_time": "2023-05-16T18:04:36.216Z"
   },
   {
    "duration": 3,
    "start_time": "2023-05-16T18:04:36.609Z"
   },
   {
    "duration": 616,
    "start_time": "2023-05-16T18:04:40.346Z"
   },
   {
    "duration": 744,
    "start_time": "2023-05-16T18:04:46.402Z"
   },
   {
    "duration": 611,
    "start_time": "2023-05-16T18:06:28.125Z"
   },
   {
    "duration": 1546,
    "start_time": "2023-05-16T18:09:19.939Z"
   },
   {
    "duration": 893,
    "start_time": "2023-05-16T18:09:21.490Z"
   },
   {
    "duration": 49,
    "start_time": "2023-05-16T18:09:22.385Z"
   },
   {
    "duration": 55,
    "start_time": "2023-05-16T18:09:22.436Z"
   },
   {
    "duration": 53,
    "start_time": "2023-05-16T18:09:22.494Z"
   },
   {
    "duration": 54,
    "start_time": "2023-05-16T18:09:22.550Z"
   },
   {
    "duration": 9,
    "start_time": "2023-05-16T18:09:22.607Z"
   },
   {
    "duration": 399,
    "start_time": "2023-05-16T18:09:22.618Z"
   },
   {
    "duration": 289,
    "start_time": "2023-05-16T18:09:23.020Z"
   },
   {
    "duration": 11,
    "start_time": "2023-05-16T18:09:23.311Z"
   },
   {
    "duration": 304,
    "start_time": "2023-05-16T18:09:23.324Z"
   },
   {
    "duration": 366,
    "start_time": "2023-05-16T18:09:23.631Z"
   },
   {
    "duration": 345,
    "start_time": "2023-05-16T18:09:23.999Z"
   },
   {
    "duration": 364,
    "start_time": "2023-05-16T18:09:24.348Z"
   },
   {
    "duration": 231,
    "start_time": "2023-05-16T18:09:24.714Z"
   },
   {
    "duration": 332,
    "start_time": "2023-05-16T18:09:24.947Z"
   },
   {
    "duration": 360,
    "start_time": "2023-05-16T18:09:25.281Z"
   },
   {
    "duration": 5,
    "start_time": "2023-05-16T18:09:25.643Z"
   },
   {
    "duration": 15,
    "start_time": "2023-05-16T18:09:25.650Z"
   },
   {
    "duration": 28,
    "start_time": "2023-05-16T18:09:25.667Z"
   },
   {
    "duration": 25,
    "start_time": "2023-05-16T18:09:25.698Z"
   },
   {
    "duration": 110,
    "start_time": "2023-05-16T18:09:25.725Z"
   },
   {
    "duration": 27,
    "start_time": "2023-05-16T18:09:25.837Z"
   },
   {
    "duration": 36,
    "start_time": "2023-05-16T18:09:25.866Z"
   },
   {
    "duration": 1429,
    "start_time": "2023-05-16T18:10:04.539Z"
   },
   {
    "duration": 811,
    "start_time": "2023-05-16T18:10:05.971Z"
   },
   {
    "duration": 49,
    "start_time": "2023-05-16T18:10:06.784Z"
   },
   {
    "duration": 58,
    "start_time": "2023-05-16T18:10:06.836Z"
   },
   {
    "duration": 34,
    "start_time": "2023-05-16T18:10:06.897Z"
   },
   {
    "duration": 58,
    "start_time": "2023-05-16T18:10:06.933Z"
   },
   {
    "duration": 9,
    "start_time": "2023-05-16T18:10:06.993Z"
   },
   {
    "duration": 428,
    "start_time": "2023-05-16T18:10:07.005Z"
   },
   {
    "duration": 277,
    "start_time": "2023-05-16T18:10:07.434Z"
   },
   {
    "duration": 9,
    "start_time": "2023-05-16T18:10:07.713Z"
   },
   {
    "duration": 254,
    "start_time": "2023-05-16T18:10:07.724Z"
   },
   {
    "duration": 371,
    "start_time": "2023-05-16T18:10:07.980Z"
   },
   {
    "duration": 317,
    "start_time": "2023-05-16T18:10:08.353Z"
   },
   {
    "duration": 331,
    "start_time": "2023-05-16T18:10:08.674Z"
   },
   {
    "duration": 245,
    "start_time": "2023-05-16T18:10:09.007Z"
   },
   {
    "duration": 309,
    "start_time": "2023-05-16T18:10:09.254Z"
   },
   {
    "duration": 330,
    "start_time": "2023-05-16T18:10:09.565Z"
   },
   {
    "duration": 4,
    "start_time": "2023-05-16T18:10:09.896Z"
   },
   {
    "duration": 4,
    "start_time": "2023-05-16T18:10:09.902Z"
   },
   {
    "duration": 12,
    "start_time": "2023-05-16T18:10:09.908Z"
   },
   {
    "duration": 24,
    "start_time": "2023-05-16T18:10:09.922Z"
   },
   {
    "duration": 155,
    "start_time": "2023-05-16T18:10:09.949Z"
   },
   {
    "duration": 25,
    "start_time": "2023-05-16T18:10:10.106Z"
   },
   {
    "duration": 13,
    "start_time": "2023-05-16T18:10:10.133Z"
   },
   {
    "duration": 10689,
    "start_time": "2023-05-16T18:10:10.148Z"
   },
   {
    "duration": 2162,
    "start_time": "2023-05-16T18:10:20.839Z"
   },
   {
    "duration": 24324,
    "start_time": "2023-05-16T18:10:23.003Z"
   },
   {
    "duration": 6963,
    "start_time": "2023-05-16T18:10:47.329Z"
   },
   {
    "duration": 837,
    "start_time": "2023-05-16T18:10:54.294Z"
   },
   {
    "duration": 229,
    "start_time": "2023-05-17T07:11:45.490Z"
   },
   {
    "duration": 97,
    "start_time": "2023-05-17T07:16:46.806Z"
   },
   {
    "duration": 2708,
    "start_time": "2023-05-17T07:16:50.184Z"
   },
   {
    "duration": 7324,
    "start_time": "2023-05-17T07:16:52.894Z"
   },
   {
    "duration": 114,
    "start_time": "2023-05-17T07:17:00.223Z"
   },
   {
    "duration": 75,
    "start_time": "2023-05-17T07:17:00.346Z"
   },
   {
    "duration": 106,
    "start_time": "2023-05-17T07:17:00.427Z"
   },
   {
    "duration": 85,
    "start_time": "2023-05-17T07:17:00.536Z"
   },
   {
    "duration": 18,
    "start_time": "2023-05-17T07:17:00.626Z"
   },
   {
    "duration": 456,
    "start_time": "2023-05-17T07:17:00.651Z"
   },
   {
    "duration": 453,
    "start_time": "2023-05-17T07:17:01.116Z"
   },
   {
    "duration": 15,
    "start_time": "2023-05-17T07:17:01.577Z"
   },
   {
    "duration": 454,
    "start_time": "2023-05-17T07:17:01.595Z"
   },
   {
    "duration": 589,
    "start_time": "2023-05-17T07:17:02.052Z"
   },
   {
    "duration": 465,
    "start_time": "2023-05-17T07:17:02.649Z"
   },
   {
    "duration": 475,
    "start_time": "2023-05-17T07:17:03.116Z"
   },
   {
    "duration": 408,
    "start_time": "2023-05-17T07:17:03.597Z"
   },
   {
    "duration": 417,
    "start_time": "2023-05-17T07:17:04.012Z"
   },
   {
    "duration": 563,
    "start_time": "2023-05-17T07:17:04.435Z"
   },
   {
    "duration": 12,
    "start_time": "2023-05-17T07:17:09.557Z"
   },
   {
    "duration": 217,
    "start_time": "2023-05-17T07:18:20.887Z"
   },
   {
    "duration": 13,
    "start_time": "2023-05-17T07:19:54.340Z"
   },
   {
    "duration": 15,
    "start_time": "2023-05-17T07:20:51.106Z"
   },
   {
    "duration": 36,
    "start_time": "2023-05-17T07:21:58.461Z"
   },
   {
    "duration": 28,
    "start_time": "2023-05-17T07:23:27.798Z"
   },
   {
    "duration": 2488,
    "start_time": "2023-05-17T07:25:57.481Z"
   },
   {
    "duration": 1596,
    "start_time": "2023-05-17T07:26:44.116Z"
   },
   {
    "duration": 1690,
    "start_time": "2023-05-17T07:27:11.418Z"
   },
   {
    "duration": 10,
    "start_time": "2023-05-17T07:27:31.841Z"
   },
   {
    "duration": 1575,
    "start_time": "2023-05-17T07:27:34.345Z"
   },
   {
    "duration": 1694,
    "start_time": "2023-05-17T07:28:39.097Z"
   },
   {
    "duration": 26,
    "start_time": "2023-05-17T07:28:58.255Z"
   },
   {
    "duration": 2067,
    "start_time": "2023-05-17T07:29:38.355Z"
   },
   {
    "duration": 1890,
    "start_time": "2023-05-17T07:31:00.362Z"
   },
   {
    "duration": 3014,
    "start_time": "2023-05-17T07:31:45.200Z"
   },
   {
    "duration": 55,
    "start_time": "2023-05-17T07:32:05.365Z"
   },
   {
    "duration": 9,
    "start_time": "2023-05-17T07:32:28.410Z"
   },
   {
    "duration": 5,
    "start_time": "2023-05-17T07:32:33.216Z"
   },
   {
    "duration": 1750,
    "start_time": "2023-05-17T07:32:53.074Z"
   },
   {
    "duration": 1131,
    "start_time": "2023-05-17T07:33:14.841Z"
   },
   {
    "duration": 23,
    "start_time": "2023-05-17T07:33:49.074Z"
   },
   {
    "duration": 5,
    "start_time": "2023-05-17T07:33:52.155Z"
   },
   {
    "duration": 2294,
    "start_time": "2023-05-17T07:34:22.822Z"
   },
   {
    "duration": 70,
    "start_time": "2023-05-17T07:35:10.562Z"
   },
   {
    "duration": 2860,
    "start_time": "2023-05-17T07:35:15.047Z"
   },
   {
    "duration": 4,
    "start_time": "2023-05-17T07:35:26.814Z"
   },
   {
    "duration": 549,
    "start_time": "2023-05-17T07:35:29.314Z"
   },
   {
    "duration": 9,
    "start_time": "2023-05-17T07:35:40.584Z"
   },
   {
    "duration": 2217,
    "start_time": "2023-05-17T07:36:31.338Z"
   },
   {
    "duration": 2504,
    "start_time": "2023-05-17T07:36:38.598Z"
   },
   {
    "duration": 39,
    "start_time": "2023-05-17T07:36:53.470Z"
   },
   {
    "duration": 2251,
    "start_time": "2023-05-17T07:37:12.091Z"
   },
   {
    "duration": 1971,
    "start_time": "2023-05-17T07:37:33.548Z"
   },
   {
    "duration": 9,
    "start_time": "2023-05-17T07:37:41.362Z"
   },
   {
    "duration": 406,
    "start_time": "2023-05-17T07:37:43.077Z"
   },
   {
    "duration": 6,
    "start_time": "2023-05-17T07:37:50.110Z"
   },
   {
    "duration": 1297,
    "start_time": "2023-05-17T07:37:50.118Z"
   },
   {
    "duration": 102,
    "start_time": "2023-05-17T07:37:51.422Z"
   },
   {
    "duration": 72,
    "start_time": "2023-05-17T07:37:51.526Z"
   },
   {
    "duration": 59,
    "start_time": "2023-05-17T07:37:51.606Z"
   },
   {
    "duration": 32,
    "start_time": "2023-05-17T07:37:51.669Z"
   },
   {
    "duration": 14,
    "start_time": "2023-05-17T07:37:51.706Z"
   },
   {
    "duration": 423,
    "start_time": "2023-05-17T07:37:51.730Z"
   },
   {
    "duration": 274,
    "start_time": "2023-05-17T07:37:52.156Z"
   },
   {
    "duration": 16,
    "start_time": "2023-05-17T07:37:52.437Z"
   },
   {
    "duration": 456,
    "start_time": "2023-05-17T07:37:52.459Z"
   },
   {
    "duration": 572,
    "start_time": "2023-05-17T07:37:52.923Z"
   },
   {
    "duration": 523,
    "start_time": "2023-05-17T07:37:53.510Z"
   },
   {
    "duration": 603,
    "start_time": "2023-05-17T07:37:54.038Z"
   },
   {
    "duration": 387,
    "start_time": "2023-05-17T07:37:54.648Z"
   },
   {
    "duration": 401,
    "start_time": "2023-05-17T07:37:55.052Z"
   },
   {
    "duration": 495,
    "start_time": "2023-05-17T07:37:55.459Z"
   },
   {
    "duration": 29,
    "start_time": "2023-05-17T07:37:55.964Z"
   },
   {
    "duration": 7,
    "start_time": "2023-05-17T07:37:55.999Z"
   },
   {
    "duration": 3388,
    "start_time": "2023-05-17T07:38:02.937Z"
   },
   {
    "duration": 4,
    "start_time": "2023-05-17T07:50:50.546Z"
   },
   {
    "duration": 3,
    "start_time": "2023-05-17T07:50:53.124Z"
   },
   {
    "duration": 4,
    "start_time": "2023-05-17T07:51:15.059Z"
   },
   {
    "duration": 31,
    "start_time": "2023-05-17T07:53:13.109Z"
   },
   {
    "duration": 4,
    "start_time": "2023-05-17T07:53:15.751Z"
   },
   {
    "duration": 1036,
    "start_time": "2023-05-17T07:53:15.758Z"
   },
   {
    "duration": 52,
    "start_time": "2023-05-17T07:53:16.802Z"
   },
   {
    "duration": 66,
    "start_time": "2023-05-17T07:53:16.855Z"
   },
   {
    "duration": 76,
    "start_time": "2023-05-17T07:53:16.924Z"
   },
   {
    "duration": 23,
    "start_time": "2023-05-17T07:53:17.002Z"
   },
   {
    "duration": 24,
    "start_time": "2023-05-17T07:53:17.028Z"
   },
   {
    "duration": 447,
    "start_time": "2023-05-17T07:53:17.054Z"
   },
   {
    "duration": 337,
    "start_time": "2023-05-17T07:53:17.504Z"
   },
   {
    "duration": 15,
    "start_time": "2023-05-17T07:53:17.845Z"
   },
   {
    "duration": 362,
    "start_time": "2023-05-17T07:53:17.873Z"
   },
   {
    "duration": 472,
    "start_time": "2023-05-17T07:53:18.242Z"
   },
   {
    "duration": 405,
    "start_time": "2023-05-17T07:53:18.717Z"
   },
   {
    "duration": 438,
    "start_time": "2023-05-17T07:53:19.128Z"
   },
   {
    "duration": 319,
    "start_time": "2023-05-17T07:53:19.568Z"
   },
   {
    "duration": 358,
    "start_time": "2023-05-17T07:53:19.892Z"
   },
   {
    "duration": 525,
    "start_time": "2023-05-17T07:53:20.252Z"
   },
   {
    "duration": 21,
    "start_time": "2023-05-17T07:53:20.791Z"
   },
   {
    "duration": 19,
    "start_time": "2023-05-17T07:53:20.815Z"
   },
   {
    "duration": 2149,
    "start_time": "2023-05-17T07:53:20.845Z"
   },
   {
    "duration": 4,
    "start_time": "2023-05-17T07:53:22.996Z"
   },
   {
    "duration": 57,
    "start_time": "2023-05-17T07:53:23.002Z"
   },
   {
    "duration": 36,
    "start_time": "2023-05-17T07:53:23.066Z"
   },
   {
    "duration": 16,
    "start_time": "2023-05-17T07:53:23.104Z"
   },
   {
    "duration": 102,
    "start_time": "2023-05-17T07:53:23.122Z"
   },
   {
    "duration": 33,
    "start_time": "2023-05-17T07:53:23.226Z"
   },
   {
    "duration": 15,
    "start_time": "2023-05-17T07:53:23.264Z"
   },
   {
    "duration": 13644,
    "start_time": "2023-05-17T07:53:28.167Z"
   },
   {
    "duration": 8,
    "start_time": "2023-05-17T07:54:28.965Z"
   },
   {
    "duration": 9,
    "start_time": "2023-05-17T07:54:33.249Z"
   },
   {
    "duration": 1190,
    "start_time": "2023-05-17T07:54:33.270Z"
   },
   {
    "duration": 71,
    "start_time": "2023-05-17T07:54:34.470Z"
   },
   {
    "duration": 68,
    "start_time": "2023-05-17T07:54:34.553Z"
   },
   {
    "duration": 64,
    "start_time": "2023-05-17T07:54:34.623Z"
   },
   {
    "duration": 31,
    "start_time": "2023-05-17T07:54:34.691Z"
   },
   {
    "duration": 18,
    "start_time": "2023-05-17T07:54:34.726Z"
   },
   {
    "duration": 395,
    "start_time": "2023-05-17T07:54:34.747Z"
   },
   {
    "duration": 303,
    "start_time": "2023-05-17T07:54:35.144Z"
   },
   {
    "duration": 12,
    "start_time": "2023-05-17T07:54:35.450Z"
   },
   {
    "duration": 327,
    "start_time": "2023-05-17T07:54:35.464Z"
   },
   {
    "duration": 442,
    "start_time": "2023-05-17T07:54:35.793Z"
   },
   {
    "duration": 509,
    "start_time": "2023-05-17T07:54:36.241Z"
   },
   {
    "duration": 546,
    "start_time": "2023-05-17T07:54:36.753Z"
   },
   {
    "duration": 303,
    "start_time": "2023-05-17T07:54:37.307Z"
   },
   {
    "duration": 334,
    "start_time": "2023-05-17T07:54:37.612Z"
   },
   {
    "duration": 460,
    "start_time": "2023-05-17T07:54:37.949Z"
   },
   {
    "duration": 25,
    "start_time": "2023-05-17T07:54:38.411Z"
   },
   {
    "duration": 5,
    "start_time": "2023-05-17T07:54:38.439Z"
   },
   {
    "duration": 2404,
    "start_time": "2023-05-17T07:54:38.447Z"
   },
   {
    "duration": 13,
    "start_time": "2023-05-17T07:54:40.856Z"
   },
   {
    "duration": 12,
    "start_time": "2023-05-17T07:54:40.876Z"
   },
   {
    "duration": 36,
    "start_time": "2023-05-17T07:54:40.890Z"
   },
   {
    "duration": 48,
    "start_time": "2023-05-17T07:54:40.941Z"
   },
   {
    "duration": 113,
    "start_time": "2023-05-17T07:54:40.995Z"
   },
   {
    "duration": 31,
    "start_time": "2023-05-17T07:54:41.113Z"
   },
   {
    "duration": 18,
    "start_time": "2023-05-17T07:54:41.150Z"
   },
   {
    "duration": 13475,
    "start_time": "2023-05-17T07:54:43.515Z"
   },
   {
    "duration": 12539,
    "start_time": "2023-05-17T07:58:20.940Z"
   },
   {
    "duration": 211971,
    "start_time": "2023-05-17T07:59:14.698Z"
   },
   {
    "duration": 634,
    "start_time": "2023-05-17T08:09:37.023Z"
   },
   {
    "duration": 81,
    "start_time": "2023-05-17T08:15:02.483Z"
   },
   {
    "duration": 4,
    "start_time": "2023-05-17T08:15:17.852Z"
   },
   {
    "duration": 74,
    "start_time": "2023-05-17T08:15:24.673Z"
   },
   {
    "duration": 68,
    "start_time": "2023-05-17T08:15:32.040Z"
   },
   {
    "duration": 7,
    "start_time": "2023-05-17T08:17:14.484Z"
   },
   {
    "duration": 101,
    "start_time": "2023-05-17T08:17:57.413Z"
   },
   {
    "duration": 108,
    "start_time": "2023-05-17T08:18:04.648Z"
   },
   {
    "duration": 60,
    "start_time": "2023-05-17T08:18:14.461Z"
   },
   {
    "duration": 70617,
    "start_time": "2023-05-17T08:18:28.875Z"
   },
   {
    "duration": 13,
    "start_time": "2023-05-17T08:19:53.221Z"
   },
   {
    "duration": 87,
    "start_time": "2023-05-17T08:20:40.192Z"
   },
   {
    "duration": 24,
    "start_time": "2023-05-17T08:20:45.153Z"
   },
   {
    "duration": 16,
    "start_time": "2023-05-17T08:20:58.053Z"
   },
   {
    "duration": 18,
    "start_time": "2023-05-17T08:21:02.896Z"
   },
   {
    "duration": 11,
    "start_time": "2023-05-17T08:21:06.511Z"
   },
   {
    "duration": 70878,
    "start_time": "2023-05-17T08:23:06.912Z"
   },
   {
    "duration": 70478,
    "start_time": "2023-05-17T08:24:59.604Z"
   },
   {
    "duration": 21644,
    "start_time": "2023-05-17T08:26:44.217Z"
   },
   {
    "duration": 113537,
    "start_time": "2023-05-17T08:27:07.402Z"
   },
   {
    "duration": 1249,
    "start_time": "2023-05-17T08:30:46.339Z"
   },
   {
    "duration": 10,
    "start_time": "2023-05-17T08:31:43.189Z"
   },
   {
    "duration": 4152,
    "start_time": "2023-05-17T08:33:03.609Z"
   },
   {
    "duration": 38,
    "start_time": "2023-05-17T08:33:25.842Z"
   },
   {
    "duration": 38,
    "start_time": "2023-05-17T08:33:39.097Z"
   },
   {
    "duration": 52,
    "start_time": "2023-05-17T08:34:17.545Z"
   },
   {
    "duration": 891399,
    "start_time": "2023-05-17T08:34:45.371Z"
   },
   {
    "duration": 233297,
    "start_time": "2023-05-17T08:49:36.773Z"
   },
   {
    "duration": 6469,
    "start_time": "2023-05-17T09:23:54.719Z"
   },
   {
    "duration": 2682,
    "start_time": "2023-05-17T09:28:06.793Z"
   },
   {
    "duration": 2774,
    "start_time": "2023-05-17T09:28:14.099Z"
   },
   {
    "duration": 2592,
    "start_time": "2023-05-17T09:33:35.264Z"
   },
   {
    "duration": 1302,
    "start_time": "2023-05-17T09:34:00.750Z"
   },
   {
    "duration": 2671,
    "start_time": "2023-05-17T09:34:06.503Z"
   },
   {
    "duration": 6414,
    "start_time": "2023-05-17T09:35:52.157Z"
   },
   {
    "duration": 59397,
    "start_time": "2023-05-17T09:42:25.495Z"
   },
   {
    "duration": 371,
    "start_time": "2023-05-17T09:44:24.573Z"
   },
   {
    "duration": 81,
    "start_time": "2023-05-17T09:44:53.255Z"
   },
   {
    "duration": 499,
    "start_time": "2023-05-17T09:45:01.772Z"
   },
   {
    "duration": 4,
    "start_time": "2023-05-17T09:45:55.462Z"
   },
   {
    "duration": 61684,
    "start_time": "2023-05-17T09:46:15.273Z"
   },
   {
    "duration": 59026,
    "start_time": "2023-05-17T09:47:55.239Z"
   },
   {
    "duration": 429,
    "start_time": "2023-05-17T09:49:13.354Z"
   },
   {
    "duration": 0,
    "start_time": "2023-05-17T09:49:44.140Z"
   },
   {
    "duration": 144923,
    "start_time": "2023-05-17T09:49:51.722Z"
   },
   {
    "duration": 57983,
    "start_time": "2023-05-17T09:52:28.762Z"
   },
   {
    "duration": 54987,
    "start_time": "2023-05-17T09:54:01.001Z"
   },
   {
    "duration": 58810,
    "start_time": "2023-05-17T09:55:58.075Z"
   },
   {
    "duration": 59067,
    "start_time": "2023-05-17T09:57:08.903Z"
   },
   {
    "duration": 1231,
    "start_time": "2023-05-17T09:58:32.987Z"
   },
   {
    "duration": 603,
    "start_time": "2023-05-17T09:58:52.394Z"
   },
   {
    "duration": 254,
    "start_time": "2023-05-17T10:04:19.254Z"
   },
   {
    "duration": 26,
    "start_time": "2023-05-17T10:07:20.987Z"
   },
   {
    "duration": 10,
    "start_time": "2023-05-17T10:07:30.211Z"
   },
   {
    "duration": 10,
    "start_time": "2023-05-17T10:07:46.491Z"
   },
   {
    "duration": 27,
    "start_time": "2023-05-17T10:08:02.892Z"
   },
   {
    "duration": 26,
    "start_time": "2023-05-17T10:08:12.496Z"
   },
   {
    "duration": 10,
    "start_time": "2023-05-17T10:08:21.200Z"
   },
   {
    "duration": 37,
    "start_time": "2023-05-17T10:08:50.050Z"
   },
   {
    "duration": 1289,
    "start_time": "2023-05-17T10:11:55.402Z"
   },
   {
    "duration": 59515,
    "start_time": "2023-05-17T10:12:02.083Z"
   },
   {
    "duration": 1717,
    "start_time": "2023-05-17T10:15:12.552Z"
   },
   {
    "duration": 1258,
    "start_time": "2023-05-17T10:15:23.609Z"
   },
   {
    "duration": 1239,
    "start_time": "2023-05-17T10:15:30.706Z"
   },
   {
    "duration": 61638,
    "start_time": "2023-05-17T10:15:37.343Z"
   },
   {
    "duration": 4,
    "start_time": "2023-05-17T10:16:47.604Z"
   },
   {
    "duration": 6,
    "start_time": "2023-05-17T10:16:58.454Z"
   },
   {
    "duration": 15312,
    "start_time": "2023-05-17T10:17:18.535Z"
   },
   {
    "duration": 12,
    "start_time": "2023-05-17T10:18:06.825Z"
   }
  ],
  "kernelspec": {
   "display_name": "Python 3 (ipykernel)",
   "language": "python",
   "name": "python3"
  },
  "language_info": {
   "codemirror_mode": {
    "name": "ipython",
    "version": 3
   },
   "file_extension": ".py",
   "mimetype": "text/x-python",
   "name": "python",
   "nbconvert_exporter": "python",
   "pygments_lexer": "ipython3",
   "version": "3.9.13"
  },
  "toc": {
   "base_numbering": 1,
   "nav_menu": {},
   "number_sections": true,
   "sideBar": true,
   "skip_h1_title": true,
   "title_cell": "Содержание",
   "title_sidebar": "Contents",
   "toc_cell": true,
   "toc_position": {},
   "toc_section_display": true,
   "toc_window_display": true
  }
 },
 "nbformat": 4,
 "nbformat_minor": 2
}
